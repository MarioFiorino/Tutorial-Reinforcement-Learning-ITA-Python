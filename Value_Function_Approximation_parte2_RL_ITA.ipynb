{
  "nbformat": 4,
  "nbformat_minor": 0,
  "metadata": {
    "colab": {
      "provenance": [],
      "collapsed_sections": [
        "ksLFQ4EUTVCN",
        "alcM2JiRT6p4"
      ]
    },
    "kernelspec": {
      "name": "python3",
      "display_name": "Python 3"
    },
    "language_info": {
      "name": "python"
    }
  },
  "cells": [
    {
      "cell_type": "markdown",
      "source": [
        "#Deep Q Network (DQN)\n",
        "\n",
        "Mario Fiorino\n",
        "\n",
        "$\\;$\n",
        "\n",
        "**Introduzione**\n",
        "\n",
        "\n",
        "L'algoritmo Deep Q-Network (DQN),  rappresenta un'importante innovazione nel campo RL. È stato in grado di risolvere un'ampia gamma di giochi Atari, in alcuni casi superando anche le prestazioni umane.\n",
        "\n",
        "L'algoritmo è stato sviluppato combinando il classico algoritmo Q-Learning con funzioni neurali profonde (le deep neural networks); ed una tecnica chiamata experience replay. DQN sfrutta l'approccio Semi-gradient TD, calcolando i gradienti tramite backpropagation.\n",
        "\n",
        "Ref.\n",
        "\n",
        "https://storage.googleapis.com/deepmind-media/dqn/DQNNaturePaper.pdf\n",
        "\n",
        "\n",
        "https://www.cs.toronto.edu/~vmnih/docs/dqn.pdf\n",
        "\n",
        "\n",
        "https://www.tensorflow.org/agents/tutorials/0_intro_rl?hl=it\n"
      ],
      "metadata": {
        "id": "T_rjNC-gxtzu"
      }
    },
    {
      "cell_type": "markdown",
      "source": [
        "## Idee di base\n",
        "\n",
        "\n",
        "DQN sfrutta reti neurali per approssimare in modo non lineare la funzione valore-azione.\n",
        "In pratica addestriamo una rete neurale, per stimare i valori della funzione valore-azione:  $Q(s, a; w)$. Tale rete neurale è detta anche *Q network*.\n",
        "\n",
        "L' addestramento avviene minimizzando la seguente Loss:\n",
        "\n",
        "$\\begin{equation}L(w_t) = \\mathbb{E}_{s, a, r, s'\\sim \\rho(.)} \\left[ (y_t - Q(s, a; w_t))^2 \\right]\\end{equation}$\n",
        "\n",
        "dove:\n",
        "\n",
        "\n",
        "Il  vettore pesi, ad un certo step, è indicato con $w_t$\n",
        "\n",
        "Il target : $y_t = r +  \\gamma \\max_{a^\\circ} Q(s', a^\\circ ; w_{t})$\n",
        "\n",
        "$\\rho$ rappresenta la behaviour distribution, ovvero la distribuzione di probabilità sulle transizioni $\\{s, a, r, s'\\}$ raccolte dall'ambiente.\n",
        "\n",
        "$\\;$\n",
        "\n",
        "Update dei parametri $w$ della rete si ricava sfruttando la differenziazione della funzione di Loss rispetto a questi, pensado $y_t$  come un costante (approccio Semi-gradient ) :\n",
        "\n",
        "${w}_{t+1} \\leftarrow {w}_t + \\alpha [ R_{t+1}\n",
        " + \\gamma \\max_{a}  \\widehat{q}(s_{t+1},a,{w}_t) - \\widehat{q}(s_{t},a_{t},{w}_t)] ∇ \\widehat{q}(s_{t},a_{t},{w}_t)    $\n",
        "\n",
        "Nota : il gradiente $∇ \\widehat{q}(s_{t},a_{t},{w}_t)$ può essere calcolato mediante i metodi di backpropagation.\n",
        "\n",
        "$\\;$\n",
        "\n",
        "In concrento:\n",
        "\n",
        "per approssimare la funzione di valore-azione, impieghiamo una rete neurale convoluzionale, comunemente conosciuta come **convolutional neural network** (CNN).\n",
        "\n",
        "Queste sono una tipologia di reti neurali feed-forward che eccellono nell'elaborazione dei dati disposti in una struttura a griglia, tipicamente immagini.\n",
        "La disposizione dei pixel in un'immagine non è casuale, ma riflette relazioni spaziali tra elementi vicini (i pixel vicini, spesso correlati e forniscono indizi importanti per comprendere il contenuto dell'immagine). Le CNN sono in grado di catturare queste relazioni.\n",
        "\n",
        "Come ci riescono? La chiave risiede  nell'utilizzo di un processo chiamato convoluzione: in sostanza si fa scorrere un filtro, chiamato anche kernel, che è essenzialmente una piccola matrici 2D di pesi, sull'immagine di input. Man mano che il filtro scorre sull'immagine, si calcola il prodotto scalare tra i pesi del filtro e i pixel dell'immagine che ricadono sotto il filtro stesso.\n",
        "\n",
        "Una volta che il filtro ha attraversato l'intera immagine, spostandosi passo dopo passo, si ottiene come output una matrice 2D chiamata Feature Map. Questa mappa rappresenta la sintesi delle informazioni estratte dall'immagine mediante il processo di convoluzione.\n",
        "\n",
        "\n",
        "$FeatureMap[i,j] = \\sum_{u=-k} ^k \\sum_{v=-k} ^k Filter[u,v] \\cdot Image[i-u,j-v]  \\;\\;\\; \\forall (i,j) \\in Image$\n",
        "\n",
        "\n",
        "\n",
        "Per approfondimenti e per comprendere meglio il funzionamento delle CNN, consultare i seguenti riferimenti:\n",
        "\n",
        "Introduzione:\n",
        "\n",
        "https://twice22.github.io/cnn-introduction/\n",
        "\n",
        "\n",
        "https://towardsdatascience.com/gentle-dive-into-math-behind-convolutional-neural-networks-79a07dd44cf9\n",
        "\n",
        "https://www.cs.cornell.edu/courses/cs6670/2011sp/lectures/lec02_filter.pdf\n",
        "\n",
        "\n",
        "\n",
        "Convolutions with multiple filters:\n",
        "\n",
        "https://medium.com/advanced-deep-learning/cnn-operation-with-2-kernels-resulting-in-2-feature-mapsunderstanding-the-convolutional-filter-c4aad26cf32\n",
        "\n",
        "https://www.youtube.com/watch?v=06fMrGaLrDw\n",
        "\n",
        "\n",
        "\n",
        "\n",
        "\n",
        "\n",
        "$\\;$\n",
        "\n",
        "\n",
        "**Input della Q network** : consiste in un'immagine pixel dello schermo in un certo istante $t$ (snapshot della scena al momento $t$, detto anche \"pixel image frame\").Tale immagine rappresenta lo stato dell'ambiente in cui opera l'agente. Si noti , la rete in sè svolge autonomamente l'estrazione di feature (\"feature construction\").\n",
        "\n",
        "\n",
        "**Output** : restituisce una stima del valore di $Q$ per tutte le azioni disponibili nello stato di ingresso.\n",
        "\n",
        "\n",
        "$\\;$\n",
        "\n",
        "**Experience Replay**\n",
        "\n",
        "\n",
        "Il DQN ha introdotto una tecnica chiamata Experience Replay per migliorare la stabilità degli aggiornamenti della rete neurale durante l'apprendimento.\n",
        "\n",
        "Questa tecnica consiste nell'archiviare le esperienze passate dell'agente in un buffer, detto chiamato buffer di replay (https://www.researchgate.net/figure/Illustration-of-the-replay-buffer-in-the-RL_fig5_346346921).\n",
        "\n",
        "Durante l'allenamento, dopo ogni step una tupla $(S_{t}, A, R_{t+1}, S_{t+1})$ viene aggiunta nel replay buffer (in sostanza un cyclic buffer data structure). In questo modo, si accumula esperienze provenienti da molteplici episodi. Così, invece di utilizzare solo l'ultima esperienza acquisita per calcolare la Loss e il suo gradiente; si estraggono in modo casuale mini-batch di esperienze dal buffer, e si utilizzano questi batch per aggiornare la rete.\n",
        "\n",
        "Utilizzando transizioni (estratte in modo casuale) non correlate dal  mini-batch (in pratica utilizzando esperienze non consecutive, si riduce la correlazione temporale tra gli aggiornamenti) ci sono due vantaggi:\n",
        "- Riduzione della varianza degli aggiornamenti dei pesi.\n",
        "- Miglioramento della stabilità dell'algoritmo.\n",
        "\n",
        "\n",
        "\n",
        "\n",
        "\n",
        "$\\;$\n",
        "\n",
        "**Problema della correlazione nell'update dei pesi**: esiste una correlazione tra la funzione valore-azione $Q(s, a; w_t)$ ed il target : $r +  \\gamma \\max_{a^\\circ} Q(s', a^\\circ; w_{t})$\n",
        "\n",
        "Si legge nel testo di Sutton & Barto, 2018 PDF 462:\n",
        "\n",
        "*As in other methods that bootstrap, the target for a Q-learning update depends on the current action-value function estimate. When a parameterized function approximation method is used to represent action values, the target is a function of the same parameters\n",
        "that are being updated ...  Its dependence on $w_t$ complicates the process compared to the simpler supervised-learning situation in which the targets do not depend on the parameters  being updated. As discussed in Chapter 11 this can lead to oscillations and/or divergence.*\n",
        "\n",
        "\n",
        "\n",
        "Soluzione proposta:\n",
        "\n",
        "L'utilizzo di due reti separate per stimare la funzione valore-azione ed il target. Esattamente definendo il target:\n",
        "\n",
        "$y_t = r +  \\gamma \\max_{a^\\circ} Q(s', a^\\circ; w_{t-τ})$\n",
        "\n",
        "\n",
        "Cioè si usano i parametri della rete: $w_{t-τ}$ di qualche iterazione precedente a quella attuale $t$ (Nota : $w_{t-τ} \\neq w_{t}$  ). In pratica si fa una specie di snapshot dei parametri di rete usati in precedenza. Questa copia è chiamata **target network**.\n",
        "\n",
        "\n",
        "\n",
        "\n",
        "\n",
        "$\\;$\n",
        "\n",
        "**Convergenza**\n",
        "\n",
        "Gli autori, Mnih et al.,  dichiarano : *... despite lacking any theoretical convergence guarantees, our method is able to train large neural networks using a reinforcement learning signal and stochastic gradient descent in a stable manner.*"
      ],
      "metadata": {
        "id": "y49Vh3VF-IxE"
      }
    },
    {
      "cell_type": "markdown",
      "source": [
        "## DQN - Ms Pacman game\n",
        "\n",
        "\n",
        "$\\;$\n",
        "\n",
        "\n",
        "Per maggiori info sul gioco:\n",
        "\n",
        "https://gymnasium.farama.org/environments/atari/pacman/\n"
      ],
      "metadata": {
        "id": "tbHOU79PrRMW"
      }
    },
    {
      "cell_type": "markdown",
      "source": [
        "###Moduli"
      ],
      "metadata": {
        "id": "dB8RIPq52Rkb"
      }
    },
    {
      "cell_type": "code",
      "source": [
        "!pip install gym[atari]\n",
        "!pip install gym[accept-rom-license]\n",
        "import gym\n",
        "\n",
        "import numpy as np\n",
        "import random\n",
        "import warnings\n",
        "warnings.filterwarnings('ignore')\n",
        "from collections import deque\n",
        "import os\n",
        "\n",
        "import tensorflow as tf\n",
        "print(tf.__version__)\n",
        "from tensorflow.keras.models import Sequential\n",
        "from tensorflow.keras.layers import Dense, Activation, Flatten, Conv2D, MaxPooling2D\n",
        "from tensorflow.keras.optimizers import Adam\n",
        "\n",
        "import matplotlib.pyplot as plt\n",
        "\n",
        "%matplotlib inline"
      ],
      "metadata": {
        "id": "c3cbFb16rQrc"
      },
      "execution_count": null,
      "outputs": []
    },
    {
      "cell_type": "code",
      "source": [
        "#Controllo uso GPU\n",
        "from tensorflow.python.client import device_lib\n",
        "device_lib.list_local_devices()"
      ],
      "metadata": {
        "id": "0q2i-yylIrH2"
      },
      "execution_count": null,
      "outputs": []
    },
    {
      "cell_type": "markdown",
      "source": [
        "####Rendering"
      ],
      "metadata": {
        "id": "ksLFQ4EUTVCN"
      }
    },
    {
      "cell_type": "code",
      "source": [
        "#codice ispirato:\n",
        "# https://github.com/jeffheaton/t81_558_deep_learning/blob/master/t81_558_class_12_02_qlearningreinforcement.ipynb\n",
        "\n",
        "try:\n",
        "    from google.colab import drive\n",
        "    %tensorflow_version 2.x\n",
        "    COLAB = True\n",
        "    print(\"Note: using Google CoLab\")\n",
        "except:\n",
        "    print(\"Note: not using Google CoLab\")\n",
        "    COLAB = False\n",
        "\n",
        "if COLAB:\n",
        "  !sudo apt-get install -y xvfb ffmpeg x11-utils\n",
        "  !pip install -q gym\n",
        "  !pip install -q 'imageio==2.5.0' # 'imageio==2.4.0'\n",
        "  !pip install -q PILLOW\n",
        "  !pip install -q 'pyglet==1.3.2'\n",
        "  !pip install -q pyvirtualdisplay\n",
        "  !pip install -q tf-agents\n",
        "  !pip install -q pygame"
      ],
      "metadata": {
        "collapsed": true,
        "id": "vlNsa0xYTbvR"
      },
      "execution_count": null,
      "outputs": []
    },
    {
      "cell_type": "code",
      "source": [
        "import tf_agents #TF-Agents is just used to render the mountain care environment\n",
        "from tf_agents.environments import suite_gym\n",
        "import PIL.Image\n",
        "import pyvirtualdisplay\n",
        "\n",
        "from gym.wrappers.record_video import RecordVideo\n",
        "import glob\n",
        "import io\n",
        "import base64\n",
        "from IPython.display import HTML\n",
        "from pyvirtualdisplay import Display\n",
        "from IPython import display as ipythondisplay\n",
        "\n",
        "display = Display(visible=0, size=(1400, 900))\n",
        "display.start()\n",
        "\n",
        "def show_video():\n",
        "    mp4list = glob.glob('video/*.mp4')\n",
        "    if len(mp4list) > 0:\n",
        "        mp4 = mp4list[0]\n",
        "        video = io.open(mp4, 'r+b').read()\n",
        "        encoded = base64.b64encode(video)\n",
        "        ipythondisplay.display(HTML(data=''''''.format(encoded.decode('ascii'))))\n",
        "    else:\n",
        "        print(\"Could not find video\")\n",
        "\n",
        "\n",
        "def wrap_env(env):\n",
        "    env = RecordVideo(env, './video',  episode_trigger = lambda episode_number: True)\n",
        "    return env"
      ],
      "metadata": {
        "id": "xF2KjCBHTxMT"
      },
      "execution_count": null,
      "outputs": []
    },
    {
      "cell_type": "markdown",
      "source": [
        "### Testing Pacman episode"
      ],
      "metadata": {
        "id": "alcM2JiRT6p4"
      }
    },
    {
      "cell_type": "code",
      "source": [
        "#env = wrap_env(gym.make(\"MsPacman-v0\",render_mode='human'))\n",
        "env = wrap_env(gym.make(\"ALE/MsPacman-v5\",render_mode='human'))\n",
        "\n",
        "#help(env.unwrapped)\n",
        "print('State space  :', env.observation_space)\n",
        "print('Action space:', env.action_space,': ', env.get_action_meanings())\n",
        "print(\"\")\n",
        "\n",
        "state = env.reset()\n",
        "\n",
        "    # NOTA\n",
        "    #print(f\"State shape ={(state.shape)}\") # (210, 160, 3)\n",
        "    # ovvero:\n",
        "    # 3 elementi nell'axis 2:  [0, 0, 0]\n",
        "    # 160 elemnti nell'axis 1 : [[0, 0, 0],[0, 0, 0],...,[0 0 0]]\n",
        "    # 210 nell'axis 0 : [ [[]], ... , [[]]\n",
        "    # Possiamo anche dire che abbiamo 210 matrici a 160 righe e 3 colenne\n",
        "\n",
        "    # state:\n",
        "    #[[[  0   0   0]\n",
        "    # [  0   0   0]\n",
        "    # [  0   0   0]\n",
        "    # ...\n",
        "    # [  0   0   0]\n",
        "    # [  0   0   0]\n",
        "    # [  0   0   0]]\n",
        "\n",
        "    #[[228 111 111]\n",
        "    # [228 111 111]\n",
        "    # [228 111 111]\n",
        "    # ...\n",
        "    # [228 111 111]\n",
        "    # [228 111 111]\n",
        "    # [228 111 111]]\n",
        "    # ...\n",
        "    # [[  0   0   0]\n",
        "    # [  0   0   0]\n",
        "    # [  0   0   0]\n",
        "    # ...\n",
        "    # [  0   0   0]\n",
        "    # [  0   0   0]\n",
        "    # [  0   0   0]]]\n",
        "\n",
        "done = False\n",
        "\n",
        "i = 0\n",
        "t_r = 0\n",
        "while not done:\n",
        "\n",
        "    action = env.action_space.sample()\n",
        "    state, reward, done, info = env.step(action)\n",
        "    t_r += reward\n",
        "\n",
        "    # Debug\n",
        "    if i % 100 == 0 or reward != 0 :\n",
        "      print(f\"Step {i}: Info{info}, Reward={reward}, Action={action}\")\n",
        "\n",
        "    i += 1\n",
        "\n",
        "    if done == True:\n",
        "      print(f\" \\n - Terminal state occurs in\\n   Step {i}:  Tot Reward={t_r}\")\n",
        "\n",
        "env.close()"
      ],
      "metadata": {
        "id": "z1Z7DRKBbAtD"
      },
      "execution_count": null,
      "outputs": []
    },
    {
      "cell_type": "code",
      "source": [
        "show_video()"
      ],
      "metadata": {
        "colab": {
          "base_uri": "https://localhost:8080/",
          "height": 17
        },
        "id": "-4ABOPiEeU7K",
        "outputId": "5bf61f06-cbe4-4bfa-aae1-898755370de2"
      },
      "execution_count": null,
      "outputs": [
        {
          "output_type": "display_data",
          "data": {
            "text/plain": [
              "<IPython.core.display.HTML object>"
            ],
            "text/html": []
          },
          "metadata": {}
        }
      ]
    },
    {
      "cell_type": "markdown",
      "source": [
        "###Preprocess the game screen\n",
        "\n",
        "Motivazioni:\n",
        "\n",
        "L'impiego diretto dell'immagine grezza (210 x 160 x 3 pixel) della schermata di gioco come input per la rete presenta un certo impegno computazionale, che ostacola e rallenta l'efficienza dell'apprendimento.\n",
        "\n",
        "Soluzione:\n",
        "\n",
        "Per far fronte a tale problema, viene implementato un processo di pre-elaborazione dell'immagine della schermata di gioco prima di fornirla al DQN. Questo processo consta delle fasi:\n",
        "\n",
        "- Crop and resize\n",
        "\n",
        "- Convert to grayscale\n",
        "\n",
        "- Normalize\n",
        "\n",
        "- Reshape (to 88 x 80 x 1)\n",
        "\n",
        "La funzione preprocess_state racchiude il processo di pre-elaborazione descritto. Essa riceve come:\n",
        "\n",
        "**Input preprocess_state**: lo stato del gioco (l'immagine della schermata di gioco grezza) ---> **Output preprocess_state**: restituisce lo stato del gioco proccessata (un immagine normalizzata 88 x 80 x 1)\n",
        "\n",
        "\n",
        "\n",
        "\n",
        "\n",
        "\n"
      ],
      "metadata": {
        "id": "eCWZfk1g2qO2"
      }
    },
    {
      "cell_type": "code",
      "source": [
        "#codice ispirato :\n",
        "#https://github.com/PacktPublishing/Deep-Reinforcement-Learning-with-Python/blob/master/09.%20%20Deep%20Q%20Network%20and%20its%20Variants/9.03.%20Playing%20Atari%20Games%20using%20DQN.ipynb\n",
        "\n",
        "color = np.array([210, 164, 74]).mean() # 149.33\n",
        "\n",
        "def preprocess_state(state):\n",
        "\n",
        "    #crop  - resize the image\n",
        "    image = state[1:176:2, ::2]  # (88, 80, 3)\n",
        "\n",
        "    #convert the image to greyscale\n",
        "    image = image.mean(axis=2)\n",
        "\n",
        "    #improve image contrast\n",
        "    image[image==color] = 0\n",
        "\n",
        "    #normalize the image\n",
        "    image = (image - 128) / 128 - 1\n",
        "\n",
        "    #reshape the image\n",
        "    image = np.expand_dims(image.reshape(88, 80, 1), axis=0)\n",
        "\n",
        "    return image  # (1, 88, 80, 1)"
      ],
      "metadata": {
        "id": "laoK9drj2qjI"
      },
      "execution_count": null,
      "outputs": []
    },
    {
      "cell_type": "code",
      "source": [
        "#Test\n",
        "\n",
        "env = gym.make(\"ALE/MsPacman-v5\")\n",
        "\n",
        "#Originale\n",
        "state = env.reset()\n",
        "print(state.shape)\n",
        "plt.figure(figsize=(3,3))\n",
        "plt.imshow(env.render('rgb_array'))\n",
        "plt.show()\n",
        "print(\"\")\n",
        "\n",
        "#Dopo il processo\n",
        "pr_i = preprocess_state(state)\n",
        "pr_i = pr_i.squeeze(axis=0)\n",
        "print(pr_i.shape)\n",
        "plt.figure(figsize=(2.5,2.5))\n",
        "plt.imshow(pr_i)\n",
        "plt.show()\n",
        "\n",
        "env.close()\n"
      ],
      "metadata": {
        "colab": {
          "base_uri": "https://localhost:8080/",
          "height": 590
        },
        "id": "u4qOQsXi8fh4",
        "outputId": "316eae75-eb5a-4b0b-a7b0-b64adf22d7f0"
      },
      "execution_count": null,
      "outputs": [
        {
          "output_type": "stream",
          "name": "stdout",
          "text": [
            "(210, 160, 3)\n"
          ]
        },
        {
          "output_type": "display_data",
          "data": {
            "text/plain": [
              "<Figure size 300x300 with 1 Axes>"
            ],
            "image/png": "[encoded data removed]"
          },
          "metadata": {}
        },
        {
          "output_type": "stream",
          "name": "stdout",
          "text": [
            "\n",
            "(88, 80, 1)\n"
          ]
        },
        {
          "output_type": "display_data",
          "data": {
            "text/plain": [
              "<Figure size 250x250 with 1 Axes>"
            ],
            "image/png": "[encoded data removed]"
          },
          "metadata": {}
        }
      ]
    },
    {
      "cell_type": "markdown",
      "source": [
        "###Build the deep Q network\n",
        "\n",
        " **Input della Rete** : Stato del gioco (di fatto l'immagine della schermata di gioco processata) --->  **Output della Rete**: i valori di $Q$ di tutte le azioni nello stato dato in input."
      ],
      "metadata": {
        "id": "6hVV2SAC3n6i"
      }
    },
    {
      "cell_type": "code",
      "source": [
        "class DQN:\n",
        "    def __init__(self, state_size, action_size):\n",
        "\n",
        "        self.state_size = state_size\n",
        "        self.action_size = action_size\n",
        "\n",
        "        # Definiammo il replay buffer\n",
        "        # Deque (Doubly Ended Queue) tale struttura dati\n",
        "        # è preferibile rispetto a un elenco nei casi in cui\n",
        "        # abbiamo bisogno di operazioni di accodamento e pop più veloci da entrambe le estremità del conteiner\n",
        "        self.replay_buffer = deque(maxlen=batch_size*8) # il replay_buffer ha una lunghezza limitata, che\n",
        "        # un volta  riempita, l'aggiunta di un altro elemento in coda comporta  uno shift di tutti gli\n",
        "        # elementi in avanti, e la cancellazione dell'elemento in testa.\n",
        "\n",
        "        #Discount factor\n",
        "        self.gamma = 0.99\n",
        "\n",
        "        #main network\n",
        "        self.main_network = self.build_network()\n",
        "\n",
        "        #target network\n",
        "        self.target_network = self.build_network()\n",
        "\n",
        "        # Copia weights dalla main q network alla target network\n",
        "        # Nota: model.set_weights() consente di trasferire i parametri da un modello\n",
        "        # a un altro modello.\n",
        "        self.target_network.set_weights(self.main_network.get_weights())\n",
        "\n",
        "\n",
        "    #Definiamo una funzione chiamata build_network che è la nostra CNN.\n",
        "    #\n",
        "    # Note:\n",
        "    # 1. Per quanto riguarda inizilizzazione dei pesi:\n",
        "    # kernel_initializer: If None, the default initializer (\"glorot_uniform\") will be used\n",
        "    # https://keras.io/api/layers/convolution_layers/convolution2d/\n",
        "    # https://keras.io/api/layers/initializers/#glorotuniform-class\n",
        "    # https://github.com/keras-team/keras/blob/62d097c4ff6fa694a4dbc670e9c7eb9e2bc27c74/keras/layers/core.py#L798\n",
        "    #\n",
        "    # 2. Per quanto riguarda applicazione di più filtri all'immagine di input, ovvero :\n",
        "    # model.add(Conv2D(filters,..) , con filters = n > 1\n",
        "    # Si tratta di applicare \"n\" filtri a un'immagine, ottenendo in unscita \"n\" matrici (feature maps).\n",
        "    # Alla fine, su ogniuna di questa sarà applicata una la funzione Relu : model.add(Activation('relu'))\n",
        "    # producendo in concreto \"n\" matrici (feature maps), i cui valori sono tutti maggiori od uguali a 0 (effetto Relu).\n",
        "    # Perchè usare più filtri?\n",
        "    # Aumentando il numero di filtri, ognuno dei quali apprenderà pesi diversi in modo indipendente,\n",
        "    # si aumenta la capacità del modello di apprendere funzioni complesse dai dati.\n",
        "\n",
        "    def build_network(self):\n",
        "        model = Sequential()\n",
        "        model.add(Conv2D(8, (8, 8), strides=4, padding='same', input_shape=self.state_size)) # suggeriti: filters = 32\n",
        "        model.add(Activation('relu'))\n",
        "\n",
        "        model.add(Conv2D(16, (4, 4), strides=2, padding='same')) # 64\n",
        "        model.add(Activation('relu'))\n",
        "\n",
        "        model.add(Conv2D(32, (3, 3), strides=1, padding='same')) # 64\n",
        "        model.add(Activation('relu'))\n",
        "        model.add(Flatten())\n",
        "\n",
        "\n",
        "        model.add(Dense(256, activation='relu'))  #512\n",
        "        model.add(Dense(self.action_size, activation='linear'))\n",
        "\n",
        "        model.compile(loss='mse', optimizer=Adam())\n",
        "\n",
        "        return model\n",
        "\n",
        "    #La funzione store_transition memorizza le informazioni della transizione\n",
        "    #nel replay buffer.\n",
        "    def store_transistion(self, state, action, reward, next_state, done):\n",
        "        self.replay_buffer.append((state, action, reward, next_state, done))\n",
        "\n",
        "    # Exploration-exploitation trade off:  Epsilon-greedy policy\n",
        "    def epsilon_greedy(self, state, epsilon):\n",
        "\n",
        "       Q_values = self.main_network.predict(state, verbose=0)\n",
        "       # Note : The verbosity of model.fit() and model.predict() are controlled separately by their own verbose argument\n",
        "       greedy_act = np.argmax(Q_values[0])\n",
        "\n",
        "       if random.uniform(0,1) > epsilon: # policy greedy\n",
        "            return greedy_act\n",
        "       else:\n",
        "            non_greedy_actions = list(set(range(self.action_size)) - {greedy_act}) # [0, 2, 3, 4, 5, 6, 7, 8]\n",
        "            action = np.random.choice(non_greedy_actions) # policy random non-greedy\n",
        "            return action\n",
        "\n",
        "    #Fase di Training\n",
        "    def train(self, batch_size):\n",
        "\n",
        "        #Campiona random un singolo mini batch dal replay buffer\n",
        "        minibatch = random.sample(self.replay_buffer, batch_size)\n",
        "        # minibatch è una lista; len(minibatch) = batch_size, e\n",
        "        # il numero di \"batch_size\" tuple: minibatch[0], minibatch[1], ...\n",
        "        # ogniuna con questa struttura : (state, action, reward, next_state, done).\n",
        "        # Ad esempio se volessi accedere al reward della tupla nella posizione 4:\n",
        "        # minibatch[3][2] = 10.0\n",
        "        #\n",
        "        #Il loop sottostatne scorre su ogni tupla presente nella lista minibatch:\n",
        "        # partendo dalla prima tupla: minibatch[0], ne prende il valore dei sui elementi:\n",
        "        # state, action, reward, next_state, done\n",
        "        # e calcola la target_Q, ovvero il massimo valore che da la Q.target_network nel 'next_state'\n",
        "        # addizionato al reward ottenuto entrando in tale stato,\n",
        "        # poi la Q_values, e conclude con il fit-training.\n",
        "        # Poi passa alla tupla sucessiva:  minibatch[1], e ripete la sequenza\n",
        "        for state, action, reward, next_state, done in minibatch:\n",
        "            if not done:\n",
        "                target_Q = (reward + self.gamma * np.amax(self.target_network.predict(next_state, verbose=0)))\n",
        "            else:\n",
        "                target_Q = reward\n",
        "\n",
        "            Q_values = self.main_network.predict(state, verbose=0)\n",
        "            # Q_values= [[2.18,  1.10,  120.29,  11.99, 12.21, 119.57, 15.33, 1.8, 8.9 ]]\n",
        "\n",
        "            #Otteniamo la Q_values da usare come target nel training.\n",
        "            #Per avere un target appropriato, imponiamo alla Q.main_network che, nello stato corrente ('state'),\n",
        "            # l'azione estratta ('action') debba produrre il valore target_Q\n",
        "            Q_values[0][action] = target_Q\n",
        "\n",
        "            # Qui avviene il proceso di training della main network.\n",
        "            # Facendo riferimento ai cenni di teoria scritti sopra,\n",
        "            # tale istruzione consente l'update dei pesi minimizzando la loss L(w)\n",
        "            self.main_network.fit(state, Q_values, epochs=1, verbose=0) # .fit(input data, target, epochs, ...)\n",
        "\n",
        "\n",
        "    #Aggiorna i parametri(pesi) della target network copiandoli dalla main q network\n",
        "    def update_target_network(self):\n",
        "        self.target_network.set_weights(self.main_network.get_weights())\n",
        "\n"
      ],
      "metadata": {
        "id": "p8RuB2tX3qmK"
      },
      "execution_count": null,
      "outputs": []
    },
    {
      "cell_type": "markdown",
      "source": [
        "Nota:\n",
        "\n",
        "Generalmente le CNN, fanno uso della tecnica detta Pooling, per maggiori info:\n",
        "\n",
        "https://www.researchgate.net/figure/Pooling-layer-operation-oproaches-1-Pooling-layers-For-the-function-of-decreasing-the_fig4_340812216\n",
        "\n",
        "https://machinelearningmastery.com/pooling-layers-for-convolutional-neural-networks/\n",
        "\n",
        "\n",
        "Un'operazione di Pooling, riduce le dimensioni dei dati ed i costi computazionali.\n",
        "\n",
        "Questa tecnica è spesso usata in attività come il rilevamento di oggetti in immagini: in cui vogliamo sapere se l'oggetto desiderato è presente nell'immagine e non ci interessa esattamente la sua posizione nell'immagine. Il motivo di tale utilizzo risiede sia nella sua efficenza computazionale, ma anche perchè il Pooling rende la risposta della CNN meno sensibile alla posizione delle l'oggetto nell'immagine (“local translation invariance”).\n",
        "\n",
        "$\\;$\n",
        "\n",
        "Nel nostro scenario, l'aggiunta di operazioni di Pooling dopo ogni strato convoluzionale, ha determinato un calo delle prestazioni del modello, rispetto a un modello senza Pooling. Pertanto non è stata usata."
      ],
      "metadata": {
        "id": "v7F6nWk6mqdw"
      }
    },
    {
      "cell_type": "markdown",
      "source": [
        "### Parameters\n"
      ],
      "metadata": {
        "id": "jghaGK_7PDBG"
      }
    },
    {
      "cell_type": "code",
      "source": [
        "#A causa di limitazioni computazionali, i parametri utilizzati in questa\n",
        "# sperimentazione sono da considerarsi indicativi.\n",
        "\n",
        "num_episodes =  100 # 500\n",
        "\n",
        "batch_size = 6  # 8\n",
        "\n",
        "eps = 0.2\n",
        "eps_decay = 0.03\n",
        "\n",
        "update_rate_target = 300  # 700\n"
      ],
      "metadata": {
        "id": "h92HntQaPFVw"
      },
      "execution_count": null,
      "outputs": []
    },
    {
      "cell_type": "markdown",
      "source": [
        "### Train Pacman"
      ],
      "metadata": {
        "id": "dXVz-k2xrbEq"
      }
    },
    {
      "cell_type": "code",
      "source": [
        "env = gym.make(\"ALE/MsPacman-v5\")\n",
        "\n",
        "action_size = env.action_space.n\n",
        "state_size = (88, 80, 1)\n",
        "\n",
        "dqn = DQN(state_size, action_size)\n",
        "\n",
        "#info sul modello\n",
        "dqn.main_network.summary()"
      ],
      "metadata": {
        "id": "FxM1Ozyoto78"
      },
      "execution_count": null,
      "outputs": []
    },
    {
      "cell_type": "code",
      "execution_count": null,
      "metadata": {
        "id": "SIsO9laTxi3A"
      },
      "outputs": [],
      "source": [
        "#info sul modello\n",
        "#dqn.main_network.summary()\n",
        "time_step = 0\n",
        "train_is_start = False\n",
        "episode_rewards = [] # struttura dati che ci servirà per il grafico che valuterà le prestazioni del training\n",
        "\n",
        "#Per ogni episodio...\n",
        "for i in range(1,num_episodes+1):\n",
        "\n",
        "    #Epsilon decay, ovvero -> converge ad una policy greedy\n",
        "    if i % (num_episodes/4)==0:\n",
        "      eps -= eps_decay\n",
        "      #Salva la rete nel formato file HDF5\n",
        "      save_path = \".\"\n",
        "      dqn.main_network.save(os.path.join(save_path,\"myDQN.h5\"))\n",
        "      print(\"Ep\",i,\" Model Saved\")\n",
        "\n",
        "    Return = 0 # reward totale accumulato\n",
        "    done = False\n",
        "\n",
        "\n",
        "    #preprocessa lo stato iniziale\n",
        "    state = preprocess_state(env.reset())\n",
        "\n",
        "    while done == False:\n",
        "\n",
        "        #update il time step\n",
        "        time_step += 1\n",
        "\n",
        "        action = dqn.epsilon_greedy(state,eps)\n",
        "\n",
        "        next_state, reward, done, info = env.step(action)\n",
        "\n",
        "        next_state = preprocess_state(next_state)\n",
        "\n",
        "        #memorizzare le informazioni sulla transizione\n",
        "        dqn.store_transistion(state, action, reward, next_state, done)\n",
        "\n",
        "        state = next_state\n",
        "        Return += reward\n",
        "\n",
        "        #Se l'episodio è finito, fai il debug e salva i dati per il grafico\n",
        "        if done:\n",
        "            print('Episode: ',i)\n",
        "            print(f\" - Terminal state occurs at\\n  Step {time_step} - Tot Reward={Return}\")\n",
        "            episode_rewards.append(Return)\n",
        "\n",
        "        #Verifica se il numero di transizioni nel replay buffer è maggiore\n",
        "        # della dimensione del batch, se così allora addestra la rete\n",
        "\n",
        "        if len(dqn.replay_buffer) > (batch_size + (batch_size/2)) :\n",
        "            dqn.train(batch_size)\n",
        "            train_is_start = True\n",
        "\n",
        "        #Update della target network\n",
        "        #Per motivo vedi sopra: Problema della correlazione nell'update dei pesi\n",
        "        if (train_is_start == True) and (time_step % update_rate_target == 0):\n",
        "        # I parametri vengono copiati ogni \"update_rate_target\" step dalla main_network.\n",
        "            dqn.update_target_network()\n",
        "\n",
        "\n",
        "env.close()\n",
        "print(\"\\n...End of training...\\n\")\n",
        "\n"
      ]
    },
    {
      "cell_type": "markdown",
      "source": [
        "#### Plot"
      ],
      "metadata": {
        "id": "Tb_VVY6d3YBt"
      }
    },
    {
      "cell_type": "code",
      "source": [
        "plt.figure(figsize=(3, 3))\n",
        "print(episode_rewards)\n",
        "plt.plot(episode_rewards)\n",
        "plt.ylabel(\"Rewards\")\n",
        "plt.xlabel(\"Episodes\")\n",
        "plt.title(\"DQN\")"
      ],
      "metadata": {
        "id": "ptp6tNuo3Zpy"
      },
      "execution_count": null,
      "outputs": []
    },
    {
      "cell_type": "markdown",
      "source": [
        "#### Test - singolo campione con rendering"
      ],
      "metadata": {
        "id": "l4IYb1R_QEKd"
      }
    },
    {
      "cell_type": "code",
      "source": [
        "env = wrap_env(gym.make(\"ALE/MsPacman-v5\",render_mode='human'))\n",
        "\n",
        "state = env.reset()\n",
        "\n",
        "done = False\n",
        "\n",
        "i = 0\n",
        "t_r = 0\n",
        "\n",
        "while not done:\n",
        "\n",
        "    state = preprocess_state(state)\n",
        "    action = dqn.epsilon_greedy(state, 0.0) # con epsilon=0.0 agisce greedy\n",
        "\n",
        "    state, reward, done, _ = env.step(action)\n",
        "    t_r += reward\n",
        "    i += 1\n",
        "\n",
        "    if done == True:\n",
        "      print(f\" - Terminal state occurs in\\n   Step {i} -- Tot Reward {t_r}\")\n",
        "\n",
        "env.close()"
      ],
      "metadata": {
        "id": "jkaYO0noQH7H"
      },
      "execution_count": null,
      "outputs": []
    },
    {
      "cell_type": "markdown",
      "source": [
        "### Test - su 100 campioni"
      ],
      "metadata": {
        "id": "esLxfj0mQIUN"
      }
    },
    {
      "cell_type": "code",
      "source": [
        "def test(env):\n",
        "\n",
        "   state = env.reset()\n",
        "   done = False\n",
        "\n",
        "   t_r = 0\n",
        "\n",
        "   while not done:\n",
        "\n",
        "      state = preprocess_state(state)\n",
        "      action = dqn.epsilon_greedy(state, 0.0) # con epsilon=0.0 agisce greedy\n",
        "\n",
        "      state, reward, done, _ = env.step(action)\n",
        "\n",
        "      t_r += reward\n",
        "\n",
        "   return t_r\n",
        "\n",
        "\n",
        "#######################\n",
        "\n",
        "env = gym.make(\"ALE/MsPacman-v5\")\n",
        "r_list = []\n",
        "\n",
        "for j in range(1,101):\n",
        "  s = test(env)\n",
        "  r_list.append(s)\n",
        "\n",
        "env.close()\n",
        "\n",
        "##########################\n",
        "\n",
        "\n",
        "max_value = max(r_list)\n",
        "min_value = min(r_list)\n",
        "mean_value = sum(r_list) / len(r_list)\n",
        "\n",
        "print(\"Maximum value:\", max_value)\n",
        "print(\"Minimum value:\", min_value)\n",
        "print(\"Mean value:\", mean_value)"
      ],
      "metadata": {
        "id": "6P5DhflLQNcK"
      },
      "execution_count": null,
      "outputs": []
    },
    {
      "cell_type": "markdown",
      "source": [
        "###Riferimenti sperimentali"
      ],
      "metadata": {
        "id": "a70Wa8ehMJzN"
      }
    },
    {
      "cell_type": "markdown",
      "source": [
        "Facendo riferimento al paper di Van Hasselt et al.\n",
        "\n",
        "https://arxiv.org/pdf/1509.06461\n",
        "\n",
        "dove viene riportata una tabella con i risultati delle loro sperimentazione nel dominio di Atari.\n",
        "\n",
        "Per Pacman abbiamo: *Raw scores for the no-op evaluation condition (5 minutes emulator time): each evaluation\n",
        "episode starts by executing a special no-op action that does not affect the environment up to 30 times, to provide different starting points for the agent* , con diverse modalità:\n",
        "\n",
        "\\begin{array}{ccc}\n",
        "\\text{Random}&\\text{Human}&\\text{DQN}&\\text{Double DQN}\\\\\n",
        "307.30&15693.40&2311.00&3210.00\n",
        "\\end{array}\n",
        "\n"
      ],
      "metadata": {
        "id": "oA74UmU2rFhi"
      }
    }
  ]
}