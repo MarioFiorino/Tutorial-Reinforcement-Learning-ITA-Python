{
  "cells": [
    {
      "cell_type": "markdown",
      "source": [
        "# Proximal policy optimization (PPO)\n",
        "\n",
        "Mario Fiorino\n",
        "\n",
        "$\\;$\n",
        "\n",
        "Gli algoritmi basati su tecniche di *Policy Gradient* sono un'area di ricerca molto attiva, con numerosi sviluppi negli ultimi anni. Tra questi Proximal Policy Optimization (PPO) risulta attualmente (anno 2025) tra i più usati per scopi applicativi. A riguardo OpenAI scrive:\n",
        "\n",
        "*Proximal Policy Optimization (PPO), which perform comparably or better than state-of-the-art approaches while being much simpler to implement and tune. PPO has become the default reinforcement learning algorithm at OpenAI because of its ease of use and good performance.*\n",
        "https://openai.com/index/openai-baselines-ppo/\n",
        "\n",
        "$\\;$\n",
        "\n",
        "Avviso ai naviganti:\n",
        "\n",
        "Per una comprensione dei concetti in questo notebook, si raccomanda ai lettori di prendere visione dei precedenti notebook dedicati alla tematica del Policy Gradient.\n",
        "Può essere utile ricordare che i metodi definiti *Policy Gradient* sono algoritmi che utilizzano approssimatori parametrizzati, ovvero modelli matematici, per rappresentare le funzioni per la policy. I parametri di tali modelli vengono aggiornati iterativamente attraverso il metodo *Gradient ascent*, con l'obiettivo di massimizzare il *Return*."
      ],
      "metadata": {
        "id": "fIkEW1THDa8T"
      }
    },
    {
      "cell_type": "markdown",
      "source": [
        "#### Ref.\n",
        "\n",
        "PPO: [J. Schulman et al., \"Proximal Policy Optimization Algorithms.\" arXiv preprint arXiv:1707.06347, 2017.](https://arxiv.org/abs/1707.06347.pdf)\n",
        "\n",
        "TRPO: [Schulman, John, et al. \"Trust region policy optimization.\" International conference on machine learning. 2015.](http://proceedings.mlr.press/v37/schulman15.pdf)\n",
        "\n",
        "Spinning Up - OpenAI :\n",
        "\n",
        "https://spinningup.openai.com/en/latest/algorithms/trpo.html\n",
        "\n",
        "https://spinningup.openai.com/en/latest/algorithms/ppo.html\n",
        "\n",
        "Foundations of Reinforcement Learning: https://wensun.github.io/CS6789.html\n",
        "\n",
        "Berkeley slide di Joshua Achiam:\n",
        "https://rail.eecs.berkeley.edu/deeprlcourse-fa17/f17docs/lecture_13_advanced_pg.pdf\n",
        "\n",
        "Foundations of Deep Reinforcement Learning: Theory and Practice in Python di Laura Graesser, Wah Loon Keng"
      ],
      "metadata": {
        "id": "Fnf1Z14EZdAd"
      }
    },
    {
      "cell_type": "markdown",
      "source": [
        "### Alcune premesse\n",
        "\n",
        "**Notazioni**\n",
        "$\\;$\n",
        "\n",
        "$P \\{X = x\\}$ : probabilità che una variabile aleatoria $X$ assuma uno specifico valore (detto campione) $x$.  \n",
        "\n",
        "$\\;$\n",
        "\n",
        "$X \\sim p$: la variabile aleatoria $X$ è distribuita secondo la distribuzione di probabilità  $p$. In altre parole, un campione di $X$ viene estratto da una distribuzione con funzione di probabilità $p$.\n",
        "\n",
        "$\\;$\n",
        "\n",
        "$\\mathbb{E}[X]$: valore atteso o expectation di una variabile aleatoria \\(X\\), cioè  $ \\mathbb{E}[X] = \\sum_x p(x)x $\n",
        "\n",
        "In pratica l'expectation, non è altro che un numero che rappresenta la media dei possibili valori che una variabile aleatoria può assumere, ciascuno ponderato in base alla probabilità di uscita. Ad esempio il valore atteso di una sola estrazione tra 3 premi rispettivamente di $\\{5, 20, 50 \\}$ euro, con pari probabilità di uscita $(1/3)$, è di $ 25 $ euro. Se la probabilità di $5$ euro è $1/2$ e gli altri due di $1/4$ ; allora il valore atteso è:\n",
        "$E(X) = (5 \\times \\frac{1}{2}) + (20 \\times \\frac{1}{4}) + (50 \\times \\frac{1}{4}) = 20$ euro\n",
        "\n",
        "$\\;$\n",
        "\n",
        "$\\arg\\max_a f(a) ≡$ valore di $a$ per cui $f(a)$ raggiunge il suo massimo.\n",
        "\n",
        "$\\;$\n",
        "\n",
        "$\\pi (a | s)$ definisce la probabilità di selezionare il valore $a$, dato come noto $s$.\n",
        "$\\;$"
      ],
      "metadata": {
        "id": "WmkayDBmIrgE"
      }
    },
    {
      "cell_type": "markdown",
      "source": [
        "**Markov State Distributions**\n",
        "\n",
        "Una *Markov Chain*, o processo di Markov, è un modello che descrive una sequenza di possibili eventi, dove la probabilità di ogni evento dipende esclusivamente dallo stato del sistema all'istante precedente.\n",
        "\n",
        "Le *Markov State Distributions* descrivono la probabilità di trovare il sistema in un determinato stato in un dato momento.\n",
        "\n",
        "Consideriamo un processo di Markov; una sequenza di $n$ variabili aleatorie $ [ X_0, X_1, ... , X_n ] $ , dove lo spazio degli esiti per ogni  $X_i$ è definito come $S = \\{1, 2, 3, \\dots,r\\} $\n",
        "\n",
        "Supponiamo di conoscere la distribuzione di probabilità iniziale $X_0$. Più precisamente, definiamo il vettore riga $d_{X_0}$ come  \n",
        "\n",
        "$d_{X_0} = [P(X_0=1), \\quad P(X_0=2), \\quad \\dots \\quad , P(X_0=r)] $\n",
        "\n",
        "Come possiamo ricavare la distribuzione di probabilità di $X_1, X_2, \\dots$? Possiamo utilizzare la legge della probabilità totale.\n",
        "\n",
        "Più precisamente, per ogni campione $ j \\in S$ :  \n",
        "\n",
        "$P(X_1 = j) = \\sum_{k=1}^{r} P(X_1 = j \\mid X_0 = k) P(X_0 = k) = \\sum_{k=1}^{r} T_{kj} P(X_0 = k)$\n",
        "\n",
        "dove $T$ è la matrice di transizione degli stati o anche detta *transition probabilities*.\n",
        "\n",
        "In formula sintetica si riduce al prodotto riga colonna tra vettore e matrice:\n",
        "\n",
        "$d_{X_1} = d_{X_0} \\; T$\n",
        "\n",
        "Più in generale, ad un certo istante $n$, per ricavare il vettore\n",
        "\n",
        "$d_{X_n} = [P(X_n=1), \\quad P(X_n=2), \\quad \\dots \\quad , P(X_n=r)] $\n",
        "\n",
        "abbiamo:\n",
        "\n",
        "$d_{X_n} = d_{X_0} \\; T^{n} $\n",
        "\n",
        "$\\;$\n",
        "\n",
        "Esempio\n",
        "\n",
        "Consideriamo un sistema che può trovarsi in uno dei due possibili stati, $ S = \\{0,1\\} $. In particolare, supponiamo che la matrice di transizione sia data da  \n",
        "\n",
        "$T = \\begin{bmatrix} \\frac{1}{2} & \\frac{1}{2} \\\\ \\frac{1}{3} & \\frac{2}{3} \\end{bmatrix}.$\n",
        "\n",
        "Le righe indicizzano lo stato corrente, le colonne indicizzano gli stati futuri. Ad esempio, per $T_{[1,0]} = \\frac{1}{3}$ stiamo dicendo che partiamo dallo stato $1$ per cambiare nello stato $0$, e che questa transizione ha probabilità $\\frac{1}{3}$. Per $T_{[1,1]} = \\frac{2}{3}$ stiamo dicendo che la probabilità di restare nello stato $1$ e pari a $\\frac{2}{3}$.\n",
        "\n",
        "Supponiamo inoltre che il sistema si trovi nello stato $0$ al tempo $n = 0$; come ricavare la probabilità che il sistema sia nello stato $1$ al tempo $n=3$ ?\n",
        "\n",
        "Noi sappiamo che lo stato del sistema iniziale è $X_0 = 0$, quindi la distribuzione di probabilità iniziale $X_0$:\n",
        "\n",
        "$ d_{X_0} = [P(X_0 = 0) , \\quad P(X_0 = 1)] = [1 , \\quad 0]$\n",
        "\n",
        "Applicanso la formula:\n",
        "  \n",
        "\n",
        "$d_{X_3} = d_{X_0} \\; T^3 = [1 \\quad 0] \\begin{bmatrix} \\frac{1}{2} & \\frac{1}{2} \\\\ \\frac{1}{3} & \\frac{2}{3} \\end{bmatrix}^3 = \\left[ \\frac{29}{72} \\quad \\frac{43}{72} \\right]$\n",
        "\n",
        "Di conseguenza, la probabilità che il sistema si trovi nello stato $1$ al tempo $n=3$ è $\\frac{43}{72}$. (Mentre nello stato $0$ è $\\frac{29}{72}$)\n",
        "\n",
        "Ref.\n",
        "\n",
        "https://www.probabilitycourse.com/chapter11/11_2_3_probability_distributions.php"
      ],
      "metadata": {
        "id": "K1fkB51ZpA-P"
      }
    },
    {
      "cell_type": "markdown",
      "source": [
        "**Discounted future state distribution**\n",
        "\n",
        "Introduciamo la definizione di *discounted future state distribution* (o *discounted state distribution*)  per una data policy $\\pi$, cioè:\n",
        "\n",
        "$∀s \\in S$,\n",
        "\n",
        "$d^{\\pi}(s) = (1 - \\gamma) \\sum_{k=0}^{\\infty}  \\;\n",
        " \\gamma^k \\; P(s_k = s| \\pi) \\;$\n",
        "\n",
        "Sia $S$ l'insieme di tutti gli stati campionabili del sistema.\n",
        "\n",
        "Sia $\\gamma \\in (0,1)$ il fattore di discount, allora la serie geometrica $\\sum_{k=0}^{\\infty}  \\gamma^k$ converge a $\\frac{1}{(1 - \\gamma)}$, e il fattore $(1 - \\gamma)$ è da considerarsi un fattore di normalizzazione.\n",
        "\n",
        "Sia $P(s_k = s| \\pi)$ la probabilità di trovarsi (o ritrovarsi) in un certo stato $s$, al tempo $k$, seguendo una certa la policy $𝜋$.\n",
        "\n",
        "In sostanza, la distribuzione $d^{\\pi}(s)$ tiene conto del fatto che un certo stato $s$ possa essere visitato più volte in istanti di tempo differenti, seguendo una determinata policy $\\pi$.\n",
        "Con questa definizione, agli stati prossimi a quello di partenza, con $k=0$, viene dato un peso maggiore.\n",
        "\n",
        "Questa definizione rientra nell'ambito del *discounted weighting of states* ; vedi il lavoro di tesi di dottorato di Bacon 2018: https://pierrelucbacon.com/bacon2018thesis.pdf\n",
        "\n",
        "Note:\n",
        "\n",
        "1.\n",
        "\n",
        "Perchè introduciamo il fattore di discount $\\gamma$ nella ditribuzione degli stati?  In un processo decisionale di Markov con orizzonte infinito, il numero di volte in cui uno stato può essere visitato puo crescere indefinitamente. Introducendo il fattore $\\gamma$ ci assicuriamo che la somma totale rimanga finita, con un valore $\\le 1$. Per tanto il fattore discount, può essere pensato come una forma di \"terminazione del episodio su scenari ad orizzonte infinito\".\n",
        "\n",
        "Maggiori info: https://ai.stackexchange.com/questions/27172/why-do-we-discount-the-state-distribution\n",
        "\n",
        "2.\n",
        "\n",
        "Come ricaviamo una distribuzione del genere dato che è implicitamente definita dalle dinamiche ambientali e dalla policy. Semplicemente eseguendo un *roll-out* secondo la policy $\\pi$ per un tempo sufficientemente lungo, si otterrà un campionamento degli stati dalla distribuzione  $d^{\\pi}$.\n",
        "\n",
        "$\\;$"
      ],
      "metadata": {
        "id": "OFLxNnlHb9We"
      }
    },
    {
      "cell_type": "markdown",
      "source": [
        "## Problema: come gestire efficacemente l’update dei parametri della policy ?\n",
        "\n",
        "Ovvero, come trovare lo *step-size* di aggiornamento massimo possibile (utilizzando i dati disponibili) senza compromettere le prestazioni ?  \n",
        "\n",
        "Nei metodi policy gradient, l' update dei parametri $θ$ che caratterizzano la policy segue l'equazione:\n",
        "\n",
        "$∆θ = α∇_θ J(π_θ)$\n",
        "\n",
        "Va evidenziato che lo spazio delle policy e lo spazio dei parametri non sempre presentano una corrispondenza biunivoca, nel senso che una stessa distanza tra parametri non implica una distanza equivalente tra le rispettive policy; in ternimi matematici si dice che il *mapping è non-isometrico*.\n",
        "\n",
        "Mi spiego: si considerino due coppie di parametri, denotate con $(\\theta_1, \\theta_2)$ e $(\\theta_2, \\theta_3)$, e si assuma che esse presentino la medesima distanza (ad esempio una distanza euclidea) nello spazio dei parametri, ovvero $D_{\\theta}(\\theta_1, \\theta_2) = D_{\\theta}(\\theta_2, \\theta_3)$. Tuttavia, le policy corrispondenti, mappate rispettivamente come $(\\pi_{\\theta_1}, \\pi_{\\theta_2})$ e $(\\pi_{\\theta_2}, \\pi_{\\theta_3})$, potrebbero non rispettare la stessa relazione di distanza quando si considera le loro performance, misurata ad esempio attraverso il *Return* ottenuto.\n",
        "\n",
        "In simboli:\n",
        "$D_{\\theta}(\\theta_1, \\theta_2) = D_{\\theta}(\\theta_2, \\theta_3) \\not\\Leftrightarrow D_R(π_{θ_1}, π_{θ_2}) = D_R(π_{θ_2}, π_{θ_3})$\n",
        "\n",
        "In altre parole, variazioni anche minime nei parametri possono indurre differenze significative nelle prestazioni della policy. Ciò implica che un aggiornamento non adeguatamente controllato può portare a un deterioramento della performance (*performance collapse*)\n",
        "\n",
        "Definiamo una metrica, o volendo una distanza nello spazio delle policy, che valuti la differenza di performance tra due policy.\n",
        "\n",
        "**Relative policy performance identity**:\n",
        "\n",
        "$ J(\\pi') - J(\\pi) =  \\mathbb{E}_{\\tau \\sim {\\pi'}} \\bigg[ \\sum_{t=0} ^T \\gamma^t \\; A^{\\pi}(s_t, a_t) \\bigg]$\n",
        "\n",
        "per ogni policy $π$, e $π'$.\n",
        "\n",
        "Si osservi che questa metrica mette in relazione le prestazione di $π'$ con la funzione Advantage di $π$\n",
        "\n",
        "Supponiamo ora di avere una policy $ \\pi $, e che, a seguito di un aggiornamento dei parametri $ \\theta $, la sua successiva iterazione sia rappresentata da $\\pi'$. Con questa assunzione è possibile osservare alcune proprietà di interessanti. In tal caso infatti,La *relative policy performance identity*, $J(\\pi') - J(\\pi)$, funge da metrica per quantificare i miglioramenti apportati a una pocily. Un valore positivo di tale differenza indica che la nuova policy, $\\pi'$, produce prestazioni migliori della policy precedente, $\\pi$. Durante un processo di training, l'obiettivo ideale consiste nel selezionare una nuova politica, $\\pi'$, che consente di massimizzare tale differenza ad ogni step di aggiornamento dei paramentri. Di conseguenza, massimizzare l'*objective function* $J(\\pi')$ equivale a massimizzare questa identità, ovvero:\n",
        "\n",
        "$\\max\\limits_{\\pi'} \\bigg( J(\\pi') - J(\\pi) \\bigg) $\n",
        "\n",
        "\n",
        "**Idea di fondo**\n",
        "\n",
        "Impostare il problema della ricerca di una policy ottimale in modo tale da massimizza tale identità, implica che ogni iterazione della policy debba garantire un miglioramento non negativo (monotono), ovvero, $J(\\pi) - J(\\pi') \\geq 0$; poiché, nel caso peggiore, si può semplicemente porre $\\pi = \\pi'$ (ed ottenere un miglioramento pari a $0$).  Questo consente di evitare crolli di performance durante l'addestramento (*performance collapse*).\n",
        "\n",
        "Un limite di questa formulazione è la necessità di traiettorie campionate dalla nuova policy $ \\pi'$ (vedi: Expectation : ${\\tau \\sim {\\pi'}}$), le quali non sono disponibili prima dell'aggiornamento."
      ],
      "metadata": {
        "id": "-yh_8tGu2cid"
      }
    },
    {
      "cell_type": "markdown",
      "source": [
        "Che fare?\n",
        "\n",
        "Si consideri:\n",
        "\n",
        "- la *relative policy performance identity*:\n",
        " $J(\\pi_0) - J(\\pi) = \\mathbb{E}_{\\tau \\sim {\\pi'}} \\bigg[ \\sum_{t=0} ^∞ \\gamma^t \\; A^{\\pi}(s_t, a_t) \\bigg] $\n",
        "\n",
        "- la distribuzione di probabilità degli stati per una data policy $\\pi$;  ad esempio nelle premesse, abbiamo definito la  *discounted future state distribution* per una certa policy $\\pi$, ed indicata con $d^{\\pi}(\\cdot)$\n",
        "\n",
        "\n",
        "Sfruttando:\n",
        "\n",
        "- la proprietà di linearità dell'expectation (cioè: $E[a_1 X_1 + a_2 X_2  + ... + a_n X_n ]=a_1 E[X_1]+ a_2 E[X_2] + ... +  a_n E[X_n]$); invece di esprimere l'expectation sull'intera traiettoria, possiamo riscrivere l'expectation come una somma su singoli step temporali\n",
        "\n",
        "- per $\\gamma \\in (0,1)$ , la serie geometria è convergente $\\sum_{t=0}^{\\infty} \\gamma^t = \\frac{1}{1-\\gamma}$,\n",
        "\n",
        "possiamo scrivere:\n",
        "\n",
        "$\\mathbb{E}_{\\tau \\sim \\pi'} \\left[ \\sum_{t=0}^{\\infty} \\gamma^t A^{\\pi} (s_t, a_t) \\right] = \\frac{1}{1 - \\gamma} \\mathbb{E}_{s \\sim d^{\\pi'},{\\;a \\sim \\pi'(\\cdot | s)}}  \\left[  A^{\\pi}(s, a) \\right] $\n",
        "\n",
        "per maggior chiarezza, espandendo l'expectation:\n",
        "\n",
        "$\\mathbb{E}_{\\tau \\sim \\pi'} \\left[ \\sum_{t=0}^{\\infty} \\gamma^t A^{\\pi} (s_t, a_t) \\right] =  \\frac{1}{1 - \\gamma} \\sum_{s} d^{\\pi'}(s) \\sum_{a} \\pi'(a | s) A^{\\pi}(s, a) $\n",
        "\n",
        "Esiste una limitazione che impedisce l'impiego di questa espressione come funzione obiettivo, cioè per ottmizzare i parametri della \"nuova\" policy $\\pi'$. Per effettuare un aggiornamento, essa richiede che le traiettorie siano campionate dalla \"nuova\" politica da ricavare. Chiaramente, questa risulta non disponibile fino a dopo che l'aggiornamento sia stato completato...\n",
        "\n",
        "Proviamo a risolvere la cosa usando le informazione disponibili, ovvero la \"vecchia\" policy $\\pi$.\n",
        "\n",
        "Riscriviamo l'identità relativa della performance, sfruttando il *weighted importance sampling* (in pratica: un metodo utilizzato per ricavare uno stimatore, nel nostro caso il valore atteso, di una distribuzione, generando campioni da una distribuzione diversa, ma nota), ovvero:\n",
        "\n",
        "$ \\frac{1}{1 - \\gamma} \\mathbb{E}_{s_t \\sim d^{\\pi'},{\\;a_t \\sim \\pi'}}  \\left[  A^{\\pi}(s, a) \\right] = \\frac{1}{1 - \\gamma} \\mathbb{E}_{s \\sim d^{\\pi'},{\\;a \\sim \\pi}}  \\left[ \\frac{\\pi'(a|s)}{\\pi(a|s)} A^{\\pi}(s, a) \\right] $\n",
        "\n",
        "Questa formula pesa i valori della funzione Advance, generati utilizzando la distribuzione $\\pi$,  mediante il rapporto delle probabilità di azione tra le due policy successive, $\\pi$ e $\\pi'$.  \n",
        "\n",
        "L' unico problema rimane $s \\sim d^{\\pi'}$.\n",
        "\n",
        "Se attuiamo una approssimazione del tipo $d^{\\pi'} \\approx d^{\\pi}$, assmuniamo che policy successive $\\pi$ e $\\pi'$ siano relativamente vicine; si noti ciò può essere misurato usando la divergenza KL. Quanto devono essere vicine affinche la cosa funzioni è una bella domanda che vederemo dopo.\n",
        "Al momento tale approssimazione ci permette di scrivere:\n",
        "\n",
        "$ J(\\pi') - J(\\pi)  ≈ \\frac{1}{1 - \\gamma} \\mathbb{E}_{s \\sim d^{\\pi},{\\;a \\sim \\pi}}  \\left[ \\frac{\\pi'(a|s)}{\\pi(a|s)} A^{\\pi}(s, a) \\right] = \\mathbb{E}_{\\tau \\sim \\pi} \\left[ \\sum_{t=0}^{\\infty} \\gamma^t \\frac{\\pi'(a_t|s_t)}{\\pi(a_t|s_t)} A^{\\pi}(s_t, a_t) \\right] $\n",
        "\n",
        "e definire il **surrogate objective**, detto anche *surrogate advantage* :\n",
        "\n",
        "$ J^{CPI} (\\pi, \\pi') = \\mathbb{E}_{\\tau \\sim \\pi} \\left[ \\sum_{t=0}^{\\infty} \\gamma^t \\frac{\\pi'(a_t|s_t)}{\\pi(a_t|s_t)} A^{\\pi}(s_t, a_t) \\right]$\n",
        "\n",
        "Dove CPI sta per *conservative policy iteration*.\n",
        "\n",
        "Si noti, $J^{CPI} (\\pi, \\pi')$ è qualcosa su cui possiamo lavorare per ottmizzare i parametri $\\theta$ della nuova policy $\\pi'$; usando infomazioni campionate dalla \"vecchia\" policy $π$.\n",
        "\n",
        "Si noti anche, a differenza dell'importance sampling classico, il \"peso\" usato, cioè : $ \\frac{\\pi'(a|s)}{\\pi(a|s)}$, dipende solo dal time-step corrente, e non dall'intera storia precedente (in pratica non c'è una produttoria che accumula i vari time step - vedi importance sampling ratio). Questo permette di evitare che tale \"peso\" produca valori estremamente grandi o piccoli, complessi da gestire.\n",
        "\n",
        "Appendice.\n",
        "\n",
        "Al fine di una maggior chiarezza, espandendo expectation sulle traiettorie $\\tau = (s_0, a_0, s_1, a_1, \\dots)$, otteniamo:\n",
        "\n",
        "$ J^{CPI} (\\pi, \\pi') = \\sum_{\\tau}  P(\\tau | \\pi) \\sum_{t=0}^{\\infty} \\gamma^t \\frac{\\pi'(a_t | s_t)}{\\pi(a_t | s_t)} A^{\\pi}(s_t, a_t)  $\n",
        "\n",
        "dove $P(\\tau | \\pi)$ è la probabilità che una certa traiettoria $\\tau$ si campionata da $\\pi$; che può essere ulteriorimente fattorizzata come: $P(\\tau \\mid \\pi) = \\rho_0 (s_0) \\prod_{t=0}^{\\infty} Pr(s_{t+1} \\mid s_t, a_t) \\pi(a_t \\mid s_t)$\n",
        "\n",
        "In cui $s_0$ viene campionato randomly dalla *start-state distribution*, indicata con $\\rho_0$.\n",
        "\n",
        "$\\;$"
      ],
      "metadata": {
        "id": "GUP_BvmmuRHS"
      }
    },
    {
      "cell_type": "markdown",
      "source": [
        "Adesso, l'idea di base è usare il *surrogate objective* come funzione obiettivo al fine di ottimizzare i parametri attraverso l'algoritmo di gradient ascent, garantendo al contempo una gestione stabile dell'update (i.e. un miglioramento monotono delle prestazioni) durante la fase di training.\n",
        "\n",
        "C'è una proprietà interessante di cui gode il *surrogate objective* e che supporta la nostra idea di base, ovvero che il suo gradiente, valutando l'espressione in $θ = θ_{old}$,  è uguale al gradiente della policy:\n",
        "\n",
        "$\\nabla_\\theta J^{CPI} (\\theta_{old},\\theta) = \\nabla_\\theta J(\\pi_\\theta)$\n",
        "\n",
        "Inoltre, il *surrogate objective* puo pensarsi come un'approssimazione lineare di $J(\\pi') - J(\\pi)$, poiché le loro derivate di primo ordine coincidono.\n",
        "\n",
        "Torniamo un momento alla questione lasciata in sospeso, quanto devono essere vicine policy  $π$  e  $π′$ (o l'approssimazione  $d^{π'}≈d^π$) , affiche la *surrogate objective* sia un approssimazione accetabile.\n",
        "\n",
        "Per avere una misura di questa vicinanza introduciamo il **relative policy performance bound**\n",
        "\n",
        "$| ( J(\\pi') - J(\\pi) ) - J^{CPI} (\\pi, \\pi')  | \\; \\leq \\;  C \\; \\; \\sqrt{ \\mathbb{E}_{s \\sim d^\\pi} \\bigg[ D_{KL} (\\pi'|| \\pi )[s] \\bigg] } $\n",
        "\n",
        "Dove $D_{KL}(\\pi' || \\pi)[s]$: è la *Kullback-Leibler (KL) divergence* tra le policy $\\pi'$ e $\\pi$ nello state $s$. In formula:\n",
        "\n",
        "$D_{KL}(\\pi' || \\pi)[s] = \\sum_{a} \\pi'(a|s) \\log \\frac{\\pi'(a|s)}{\\pi(a|s)}$\n",
        "\n",
        "con sommatoria su tutte le possibili azioni $a$ in un certo stato $s$.\n",
        "\n",
        "$C$ è una costante che deve essere opportunamente determinata\n",
        "\n",
        "Riscirvendola in modo da esplicitare le sue caratteristiche:\n",
        "\n",
        "$ J^{CPI} (\\pi, \\pi') - C \\sqrt{\\mathbb{E}_{s \\sim d^\\pi} \\left[ D_{KL}(\\pi' || \\pi)[s] \\right]} \\leq J(\\pi') - J(\\pi)  \\leq  J^{CPI} (\\pi, \\pi') + C \\sqrt{\\mathbb{E}_{s \\sim d^\\pi} \\left[ D_{KL}(\\pi' || \\pi)[s] \\right]} $\n",
        "\n",
        "In pratica il *relative policy performance bound* afferma che la differenza di performance tra una nuova policy $\\pi'$ e la vecchia policy $\\pi$ è limitata (*bounded*) da un termine che dipende dalla divergenza KL tra le due policy.\n",
        "\n",
        "A fine di accettare una modifica alla policy, la stima  $J^{CPI} (\\pi, \\pi')$  di $J(\\pi') - J(\\pi)$,  deve essere contenuta nell'errore: $C \\sqrt{\\mathbb{E}_{s \\sim d^\\pi} \\left[ D_{KL}(\\pi' || \\pi)[s] \\right]}$\n",
        "\n",
        "Se inseriamo questi vincoli (*error bound*) nel nostro problema di ottimizzazione, possiamo garantire un miglioramento monotono della policy; in simboli:\n",
        "\n",
        "$\\underset{\\pi'}{\\operatorname{arg max}} \\bigg( J^{CPI} (\\pi, \\pi') - C \\sqrt{ \\mathbb{E}_{s \\sim d^\\pi}  D_{KL}(\\pi' || \\pi)[s]} \\bigg) \\Rightarrow J(\\pi') - J(\\pi) \\geq 0$\n",
        "\n",
        "E' fondamentale notare è che un miglioramento monotono **non garantisce la convergenza a una politicy ottimale**\n",
        "\n",
        "L'ottimizzazione della politica può comunque rimanere bloccata in un massimo locale in cui ogni iterazione della politica non produce alcun miglioramento, in pratica $J(\\pi') - J(\\pi) = 0$.\n",
        "\n",
        "Garantire la convergenza rimane un problema aperto complesso."
      ],
      "metadata": {
        "id": "4TdjZD2M-q00"
      }
    },
    {
      "cell_type": "markdown",
      "source": [
        "Come formulare questa condizione di vincolo nella nostra procedura di ottimizzazione?\n",
        "\n",
        "Una possibile strategia consiste nel limitare in modo diretto l'expectation della divergenza di KL:\n",
        "\n",
        "$\\mathbb{E}_{s \\sim d^\\pi} D_{KL}(\\pi' || \\pi)[s] \\leq δ$\n",
        "\n",
        "Il parametro $δ$ limita l'ampiezza della divergenza di KL, restringendo così la distanza con cui una nuova policy rispetto alla policy precedente. Questo intervallo è denominato **Trust Region**, e la disuguaglianza prima scritta è nota come **vincolo di trust region**.\n",
        "\n",
        "Si osservi che $δ$  è un iperparametro che deve essere opportunamente regolato.\n",
        "\n",
        "$\\;$"
      ],
      "metadata": {
        "id": "7FYHZFQ638Lf"
      }
    },
    {
      "cell_type": "markdown",
      "source": [
        "**Concludendo**\n",
        "\n",
        "$\\theta_{k+1} = \\arg \\max_\\limits{\\theta} \\; \\mathbb{E}_{\\tau \\sim \\pi_{\\theta_{k}}} \\left[ \\sum_{t=0}^{\\infty} \\gamma^t \\frac{\\pi_{\\theta}(a_t|s_t)}{\\pi_{\\theta_{k}}(a_t|s_t)} A^{\\pi_{\\theta_{k}}}(s_t, a_t) \\right] $\n",
        "\n",
        "${subject\\;to\\; the\\; constraints \\;:\\;}  \\mathbb{E}_{s \\sim \\pi_{\\theta_k}} \\bigg[{ D_{KL}\\left(\\pi_{\\theta}(\\cdot|s) || \\pi_{\\theta_k} (\\cdot|s) \\right)} \\bigg] \\leq δ$\n",
        "\n",
        "La formula sopra è detta : **Trust Region Policy Optimization(TRPO) update**.\n",
        "\n",
        "Lo scopo è trovare i valori di $θ$ che massimizzano la funzione obiettivo $J^{CPI} (\\pi_{\\theta_{k}},\\pi_{\\theta})$, ma considerando solo i valori di $θ$ che soddisfano la condizione di vincolo di trust region.\n",
        "\n",
        "Finché le modifiche alla policy rimangono all'interno della trust region, è possibile evitare un deterioramento delle prestazioni (*performance collapse*)\n",
        "\n",
        "Si noti:\n",
        "\n",
        "1.\n",
        "\n",
        "$\\mathbb{E}_{s \\sim \\pi_{\\theta_k}} \\left[ D_{KL}\\left(\\pi_{\\theta}(\\cdot|s) || \\pi_{\\theta_k} (\\cdot|s) \\right) \\right]$ rappresenta la divergenza KL media tra le politiche $\\pi_{\\theta}$ e $\\pi_{\\theta_k}$, ponderata sulla distribuzione degli stati visitati dalla vecchia policy $\\pi_{\\theta_k}$.\n",
        "\n",
        "2.\n",
        "\n",
        "L'idea fondamentale risiede nell'utilizzo di $J^{CPI} (\\pi_{\\theta_{k}},\\pi_{\\theta})$ come un'approssimazione di $J(\\pi_{\\theta}) - J(\\pi_{\\theta_{k}})$, campionando dati dalla policy disponibile $\\pi_{\\theta_k}$. L' introduzione di tale approssimazione comporta inevitabilmente l'insorgere di un errore. Tuttavia, è possibile definire un limite per tale errore: trasformando questo limite in un vincolo nell'ambito del problema di ottimizzazione."
      ],
      "metadata": {
        "id": "hnIZ777h0p1H"
      }
    },
    {
      "cell_type": "markdown",
      "source": [
        "## Proximal Policy Optimization, algoritmo\n",
        "\n",
        "Diversi algoritmi sono stati proposti per risolvere il problema di ottimizzazione con vincoli di trust region. Tra questi:  *Natural Policy Gradient (NPG)* , il *Trust Region Policy Optimization (TRPO)*  e il *Constrained Policy Optimization (CPO)*, *Proximal Policy Optimization (PPO)*.\n",
        "\n",
        "PPO rappresenta un approccio di facile implementazione, con un costo computazionale basso, e privo della necessità di selezionare il parametro $\\delta$.\n",
        "\n",
        "Per queste ragioni, non solo è divenuto uno degli algoritmi di riferimento per la risoluzione di problemi di ottimizzazione vincolata trust region, ma anche uno dei metodi più diffusi nell'ambito dei policy gradient\n",
        "\n",
        "Esistono due principali varianti dell'algoritmo PPO:\n",
        "\n",
        "1.\n",
        "\n",
        "La variante **PPO-KL-Penalty** converte la *constraint* sulla KL-divergence: $\\mathbb{E}_t [ D_{KL} (\\pi_{\\theta} (a_t | s_t) || \\pi_{\\theta_{\\text{k}}} (a_t | s_t))] \\leq \\delta $, in una penalizzazione ( che scoraggia la nuova policy dallo discostarsi troppo da quella vecchia ${\\pi_{\\theta_{\\text{k}}}}$) adattiva, che viene sottratta al *importance-weighted advantage*:\n",
        "\n",
        "$ \\arg \\max_\\limits{\\theta} \\; \\mathbb{E}_t \\left[ \\frac{\\pi_{\\theta} (a_t | s_t)}{\\pi_{\\theta_{\\text{k}}} (a_t | s_t)} A^{\\pi_{\\theta_{\\text{k}}}} (a_t , s_t) - \\beta \\; D_{KL}\\left(\\pi_{\\theta}(a_t | s_t) || \\pi_{\\theta_{\\text{k}}} (a_t | s_t) \\right) \\right] $\n",
        "\n",
        "dove $\\beta$ è il coefficiente che controlla le dimensione della penalizzazione sulla KL-divergence. Il suo valore viene automaticamente calibrato nel corso dell'addestramento usando metodi euristici (*heuristic-based update rule*), non derivanti cioè da da principi teorico-matematici. Per maggiori info applicative vedi il paper: J. Schulman et al., \"Proximal Policy Optimization Algorithms\"\n",
        "\n",
        "2.\n",
        "\n",
        "La variante **PPO-Clip**, invece, non include alcun termine di KL-divergence nella funzione obiettivo, ma sostituisce il vincolo sulla KL-divergence con una tecnica detta di clipping:\n",
        "\n",
        "$ \\arg \\max_\\limits{\\theta} \\; \\mathbb{E}_t \\bigg[ \\min\\left( \\frac{\\pi_{\\theta}(a|s)}{\\pi_{\\theta_k}(a|s)} A^{\\pi_{\\theta_k}}(s,a), \\ \\text{clip}\\left(\\frac{\\pi_{\\theta}(a|s)}{\\pi_{\\theta_k}(a|s)}, 1 - \\epsilon, 1+\\epsilon \\right) A^{\\pi_{\\theta_k}}(s,a) \\right)  \\bigg] $\n",
        "\n",
        "$\\epsilon$ è un iperparametro che deve essere messo a punto, e può essere ridotto progressivamente durante l'addestramento.\n",
        "\n",
        "Il primo termine all'interno dell'operatore $\\min(\\cdot)$ corrisponde semplicemente all' *surrogate objective* $J^{CPI}$ . Il secondo termine, $\\text{clip} (...)$, vincola il valore di $J^{CPI}$ all'intervallo $[(1 - \\epsilon) A^{\\pi_{\\theta_k}}(s,a), (1 + \\epsilon) A^{\\pi_{\\theta_k}}(s,a)]$.  \n",
        "\n",
        "In pratica, se il rapporto $\\frac{\\pi_{\\theta}(a|s)}{\\pi_{\\theta_k}(a|s)}$ assume valori al di fuori dell'intervallo $[1 - \\epsilon, 1 + \\epsilon]$, l'operatore di clipping $\\text{clip}(\\cdot)$ fornirà in uscita $(1 - \\epsilon) A^{\\pi_{\\theta_k}}(s,a)$ nel caso di valori inferiori al limite inferiore $1 - \\epsilon$, mentre restituirà $(1 + \\epsilon) A^{\\pi_{\\theta_k}}(s,a)$ nel caso di valori superiori al limite superiore.\n",
        "\n",
        "Quando $\\frac{\\pi_{\\theta}(a|s)}{\\pi_{\\theta_k}(a|s)}$ appartiene all'intervallo $[1 - \\epsilon, 1 + \\epsilon]$, entrambi i termini all'interno dell'operatore $\\min(\\cdot)$ assumono lo stesso valore.\n",
        "\n",
        "Con questa metodologia non vi è alcun incentivo a effettuare aggiornamenti di policy eccessivamente ampi.  \n",
        "\n",
        "In genere, massimizzare l'obiettivo surrogato $J^{\\text{CPI}}$ senza alcun vincolo potrebbe favorire aggiornamenti significativi nei parametri $𝜃$ della policy durante il processo di apprendimento. Ciò avviene poiché uno dei meccanismi attraverso cui è possibile massimizzare la funzione obiettivo consiste nell'apportare ampie variazioni a $\\frac{\\pi_{\\theta}(a|s)}{\\pi_{\\theta_k}(a|s)}$. Per andare più a fondo nella questione suggerisco la lettura del *7.2 Proximal Policy Optimization (PPO)* - PDF 205, del testo *Foundations of Deep Reinforcement Learning: Theory and Practice in Python di Laura Graesser, Wah Loon Keng*\n",
        "\n",
        "Infine, si osserva che i metodi PPO sono applicabili ad entrambi gli algoritmi di policy gradient studiati, REINFORCE e Actor-Critic. Appartiene alla classe degli algoritmi on-policy, e può essere applicato ad ambienti con spazi delle azioni sia discreti che continui.\n"
      ],
      "metadata": {
        "id": "Ozcwx2P7Cw1h"
      }
    },
    {
      "cell_type": "markdown",
      "metadata": {
        "id": "mmdiMmn_CIc4"
      },
      "source": [
        "# Coding : Actor-Critic PPO-clip  --> Solving Pendulum"
      ]
    },
    {
      "cell_type": "markdown",
      "source": [
        "## Moduli"
      ],
      "metadata": {
        "id": "XQj2WQc9MSyR"
      }
    },
    {
      "cell_type": "code",
      "execution_count": 1,
      "metadata": {
        "id": "omuf8cyFCIdK"
      },
      "outputs": [],
      "source": [
        "import warnings\n",
        "warnings.filterwarnings('ignore')\n",
        "\n",
        "import sys\n",
        "\n",
        "import matplotlib.pyplot as plt\n",
        "import numpy as np\n",
        "import random\n",
        "from collections import deque\n",
        "from typing import Deque, Dict, List, Tuple\n",
        "\n",
        "import gym\n",
        "\n",
        "import torch\n",
        "import torch.nn as nn\n",
        "import torch.nn.functional as F\n",
        "import torch.optim as optim\n",
        "from torch.distributions import Normal\n",
        "\n",
        "from IPython.display import clear_output\n",
        "\n",
        "#Codice ispirato:\n",
        "# https://github.com/MrSyee/pg-is-all-you-need/blob/master/02.PPO.ipynb"
      ]
    },
    {
      "cell_type": "markdown",
      "metadata": {
        "id": "ccq68l2lCIdY"
      },
      "source": [
        " [Codice](https://github.com/openai/gym/blob/master/gym/envs/classic_control/pendulum.py) di Pendulum-v1, dal  repository di OpenAI."
      ]
    },
    {
      "cell_type": "markdown",
      "source": [
        "## Premesse tecniche"
      ],
      "metadata": {
        "id": "sVpmTicoA6BU"
      }
    },
    {
      "cell_type": "code",
      "source": [
        "# Come funziona il Clipping ?\n",
        "\n",
        "epsilon = 3.7\n",
        "epsilon = torch.tensor(epsilon)\n",
        "\n",
        "for ratio in [-10, -3, 0, 4.65 ,4.75, 10]:\n",
        "   ratio = torch.tensor(ratio)\n",
        "   clipped_surr_loss = ( torch.clamp(ratio, 1.0 - epsilon, 1.0 + epsilon) )\n",
        "   print(clipped_surr_loss)"
      ],
      "metadata": {
        "colab": {
          "base_uri": "https://localhost:8080/"
        },
        "id": "Z8-MkAMG-pwM",
        "outputId": "cfa11190-23e9-4ecd-be2a-be56f4736c58"
      },
      "execution_count": null,
      "outputs": [
        {
          "output_type": "stream",
          "name": "stdout",
          "text": [
            "tensor(-2.7000)\n",
            "tensor(-2.7000)\n",
            "tensor(0.)\n",
            "tensor(4.6500)\n",
            "tensor(4.7000)\n",
            "tensor(4.7000)\n"
          ]
        }
      ]
    },
    {
      "cell_type": "code",
      "source": [
        " # in GAE\n",
        " #  use of \"deque / appendleft()\"\n",
        "\n",
        "returns = deque()\n",
        "for i in range(1,5):\n",
        "  returns.appendleft(i)\n",
        "\n",
        "print(list(returns))"
      ],
      "metadata": {
        "colab": {
          "base_uri": "https://localhost:8080/"
        },
        "id": "PxHPnRYWAddX",
        "outputId": "84d7d52e-4a70-4d94-f0a1-ad406e3bd4e9"
      },
      "execution_count": null,
      "outputs": [
        {
          "output_type": "stream",
          "name": "stdout",
          "text": [
            "[4, 3, 2, 1]\n"
          ]
        }
      ]
    },
    {
      "cell_type": "code",
      "source": [
        "# mini-batch\n",
        "\n",
        "buffer_size = 100\n",
        "mini_batch_size = 7\n",
        "\n",
        "imb = np.random.choice(buffer_size, mini_batch_size)\n",
        "print(imb)\n",
        "print(\"\")\n",
        "\n",
        "values = torch.randn(buffer_size)\n",
        "print(values[imb])"
      ],
      "metadata": {
        "colab": {
          "base_uri": "https://localhost:8080/"
        },
        "id": "TW3WOTuWsHy-",
        "outputId": "aaa8ba33-c2b8-4678-97ff-04d0ae08ec37"
      },
      "execution_count": null,
      "outputs": [
        {
          "output_type": "stream",
          "name": "stdout",
          "text": [
            "[62  0 38 96  5 62  1]\n",
            "\n",
            "tensor([ 1.8233, -1.0158,  0.4469,  1.1398,  0.1003,  1.8233, -0.2942])\n"
          ]
        }
      ]
    },
    {
      "cell_type": "markdown",
      "metadata": {
        "id": "PQoj-wPQCIdN"
      },
      "source": [
        "## Network\n",
        "\n",
        "Questo codice definisce due modelli di rete neurale separati, uno per l'Actor, altro per il Critic.\n",
        "\n",
        "La rete Actor è responsabile della selezione del valore dell' azione dato in input uno stato. Esattamente produce in uscita la media (`mu`) e la deviazione standard logaritmica (`log_std`) della distribuzione (gaussiana) di probabilità dell'azione.\n",
        "\n",
        "La rete Critic ricevuto lo stato in input, restituisce uno scalare che rappresenta il valore della *value fuction* dello stato.\n",
        "\n",
        "Si ricordi:\n",
        "\n",
        "L'ambiente Pendulum ha solo una singola azione con un intervallo compreso tra -2 e 2. Per garantire che l'azione rientri in tale intervallo, l'Actor restituisce un valore medio  ottenuto da una moltiplicazione per 2 di tanh. Si ricorda che tanh normalizza l'output tra -1 e 1.\n",
        "\n",
        "Si noti infine che solo i pesi e i bias degli ultimi livelli vengono inizializzati con una distribuzione uniforme.\n",
        "\n"
      ]
    },
    {
      "cell_type": "code",
      "execution_count": 2,
      "metadata": {
        "id": "6Lrlnw7xCIdP",
        "colab": {
          "base_uri": "https://localhost:8080/"
        },
        "outputId": "b8b041ca-8b1d-4046-beba-2f72f44cbcaf"
      },
      "outputs": [
        {
          "output_type": "stream",
          "name": "stderr",
          "text": [
            "/usr/local/lib/python3.11/dist-packages/ipykernel/ipkernel.py:283: DeprecationWarning: `should_run_async` will not call `transform_cell` automatically in the future. Please pass the result to `transformed_cell` argument and any exception that happen during thetransform in `preprocessing_exc_tuple` in IPython 7.17 and above.\n",
            "  and should_run_async(code)\n"
          ]
        }
      ],
      "source": [
        "def init_layer_uniform(layer: nn.Linear, init_w: float = 3e-3) -> nn.Linear:\n",
        "    \"\"\"Init uniform parameters on the single layer.\"\"\"\n",
        "    layer.weight.data.uniform_(-init_w, init_w)\n",
        "    layer.bias.data.uniform_(-init_w, init_w)\n",
        "\n",
        "    return layer\n",
        "\n",
        "class Actor(nn.Module):\n",
        "    def __init__(\n",
        "        self,\n",
        "        in_dim: int,\n",
        "        out_dim: int,\n",
        "        log_std_min: int = -20,\n",
        "        log_std_max: int = 0,\n",
        "    ):\n",
        "        \"\"\"Initialize.\"\"\"\n",
        "        super(Actor, self).__init__()\n",
        "\n",
        "        self.log_std_min = log_std_min\n",
        "        self.log_std_max = log_std_max\n",
        "        self.hidden = nn.Linear(in_dim, 32)\n",
        "\n",
        "        self.mu_layer = nn.Linear(32, out_dim)\n",
        "        self.mu_layer = init_layer_uniform(self.mu_layer)\n",
        "\n",
        "        self.log_std_layer = nn.Linear(32, out_dim)\n",
        "        self.log_std_layer = init_layer_uniform(self.log_std_layer)\n",
        "\n",
        "    def forward(self, state: torch.Tensor) -> torch.Tensor:\n",
        "        \"\"\"Forward method implementation.\"\"\"\n",
        "        x = F.relu(self.hidden(state))\n",
        "\n",
        "        #torch.tanh activation -> values ​​between -1 and 1\n",
        "        mu = torch.tanh(self.mu_layer(x))* 2\n",
        "\n",
        "        log_std = torch.tanh(self.log_std_layer(x))\n",
        "\n",
        "        log_std = self.log_std_min + 0.5 * (self.log_std_max - self.log_std_min) * (log_std + 1)\n",
        "        # Rescale this the value [-1,1] of log_std to the range [log_std_min, log_std_max]\n",
        "        # why [-20, 0] ?\n",
        "        # Since neural networks can output unbounded values, we constrain log_std to be within [-20, 0]\n",
        "        # These values define the minimum and maximum possible standard deviation (std) for the action distribution.\n",
        "        # std = e^−20 ≈ 2.06×10^−9 --> This ensures that std never becomes too small\n",
        "        # std = e^0   = 1 --> This ensures that std never becomes too large. Note e^1.5 ≈ 4.5\n",
        "        # Answer :   Ensures that std never becomes exactly zero and avoids excessive randomness.\n",
        "\n",
        "        std = torch.exp(log_std)\n",
        "\n",
        "        dist = Normal(mu, std)\n",
        "        action = dist.sample()\n",
        "\n",
        "        return action, dist\n",
        "\n",
        "\n",
        "class Critic(nn.Module):\n",
        "    def __init__(self, in_dim: int):\n",
        "        \"\"\"Initialize.\"\"\"\n",
        "        super(Critic, self).__init__()\n",
        "\n",
        "        self.hidden = nn.Linear(in_dim, 64)\n",
        "        self.out = nn.Linear(64, 1)\n",
        "        self.out = init_layer_uniform(self.out)\n",
        "\n",
        "    def forward(self, state: torch.Tensor) -> torch.Tensor:\n",
        "        \"\"\"Forward method implementation.\"\"\"\n",
        "        x = F.relu(self.hidden(state))\n",
        "        value = self.out(x)\n",
        "\n",
        "        return value"
      ]
    },
    {
      "cell_type": "markdown",
      "metadata": {
        "id": "1GAL8L3eCIdQ"
      },
      "source": [
        "## GAE\n",
        "\n",
        "Per la stima della funzione Advantage, è usato il metodo del Generalized Advantage Estimation (GAE).\n",
        "\n",
        "Questo approccio mira a ridurre la varianza dello stimatore, mantenendo al contempo il bias introdotto il più contenuto possibile.\n",
        "\n",
        "Sia\n",
        "\n",
        "$δ_t = r_t + γ  V^π (s_{t+1}) - V^π (s_{t})$\n",
        "\n",
        "$A^{GAE, \\; \\pi} _t  = \\sum _{l=0} ^∞ {(γ \\; λ)^l \\; δ_{t+l} }$\n",
        "\n",
        "con $\\lambda \\in (0, 1)$ e  $\\gamma \\in [0, 1)$\n",
        "\n",
        "Maggiori info: [Schulman J. et al (2015). High-dimensional continuous control using generalized advantage estimation.](https://arxiv.org/pdf/1506.02438)\n",
        "\n",
        "Si ricordi che, per l'apprendimento della value function (output del Critic), l’approccio più semplice consiste nel risolvere un problema di regressione, trovando i valori dei parametri $\\mathbf{w}$ che minizzano l'espressione :\n",
        "\n",
        "$ \\sum_{t=1}^T \\left\\| V^{\\pi} _{target}(s_{t})  - \\hat{V}^\\pi(s_{t};\\mathbf{w})  \\right\\|^2$\n",
        "\n",
        "nello specifico:\n",
        "\n",
        "GAE optimization:\n",
        "\n",
        " $V^{\\pi} _{target} (s_t) ≈ A^{GAE \\; \\pi} _t (s_{t};\\mathbf{w})  + \\hat{V^\\pi} (s_{t};\\mathbf{w})$"
      ]
    },
    {
      "cell_type": "code",
      "execution_count": 3,
      "metadata": {
        "id": "KlVLru_SCIdQ"
      },
      "outputs": [],
      "source": [
        "def compute_gae(\n",
        "    next_value: float,\n",
        "    rewards: list,\n",
        "    masks: list,\n",
        "    values: list,\n",
        "    gamma: float,\n",
        "    tau: float\n",
        ") -> List:\n",
        "    \"\"\"Compute gae.\"\"\"\n",
        "    values = values + [next_value]\n",
        "    gae = 0\n",
        "    returns: Deque[float] = deque()\n",
        "\n",
        "    for step in reversed(range(len(rewards))):\n",
        "        delta = (rewards[step] + gamma * values[step + 1] * masks[step] - values[step])\n",
        "        gae = delta + gamma * tau * masks[step] * gae\n",
        "        returns.appendleft(gae + values[step])\n",
        "        # returns.appendleft(...) : returns list in the correct order while iterating in reverse\n",
        "        # (gae + values[step]) : we need the target values for training the critic.\n",
        "\n",
        "    return list(returns)"
      ]
    },
    {
      "cell_type": "code",
      "source": [
        "# Test gae\n",
        "next_value = 0.0\n",
        "rewards = [1.0, 0.5, 1.0, 1.0, 0.02]\n",
        "masks =   [1, 1, 1, 1, 1]\n",
        "values =  [0.2, 1, 5, 1, 0.4]\n",
        "gamma = 0.99\n",
        "tau = 0.95\n",
        "\n",
        "returns = compute_gae(next_value, rewards, masks, values, gamma, tau)\n",
        "print(returns)\n"
      ],
      "metadata": {
        "id": "nYBo-BQrGAub",
        "colab": {
          "base_uri": "https://localhost:8080/"
        },
        "outputId": "f2423c21-7461-4e0a-9d7d-1ab8dd57e3e5"
      },
      "execution_count": null,
      "outputs": [
        {
          "output_type": "stream",
          "name": "stdout",
          "text": [
            "[3.5448788966588767, 2.6532470990525003, 2.026312705, 1.0386099999999998, 0.020000000000000018]\n"
          ]
        }
      ]
    },
    {
      "cell_type": "markdown",
      "metadata": {
        "id": "MTqnZj3VCIdR"
      },
      "source": [
        "## PPO Agent\n",
        "Summary PPOAgent class.\n",
        "\n",
        "| Method           | Note                                                 |\n",
        "|---               |---                                                   |\n",
        "|select_action     | select an action from the input state.               |\n",
        "|step              | take an action and return the response of the env.   |\n",
        "|update_model      | update the model by gradient descent.                |\n",
        "|train             | train the agent during num_frames.                   |\n",
        "|evaluate_agent_performance              | test the agent.                          |\n",
        "|_plot             | plot the training progresses.                        |\n"
      ]
    },
    {
      "cell_type": "markdown",
      "source": [
        "#### Mini-batch generator\n",
        "\n",
        "L' algoritmo aggiorna il modello più volte (esattamente `epoch`volte), utilizzando strutture di memoria basate su liste (`List[torch.Tensor]`), la cui dimensione è determinata dal parametro `rollout_len`.\n",
        "\n",
        "In pratica, per l'update,  la funzione `ppo_iter` estrae campioni (*mini-batch experience data*) da queste liste, fungendo da generatore di dati.\n",
        "\n",
        "\n",
        "\n"
      ],
      "metadata": {
        "id": "xREqZtpkUb3_"
      }
    },
    {
      "cell_type": "code",
      "execution_count": 25,
      "metadata": {
        "id": "7h73qp21CIdS"
      },
      "outputs": [],
      "source": [
        "def ppo_iter(\n",
        "    epoch: int,\n",
        "    mini_batch_size: int,\n",
        "    states: torch.Tensor,\n",
        "    actions: torch.Tensor,\n",
        "    values: torch.Tensor,\n",
        "    log_probs: torch.Tensor,\n",
        "    returns: torch.Tensor,\n",
        "    advantages: torch.Tensor,\n",
        "):\n",
        "    \"\"\"Yield mini-batches.\"\"\"\n",
        "    buffer_size = states.size(0) # = rollout_len\n",
        "    for _ in range(epoch):\n",
        "            rand_ids = np.random.choice(buffer_size, mini_batch_size)\n",
        "            yield states[rand_ids, :], actions[rand_ids], values[rand_ids], log_probs[rand_ids], returns[rand_ids], advantages[rand_ids]"
      ]
    },
    {
      "cell_type": "code",
      "source": [
        "#The dataset contains buffer_size samples.\n",
        "# We divide it into smaller groups of mini_batch_size samples each.\n",
        "#  The mini_batch produced, usally will be different from each other, due to:\n",
        "#    rand_ids = np.random.choice(buffer_size, mini_batch_size)\n",
        "\n",
        "# Define input\n",
        "buffer_size = 6\n",
        "state_dim = 4  # Assume states have 4 features\n",
        "action_dim = 3  # Assume actions have 3 possible choices\n",
        "\n",
        "# Create random tensors\n",
        "states = torch.randn(buffer_size, state_dim)\n",
        "actions = torch.randint(0, action_dim, (buffer_size,))\n",
        "values = torch.randn(buffer_size)\n",
        "log_probs = torch.randn(buffer_size)\n",
        "returns = torch.randn(buffer_size)\n",
        "advantages = torch.randn(buffer_size)\n",
        "# Print the generated tensors\n",
        "print(\"States:\\n\", states)\n",
        "print(\"\\nActions:\\n\", actions)\n",
        "print(\"\\nValues:\\n\", values)\n",
        "print(\"\\nLog Probs:\\n\", log_probs)\n",
        "print(\"\\nReturns:\\n\", returns)\n",
        "print(\"\\nAdvantages:\\n\", advantages)\n",
        "print(\"\\n\")\n",
        "\n",
        "# Hyperparameters\n",
        "epochs = 2           # Number of times to loop over data\n",
        "mini_batch_size = 3  # Number of elements in mini-batch\n",
        "\n",
        "#print(ppo_iter(epochs, mini_batch_size, states, actions, values, log_probs, returns, advantages)) # <generator object ppo_iter at 0x7eda404b7df0>\n",
        "\n",
        "# Testing\n",
        "c = 0\n",
        "for mini_batch in ppo_iter(epochs, mini_batch_size, states, actions, values, log_probs, returns, advantages):\n",
        "    c+=1\n",
        "    print(\"Mini-batch:\", c)\n",
        "    for data in mini_batch:\n",
        "        print(data)\n",
        "    print(\"-\" * 40,\"\\n\")\n"
      ],
      "metadata": {
        "colab": {
          "base_uri": "https://localhost:8080/"
        },
        "id": "fui7V_BwVWUo",
        "outputId": "57301e8b-d7fc-4840-b900-13722b4fcab9"
      },
      "execution_count": null,
      "outputs": [
        {
          "output_type": "stream",
          "name": "stdout",
          "text": [
            "States:\n",
            " tensor([[ 1.0789,  0.2666, -0.6753,  0.3825],\n",
            "        [ 0.9448, -0.0754,  0.6641, -0.1140],\n",
            "        [ 0.0560,  0.7851,  1.9089,  0.1962],\n",
            "        [-0.4523,  0.1661, -0.1562,  0.8245],\n",
            "        [-1.5028, -0.7979, -0.0726, -0.7814],\n",
            "        [ 0.1081,  0.0803, -0.3265, -0.1117]])\n",
            "\n",
            "Actions:\n",
            " tensor([0, 2, 0, 2, 0, 2])\n",
            "\n",
            "Values:\n",
            " tensor([-0.0441,  1.2948,  0.1950, -0.3552,  2.0536,  0.2982])\n",
            "\n",
            "Log Probs:\n",
            " tensor([ 0.5328, -0.2248,  0.5454, -0.4114, -0.5961,  0.9094])\n",
            "\n",
            "Returns:\n",
            " tensor([ 2.1009, -1.5110,  0.1362,  1.4254,  0.6449, -1.2025])\n",
            "\n",
            "Advantages:\n",
            " tensor([-1.1808,  1.9435,  0.7037,  1.3710,  0.8751, -0.1698])\n",
            "\n",
            "\n",
            "Mini-batch: 1\n",
            "tensor([[ 0.1081,  0.0803, -0.3265, -0.1117],\n",
            "        [ 0.0560,  0.7851,  1.9089,  0.1962],\n",
            "        [ 0.9448, -0.0754,  0.6641, -0.1140]])\n",
            "tensor([2, 0, 2])\n",
            "tensor([0.2982, 0.1950, 1.2948])\n",
            "tensor([ 0.9094,  0.5454, -0.2248])\n",
            "tensor([-1.2025,  0.1362, -1.5110])\n",
            "tensor([-0.1698,  0.7037,  1.9435])\n",
            "---------------------------------------- \n",
            "\n",
            "Mini-batch: 2\n",
            "tensor([[ 1.0789,  0.2666, -0.6753,  0.3825],\n",
            "        [ 1.0789,  0.2666, -0.6753,  0.3825],\n",
            "        [ 0.9448, -0.0754,  0.6641, -0.1140]])\n",
            "tensor([0, 0, 2])\n",
            "tensor([-0.0441, -0.0441,  1.2948])\n",
            "tensor([ 0.5328,  0.5328, -0.2248])\n",
            "tensor([ 2.1009,  2.1009, -1.5110])\n",
            "tensor([-1.1808, -1.1808,  1.9435])\n",
            "---------------------------------------- \n",
            "\n"
          ]
        }
      ]
    },
    {
      "cell_type": "markdown",
      "source": [
        "### PPOAgent class"
      ],
      "metadata": {
        "id": "1Rih_KEnVTav"
      }
    },
    {
      "cell_type": "code",
      "execution_count": 39,
      "metadata": {
        "id": "CigGVegvCIdT"
      },
      "outputs": [],
      "source": [
        "class PPOAgent:\n",
        "    \"\"\"PPO Agent.\n",
        "    Attributes:\n",
        "        env (gym.Env): Gym env for training\n",
        "        gamma (float): discount factor\n",
        "        tau (float): lambda of generalized advantage estimation (GAE)\n",
        "        batch_size (int): Number of elements in mini-batch for update\n",
        "        epsilon (float): amount of clipping surrogate objective\n",
        "        epoch (int): the number of update\n",
        "        rollout_len (int): the number of rollout\n",
        "        entropy_weight (float): rate of weighting entropy into the loss function\n",
        "        actor (nn.Module): target actor model to select actions\n",
        "        critic (nn.Module): critic model to predict state values\n",
        "        transition (list): temporory storage for the recent transition\n",
        "        device (torch.device): cpu / gpu\n",
        "        total_step (int): total step numbers\n",
        "        is_test (bool): flag to show the current mode (train / test)\n",
        "    \"\"\"\n",
        "\n",
        "    def __init__(\n",
        "        self,\n",
        "        env: gym.Env,\n",
        "        batch_size: int,\n",
        "        gamma: float,\n",
        "        tau: float,\n",
        "        epsilon: float,\n",
        "        epoch: int,\n",
        "        rollout_len: int,\n",
        "        entropy_weight: float,  # Trailing commas makes it easy to add more arguments later, if necessary ...\n",
        "    ):\n",
        "        \"\"\"Initialize.\"\"\"\n",
        "        self.env = env\n",
        "        self.gamma = gamma\n",
        "        self.tau = tau\n",
        "        self.b_size = batch_size\n",
        "        self.epsilon = epsilon\n",
        "        self.epoch = epoch\n",
        "        self.rollout_len = rollout_len\n",
        "        self.entropy_weight = entropy_weight\n",
        "\n",
        "        # device: cpu / gpu\n",
        "        self.device = torch.device(\n",
        "            \"cuda\" if torch.cuda.is_available() else \"cpu\"\n",
        "        )\n",
        "        print(self.device)\n",
        "\n",
        "        # setting the networks\n",
        "        obs_dim = env.observation_space.shape[0]\n",
        "        action_dim = env.action_space.shape[0]\n",
        "        self.actor = Actor(obs_dim, action_dim).to(self.device)\n",
        "        self.critic = Critic(obs_dim).to(self.device)\n",
        "\n",
        "        # optimizer\n",
        "        self.actor_optimizer = optim.Adam(self.actor.parameters(), lr=0.001)\n",
        "        self.critic_optimizer = optim.Adam(self.critic.parameters(), lr=0.005)\n",
        "\n",
        "        # set memory for the training -> see: ppo_iter generator\n",
        "        self.states: List[torch.Tensor] = []\n",
        "        self.actions: List[torch.Tensor] = []\n",
        "        self.rewards: List[torch.Tensor] = []\n",
        "        self.values: List[torch.Tensor] = []\n",
        "        self.masks: List[torch.Tensor] = []\n",
        "        self.log_probs: List[torch.Tensor] = []\n",
        "\n",
        "        # total steps count\n",
        "        self.total_step = 0\n",
        "\n",
        "        # mode: train / test\n",
        "        self.is_test = False\n",
        "\n",
        "    def select_action(self, state: np.ndarray) -> np.ndarray:\n",
        "        \"\"\"Select an action from the input state.\"\"\"\n",
        "        state = torch.FloatTensor(state).to(self.device)\n",
        "        action, dist = self.actor(state)\n",
        "        selected_action = dist.mean if self.is_test else action\n",
        "\n",
        "        if not self.is_test:\n",
        "            value = self.critic(state)\n",
        "            self.states.append(state)                # All these \".append()\"\" will serve as dataset for mini-batch experience data\n",
        "            self.actions.append(selected_action)\n",
        "            self.values.append(value)\n",
        "            self.log_probs.append(dist.log_prob(selected_action))\n",
        "\n",
        "        # \"selected_action.cpu().detach().numpy()[0]\" somthieng like that : [0.02601556]\n",
        "        return selected_action.cpu().detach().numpy()[0]\n",
        "\n",
        "    def step(self, action: np.ndarray) -> Tuple[np.ndarray, np.float64, bool]:\n",
        "        \"\"\"Take an action and return the response of the env.\"\"\"\n",
        "\n",
        "        if self.is_test:\n",
        "            next_state, reward, done, _ = self.env.step(action.reshape(1))\n",
        "            return next_state, reward, done\n",
        "\n",
        "        next_state, reward, done, _ = self.env.step(action)\n",
        "        next_state = np.reshape(next_state, (1, -1)).astype(np.float64)\n",
        "        reward = np.reshape(reward, (1, -1)).astype(np.float64)\n",
        "        done = np.reshape(done, (1, -1))\n",
        "\n",
        "        if not self.is_test:\n",
        "            self.rewards.append(torch.FloatTensor(reward).to(self.device))\n",
        "            self.masks.append(torch.FloatTensor(1 - done).to(self.device))\n",
        "\n",
        "        return next_state, reward, done\n",
        "\n",
        "    def update_model(self, next_state: np.ndarray) -> Tuple[torch.Tensor, torch.Tensor, torch.Tensor]:\n",
        "        \"\"\"Update the model by gradient descent.\"\"\"\n",
        "        device = self.device  # for shortening the following lines\n",
        "\n",
        "        next_state = torch.FloatTensor(next_state).to(device)\n",
        "        next_value = self.critic(next_state)\n",
        "\n",
        "        returns = compute_gae(\n",
        "            next_value,\n",
        "            self.rewards,\n",
        "            self.masks,\n",
        "            self.values,\n",
        "            self.gamma,\n",
        "            self.tau,\n",
        "        )\n",
        "\n",
        "        # Processing memory for training\n",
        "        states = torch.cat(self.states).view(-1, 3)\n",
        "        actions = torch.cat(self.actions)\n",
        "        returns = torch.cat(returns).detach()\n",
        "        values = torch.cat(self.values).detach()\n",
        "        log_probs = torch.cat(self.log_probs).detach()\n",
        "        advantages = returns - values\n",
        "\n",
        "        actor_losses, critic_losses = [], []\n",
        "\n",
        "        for state, action, old_value, old_log_prob, return_, adv in ppo_iter(\n",
        "            epoch=self.epoch,\n",
        "            mini_batch_size=self.b_size,\n",
        "            states=states,\n",
        "            actions=actions,\n",
        "            values=values,\n",
        "            log_probs=log_probs,\n",
        "            returns=returns,\n",
        "            advantages=advantages, # Trailing commas in function calls does not affect execution and ignored by the interpreter.\n",
        "        ):\n",
        "            # calculate ratios\n",
        "            _, dist = self.actor(state)\n",
        "            #Note\n",
        "            # state torch.Size([64, 3])\n",
        "            # dist torch.Size([64, 1])\n",
        "            # action torch.Size([64, 1])\n",
        "            # old_log_prob torch.Size([64, 1])\n",
        "            log_prob = dist.log_prob(action)\n",
        "            ratio = (log_prob - old_log_prob).exp() # Quotient of powers property: a^m / a^n = a^(m-n)\n",
        "            # Note: (log_prob).exp() is a way to convert back from log probabilities to regular probabilities\n",
        "\n",
        "            # actor_loss\n",
        "            surr_loss = ratio * adv\n",
        "            #Clipping\n",
        "            clipped_surr_loss = (torch.clamp(ratio, 1.0 - self.epsilon, 1.0 + self.epsilon) * adv)\n",
        "\n",
        "            # Entropy regularization\n",
        "            entropy = dist.entropy().mean()\n",
        "\n",
        "            actor_loss = ( -torch.min(surr_loss, clipped_surr_loss).mean() - entropy * self.entropy_weight)\n",
        "            # \"( -torch.min(surr_loss, clipped_surr_loss)\" is somthing like this : torch.Size([64, 1])  ->  tensor([[17.0310],...[17.3662]])\n",
        "            # \"( -torch.min(surr_loss, clipped_surr_loss).mean()\" :  tensor(13.0414)\n",
        "\n",
        "            # critic_loss\n",
        "            value = self.critic(state)\n",
        "            #Alternative: clipped_value = old_value + (value - old_value).clamp(-0.5, 0.5)\n",
        "            critic_loss = (return_ - value).pow(2).mean()\n",
        "            # \"(return_ - value).pow(2) \" is somthing like this : torch.Size([64, 1])  ->  tensor([[1.4190], ..., [0.2553]])\n",
        "            # \"(return_ - value).pow(2).mean()\"  :  tensor(1.1228)\n",
        "\n",
        "            # train critic\n",
        "            self.critic_optimizer.zero_grad()\n",
        "            critic_loss.backward(retain_graph=True)\n",
        "            self.critic_optimizer.step()\n",
        "\n",
        "            # train actor\n",
        "            self.actor_optimizer.zero_grad()\n",
        "            actor_loss.backward()\n",
        "            self.actor_optimizer.step()\n",
        "\n",
        "            actor_losses.append(actor_loss.item())\n",
        "            critic_losses.append(critic_loss.item())\n",
        "\n",
        "        self.states, self.actions, self.rewards = [], [], []\n",
        "        self.values, self.masks, self.log_probs = [], [], []\n",
        "\n",
        "        actor_loss = sum(actor_losses) / len(actor_losses)\n",
        "        critic_loss = sum(critic_losses) / len(critic_losses)\n",
        "\n",
        "        return actor_loss, critic_loss\n",
        "\n",
        "    def train(self, num_frames: int, plotting_interval: int = 5_000):\n",
        "        \"\"\"Train the agent.\"\"\"\n",
        "        self.is_test = False\n",
        "\n",
        "        state = self.env.reset()\n",
        "        state = np.expand_dims(state, axis=0)\n",
        "\n",
        "        actor_losses, critic_losses = [], []   # for plotting\n",
        "        scores = []                            # for plotting\n",
        "        score = 0\n",
        "\n",
        "        while self.total_step <= num_frames + 1:\n",
        "            for _ in range(self.rollout_len):\n",
        "                self.total_step += 1\n",
        "                # The data that will then be used by the ppo_iter generator\n",
        "                #  are stored thanks to the following two instructions\n",
        "                action = self.select_action(state)\n",
        "                next_state, reward, done = self.step(action)\n",
        "\n",
        "                state = next_state\n",
        "                score += reward[0][0]\n",
        "\n",
        "                # if episode ends\n",
        "                if done[0][0]:\n",
        "                    state = env.reset()\n",
        "                    state = np.expand_dims(state, axis=0)\n",
        "                    scores.append(score)\n",
        "                    score = 0\n",
        "\n",
        "                # Plot\n",
        "                if self.total_step % plotting_interval == 0:\n",
        "                    self._plot(self.total_step, scores, actor_losses, critic_losses)\n",
        "                    self.entropy_weight = self.entropy_weight * 0.5   # decay of entropy_weight\n",
        "\n",
        "\n",
        "            #Update the model\n",
        "            actor_loss, critic_loss = self.update_model(next_state)\n",
        "            actor_losses.append(actor_loss)\n",
        "            critic_losses.append(critic_loss)\n",
        "\n",
        "        # termination\n",
        "        self.env.close()\n",
        "\n",
        "    def evaluate_agent_performance(self,num_episodes=1_000, baseline_reward=-150):\n",
        "\n",
        "        #Baseline_reward:\n",
        "        #https://github.com/openai/gym/wiki/Leaderboard\n",
        "\n",
        "        better_scores_count = 0\n",
        "\n",
        "        self.is_test = True\n",
        "        state = self.env.reset(seed=99) # for the experimentation a \"seed\" different from the training\n",
        "\n",
        "        # Run episodes\n",
        "        for k in range(num_episodes):\n",
        "\n",
        "          done = False\n",
        "          score = 0\n",
        "\n",
        "          while not done:\n",
        "            action = self.select_action(state)\n",
        "            next_state, reward, done = self.step(action)\n",
        "\n",
        "            state = next_state\n",
        "            score += reward\n",
        "\n",
        "          state = env.reset()\n",
        "          if score > baseline_reward:\n",
        "             better_scores_count += 1\n",
        "\n",
        "        # Compute the percentage\n",
        "        success_percentage = (better_scores_count / num_episodes) * 100\n",
        "\n",
        "        print(\"A better score than the\", baseline_reward, \" was taken in \", round(success_percentage,2), \"% of times\" )\n",
        "\n",
        "        self.env.close()\n",
        "        return None\n",
        "\n",
        "    def _plot(\n",
        "        self,\n",
        "        frame_idx: int,\n",
        "        scores: List[float],\n",
        "        actor_losses: List[float],\n",
        "        critic_losses: List[float],\n",
        "    ):\n",
        "        \"\"\"Plot the training progresses.\"\"\"\n",
        "\n",
        "        def subplot(loc: int, title: str, values: List[float]):\n",
        "            plt.subplot(loc)\n",
        "            plt.title(title)\n",
        "            plt.plot(values)\n",
        "\n",
        "        subplot_params = [\n",
        "            (131, f\"frame {frame_idx}. score: {np.mean(scores[-10:])}\", scores),\n",
        "            (132, \"actor_loss\", actor_losses),\n",
        "            (133, \"critic_loss\", critic_losses),\n",
        "        ]\n",
        "\n",
        "        clear_output(True)\n",
        "        plt.figure(figsize=(30, 5))\n",
        "        for loc, title, values in subplot_params:\n",
        "            subplot(loc, title, values)\n",
        "        plt.show()"
      ]
    },
    {
      "cell_type": "markdown",
      "metadata": {
        "id": "tO5y8t8vCIdb"
      },
      "source": [
        "## Initialize"
      ]
    },
    {
      "cell_type": "code",
      "execution_count": 49,
      "metadata": {
        "id": "BeOmsOdyCIdc",
        "outputId": "d2c6533e-af2e-443b-a882-a1844204e82f",
        "colab": {
          "base_uri": "https://localhost:8080/"
        }
      },
      "outputs": [
        {
          "output_type": "stream",
          "name": "stdout",
          "text": [
            "cuda\n"
          ]
        }
      ],
      "source": [
        "# environment\n",
        "env = gym.make(\"Pendulum-v1\", render_mode=\"rgb_array\")\n",
        "\n",
        "# Set random seed\n",
        "def seed_torch(seed):\n",
        "    torch.manual_seed(seed)\n",
        "    if torch.backends.cudnn.enabled:\n",
        "        torch.backends.cudnn.benchmark = False\n",
        "        torch.backends.cudnn.deterministic = True\n",
        "\n",
        "seed = 777\n",
        "random.seed(seed)\n",
        "np.random.seed(seed)\n",
        "seed_torch(seed)\n",
        "\n",
        "# parameters\n",
        "num_frames = 100_000\n",
        "\n",
        "agent = PPOAgent(\n",
        "    env,\n",
        "    gamma = 0.9,\n",
        "    tau = 0.8,\n",
        "    batch_size = 64,          # Number of elements in mini-batch for update\n",
        "    epsilon = 0.3,\n",
        "    epoch = int((200*8)/2),   # Number of update per rollout-dataset\n",
        "    rollout_len = 200*8,\n",
        "    entropy_weight = 0.8      # this value will decay during the training\n",
        ")"
      ]
    },
    {
      "cell_type": "markdown",
      "metadata": {
        "id": "jdoPtPOJCIdd"
      },
      "source": [
        "## Train"
      ]
    },
    {
      "cell_type": "code",
      "source": [
        "agent.train(num_frames)  # time : 13 minute"
      ],
      "metadata": {
        "colab": {
          "base_uri": "https://localhost:8080/",
          "height": 196
        },
        "id": "xRkoRGidt60h",
        "outputId": "f0cc14a0-486b-4002-cf43-6d24bd0757ee"
      },
      "execution_count": 50,
      "outputs": [
        {
          "output_type": "display_data",
          "data": {
            "text/plain": [
              "<Figure size 3000x500 with 3 Axes>"
            ],
            "image/png": "[encoded data removed]"
          },
          "metadata": {}
        }
      ]
    },
    {
      "cell_type": "code",
      "source": [
        "agent.entropy_weight"
      ],
      "metadata": {
        "colab": {
          "base_uri": "https://localhost:8080/"
        },
        "id": "Mas68noEuDz2",
        "outputId": "7b9bdded-4291-4c6f-8edc-179283d15321"
      },
      "execution_count": 51,
      "outputs": [
        {
          "output_type": "execute_result",
          "data": {
            "text/plain": [
              "7.62939453125e-07"
            ]
          },
          "metadata": {},
          "execution_count": 51
        }
      ]
    },
    {
      "cell_type": "markdown",
      "source": [
        "## Test"
      ],
      "metadata": {
        "id": "uhvEkUo38dFx"
      }
    },
    {
      "cell_type": "code",
      "source": [
        "agent.evaluate_agent_performance(num_episodes=1_000,baseline_reward=-150)"
      ],
      "metadata": {
        "colab": {
          "base_uri": "https://localhost:8080/"
        },
        "id": "FJbp3Hw8wUfg",
        "outputId": "b42ee6ee-6b60-42f6-f722-17f683e3334b"
      },
      "execution_count": 52,
      "outputs": [
        {
          "output_type": "stream",
          "name": "stdout",
          "text": [
            "A better score than the -150  was taken in  61.3 % of times\n"
          ]
        }
      ]
    }
  ],
  "metadata": {
    "kernelspec": {
      "display_name": "Python 3",
      "name": "python3"
    },
    "language_info": {
      "name": "python"
    },
    "colab": {
      "provenance": [],
      "collapsed_sections": [
        "fIkEW1THDa8T",
        "WmkayDBmIrgE",
        "XQj2WQc9MSyR",
        "sVpmTicoA6BU",
        "PQoj-wPQCIdN",
        "1GAL8L3eCIdQ"
      ],
      "gpuType": "T4"
    },
    "accelerator": "GPU"
  },
  "nbformat": 4,
  "nbformat_minor": 0
}