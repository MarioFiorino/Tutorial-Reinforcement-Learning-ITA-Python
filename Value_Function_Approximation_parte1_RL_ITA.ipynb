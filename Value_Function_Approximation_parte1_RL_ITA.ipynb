{
  "nbformat": 4,
  "nbformat_minor": 0,
  "metadata": {
    "colab": {
      "provenance": [],
      "collapsed_sections": [
        "FzK7LtcPH9Gm",
        "_5Ub0OAgh0z0",
        "KZhKoGr3fYqq"
      ]
    },
    "kernelspec": {
      "name": "python3",
      "display_name": "Python 3"
    },
    "language_info": {
      "name": "python"
    }
  },
  "cells": [
    {
      "cell_type": "markdown",
      "source": [
        "#Value Function Approximation\n",
        "\n",
        "Mario Fiorino"
      ],
      "metadata": {
        "id": "662MfPR9lR3q"
      }
    },
    {
      "cell_type": "markdown",
      "source": [
        "##Introduzione\n",
        "\n",
        "Problema:\n",
        "\n",
        "Come possiamo estendere i metodi RL tabulari (look-up table), che si basano su una rappresentazione discreta e completa dello spazio di stato, a problemi con spazi di stato arbitrariamente grandi; ad esempio come gestire giochi come Go, che hanno $10^{170}$ stati?\n",
        "\n",
        "I requisiti di memoria per archiviare una tabelle di tali dimensioni sembrano irrealizzabili; inoltre, visitare adeguatamente ciascuna coppia stato-azione richiede un tempo enorme.\n",
        "\n",
        "\n",
        "Una risposta:\n",
        "\n",
        "Una chiave per superare questo limite è combinare l'RL con tecniche di approssimazione di funzioni (in pratica : si utilizza una funzione che approssima il valore di ogni stato. Questa funzione può essere appresa da dati di esempio, utilizzando tecniche di apprendimento supervisionato).\n",
        "\n",
        "\n",
        "Obiettivo del notebook:\n",
        "\n",
        "Sostituire le rappresentazioni tabulari della funzione valore (value-fuction) utilizzando approssimatori di funzioni, come le reti neurali.\n",
        "\n",
        "$\\;$\n",
        "\n",
        "Note:\n",
        "\n",
        "1.\n",
        "\n",
        "Esistono diversi tipi di approssimatori di funzioni che possono essere utilizzati nel RL, tra cui: la combinazioni lineari di features,le Neural network, i Decision tree, il Nearest neighbour, le Basi di Fourier/wavelet (Per maggiori info vedi Sutton & Barto, 2018, PDF: 222-257 ).\n",
        "\n",
        "\n",
        "I metodi più comuni e promettenti sono quelli che utilizzano l’approssimazione di funzioni parametrizzate, in cui la politica è parametrizzata da un vettore dei pesi $\\vec{w}$.\n",
        "Tra l'altro, questi metodi permettono di rappresentare la funzione valore in modo scalabile. Tuttavia, è importante notare che introducono un certo grado di incertezza (dobbiamo accontentarci di una soluzione approssimativa)\n",
        "\n",
        "\n",
        "\n",
        "2.\n",
        "\n",
        "L'utilizzo di tecniche di approssimazione di funzioni all'interno del RL permette di estenderne l'applicazione a problemi con informazioni incomplete sullo stato del sistema (problemi parzialmente osservabili).\n",
        "\n",
        "$\\;$\n",
        "\n",
        "Ref\n",
        "\n",
        "Reinforcement Learning: An Introduction -\n",
        "Richard S. Sutton and Andrew G. Barto, Second Edition - MIT Press, Cambridge, 2018.\n",
        "\n",
        "Corso di David Silver:\n",
        "https://www.davidsilver.uk/wp-content/uploads/2020/03/FA.pdf"
      ],
      "metadata": {
        "id": "5JIPUjq189Fn"
      }
    },
    {
      "cell_type": "markdown",
      "source": [
        "##On-policy Prediction - Stochastic-gradient methods\n",
        "\n",
        "Per individuare i valori ottimali del \"weights vector\" $\\vec{w}$ , ci si affida principalmente a diverse varianti dell' algoritmo: Stochastic gradient descent (SGD).\n",
        "\n",
        "$\\;$\n",
        "\n",
        "Componenti essenziali:\n",
        "\n",
        "\"Weights vector\", indicatco con $\\vec{w}$ = $(w_1, w_2, ... w_d)^{\\intercal} $ ; in pratica è un vettore colonna che contiene il valore dei pesi. Nota, affinché uso di queste metodologie abbiano un senso, le dimensioni $d$ sono considerevolmente inferiori rispetto all'intera dimensione dello spazio degli stati.\n",
        "\n",
        "$v̂(s,\\vec{w})$ è \"approximate value function\", in funzione degli stati e dei pesi, ed è differenziabile $\\vec{w}$ rispetto a in tutti gli stati\n",
        "\n",
        "$v_\\pi(s)$ è il \"true value function\", il nostro target. Di fatto sconosciuto\n",
        "\n",
        "$\\;$\n",
        "\n",
        "Idea di base dei metodi SGD:\n",
        "\n",
        "Aggiornare i pesi, dopo ogni esempio, per ridurrebbe l’errore:\n",
        "\n",
        "$w_{t+1} \\doteq \\vec{w_t} + α [v_\\pi(s_t) - v̂(s_t,\\vec{w_t}) ] \\nabla_\\vec{w} v̂(s_t,\\vec{w_t}) $\n",
        "\n",
        "dove:\n",
        "\n",
        "Learning rate:  $ α > 0 $\n",
        "\n",
        "$ \\nabla_\\vec{w} v̂(s_t,\\vec{w_t}) $ è il vettore gradiente rispetto $\\vec{w}$. In pratica un vettore colonna delle derivate parziali rispetto alle componenti del vettore $\\vec{w}$ : $( \\frac{\\partial v̂(s_t,\\vec{w_t}) }{\\partial w_1},\\frac{\\partial v̂(s_t,\\vec{w_t}) }{\\partial w_2} ,...,\\frac{\\partial v̂(s_t,\\vec{w_t}) }{\\partial w_d})^\\intercal $\n",
        "\n",
        "\n",
        "$\\;$\n",
        "\n",
        "Convergenza:\n",
        "\n",
        "Nel caso in cui $\\alpha$ diminusce nel tempo in modo da rispettare le condizioni di \"standard stochastic approximation\" (viste nei notebbok precedenti e descritte nel testo Sutton & Barto, 2018,  PDF 55 - (2.7) ), allora è garantito che il metodo SGD converga ad un ottimo locale.\n",
        "\n",
        "\n",
        "\n",
        "\n",
        "$\\;$\n",
        "\n",
        "Caso concreto:\n",
        "\n",
        "In pratica non possiamo eseguire l'aggiornamento esatto dei pesi visto sopra perché $v_\\pi(s)$ è in genere una idealizzazione (se la conoscenza di tale funzione fosse direttamente accessibile, le tecniche di apprendimento non sarebbero necessarie). Però possiamo usare una qualche approssimazione di questo target, ottenuta dai dati a disposizione: indichiamo tale approssimazione con $U_t$.\n",
        "\n",
        "Update rule:\n",
        "\n",
        "$w_{t+1} \\doteq \\vec{w_t} + α [U_t - v̂(s_t,\\vec{w_t}) ] \\nabla_\\vec{w} v̂(s_t,\\vec{w_t}) $\n",
        "\n",
        "\n",
        "$\\;$\n",
        "\n",
        "Se $U_t$ è uno stimatore **unbiased** di $v_\\pi(s_t)$, cioè $\\mathbb{E}[U_t|s_t] = v_\\pi(s_t) \\; ∀ t $ , allora è garantito che il vettore $\\vec{w}$ converga ad un ottimo locale; nelle consuete condizioni di \"standard stochastic approximation\" per α.\n",
        "\n",
        "Esempio:\n",
        "Monte Carlo target è uno stimare unbiased. $U_t = G_t$.\n",
        "Per il Gradient Monte Carlo Algorithm vedi Sutton & Barto, 2018,  PDF 224.\n",
        "\n",
        "Bootstrapping targets sono stimantori **biased** , in quanto dipendono dal valore del vettore dei pesi $\\vec{w}$.  In generale, la convergenza del vettore $\\vec{w}$ non è garantita; ma in casi importanti in cui si sfrutta la modellizzazione lineare lo è.\n",
        "\n",
        "\n",
        "$\\;$\n",
        "\n",
        "\n",
        "\n",
        "\n",
        "Pro-memoria\n",
        "\n",
        "Stimatori unbiased : non fanno ipotesi o assunzioni sulla distribuzione dei dati o sulla forma funzionale della funzione target (esempio decision trees o random forests).\n",
        "\n",
        "Stimatori biased : fanno ipotesi ed assunzioni. Ad esempio i metodi lineari: presuppongono che la funzione target sia lineare. Se la vera funzione target è non lineare, allora il modello di lineare commetterà errori sistematici nelle sue previsioni e apprenderà in modo parziale. Un altro esempio è l’algoritmo k-nearest neighbors che presuppone che i dati siano distribuiti uniformemente. Se i dati non sono distribuiti uniformemente, l’algoritmo potrebbe commettere errori sistematici nelle sue previsioni.\n",
        "\n",
        "\n"
      ],
      "metadata": {
        "id": "Ak7nVWw_BeAB"
      }
    },
    {
      "cell_type": "markdown",
      "source": [
        "**Modellizazzione lineare**\n",
        "\n",
        "Idea è di approssimare la funzione $v̂(s,\\vec{w})$ con un funzione lineare rispetto i pesi $\\vec{w}$.\n",
        "\n",
        "In sostanza, si consideri il vettore:\n",
        "$\\vec{x}(s) = (x_1(s), x_2(s),...,x_d(s) )^\\intercal $\n",
        "detto **feature vector** dello stato $s$.\n",
        "Questo ha la stessa dimensione $d$ del vettore $\\vec{w}$. Ogni componente $x_i(s)$ è una funzione del tipo $ x_i : S → \\mathbb{R}$. In questo modo si vuole rappresentare un certo stato $s$ del sistema con un feature vector. Esempio pratico, consideriamo un robot mobile che si muove in un ambiente dotato di punti di riferimento fissi; lo stato del robot in un dato istante può essere rappresentato da un vettore contenente le distanze del robot da ciascun punto di riferimento.\n",
        "\n",
        " I componenti di un feature vector possono essere definiti in molti modi diversi; vedi Sutton & Barto, 2018, PDF 232.\n",
        "\n",
        "Usando la modellizzazione lineare, abbiamo:\n",
        "\n",
        "$v̂(s,\\vec{w}) \\doteq \\vec{w} ^\\intercal \\vec{x}(s) = \\sum_i ^d w_i x_i(s) $\n",
        "\n",
        "il cui gradiente si semplifica così:\n",
        "\n",
        "  $ \\nabla_\\vec{w} v̂(s,\\vec{w}) = \\vec{x}(s) $\n",
        "\n",
        "\n",
        "e la regola di update dei pesi diventa, ad un certo step $t$:\n",
        "\n",
        "$\\vec{w}_{t+1} = \\vec{w}_{t} + \\alpha [U_t - (\\vec{w}_{t} ^\\intercal \\vec{x}(s_{t})) ]  \\vec{x}(s_{t}) $\n",
        "\n",
        "\n",
        "$\\;$\n",
        "\n",
        "\n",
        "Convergenza:\n",
        "\n",
        "Nel caso lineare, esiste un unico ottimo (o un insieme di ottimi equivalenti in casi degeneri). Pertanto, qualsiasi metodo che garantisce la convergenza a un ottimo locale, od ad  un punto vicino, converge automaticamente verso l'ottimo globale, od ad un punto vicino.\n",
        "\n",
        "- L'algoritmo Gradient Monte Carlo garantisce la convergenza di $\\vec{w}$  all'ottimo globale, quando l'approssimazione usata riguarda funzioni lineari.\n",
        "\n",
        "- Anche l'algoritmo Semi-gradient TD(n), per ogni $n$,  garantisce la convergenza, ad un punto vicino (che si trova all'interno di un certo limite di errore, che diminuisce con aumentare di $n$ ), all'ottimo globale (per più info Sutton & Barto, 2018, PDF 227).\n",
        "\n",
        "\n",
        "Nota: perchè \"Semi-gradinet\" ?\n",
        "\n",
        "I metodi TD non sono veri e propri \"gradient methods\". In tali metodi di bootstrapping (incluso DP), l'update del target : $U_t = R_{t+1} + γ \\cdot v̂(S_{t+1}, \\vec w_{t+1})$ , ma non è utilizzato esplicitamente nel calcolo del gradiente, viene infatti pensato come una costante. Vedi : Sutton & Barto, 2018, PDF 224. L'algoritmo richiede questa impostazione per garantire una ragionevole convergenza; ed i motivi precisi per cui questo sia necessario non sono ancora del tutto chiari.\n",
        "\n",
        "\n",
        "\n",
        "$\\;$\n",
        "\n",
        "La **Modellizzazione non lineare**, che utilizza funzioni non lineari approssimare la funzione $v̂(s,\\vec{w})$, in particolare usa reti neurali artificiali addestrate con backpropagation e varianti di SGD, ha guadagnato grande popolarità negli ultimi anni sotto il nome di **deep reinforcement learning**.\n",
        "\n",
        "\n"
      ],
      "metadata": {
        "id": "nR4yvg2z9-U_"
      }
    },
    {
      "cell_type": "markdown",
      "source": [
        "## On-policy Control\n",
        "\n",
        "\n",
        "Ora ci concentriamo sul problema del controllo, utilizzando un'approssimazione parametrica per la funzione valore-azione.\n",
        "\n",
        "$\\widehat{q}(s,a,\\vec{w}) \\approx q_{\\pi}(s, a) $\n",
        "\n",
        "Innanzitutto limitiamo la nostra attenzione al caso:\n",
        "- on-policy\n",
        "- episodico\n",
        "\n",
        "Nota:\n",
        "\n",
        "Attività episodiche (Episodic tasks): possiedono uno stato terminale, ovvero una condizione che conclude l'episodio. Spesso, la ricompensa viene assegnata alla fine dell'episodio.\n",
        "\n",
        "Attività continue (Continuous task ): non hanno uno stato terminale e si protraggono teoricamente all'infinito. La ricompensa non viene assegnata alla fine, in quanto non esiste fine, ma viene distribuita nel corso dell'attività."
      ],
      "metadata": {
        "id": "cC5CkqMyPjo-"
      }
    },
    {
      "cell_type": "markdown",
      "source": [
        "###Episodic Semi-Gradient one step Sarsa  - Modellizzazione lineare  - Mountain Car\n",
        "\n",
        "\n",
        "One-step Sarsa update:\n",
        "\n",
        "\n",
        "\n",
        "\n",
        "$\\vec{w}_{t+1} \\leftarrow \\vec{w}_t + \\alpha [ R_{t+1}\n",
        "+ \\gamma \\widehat{q}(s_{t+1},a_{t+1},\\vec{w}_t) - \\widehat{q}(s_{t},a_{t},\\vec{w}_t)] ∇ \\widehat{q}(s_{t},a_{t},\\vec{w}_t)   $\n",
        "\n",
        "\n",
        "Algoritmo completo: vedi Sutton & Barto, 2018, PDF 266\n",
        "\n",
        "\n",
        "$\\;$\n",
        "\n",
        "Convergenza:\n",
        "\n",
        "Nel testo di Sutton & Barto si legge : *For a constant policy, this method converges in the same way that TD(0) does*.\n",
        "\n",
        "$\\;$\n",
        "\n",
        "\n",
        "Env : **Mountain Car**\n",
        "\n",
        "\n",
        " https://www.gymlibrary.dev/environments/classic_control/mountain_car/\n",
        "\n",
        "\n",
        "Sommario:\n",
        "\n",
        "\n",
        "L'obiettivo è raggiungere la bandiera posta in cima alla collina di destra il più velocemente possibile, pertanto l'agente viene penalizzato con una ricompensa di -1 per ogni timestep.\n",
        "\n",
        "\n",
        "L' auto per raggiungere la bandiera deve prima allontanarsi momentaneamente da questa: ovvero risalire il pendio ripido a sinistra; poi accelerare al massimo in avanti per guadagnare l'inerzia necessaria per completare la salita. Questo scenario rappresenta un semplice esempio di compito di controllo continuo, in cui la situazione peggiora temporaneamente (*farther from the goal*) prima di migliorare. Molti algoritmi di controllo tradizionali faticano ad affrontare questo tipo di sfide se non vengono guidati esplicitamente da un intervento umano.\n",
        "\n",
        "\n",
        "State space: un feature ndarray con forma (2,) in cui il primo elemento è la posizione dell'auto lungo l'asse x, il secondo la velocità dell'auto.\n",
        "\n",
        "\n",
        "Stato iniziale: Alla posizione dell'auto viene assegnato un valore casuale uniforme in [-0.6, -0.4]. La velocità iniziale dell'auto è sempre assegnata a 0.0\n",
        "\n",
        "Azioni discrete :\n",
        "\n",
        "0: accelera in retromarcia\n",
        "\n",
        "1: non accelera\n",
        "\n",
        "2: accelera in avanti\n",
        "\n",
        "Funzione di Transizione : Data un'azione, il sistema segue la seguente dinamica di transizione:\n",
        "\n",
        "$v_{t+1} = v_t + (azione - 1) * 0.001 - cos(3 * x_t) * 0.001$\n",
        "\n",
        "$x_{t+1} = x_t + v_{t+1}$\n",
        "\n",
        "La posizione $x$ viene confinata nell'intervallo [-1.2, 0.6] e la velocità $v$ viene confinata nell'intervallo [-0.07, 0.07]."
      ],
      "metadata": {
        "id": "bEZEcy9-IIu6"
      }
    },
    {
      "cell_type": "markdown",
      "source": [
        "####Moduli"
      ],
      "metadata": {
        "id": "gnviaHbNe1P0"
      }
    },
    {
      "cell_type": "code",
      "source": [
        "import gym\n",
        "import numpy as np\n",
        "import random\n",
        "import warnings\n",
        "warnings.filterwarnings('ignore')\n",
        "\n",
        "import pickle\n",
        "\n",
        "import matplotlib.pyplot as plt\n",
        "\n",
        "%matplotlib inline"
      ],
      "metadata": {
        "id": "mBmQzUC-hpPY"
      },
      "execution_count": null,
      "outputs": []
    },
    {
      "cell_type": "markdown",
      "source": [
        "#####Rendering\n",
        "\n",
        "Lanciare i codici sottostanti"
      ],
      "metadata": {
        "id": "FzK7LtcPH9Gm"
      }
    },
    {
      "cell_type": "code",
      "source": [
        "#codice ispirato : https://github.com/jeffheaton/t81_558_deep_learning/blob/master/t81_558_class_12_02_qlearningreinforcement.ipynb\n",
        "\n",
        "try:\n",
        "    from google.colab import drive\n",
        "    %tensorflow_version 2.x\n",
        "    COLAB = True\n",
        "    print(\"Note: using Google CoLab\")\n",
        "except:\n",
        "    print(\"Note: not using Google CoLab\")\n",
        "    COLAB = False\n",
        "\n",
        "if COLAB:\n",
        "  !sudo apt-get install -y xvfb ffmpeg x11-utils\n",
        "  !pip install -q gym\n",
        "  !pip install -q 'imageio==2.5.0' # 'imageio==2.4.0'\n",
        "  !pip install -q PILLOW\n",
        "  !pip install -q 'pyglet==1.3.2'\n",
        "  !pip install -q pyvirtualdisplay\n",
        "  !pip install -q tf-agents\n",
        "  !pip install -q pygame"
      ],
      "metadata": {
        "colab": {
          "base_uri": "https://localhost:8080/"
        },
        "id": "jEmScDyVegbM",
        "outputId": "f5f894f6-4b4b-4eb2-9b54-7de8bc5c4684"
      },
      "execution_count": null,
      "outputs": [
        {
          "output_type": "stream",
          "name": "stdout",
          "text": [
            "Colab only includes TensorFlow 2.x; %tensorflow_version has no effect.\n",
            "Note: using Google CoLab\n",
            "Reading package lists... Done\n",
            "Building dependency tree... Done\n",
            "Reading state information... Done\n",
            "x11-utils is already the newest version (7.7+5build2).\n",
            "ffmpeg is already the newest version (7:4.4.2-0ubuntu0.22.04.1).\n",
            "xvfb is already the newest version (2:21.1.4-2ubuntu1.7~22.04.10).\n",
            "0 upgraded, 0 newly installed, 0 to remove and 45 not upgraded.\n",
            "\u001b[2K     \u001b[90m━━━━━━━━━━━━━━━━━━━━━━━━━━━━━━━━━━━━━━━━\u001b[0m \u001b[32m3.3/3.3 MB\u001b[0m \u001b[31m13.8 MB/s\u001b[0m eta \u001b[36m0:00:00\u001b[0m\n",
            "\u001b[?25h"
          ]
        }
      ]
    },
    {
      "cell_type": "code",
      "source": [
        "import tf_agents #TF-Agents is just used to render the mountain care environment\n",
        "from tf_agents.environments import suite_gym\n",
        "import PIL.Image\n",
        "import pyvirtualdisplay\n",
        "\n",
        "from gym.wrappers.record_video import RecordVideo\n",
        "import glob\n",
        "import io\n",
        "import base64\n",
        "from IPython.display import HTML\n",
        "from pyvirtualdisplay import Display\n",
        "from IPython import display as ipythondisplay\n",
        "\n",
        "display = Display(visible=0, size=(1400, 900))\n",
        "display.start()\n",
        "\n",
        "\n",
        "def show_video():\n",
        "    mp4list = glob.glob('video/*.mp4')\n",
        "    if len(mp4list) > 0:\n",
        "        mp4 = mp4list[0]\n",
        "        video = io.open(mp4, 'r+b').read()\n",
        "        encoded = base64.b64encode(video)\n",
        "        ipythondisplay.display(HTML(data='''<video alt=\"test\" autoplay\n",
        "                loop controls style=\"height: 400px;\">\n",
        "                <source src=\"data:video/mp4;base64,{0}\"\n",
        "                type=\"video/mp4\" />\n",
        "             </video>'''.format(encoded.decode('ascii'))))\n",
        "    else:\n",
        "        print(\"Could not find video\")\n",
        "\n",
        "\n",
        "def wrap_env(env):\n",
        "    env = RecordVideo(env, './video',  episode_trigger = lambda episode_number: True)\n",
        "    return env\n",
        "\n",
        "\n",
        "#display = pyvirtualdisplay.Display(visible=0, size=size=(1400, 900)).start()\n",
        "#env_name = 'MountainCar-v0'\n",
        "#env = suite_gym.load(env_name)\n",
        "#env.reset()\n",
        "#PIL.Image.fromarray(env.render())\n"
      ],
      "metadata": {
        "id": "3zI5UkEjlSbh"
      },
      "execution_count": null,
      "outputs": []
    },
    {
      "cell_type": "markdown",
      "source": [
        "####Test: episodio di Mountain Car"
      ],
      "metadata": {
        "id": "_5Ub0OAgh0z0"
      }
    },
    {
      "cell_type": "code",
      "source": [
        "env = wrap_env(gym.make(\"MountainCar-v0\"))\n",
        "\n",
        "#help(env.unwrapped)\n",
        "print('State space [position velocity] :', env.observation_space)\n",
        "print('Action space:', env.action_space)\n",
        "print('Max Episode Steps: 200')\n",
        "print(\"\")\n",
        "\n",
        "state = env.reset()\n",
        "done = False\n",
        "\n",
        "i = 0\n",
        "while not done:\n",
        "\n",
        "    # Nel if/else successivo il \"software\" che gestisce il movimento di un'auto.\n",
        "    # Questo applica sempre la forza nella direzione del movimento,\n",
        "    # in avanti o dietro. La frenata non è mai utilizzata.\n",
        "    if state[1] > 0:\n",
        "        action = 2\n",
        "    else:\n",
        "        action = 0\n",
        "\n",
        "    state, reward, done, _ = env.step(action)\n",
        "    env.render()\n",
        "\n",
        "    # Debug\n",
        "    if i % 10 == 0:\n",
        "      print(f\"Step {i}: State:[position velocity]={state}, Reward={reward}, Action={action}\")\n",
        "\n",
        "    i += 1\n",
        "\n",
        "    if done == True:\n",
        "      print(f\" - Terminal state occurs in\\n   Step {i}: State={state}, Reward={reward}\")\n",
        "\n",
        "env.close()"
      ],
      "metadata": {
        "colab": {
          "base_uri": "https://localhost:8080/"
        },
        "id": "xKbRSNEUh75L",
        "outputId": "434c0a3a-529b-4933-dd3a-487eb3054c47"
      },
      "execution_count": null,
      "outputs": [
        {
          "output_type": "stream",
          "name": "stdout",
          "text": [
            "State space [position velocity] : Box([-1.2  -0.07], [0.6  0.07], (2,), float32)\n",
            "Action space: Discrete(3)\n",
            "Max Episode Steps: 200\n",
            "\n",
            "Step 0: State:[position velocity]=[-0.48812014 -0.00127509], Reward=-1.0, Action=0\n",
            "Step 10: State:[position velocity]=[-0.5643934 -0.0120168], Reward=-1.0, Action=0\n",
            "Step 20: State:[position velocity]=[-0.70639503 -0.01446564], Reward=-1.0, Action=0\n",
            "Step 30: State:[position velocity]=[-0.8213755 -0.008058 ], Reward=-1.0, Action=0\n",
            "Step 40: State:[position velocity]=[-0.8400478   0.00629901], Reward=-1.0, Action=2\n",
            "Step 50: State:[position velocity]=[-0.62304217  0.0325388 ], Reward=-1.0, Action=2\n",
            "Step 60: State:[position velocity]=[-0.24632375  0.0378255 ], Reward=-1.0, Action=2\n",
            "Step 70: State:[position velocity]=[0.0655299  0.02472444], Reward=-1.0, Action=2\n",
            "Step 80: State:[position velocity]=[0.2414313  0.01263457], Reward=-1.0, Action=2\n",
            "Step 90: State:[position velocity]=[0.32888922 0.0063215 ], Reward=-1.0, Action=2\n",
            "Step 100: State:[position velocity]=[0.37693948 0.0040396 ], Reward=-1.0, Action=2\n",
            "Step 110: State:[position velocity]=[0.41828203 0.00463403], Reward=-1.0, Action=2\n",
            "Step 120: State:[position velocity]=[0.4834298  0.00873422], Reward=-1.0, Action=2\n",
            " - Terminal state occurs in\n",
            "   Step 123: State=[0.50306696 0.01020349], Reward=-1.0\n"
          ]
        }
      ]
    },
    {
      "cell_type": "code",
      "source": [
        "#il video dell'episodio\n",
        "show_video()"
      ],
      "metadata": {
        "id": "q4wXaow8iY7v"
      },
      "execution_count": null,
      "outputs": []
    },
    {
      "cell_type": "markdown",
      "source": [
        "####Tile Coding (bucketization)\n",
        "\n",
        "Il Tile Coding è una tecnica per codificare in modo discreto uno spazio continuo (in pratica facendo leva sulla mappatura dello spazio continuo in un vettore con $n$ binary feature : $[0,1,0,0,...1,0,1]$); questo  semplifica la gestione delle value-action fuction.\n",
        "\n",
        "Tile coding dimostra una notevole efficienza nel risolvere l'ambinete Mountain Car; in modo considerevolmente più veloce rispetto a diverse alternative.\n",
        "\n",
        "\n",
        "Idea di base è spiegata molto bene qui:\n",
        "\n",
        "\n",
        "\n",
        "https://medium.com/criteo-engineering/tile-coding-an-efficient-sparse-coding-method-for-real-valued-data-e787eddf630a\n",
        "\n",
        "\n",
        "https://github.com/MeepMoop/tilecoding?tab=readme-ov-file\n",
        "\n",
        "Aspetti teorici:\n",
        "\n",
        "https://www.researchgate.net/publication/220864728_Tile_Coding_Based_on_Hyperplane_Tiles\n",
        "\n"
      ],
      "metadata": {
        "id": "KZhKoGr3fYqq"
      }
    },
    {
      "cell_type": "code",
      "source": [
        "#Tile Coding Software version 3.0beta by Rich Sutton\n",
        "#http://incompleteideas.net/tiles/tiles3.html\n",
        "\n",
        "\"\"\"\n",
        "Tile Coding Software version 3.0beta\n",
        "by Rich Sutton\n",
        "based on a program created by Steph Schaeffer and others\n",
        "External documentation and recommendations on the use of this code is available in the\n",
        "reinforcement learning textbook by Sutton and Barto, and on the web.\n",
        "These need to be understood before this code is.\n",
        "\n",
        "This software is for Python 3 or more.\n",
        "\n",
        "This is an implementation of grid-style tile codings, based originally on\n",
        "the UNH CMAC code (see http://www.ece.unh.edu/robots/cmac.htm), but by now highly changed.\n",
        "Here we provide a function, \"tiles\", that maps floating and integer\n",
        "variables to a list of tiles, and a second function \"tiles-wrap\" that does the same while\n",
        "wrapping some floats to provided widths (the lower wrap value is always 0).\n",
        "\n",
        "The float variables will be gridded at unit intervals, so generalization\n",
        "will be by approximately 1 in each direction, and any scaling will have\n",
        "to be done externally before calling tiles.\n",
        "\n",
        "Num-tilings should be a power of 2, e.g., 16. To make the offsetting work properly, it should\n",
        "also be greater than or equal to four times the number of floats.\n",
        "\n",
        "The first argument is either an index hash table of a given size (created by (make-iht size)),\n",
        "an integer \"size\" (range of the indices from 0), or nil (for testing, indicating that the tile\n",
        "coordinates are to be returned without being converted to indices).\n",
        "\"\"\"\n",
        "\n",
        "basehash = hash\n",
        "\n",
        "class IHT:\n",
        "    \"Structure to handle collisions\"\n",
        "    def __init__(self, sizeval):\n",
        "        self.size = sizeval\n",
        "        self.overfullCount = 0\n",
        "        self.dictionary = {}\n",
        "\n",
        "    def __str__(self):\n",
        "        \"Prepares a string for printing whenever this object is printed\"\n",
        "        return \"Collision table:\" + \\\n",
        "               \" size:\" + str(self.size) + \\\n",
        "               \" overfullCount:\" + str(self.overfullCount) + \\\n",
        "               \" dictionary:\" + str(len(self.dictionary)) + \" items\"\n",
        "\n",
        "    def count (self):\n",
        "        return len(self.dictionary)\n",
        "\n",
        "    def fullp (self):\n",
        "        return len(self.dictionary) >= self.size\n",
        "\n",
        "    def getindex (self, obj, readonly=False):\n",
        "        d = self.dictionary\n",
        "        if obj in d: return d[obj]\n",
        "        elif readonly: return None\n",
        "        size = self.size\n",
        "        count = self.count()\n",
        "        if count >= size:\n",
        "            if self.overfullCount==0: print('IHT full, starting to allow collisions')\n",
        "            self.overfullCount += 1\n",
        "            return basehash(obj) % self.size\n",
        "        else:\n",
        "            d[obj] = count\n",
        "            return count\n",
        "\n",
        "##### End Class ######\n",
        "\n",
        "\n",
        "def hashcoords(coordinates, m, readonly=False):\n",
        "    if type(m)==IHT: return m.getindex(tuple(coordinates), readonly)\n",
        "    if type(m)==int: return basehash(tuple(coordinates)) % m\n",
        "    if m==None: return coordinates\n",
        "\n",
        "from math import floor, log\n",
        "from itertools import zip_longest\n",
        "\n",
        "def tiles_funct (ihtORsize, numtilings, floats, ints=[], readonly=False):\n",
        "    \"\"\"returns num-tilings tile indices corresponding to the floats and ints\"\"\"\n",
        "    qfloats = [floor(f*numtilings) for f in floats]\n",
        "    Tiles = []\n",
        "    for tiling in range(numtilings):\n",
        "        tilingX2 = tiling*2\n",
        "        coords = [tiling]\n",
        "        b = tiling\n",
        "        for q in qfloats:\n",
        "            coords.append( (q + b) // numtilings )\n",
        "            b += tilingX2\n",
        "        coords.extend(ints)\n",
        "        Tiles.append(hashcoords(coords, ihtORsize, readonly))\n",
        "    return Tiles\n",
        "\n",
        "def tileswrap (ihtORsize, numtilings, floats, wrapwidths, ints=[], readonly=False):\n",
        "    \"\"\"returns num-tilings tile indices corresponding to the floats and ints, wrapping some floats\"\"\"\n",
        "    qfloats = [floor(f*numtilings) for f in floats]\n",
        "    Tiles = []\n",
        "    for tiling in range(numtilings):\n",
        "        tilingX2 = tiling*2\n",
        "        coords = [tiling]\n",
        "        b = tiling\n",
        "        for q, width in zip_longest(qfloats, wrapwidths):\n",
        "            c = (q + b%numtilings) // numtilings\n",
        "            coords.append(c%width if width else c)\n",
        "            b += tilingX2\n",
        "        coords.extend(ints)\n",
        "        Tiles.append(hashcoords(coords, ihtORsize, readonly))\n",
        "    return Tiles\n"
      ],
      "metadata": {
        "id": "WxbycpOrhoNy"
      },
      "execution_count": null,
      "outputs": []
    },
    {
      "cell_type": "code",
      "source": [
        "# Testing Tile Coding Software\n",
        "\n",
        "POSITION_MIN = -1.2\n",
        "POSITION_MAX = 0.5\n",
        "VELOCITY_MIN = -0.07\n",
        "VELOCITY_MAX = 0.07\n",
        "\n",
        "num_tiles = 10 # number of tiles. Here both the width and height of the tile coder are the same\n",
        "num_tilings = 8\n",
        "\n",
        "# Scale position and velocity by multiplying the inputs of each by their scale\n",
        "position_scale = num_tiles / (POSITION_MAX - POSITION_MIN)\n",
        "velocity_scale = num_tiles / (VELOCITY_MAX - VELOCITY_MIN)\n",
        "\n",
        "print(\"position_scale=\",position_scale)\n",
        "print(\"velocity_scale=\",velocity_scale)\n",
        "\n",
        "iht = IHT(1024)  # The size of the index hash table, typically a power of 2\n",
        "\n",
        "s1 = tiles_funct (iht, num_tilings, [-0.6*position_scale, 0.01*velocity_scale])\n",
        "s2 = tiles_funct (iht, num_tilings, [-0.5*position_scale, 0.02*velocity_scale])\n",
        "s3 = tiles_funct (iht, num_tilings, [ 0.1*position_scale, 0.0*velocity_scale])\n",
        "s4 = tiles_funct (iht, num_tilings, [ -1.0*position_scale, 0.05*velocity_scale])\n",
        "s5 = tiles_funct (iht, num_tilings, [ -1.0*position_scale, 0.045*velocity_scale])\n",
        "s6 = tiles_funct (iht, num_tilings, [-0.5*position_scale, 0.01*velocity_scale])\n",
        "s7 = tiles_funct (iht, num_tilings, [ 0.5*position_scale, -0.07*velocity_scale])\n",
        "\n",
        "print(\"Decode output: \\n\",s1,s2,s3)\n",
        "print(\"Decode output: \\n\",s4,s5,s6 )\n",
        "print(\"Decode output: \\n\",s7 )\n",
        "#\n",
        "# As the last example shows, far away points have no tiles in common. It also\n",
        "# shows that the idea of a 10 by 10 space is really just in our minds. As far as\n",
        "# the software is concerned there is a 2D plane stretching to infinity in all\n",
        "# directions. (Of course if you visit too much of the space you will run out of\n",
        "# indices -- you only have as many as you specified with the size of iht.)"
      ],
      "metadata": {
        "colab": {
          "base_uri": "https://localhost:8080/"
        },
        "id": "bVBGIAY-Yo4R",
        "outputId": "16080f84-1508-4b15-96b8-e2dd992b63ec"
      },
      "execution_count": null,
      "outputs": [
        {
          "output_type": "stream",
          "name": "stdout",
          "text": [
            "position_scale= 5.882352941176471\n",
            "velocity_scale= 71.42857142857142\n",
            "Decode output: \n",
            " [0, 1, 2, 3, 4, 5, 6, 7] [8, 9, 10, 11, 12, 13, 14, 15] [16, 17, 18, 19, 20, 21, 22, 23]\n",
            "Decode output: \n",
            " [24, 25, 26, 27, 28, 29, 30, 31] [24, 25, 32, 27, 33, 29, 30, 34] [35, 9, 36, 37, 12, 5, 6, 7]\n",
            "Decode output: \n",
            " [38, 39, 40, 41, 42, 43, 44, 45]\n"
          ]
        }
      ]
    },
    {
      "cell_type": "markdown",
      "source": [
        "####Parametri\n"
      ],
      "metadata": {
        "id": "yGPTU76i4p_b"
      }
    },
    {
      "cell_type": "code",
      "source": [
        "size_iht = 32768\n",
        "iht = IHT(size_iht)\n",
        "\n",
        "list_actions = [0,1,2]"
      ],
      "metadata": {
        "id": "H43PyMQ54uPr"
      },
      "execution_count": null,
      "outputs": []
    },
    {
      "cell_type": "markdown",
      "source": [
        "####Data Processing Functions / Class"
      ],
      "metadata": {
        "id": "YEuUA7Ww3A5P"
      }
    },
    {
      "cell_type": "code",
      "source": [
        "# codice ispirato :\n",
        "# https://github.com/self-supervisor/SARSA-Mountain-Car-Sutton-and-Barto/blob/main/SARSA%20Mountain%20Car.ipynb\n",
        "\n",
        "#Codifica Tile\n",
        "def get_feature_vector(position, velocity, action):\n",
        "    indices = tiles_funct(iht, 8, [8*position/(0.5+1.2), 8*velocity/(0.07+0.07)], action)\n",
        "    #print(\"indices=\",indices) #indices= [727, 581, 821, 571, 830, 631, 577, 833]\n",
        "    feature_vector = np.zeros((size_iht,))\n",
        "    feature_vector[indices] = 1\n",
        "    # print(feature_vector) # [0. 1. 0. ... 0. 1. 0. 0.]\n",
        "    # print(len(feature_vector)) # 32768\n",
        "    return feature_vector\n",
        "\n",
        "###\n",
        "\n",
        "def save_params(w):\n",
        "        pickle.dump(w, open('weights.pkl', 'wb'))\n",
        "\n",
        "\n",
        "def load_params():\n",
        "        w = pickle.load(open('weights.pkl', 'rb'))\n",
        "        return w"
      ],
      "metadata": {
        "id": "3VQFrAtU3DFN"
      },
      "execution_count": null,
      "outputs": []
    },
    {
      "cell_type": "code",
      "source": [
        "class Agent(object):\n",
        "\n",
        "    def __init__(self,\n",
        "                 param_vector_size,\n",
        "                 learning_rate,\n",
        "                 discount):\n",
        "        self.weights = np.random.uniform(low=-0.1, high=0.1, size=param_vector_size)\n",
        "        self.action_space = list_actions\n",
        "        self.learning_rate = learning_rate\n",
        "        self.discount = discount\n",
        "        self.feature_vector = get_feature_vector(0.0, 0.0, [0])\n",
        "        self.action = [1]\n",
        "\n",
        "\n",
        "    def step(self, reward, new_state, eps, done):\n",
        "        if done:\n",
        "            self.update_weights(reward, done)\n",
        "        else:\n",
        "            new_action = self.epsilon_greedy(new_state, eps)\n",
        "            new_feature_vector = get_feature_vector(new_state[0],\n",
        "                                                    new_state[1],\n",
        "                                                    new_action)\n",
        "            self.update_weights(reward, done, new_feature_vector)\n",
        "            self.feature_vector = new_feature_vector\n",
        "            self.action = new_action\n",
        "        return self.action\n",
        "\n",
        "    def epsilon_greedy(self, new_state, eps):\n",
        "        # ricava l'azione greedy\n",
        "        values = []\n",
        "        for action_candidate in self.action_space:\n",
        "                new_feature_vector = get_feature_vector(new_state[0],\n",
        "                                                        new_state[1],\n",
        "                                                        [action_candidate])\n",
        "                values.append(self.compute_value(new_feature_vector))\n",
        "                # https://stackoverflow.com/questions/16945518/\n",
        "                #finding-the-index-of-the-value-which-is-the-min-or-\n",
        "                #max-in-python\n",
        "        greedy_action = [values.index(max(values))] # Nota, values ha una forma del tipo [-4.191, -3.1879, -2.7512]\n",
        "\n",
        "        if (random.uniform(0,1.0) > eps):\n",
        "            #\n",
        "            # policy greedy\n",
        "            #\n",
        "            action = greedy_action\n",
        "        else:\n",
        "            #\n",
        "            #policy random non-greedy\n",
        "            #\n",
        "            non_greedy_actions = list(set(list_actions) - {greedy_action[0]})\n",
        "            action = [np.random.choice(non_greedy_actions)]\n",
        "\n",
        "        return action\n",
        "\n",
        "    def compute_value(self, feature_vector):\n",
        "        return np.dot(self.weights, feature_vector)\n",
        "\n",
        "    def update_weights(self,\n",
        "                       reward,\n",
        "                       terminal,\n",
        "                       feature_vector_tp1=np.zeros((size_iht,))): # Nota : feature_vector_tp1 = sarebbe q(S',A',w)\n",
        "        if terminal:\n",
        "            error = reward - self.compute_value(self.feature_vector)\n",
        "        else:\n",
        "            error = reward + self.discount * self.compute_value(feature_vector_tp1)- self.compute_value(self.feature_vector)\n",
        "\n",
        "        self.weights += self.learning_rate * error * self.feature_vector # Nota, come da teoria: il gradinte = feature_vector"
      ],
      "metadata": {
        "id": "3D_KP-54LXVY"
      },
      "execution_count": null,
      "outputs": []
    },
    {
      "cell_type": "code",
      "source": [
        "def train(environment, agent, epsilon, num_episodes=1_000):\n",
        "    env = environment\n",
        "    episode_rewards = []\n",
        "    eps = epsilon\n",
        "    print(\"\\n\\tEpsilon =\", eps)\n",
        "\n",
        "    for episode in range(1,num_episodes+1):\n",
        "\n",
        "        ob = env.reset()\n",
        "        action = agent.epsilon_greedy(ob, eps)  # action_agent.epsilon_greedy(ob) = [2]\n",
        "        episode_rewards_sum = 0\n",
        "        done = False\n",
        "        count = 0\n",
        "\n",
        "        while count < 3_000:  # max 3_000 step per episodio\n",
        "            count += 1\n",
        "\n",
        "            if count == 3_000:\n",
        "                done = True\n",
        "            else:\n",
        "                done = False\n",
        "\n",
        "            new_ob, reward, done_env, _ = env.step(action[0])\n",
        "\n",
        "            if new_ob[0] >= 0.5:\n",
        "                #debug\n",
        "                print(f\"Goal episod = {episode}  Total reward={episode_rewards_sum}\")\n",
        "                count = 3_000\n",
        "\n",
        "            episode_rewards_sum += reward\n",
        "            action = agent.step(reward, new_ob, eps, done) # action_agent.step = [1]\n",
        "\n",
        "        # Per Gestire la dinamica di epsilon\n",
        "        if (episode > 0) and (episode % (num_episodes/3) == 0):\n",
        "           eps = round(eps - 0.05, 3)\n",
        "           if episode != num_episodes:\n",
        "              print(\"\\n\\tEpsilon =\", eps)\n",
        "\n",
        "        episode_rewards.append(episode_rewards_sum)\n",
        "\n",
        "    save_params(agent.weights)\n",
        "    print(\"\\n...Params Saved...\\n\")\n",
        "    env.close()\n",
        "    print(\"\\n...End of training...\\n\")\n",
        "\n",
        "    return episode_rewards, agent"
      ],
      "metadata": {
        "id": "QjsmgYYNL3Op"
      },
      "execution_count": null,
      "outputs": []
    },
    {
      "cell_type": "markdown",
      "source": [
        "####Training loop"
      ],
      "metadata": {
        "id": "n6N1YD2bRl7X"
      }
    },
    {
      "cell_type": "code",
      "source": [
        "agent = Agent(param_vector_size=size_iht,\n",
        "              learning_rate=(0.5/8),\n",
        "              discount=0.9)\n",
        "\n",
        "\n",
        "episode_rewards, agent = train(gym.make(\"MountainCar-v0\"), agent, epsilon=0.2, num_episodes=30)"
      ],
      "metadata": {
        "colab": {
          "base_uri": "https://localhost:8080/"
        },
        "id": "BoSnFq-TMToX",
        "outputId": "21e4590d-e538-43af-aa1f-b88bfee10cf1"
      },
      "execution_count": null,
      "outputs": [
        {
          "output_type": "stream",
          "name": "stdout",
          "text": [
            "\n",
            "\tEpsilon = 0.2\n",
            "Goal episod = 1  Total reward=-1238.0\n",
            "Goal episod = 2  Total reward=-1176.0\n",
            "Goal episod = 3  Total reward=-657.0\n",
            "Goal episod = 4  Total reward=-706.0\n",
            "Goal episod = 5  Total reward=-411.0\n",
            "Goal episod = 6  Total reward=-395.0\n",
            "Goal episod = 7  Total reward=-471.0\n",
            "Goal episod = 8  Total reward=-419.0\n",
            "Goal episod = 9  Total reward=-396.0\n",
            "Goal episod = 10  Total reward=-387.0\n",
            "\n",
            "\tEpsilon = 0.15\n",
            "Goal episod = 11  Total reward=-360.0\n",
            "Goal episod = 12  Total reward=-292.0\n",
            "Goal episod = 13  Total reward=-304.0\n",
            "Goal episod = 14  Total reward=-237.0\n",
            "Goal episod = 15  Total reward=-246.0\n",
            "Goal episod = 16  Total reward=-387.0\n",
            "Goal episod = 17  Total reward=-160.0\n",
            "Goal episod = 18  Total reward=-236.0\n",
            "Goal episod = 19  Total reward=-293.0\n",
            "Goal episod = 20  Total reward=-226.0\n",
            "\n",
            "\tEpsilon = 0.1\n",
            "Goal episod = 21  Total reward=-187.0\n",
            "Goal episod = 22  Total reward=-201.0\n",
            "Goal episod = 23  Total reward=-201.0\n",
            "Goal episod = 24  Total reward=-492.0\n",
            "Goal episod = 25  Total reward=-228.0\n",
            "Goal episod = 26  Total reward=-294.0\n",
            "Goal episod = 27  Total reward=-250.0\n",
            "Goal episod = 28  Total reward=-801.0\n",
            "Goal episod = 29  Total reward=-193.0\n",
            "Goal episod = 30  Total reward=-149.0\n",
            "\n",
            "...Params Saved...\n",
            "\n",
            "\n",
            "...End of training...\n",
            "\n"
          ]
        }
      ]
    },
    {
      "cell_type": "markdown",
      "source": [
        "####Plotting"
      ],
      "metadata": {
        "id": "UZiCrlybMrTG"
      }
    },
    {
      "cell_type": "code",
      "source": [
        "plt.figure(figsize=(3, 3))\n",
        "\n",
        "plt.plot(episode_rewards)\n",
        "plt.ylabel(\"Rewards\")\n",
        "plt.xlabel(\"Episodes\")\n",
        "plt.title(\"SARSA one step on Mountain Car \")\n",
        "\n",
        "plt.show()"
      ],
      "metadata": {
        "colab": {
          "base_uri": "https://localhost:8080/",
          "height": 333
        },
        "id": "hJkDZey6MYJx",
        "outputId": "c9e67342-65b1-4eed-a269-a68f7fe64b33"
      },
      "execution_count": null,
      "outputs": [
        {
          "output_type": "display_data",
          "data": {
            "text/plain": [
              "<Figure size 300x300 with 1 Axes>"
            ],
            "image/png": "[encoded data removed]"
          },
          "metadata": {}
        }
      ]
    },
    {
      "cell_type": "markdown",
      "source": [
        "#####Testing del modello ottenuto - esempio singolo"
      ],
      "metadata": {
        "id": "WWCEVS7LWAYI"
      }
    },
    {
      "cell_type": "code",
      "source": [
        "env = gym.make(\"MountainCar-v0\")\n",
        "\n",
        "state = env.reset()\n",
        "env._max_episode_steps = 800\n",
        "done = False\n",
        "\n",
        "i = 0\n",
        "\n",
        "while not done:\n",
        "\n",
        "    action = agent.epsilon_greedy(state, 0.0) # con epsilon=0.0 agisce greedy\n",
        "\n",
        "    state, reward, done, _ = env.step(action[0])\n",
        "\n",
        "    i += 1\n",
        "\n",
        "    if done == True:\n",
        "      print(f\" - Terminal state occurs in\\n   Step {i} -- State={state}\")\n",
        "\n",
        "env.close()"
      ],
      "metadata": {
        "id": "FrDmGK1lV_Bz",
        "colab": {
          "base_uri": "https://localhost:8080/"
        },
        "outputId": "04ca68fa-3876-4f0f-bb44-4c21279b2ef1"
      },
      "execution_count": null,
      "outputs": [
        {
          "output_type": "stream",
          "name": "stdout",
          "text": [
            " - Terminal state occurs in\n",
            "   Step 141 -- State=[0.5212139  0.03547214]\n"
          ]
        }
      ]
    },
    {
      "cell_type": "markdown",
      "source": [
        "#####Testing del modello ottenuto - su mille campioni"
      ],
      "metadata": {
        "id": "jLMZvwBw2oOW"
      }
    },
    {
      "cell_type": "code",
      "source": [
        "def test(env):\n",
        "\n",
        "   state = env.reset()\n",
        "   env._max_episode_steps = 700\n",
        "   done = False\n",
        "\n",
        "   i = 0\n",
        "\n",
        "   while not done:\n",
        "\n",
        "      action = agent.epsilon_greedy(state, 0.0) # con epsilon=0.0 agisce greedy\n",
        "\n",
        "      state, reward, done, _ = env.step(action[0])\n",
        "\n",
        "      i += 1\n",
        "\n",
        "\n",
        "   return i"
      ],
      "metadata": {
        "id": "eNRWiHzx2oOX"
      },
      "execution_count": null,
      "outputs": []
    },
    {
      "cell_type": "code",
      "source": [
        "env = gym.make(\"MountainCar-v0\")\n",
        "step_list = []\n",
        "\n",
        "for j in range(1,1001):\n",
        "  s = test(env)\n",
        "  step_list.append(s)\n",
        "\n",
        "env.close()\n"
      ],
      "metadata": {
        "id": "lW8xLAET2oOY"
      },
      "execution_count": null,
      "outputs": []
    },
    {
      "cell_type": "code",
      "source": [
        "plt.figure(figsize=(8, 4))\n",
        "plt.plot(step_list)\n",
        "plt.ylabel(\"Step for Goal\")\n",
        "plt.xlabel(\"Episodes\")\n",
        "\n",
        "plt.show()"
      ],
      "metadata": {
        "id": "AOAwaKgV2oOZ"
      },
      "execution_count": null,
      "outputs": []
    },
    {
      "cell_type": "code",
      "source": [
        "count_less_than= 0\n",
        "limit = 170\n",
        "\n",
        "for number in step_list:\n",
        "    if number <= limit:\n",
        "        count_less_than += 1\n",
        "\n",
        "percentage_less_than= (count_less_than / len(step_list)) * 100\n",
        "\n",
        "\n",
        "print(f\"Percentage of Step less than\", limit,\":\\n\", percentage_less_than, \"%\")"
      ],
      "metadata": {
        "colab": {
          "base_uri": "https://localhost:8080/"
        },
        "outputId": "e62dc847-8162-4aa2-860b-f146d2633678",
        "id": "E6MaMfSY2oOa"
      },
      "execution_count": null,
      "outputs": [
        {
          "output_type": "stream",
          "name": "stdout",
          "text": [
            "Percentage of Step less than 170 :\n",
            " 24.9 %\n"
          ]
        }
      ]
    },
    {
      "cell_type": "markdown",
      "source": [
        "#### Training with Imitation Learning"
      ],
      "metadata": {
        "id": "G3jIBv4UhaE8"
      }
    },
    {
      "cell_type": "code",
      "source": [
        "class Agent_imit(Agent):\n",
        "\n",
        "    def imit_step(self, reward, new_state, eps, done):\n",
        "        if done:\n",
        "            self.update_weights(reward, done)\n",
        "        else:\n",
        "            if new_state[1] > 0:\n",
        "                new_action = [2]\n",
        "            else:\n",
        "                new_action = [0]\n",
        "\n",
        "            new_feature_vector = get_feature_vector(new_state[0],\n",
        "                                                    new_state[1],\n",
        "                                                    new_action)\n",
        "            self.update_weights(reward, done, new_feature_vector)\n",
        "            self.feature_vector = new_feature_vector\n",
        "            self.action = new_action\n",
        "        return self.action\n",
        "\n"
      ],
      "metadata": {
        "id": "vS9tUmEylDvP"
      },
      "execution_count": null,
      "outputs": []
    },
    {
      "cell_type": "code",
      "source": [
        "def train_imit(environment, agent, epsilon, num_episodes=1_000):\n",
        "    env = environment\n",
        "    episode_rewards = []\n",
        "    eps = epsilon\n",
        "\n",
        "    print(\"\\n\\tImitation phase =\")\n",
        "\n",
        "\n",
        "    for episode in range(1,num_episodes+1):\n",
        "\n",
        "        ob = env.reset()\n",
        "        action = [np.random.choice(list_actions)]\n",
        "        episode_rewards_sum = 0\n",
        "        done = False\n",
        "        count = 0\n",
        "\n",
        "        while count < 3_000:\n",
        "            count += 1\n",
        "\n",
        "            if count == 3_000:\n",
        "                done = True\n",
        "            else:\n",
        "                done = False\n",
        "\n",
        "            new_ob, reward, done_env, _ = env.step(action[0])\n",
        "\n",
        "            if new_ob[0] >= 0.5:\n",
        "                #debug\n",
        "                print(f\"Goal episod = {episode}  Total reward={episode_rewards_sum}\")\n",
        "                count = 3_000\n",
        "\n",
        "            episode_rewards_sum += reward\n",
        "\n",
        "            if ( 1 <= episode <= num_episodes/3 ) :\n",
        "              action = agent.imit_step(reward, new_ob, eps, done)\n",
        "            else:\n",
        "              action = agent.step(reward, new_ob, eps, done)\n",
        "\n",
        "        # Per Gestire la dinamica di epsilon\n",
        "        if (episode >= num_episodes/3) and (episode % (num_episodes/3) == 0):\n",
        "           eps = round(eps - 0.1, 3)\n",
        "           if episode != num_episodes:\n",
        "              print(\"\\n\\tEpsilon =\", eps)\n",
        "\n",
        "        episode_rewards.append(episode_rewards_sum)\n",
        "\n",
        "    save_params(agent.weights)\n",
        "    print(\"\\n...Params Saved...\\n\")\n",
        "    env.close()\n",
        "    print(\"\\n...End of training...\\n\")\n",
        "\n",
        "    return episode_rewards, agent"
      ],
      "metadata": {
        "id": "hwIMznp-hyQL"
      },
      "execution_count": null,
      "outputs": []
    },
    {
      "cell_type": "code",
      "source": [
        "agent2 = Agent_imit(param_vector_size=size_iht,\n",
        "              learning_rate=(0.5/8),\n",
        "              discount=0.9)\n",
        "\n",
        "\n",
        "episode_rewards, agent2 = train_imit(gym.make(\"MountainCar-v0\"), agent2, epsilon=0.3, num_episodes=30)"
      ],
      "metadata": {
        "colab": {
          "base_uri": "https://localhost:8080/"
        },
        "id": "r_WmDuSShypx",
        "outputId": "d0dadfca-029b-4834-b87f-b9c86d6a085b"
      },
      "execution_count": null,
      "outputs": [
        {
          "output_type": "stream",
          "name": "stdout",
          "text": [
            "\n",
            "\tImitation phase =\n",
            "Goal episod = 1  Total reward=-121.0\n",
            "Goal episod = 2  Total reward=-162.0\n",
            "Goal episod = 3  Total reward=-93.0\n",
            "Goal episod = 4  Total reward=-88.0\n",
            "Goal episod = 5  Total reward=-112.0\n",
            "Goal episod = 6  Total reward=-121.0\n",
            "Goal episod = 7  Total reward=-112.0\n",
            "Goal episod = 8  Total reward=-113.0\n",
            "Goal episod = 9  Total reward=-152.0\n",
            "Goal episod = 10  Total reward=-121.0\n",
            "\n",
            "\tEpsilon = 0.2\n",
            "Goal episod = 12  Total reward=-2210.0\n",
            "Goal episod = 13  Total reward=-149.0\n",
            "Goal episod = 14  Total reward=-195.0\n",
            "Goal episod = 15  Total reward=-219.0\n",
            "Goal episod = 16  Total reward=-375.0\n",
            "Goal episod = 17  Total reward=-1376.0\n",
            "Goal episod = 18  Total reward=-251.0\n",
            "Goal episod = 19  Total reward=-317.0\n",
            "Goal episod = 20  Total reward=-662.0\n",
            "\n",
            "\tEpsilon = 0.1\n",
            "Goal episod = 21  Total reward=-439.0\n",
            "Goal episod = 22  Total reward=-577.0\n",
            "Goal episod = 23  Total reward=-325.0\n",
            "Goal episod = 24  Total reward=-507.0\n",
            "Goal episod = 25  Total reward=-223.0\n",
            "Goal episod = 26  Total reward=-239.0\n",
            "Goal episod = 27  Total reward=-158.0\n",
            "Goal episod = 28  Total reward=-359.0\n",
            "Goal episod = 29  Total reward=-1276.0\n",
            "Goal episod = 30  Total reward=-2498.0\n",
            "\n",
            "...Params Saved...\n",
            "\n",
            "\n",
            "...End of training...\n",
            "\n"
          ]
        }
      ]
    },
    {
      "cell_type": "markdown",
      "source": [
        "#####Testing del modello ottenuto - su mille campioni"
      ],
      "metadata": {
        "id": "ex9q7BmtoixQ"
      }
    },
    {
      "cell_type": "code",
      "source": [
        "def test(env):\n",
        "\n",
        "   state = env.reset()\n",
        "   env._max_episode_steps = 700\n",
        "   done = False\n",
        "\n",
        "   i = 0\n",
        "\n",
        "   while not done:\n",
        "\n",
        "      action = agent2.epsilon_greedy(state, 0.0) # con epsilon=0.0 agisce greedy\n",
        "\n",
        "      state, reward, done, _ = env.step(action[0])\n",
        "\n",
        "      i += 1\n",
        "\n",
        "\n",
        "   return i"
      ],
      "metadata": {
        "id": "Q2UaJPeqoixS"
      },
      "execution_count": null,
      "outputs": []
    },
    {
      "cell_type": "code",
      "source": [
        "env = gym.make(\"MountainCar-v0\")\n",
        "step_list = []\n",
        "\n",
        "for j in range(1,1001):\n",
        "  s = test(env)\n",
        "  step_list.append(s)\n",
        "\n",
        "env.close()\n"
      ],
      "metadata": {
        "id": "XkVkA3v1yUgO"
      },
      "execution_count": null,
      "outputs": []
    },
    {
      "cell_type": "code",
      "source": [
        "plt.figure(figsize=(8, 4))\n",
        "plt.plot(step_list)\n",
        "plt.ylabel(\"Step for Goal\")\n",
        "plt.xlabel(\"Episodes\")\n",
        "\n",
        "plt.show()"
      ],
      "metadata": {
        "id": "a8I66D8G02om"
      },
      "execution_count": null,
      "outputs": []
    },
    {
      "cell_type": "code",
      "source": [
        "count_less_than= 0\n",
        "limit = 170\n",
        "\n",
        "for number in step_list:\n",
        "    if number <= limit:\n",
        "        count_less_than += 1\n",
        "\n",
        "percentage_less_than= (count_less_than / len(step_list)) * 100\n",
        "\n",
        "\n",
        "print(f\"Percentage of Step less than\", limit,\":\\n\", percentage_less_than, \"%\")"
      ],
      "metadata": {
        "colab": {
          "base_uri": "https://localhost:8080/"
        },
        "id": "Farw46Kj1W8D",
        "outputId": "3061c4f3-6654-4903-c8be-17fcff7d3fe0"
      },
      "execution_count": null,
      "outputs": [
        {
          "output_type": "stream",
          "name": "stdout",
          "text": [
            "Percentage of Step less than 170 :\n",
            " 60.5 %\n"
          ]
        }
      ]
    }
  ]
}
