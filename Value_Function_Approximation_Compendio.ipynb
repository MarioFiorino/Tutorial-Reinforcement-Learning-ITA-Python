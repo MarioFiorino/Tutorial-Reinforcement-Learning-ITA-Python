{
  "nbformat": 4,
  "nbformat_minor": 0,
  "metadata": {
    "colab": {
      "provenance": [],
      "collapsed_sections": [
        "o11bM0eqbvYC",
        "csd6dOJNHEQt",
        "K6I7WJwc1vMw",
        "cZjc5fAz8ab_"
      ]
    },
    "kernelspec": {
      "name": "python3",
      "display_name": "Python 3"
    },
    "language_info": {
      "name": "python"
    }
  },
  "cells": [
    {
      "cell_type": "markdown",
      "source": [
        "#Value Function Approximation - Compendio\n",
        "\n",
        "Mario Fiorino"
      ],
      "metadata": {
        "id": "UUKWWcG9Jcg_"
      }
    },
    {
      "cell_type": "markdown",
      "source": [
        "**Limiti dei metodi RL tabulari (look-up table):**\n",
        "\n",
        "i requisiti di memoria per archiviare in una tabelle spazi di stato/azione molto grandi, oggi sembrano irrealizzabili; inoltre, visitare adeguatamente ciascuna coppia stato-azione richiede un tempo enorme\n",
        "\n",
        "\n",
        "**Idea:**\n",
        "\n",
        "superare tali limitazioni con  tecniche di approssimazione di funzioni. In pratica : si utilizza una funzione (ad esempio le reti neural) che approssima la value-fuction di ogni stato."
      ],
      "metadata": {
        "id": "jBPWH_VoJp2N"
      }
    },
    {
      "cell_type": "markdown",
      "source": [
        "## Nozioni principali\n",
        "\n",
        "**Modellizazzione lineare**\n",
        "\n",
        "Idea è di approssimare la function value $v(s;\\mathbf{w})$ , oppure la value-action $q$, con una funzione lineare parametrizzata dai i pesi $\\mathbf{w}$:\n",
        "\n",
        "$v(s;\\mathbf{w}) =  \\mathbf{w} ^\\intercal \\mathbf{x}(s) =  \\sum_i ^d w_i x_i(s)  $\n",
        "\n",
        "\n",
        "Dove il vettore colonna di dimensione $d$:\n",
        "\n",
        "$\\mathbf{x}(s) = (x_1(s), x_2(s),...,x_d(s) )^\\intercal $\n",
        "\n",
        "è detto **feature vector**; questo mappa ogni stato $s$ in $\\mathbb{R}^d$. Precisamente i $d$ componenti, dette features, sono del tipo $ x_i : s → \\mathbb{R}$.\n",
        "\n",
        "In genere, il numero $d$ delle features è molto inferiore alla dimensione dello spazio degli stati.\n",
        "\n",
        "Si assume che le features siano funzioni note.\n",
        "\n",
        "I parametri $\\mathbf{w}$ sono le \"low-dimensional embeddings\" che desideriamo apprendere.\n",
        "\n",
        "Per maggiori info sulle \"Feature Construction for Linear Methods\" vedere il testo di Sutton & Barto, 2018, PDF 231\n",
        "\n",
        "\n",
        "Maggiori info sul Linear Q-learning:\n",
        "\n",
        "https://gibberblot.github.io/rl-notes/single-agent/function-approximation.html\n",
        "\n",
        "Ref:\n",
        "\n",
        "https://users.ece.cmu.edu/~yuejiec/ece18813B_notes/lecture16-linear-function-approximation.pdf\n"
      ],
      "metadata": {
        "id": "SoNKGmPILe95"
      }
    },
    {
      "cell_type": "markdown",
      "source": [
        "**Modellizzazione non lineare**\n",
        "\n",
        "Questo tipo di modellizzazione utilizza funzioni non lineari per approssimare la funzione $v(s;\\mathbf{w})$, in particolare usa reti neurali artificiali addestrate con la backpropagation. Ha guadagnato grande popolarità negli ultimi anni sotto il nome di **deep reinforcement learning**."
      ],
      "metadata": {
        "id": "3ilNWSgAVFv1"
      }
    },
    {
      "cell_type": "markdown",
      "source": [
        "**Gradient Descent Algorithm**\n",
        "\n",
        "Definita $J(\\mathbf{w})$, funzione differenziabile rispetti il vettore che ne definisce i parametri $\\mathbf{w}$\n",
        "\n",
        "Per trovare il minimo locale di $J(\\mathbf{w})$ aggiustimo iterativamente i valori di $\\mathbf{w}$ in direzione del gradiente di $J$:\n",
        "\n",
        "$\\mathbf{w}_{t+1} \\doteq \\mathbf{w}_{t} - α ∇_{\\mathbf{w}}J(\\mathbf{w}_{t}) $\n",
        "\n",
        "Sia il learning rate:  $ α > 0 $\n"
      ],
      "metadata": {
        "id": "ZX1jue7cVPQ5"
      }
    },
    {
      "cell_type": "markdown",
      "source": [
        "##Incremental update\n",
        "\n",
        "\n",
        "Premesse:\n",
        "\n",
        "La derivata rispetto $w$ di una funzione del tipo $(1-w)^2$ è la seguente : $\\frac{d (1-w)^2}{dw} =  \\frac{d (-w)}{dw} \\cdot 2 \\cdot (1-w)  = -  2 \\cdot (1-w) $\n",
        "\n",
        "$\\;$\n",
        "\n",
        "Definizioni:\n",
        "\n",
        "1.\n",
        "\n",
        "True value function:\n",
        "\n",
        "$v_\\pi(s)$ è un ideale value-fuction che si ottiene seguendo una certa policy $\\pi$.  Di fatto $v_\\pi(s)$ è una funzione valore sconosciuta (se lo fosse, non avremo bisogno di queste tecniche di Value Function Approximation) , si usa solo con finalità didattiche. $v_\\pi(s)$ è funge da nostro target.\n",
        "\n",
        "2.\n",
        "\n",
        "Approximate value function\n",
        "\n",
        "$v̂(s;\\mathbf{w})$ è il modello che ci interessa apprendere, in funzione degli stati e dei pesi.\n",
        "\n",
        "3.\n",
        "\n",
        "Objective function (o loss fuction):\n",
        "\n",
        "$J(s; \\mathbf{w}) = \\frac{1}{2} \\; \\mathbb{E}_{s \\sim \\pi} [ (v_\\pi(s) - v̂(s;\\mathbf{w}))^2 ]$\n",
        "\n",
        "\n",
        "\n",
        "che quantifica la discrepanza tra le previsioni del modello e i dati del target. Nota l'unico ruolo del fattore $\\frac{1}{2}$  è quello di semplificare la notazione matematica, rendendola più concisa dopo l'operazione di derivazione che seguirà. La presenza o meno di tale fattore non modifica i nostri intenti.\n",
        "\n",
        "\n",
        "\n",
        "$\\;$\n",
        "\n",
        "Scopo:\n",
        "\n",
        "al fine di trovare un minimo locale di $J(s; \\mathbf{w})$ applichiamo il Gradient Descent Algorithm:\n",
        "\n",
        "$∇_{\\mathbf{w}} J(s; \\mathbf{w}) = - [ (v_\\pi(s) - v̂(s;\\mathbf{w}))] \\cdot ∇_{\\mathbf{w}} v̂(s;\\mathbf{w}) $\n",
        "\n",
        "che inserito nella formula di update dei parametri, la trasforma :\n",
        "\n",
        "$\\mathbf{w}_{t+1} \\doteq \\mathbf{w}_{t} + α [ (v_\\pi(s_t) - v̂(s_t;\\mathbf{w_t}))] \\cdot ∇_{\\mathbf{w_t}} v̂(s_t;\\mathbf{w_t}) $\n",
        "\n",
        "\n",
        "$ ∇_{\\mathbf{w_t}} v̂(s_t;\\mathbf{w_t}) = ( \\frac{\\partial v̂(s_t;\\mathbf{w_t}) }{\\partial w_1},\\frac{\\partial v̂(s_t; \\mathbf{w_t}) }{\\partial w_2} ,...,\\frac{\\partial v̂(s_t; \\mathbf{w_t}) }{\\partial w_d})^\\intercal $ è il vettore gradiente rispetto $\\mathbf{w_t}$. In pratica un vettore colonna delle derivate parziali rispetto alle singole componenti.\n",
        "\n",
        "\n",
        "Si noti.\n",
        "\n",
        "Nel caso della modellizazzione lineare la formula si riduce a:\n",
        "\n",
        "$\\mathbf{w}_{t+1} \\doteq \\mathbf{w}_{t} + α [ (v_\\pi(s_t) - v̂(s_t;\\mathbf{w_t}))] \\cdot \\mathbf{x}(s_t) $\n",
        "\n",
        "$\\;$\n",
        "\n",
        "Caso concreto:\n",
        "\n",
        "In pratica non possiamo eseguire l'aggiornamento esatto dei pesi visto sopra perché $v_\\pi(s)$ è  una idealizzazione. Però possiamo usare una qualche approssimazione di questo target, ottenuta dai dati a disposizione; indichiamo tale approssimazione con $U(s_t)$.\n",
        "\n",
        "L' update rule diventa:\n",
        "\n",
        "$\\mathbf{w}_{t+1} \\doteq \\mathbf{w}_{t} + α [ (U(s_t)  - v̂(s_t;\\mathbf{w_t}))] \\cdot ∇_{\\mathbf{w_t}} v̂(s_t;\\mathbf{w_t}) $\n",
        "\n",
        "$\\;$\n",
        "\n",
        "Come concretizzare $U(s_t)$ ?\n",
        "\n",
        "\n",
        "1.\n",
        "\n",
        "Monte Carlo target - stimare unbiased :\n",
        "$U(s_t) = G(s_t)$.\n",
        "\n",
        "Ovvero il return totale $G(s_t)$ che si ottiene partendo dalla stato $s_t$ , e segundo la policy $\\pi$\n",
        "\n",
        "Per il Gradient Monte Carlo Algorithm vedi Sutton & Barto, 2018,  PDF 224.\n",
        "\n",
        "2.\n",
        "\n",
        "Bootstrapping targets - stimantori*biased. In particolare nel caso TD(0):\n",
        "\n",
        "$U(s_t) = R_{t+1} + γ \\cdot v̂(s_{t+1}, \\mathbf{w}_{t})$\n",
        "\n",
        "I metodi TD(n) non sono veri e propri \"gradient methods\", ma sono detti semi-gradient TD(n). In tali metodi di bootstrapping (incluso DP), il target $U(s_t)$, non è utilizzato esplicitamente nel calcolo del gradiente, viene infatti pensato come una costante e non in funzione di $\\mathbf{w}$. Vedi : Sutton & Barto, 2018, PDF 224. L'algoritmo richiede questa impostazione per garantire una ragionevole convergenza; ed i motivi precisi per cui questo sia necessario non sono ancora del tutto chiari.\n",
        "\n",
        "Update rule TD(0):\n",
        "\n",
        "$\\mathbf{w}_{t+1} \\doteq \\mathbf{w}_{t} + α [ R_{t+1} + γ \\cdot v̂(s_{t+1}, \\mathbf{w}_{t}) - v̂(s_t;\\mathbf{w_t})] \\cdot ∇_{\\mathbf{w_t}} v̂(s_t;\\mathbf{w_t}) $\n",
        "\n",
        "\n",
        "\n",
        "\n",
        "\n",
        "\n",
        "\n",
        "\n",
        "\n",
        "\n",
        "\n",
        "\n",
        "\n",
        "\n",
        "\n",
        "\n",
        "\n"
      ],
      "metadata": {
        "id": "03L-P7QnZjCv"
      }
    },
    {
      "cell_type": "markdown",
      "source": [
        "##The deadly triad\n",
        "\n",
        "\n",
        "Sutton & Barto, 2018,PDF 286\n",
        "\n",
        "L'integrazione dei seguenti tre elementi all'interno di un singolo algoritmo può determinare l'insorgere di fenomeni di instabilità e divergenza:\n",
        "\n",
        "- Function approximation:\n",
        "un modo potente e scalabile per trattare spazi di stati molto più grande della memoria e delle risorse computazionali disponibili\n",
        "\n",
        "- Bootstrapping: \"learning value estimates from other value estimates\", vedi la dynamic\n",
        "programming ed il  Temporal-Difference method\n",
        "\n",
        "- Off-policy training: avere una behavior policy che genera i dati, diversa dalla target policy ovvero, dalla politica ottimale che l'agente desidera imparare. Vedi Q-learning.\n",
        "\n",
        "\n",
        "$\\;$\n",
        "\n",
        "Sutton scrive:\n",
        "\n",
        "*If any two elements of the deadly triad are present, but not all three, then instability can be avoided.*\n",
        "\n",
        "\n"
      ],
      "metadata": {
        "id": "ecfBa20KMfRF"
      }
    },
    {
      "cell_type": "markdown",
      "source": [
        "# Coding: Solve gym's Cartpole problem DQN vs. Gradient Monte Carlo control and more ..."
      ],
      "metadata": {
        "id": "t_HW5QInQQbk"
      }
    },
    {
      "cell_type": "markdown",
      "source": [
        "##Moduli"
      ],
      "metadata": {
        "id": "o11bM0eqbvYC"
      }
    },
    {
      "cell_type": "code",
      "source": [
        "import sys\n",
        "IN_COLAB = \"google.colab\" in sys.modules\n",
        "\n",
        "if IN_COLAB:\n",
        "    !apt install python-opengl\n",
        "    !apt install ffmpeg\n",
        "    !apt install xvfb\n",
        "    !pip install PyVirtualDisplay==3.0\n",
        "    !pip install gymnasium==0.28.1\n",
        "    from pyvirtualdisplay import Display\n",
        "\n",
        "    # Start virtual display\n",
        "    dis = Display(visible=0, size=(400, 400))\n",
        "    dis.start()\n",
        "\n",
        "import os\n",
        "from typing import Dict, List, Tuple\n",
        "import warnings\n",
        "warnings.filterwarnings('ignore')\n",
        "\n",
        "import gymnasium as gym\n",
        "import matplotlib.pyplot as plt\n",
        "import numpy as np\n",
        "\n",
        "import torch\n",
        "import torch.nn as nn\n",
        "import torch.nn.functional as F\n",
        "import torch.optim as optim\n",
        "\n",
        "from IPython.display import clear_output"
      ],
      "metadata": {
        "colab": {
          "base_uri": "https://localhost:8080/"
        },
        "id": "LSvE0B3GbxYW",
        "outputId": "96b42776-e241-46ec-8f55-d5e5559cea71"
      },
      "execution_count": null,
      "outputs": [
        {
          "output_type": "stream",
          "name": "stdout",
          "text": [
            "Reading package lists... Done\n",
            "Building dependency tree... Done\n",
            "Reading state information... Done\n",
            "\u001b[1;31mE: \u001b[0mUnable to locate package python-opengl\u001b[0m\n",
            "Reading package lists... Done\n",
            "Building dependency tree... Done\n",
            "Reading state information... Done\n",
            "ffmpeg is already the newest version (7:4.4.2-0ubuntu0.22.04.1).\n",
            "0 upgraded, 0 newly installed, 0 to remove and 45 not upgraded.\n",
            "Reading package lists... Done\n",
            "Building dependency tree... Done\n",
            "Reading state information... Done\n",
            "The following additional packages will be installed:\n",
            "  libfontenc1 libxfont2 libxkbfile1 x11-xkb-utils xfonts-base xfonts-encodings xfonts-utils\n",
            "  xserver-common\n",
            "The following NEW packages will be installed:\n",
            "  libfontenc1 libxfont2 libxkbfile1 x11-xkb-utils xfonts-base xfonts-encodings xfonts-utils\n",
            "  xserver-common xvfb\n",
            "0 upgraded, 9 newly installed, 0 to remove and 45 not upgraded.\n",
            "Need to get 7,813 kB of archives.\n",
            "After this operation, 11.9 MB of additional disk space will be used.\n",
            "Get:1 http://archive.ubuntu.com/ubuntu jammy/main amd64 libfontenc1 amd64 1:1.1.4-1build3 [14.7 kB]\n",
            "Get:2 http://archive.ubuntu.com/ubuntu jammy/main amd64 libxfont2 amd64 1:2.0.5-1build1 [94.5 kB]\n",
            "Get:3 http://archive.ubuntu.com/ubuntu jammy/main amd64 libxkbfile1 amd64 1:1.1.0-1build3 [71.8 kB]\n",
            "Get:4 http://archive.ubuntu.com/ubuntu jammy/main amd64 x11-xkb-utils amd64 7.7+5build4 [172 kB]\n",
            "Get:5 http://archive.ubuntu.com/ubuntu jammy/main amd64 xfonts-encodings all 1:1.0.5-0ubuntu2 [578 kB]\n",
            "Get:6 http://archive.ubuntu.com/ubuntu jammy/main amd64 xfonts-utils amd64 1:7.7+6build2 [94.6 kB]\n",
            "Get:7 http://archive.ubuntu.com/ubuntu jammy/main amd64 xfonts-base all 1:1.0.5 [5,896 kB]\n",
            "Get:8 http://archive.ubuntu.com/ubuntu jammy-updates/main amd64 xserver-common all 2:21.1.4-2ubuntu1.7~22.04.10 [28.5 kB]\n",
            "Get:9 http://archive.ubuntu.com/ubuntu jammy-updates/universe amd64 xvfb amd64 2:21.1.4-2ubuntu1.7~22.04.10 [863 kB]\n",
            "Fetched 7,813 kB in 0s (33.6 MB/s)\n",
            "Selecting previously unselected package libfontenc1:amd64.\n",
            "(Reading database ... 121918 files and directories currently installed.)\n",
            "Preparing to unpack .../0-libfontenc1_1%3a1.1.4-1build3_amd64.deb ...\n",
            "Unpacking libfontenc1:amd64 (1:1.1.4-1build3) ...\n",
            "Selecting previously unselected package libxfont2:amd64.\n",
            "Preparing to unpack .../1-libxfont2_1%3a2.0.5-1build1_amd64.deb ...\n",
            "Unpacking libxfont2:amd64 (1:2.0.5-1build1) ...\n",
            "Selecting previously unselected package libxkbfile1:amd64.\n",
            "Preparing to unpack .../2-libxkbfile1_1%3a1.1.0-1build3_amd64.deb ...\n",
            "Unpacking libxkbfile1:amd64 (1:1.1.0-1build3) ...\n",
            "Selecting previously unselected package x11-xkb-utils.\n",
            "Preparing to unpack .../3-x11-xkb-utils_7.7+5build4_amd64.deb ...\n",
            "Unpacking x11-xkb-utils (7.7+5build4) ...\n",
            "Selecting previously unselected package xfonts-encodings.\n",
            "Preparing to unpack .../4-xfonts-encodings_1%3a1.0.5-0ubuntu2_all.deb ...\n",
            "Unpacking xfonts-encodings (1:1.0.5-0ubuntu2) ...\n",
            "Selecting previously unselected package xfonts-utils.\n",
            "Preparing to unpack .../5-xfonts-utils_1%3a7.7+6build2_amd64.deb ...\n",
            "Unpacking xfonts-utils (1:7.7+6build2) ...\n",
            "Selecting previously unselected package xfonts-base.\n",
            "Preparing to unpack .../6-xfonts-base_1%3a1.0.5_all.deb ...\n",
            "Unpacking xfonts-base (1:1.0.5) ...\n",
            "Selecting previously unselected package xserver-common.\n",
            "Preparing to unpack .../7-xserver-common_2%3a21.1.4-2ubuntu1.7~22.04.10_all.deb ...\n",
            "Unpacking xserver-common (2:21.1.4-2ubuntu1.7~22.04.10) ...\n",
            "Selecting previously unselected package xvfb.\n",
            "Preparing to unpack .../8-xvfb_2%3a21.1.4-2ubuntu1.7~22.04.10_amd64.deb ...\n",
            "Unpacking xvfb (2:21.1.4-2ubuntu1.7~22.04.10) ...\n",
            "Setting up libfontenc1:amd64 (1:1.1.4-1build3) ...\n",
            "Setting up xfonts-encodings (1:1.0.5-0ubuntu2) ...\n",
            "Setting up libxkbfile1:amd64 (1:1.1.0-1build3) ...\n",
            "Setting up libxfont2:amd64 (1:2.0.5-1build1) ...\n",
            "Setting up x11-xkb-utils (7.7+5build4) ...\n",
            "Setting up xfonts-utils (1:7.7+6build2) ...\n",
            "Setting up xfonts-base (1:1.0.5) ...\n",
            "Setting up xserver-common (2:21.1.4-2ubuntu1.7~22.04.10) ...\n",
            "Setting up xvfb (2:21.1.4-2ubuntu1.7~22.04.10) ...\n",
            "Processing triggers for man-db (2.10.2-1) ...\n",
            "Processing triggers for fontconfig (2.13.1-4.2ubuntu5) ...\n",
            "Processing triggers for libc-bin (2.35-0ubuntu3.4) ...\n",
            "/sbin/ldconfig.real: /usr/local/lib/libtbb.so.12 is not a symbolic link\n",
            "\n",
            "/sbin/ldconfig.real: /usr/local/lib/libtbbmalloc.so.2 is not a symbolic link\n",
            "\n",
            "/sbin/ldconfig.real: /usr/local/lib/libtbbbind.so.3 is not a symbolic link\n",
            "\n",
            "/sbin/ldconfig.real: /usr/local/lib/libtbbmalloc_proxy.so.2 is not a symbolic link\n",
            "\n",
            "/sbin/ldconfig.real: /usr/local/lib/libtbbbind_2_5.so.3 is not a symbolic link\n",
            "\n",
            "/sbin/ldconfig.real: /usr/local/lib/libtbbbind_2_0.so.3 is not a symbolic link\n",
            "\n",
            "Collecting PyVirtualDisplay==3.0\n",
            "  Downloading PyVirtualDisplay-3.0-py3-none-any.whl (15 kB)\n",
            "Installing collected packages: PyVirtualDisplay\n",
            "Successfully installed PyVirtualDisplay-3.0\n",
            "Collecting gymnasium==0.28.1\n",
            "  Downloading gymnasium-0.28.1-py3-none-any.whl (925 kB)\n",
            "\u001b[2K     \u001b[90m━━━━━━━━━━━━━━━━━━━━━━━━━━━━━━━━━━━━━━━━\u001b[0m \u001b[32m925.5/925.5 kB\u001b[0m \u001b[31m15.2 MB/s\u001b[0m eta \u001b[36m0:00:00\u001b[0m\n",
            "\u001b[?25hRequirement already satisfied: numpy>=1.21.0 in /usr/local/lib/python3.10/dist-packages (from gymnasium==0.28.1) (1.25.2)\n",
            "Collecting jax-jumpy>=1.0.0 (from gymnasium==0.28.1)\n",
            "  Downloading jax_jumpy-1.0.0-py3-none-any.whl (20 kB)\n",
            "Requirement already satisfied: cloudpickle>=1.2.0 in /usr/local/lib/python3.10/dist-packages (from gymnasium==0.28.1) (2.2.1)\n",
            "Requirement already satisfied: typing-extensions>=4.3.0 in /usr/local/lib/python3.10/dist-packages (from gymnasium==0.28.1) (4.11.0)\n",
            "Collecting farama-notifications>=0.0.1 (from gymnasium==0.28.1)\n",
            "  Downloading Farama_Notifications-0.0.4-py3-none-any.whl (2.5 kB)\n",
            "Installing collected packages: farama-notifications, jax-jumpy, gymnasium\n",
            "Successfully installed farama-notifications-0.0.4 gymnasium-0.28.1 jax-jumpy-1.0.0\n"
          ]
        }
      ]
    },
    {
      "cell_type": "markdown",
      "source": [
        "## DQN"
      ],
      "metadata": {
        "id": "csd6dOJNHEQt"
      }
    },
    {
      "cell_type": "code",
      "execution_count": null,
      "metadata": {
        "id": "XRFp4Ra8JJ26"
      },
      "outputs": [],
      "source": [
        "#codice ispirato:\n",
        "#https://colab.research.google.com/github/Curt-Park/rainbow-is-all-you-need/blob/master/01.dqn.ipynb"
      ]
    },
    {
      "cell_type": "markdown",
      "source": [
        "### Network\n",
        "\n"
      ],
      "metadata": {
        "id": "sAq5m-iFfEem"
      }
    },
    {
      "cell_type": "code",
      "source": [
        "class Network(nn.Module):\n",
        "    def __init__(self, in_dim: int, out_dim: int):\n",
        "      # in:  state\n",
        "      # out: 2 x q_value_state_action\n",
        "        super(Network, self).__init__()\n",
        "\n",
        "        self.layers = nn.Sequential(\n",
        "            nn.Linear(in_dim, 128),\n",
        "            nn.ReLU(),\n",
        "            nn.Linear(128, 128),\n",
        "            nn.ReLU(),\n",
        "            nn.Linear(128, out_dim)\n",
        "        )\n",
        "\n",
        "    def forward(self, x: torch.Tensor) -> torch.Tensor:\n",
        "        return self.layers(x)"
      ],
      "metadata": {
        "id": "MEC0Z5FmfFPH"
      },
      "execution_count": null,
      "outputs": []
    },
    {
      "cell_type": "markdown",
      "source": [
        "###Experience Replay Memory\n",
        "\n",
        "The Experience Replay Memory data structure, indicated in this notebook with $U(D)$, allows to reduce the probability that adjacent transitions ($s, a, r, s'$) have a correlation.\n",
        "\n",
        "This structure allows the agent to sample experiences in a uniform random way, thus ensuring an independent distribution of transitions."
      ],
      "metadata": {
        "id": "ZjeI-K4Wb5nI"
      }
    },
    {
      "cell_type": "code",
      "source": [
        "class ReplayBuffer:\n",
        "    \"\"\"A simple numpy replay buffer.\"\"\"\n",
        "\n",
        "    def __init__(self, obs_dim: int, size: int, batch_size: int = 32):\n",
        "        self.obs_buf = np.zeros([size, obs_dim], dtype=np.float32)\n",
        "        self.next_obs_buf = np.zeros([size, obs_dim], dtype=np.float32)\n",
        "        self.acts_buf = np.zeros([size], dtype=np.float32)\n",
        "        self.rews_buf = np.zeros([size], dtype=np.float32)\n",
        "        self.done_buf = np.zeros(size, dtype=np.float32)\n",
        "        self.max_size, self.batch_size = size, batch_size\n",
        "        self.ptr, self.size, = 0, 0\n",
        "\n",
        "    def store(\n",
        "        self,\n",
        "        obs: np.ndarray,\n",
        "        act: np.ndarray,\n",
        "        rew: float,\n",
        "        next_obs: np.ndarray,\n",
        "        done: bool,\n",
        "    ):\n",
        "        self.obs_buf[self.ptr] = obs\n",
        "        self.next_obs_buf[self.ptr] = next_obs\n",
        "        self.acts_buf[self.ptr] = act\n",
        "        self.rews_buf[self.ptr] = rew\n",
        "        self.done_buf[self.ptr] = done\n",
        "        self.ptr = (self.ptr + 1) % self.max_size\n",
        "        self.size = min(self.size + 1, self.max_size)\n",
        "\n",
        "    def sample_batch(self) -> Dict[str, np.ndarray]:\n",
        "        idxs = np.random.choice(self.size, size=self.batch_size, replace=False)\n",
        "        return dict(obs=self.obs_buf[idxs],\n",
        "                    next_obs=self.next_obs_buf[idxs],\n",
        "                    acts=self.acts_buf[idxs],\n",
        "                    rews=self.rews_buf[idxs],\n",
        "                    done=self.done_buf[idxs])\n",
        "\n",
        "    def __len__(self) -> int:\n",
        "        return self.size\n",
        "\n",
        " #Note:\n",
        " # numpy.ndarray. numpy.ndarray is even faster than list due to the fact that it\n",
        " #is a homogeneous array of fixed-size items, so you can get the benefits of locality of reference.\n",
        " # Whereas list is an array of pointers to objects, even when all of them are of the same type."
      ],
      "metadata": {
        "id": "KHyWwhyOejd3"
      },
      "execution_count": null,
      "outputs": []
    },
    {
      "cell_type": "markdown",
      "source": [
        "### DQN Agent\n",
        "\n",
        "Compendio della classe DQNAgent .\n",
        "\n",
        "| Method           | Descrizione                                          |\n",
        "| ---              | ---                                                  |\n",
        "|select_action     | select an action from the input state.               |\n",
        "|step              | take an action and return the response of the env.   |\n",
        "|compute_dqn_loss  | return dqn loss.                                     |\n",
        "|update_model      | update the model by gradient descent.                |\n",
        "|target_hard_update| hard update from the local model to the target model.|\n",
        "|train             | train the agent during num_frames.                   |\n",
        "|test              | test the agent (1 episode).                          |\n",
        "|plot              | plot the training progresses.                        |\n"
      ],
      "metadata": {
        "id": "kJEcEwDQfjH2"
      }
    },
    {
      "cell_type": "markdown",
      "source": [
        "**Fixed Q-target**\n",
        "\n",
        "\n",
        "DQN uses an iterative update that adjusts the action-values ($Q$) towards target values that are only periodically updated, thereby reducing correlations with the target; if not, it is easily divergy because the target continuously moves. The Q-learning update at iteration $i$ uses the following loss function:\n",
        "\n",
        "$$\n",
        "L_i(\\theta_i) = \\mathbb{E}_{(s,a,r,s') \\sim U(D)} \\big[ \\big( r + \\gamma \\max_{a'} Q(s',a';\\theta_i^-) - Q(s, a; \\theta_i) \\big)^2 \\big]\n",
        "$$\n",
        "\n",
        "in which $\\gamma$ is the discount factor determining the agent’s horizon, $\\theta_i$ are the parameters of the Q-network at iteration $i$ and $\\theta_i^-$ are the network parameters used to compute the target at iteration $i$. The target network parameters $\\theta_i^-$ are only updated with the Q-network parameters ($\\theta_i$) every C steps and are held fixed between individual updates.\n",
        "\n",
        "**Gradient clipping**\n",
        "\n",
        "The authors also found it helpful to clip the error term from the update $r + \\gamma \\max_{a'} Q(s', a'; \\theta_i^-) - Q(s,a,;\\theta_i)$ to be between -1 and 1. Because the absolute value loss function $|x|$ has a derivative of -1 for all negative values of x and a derivative of 1 for all positive values of x, clipping the squared error to be between -1 and 1 corresponds to using an absolute value loss function for errors outside of the (-1,1) interval. This form of error clipping further improved the stability of the algorithm."
      ],
      "metadata": {
        "id": "r7VjAjUrhbwO"
      }
    },
    {
      "cell_type": "code",
      "source": [
        "class DQNAgent:\n",
        "    \"\"\"DQN Agent interacting with environment.\n",
        "\n",
        "    Attribute:\n",
        "        env (gym.Env): openAI Gym environment\n",
        "        memory (ReplayBuffer): replay memory to store transitions\n",
        "        batch_size (int): batch size for sampling\n",
        "        epsilon (float): parameter for epsilon greedy policy\n",
        "        epsilon_decay (float): step size to decrease epsilon\n",
        "        max_epsilon (float): max value of epsilon\n",
        "        min_epsilon (float): min value of epsilon\n",
        "        target_update (int): period for target model's hard update\n",
        "        gamma (float): discount factor\n",
        "        dqn (Network): model to train and select actions\n",
        "        dqn_target (Network): target model to update\n",
        "        optimizer (torch.optim): optimizer for training dqn\n",
        "        transition (list): transition information including\n",
        "                           state, action, reward, next_state, done\n",
        "    \"\"\"\n",
        "\n",
        "    def __init__(\n",
        "        self,\n",
        "        env: gym.Env,\n",
        "        memory_size: int,\n",
        "        batch_size: int,\n",
        "        target_update: int,\n",
        "        epsilon_decay: float,\n",
        "        max_epsilon: float = 1.0,\n",
        "        min_epsilon: float = 0.1,\n",
        "        gamma: float = 0.95,\n",
        "    ):\n",
        "        \"\"\"Initialization.\n",
        "\n",
        "        Args:\n",
        "            env (gym.Env): openAI Gym environment\n",
        "            memory_size (int): length of memory\n",
        "            batch_size (int): batch size for sampling\n",
        "            target_update (int): period for target model's hard update\n",
        "            epsilon_decay (float): step size to decrease epsilon\n",
        "            lr (float): learning rate\n",
        "            max_epsilon (float): max value of epsilon\n",
        "            min_epsilon (float): min value of epsilon\n",
        "            gamma (float): discount factor\n",
        "        \"\"\"\n",
        "        obs_dim = env.observation_space.shape[0]\n",
        "        action_dim = env.action_space.n\n",
        "\n",
        "        self.env = env\n",
        "        self.memory = ReplayBuffer(obs_dim, memory_size, batch_size)\n",
        "        self.batch_size = batch_size\n",
        "        self.epsilon = max_epsilon\n",
        "        self.epsilon_decay = epsilon_decay\n",
        "        self.max_epsilon = max_epsilon\n",
        "        self.min_epsilon = min_epsilon\n",
        "        self.target_update = target_update\n",
        "        self.gamma = gamma\n",
        "\n",
        "        # device: cpu / gpu\n",
        "        self.device = torch.device(\n",
        "            \"cuda\" if torch.cuda.is_available() else \"cpu\"\n",
        "        )\n",
        "\n",
        "        # networks: dqn, dqn_target\n",
        "        self.dqn = Network(obs_dim, action_dim).to(self.device)\n",
        "        self.dqn_target = Network(obs_dim, action_dim).to(self.device)\n",
        "        self.dqn_target.load_state_dict(self.dqn.state_dict())\n",
        "        #https://pytorch.org/tutorials/recipes/recipes/what_is_state_dict.html\n",
        "        self.dqn_target.eval()\n",
        "        # The model modality to make predictions\n",
        "        # .eval() is equivalent with self.train(False)\n",
        "        #https://pytorch.org/docs/stable/generated/torch.nn.Module.html\n",
        "        #https://www.youtube.com/watch?v=GzjRE3MUx6Q\n",
        "\n",
        "        # optimizer\n",
        "        self.optimizer = optim.Adam(self.dqn.parameters())\n",
        "\n",
        "        # transition to store in memory\n",
        "        self.transition = list()\n",
        "\n",
        "        # mode: train / test\n",
        "        self.is_test = False\n",
        "\n",
        "    def select_action(self, state: np.ndarray) -> np.ndarray:\n",
        "        \"\"\"Select an action from the input state.\"\"\"\n",
        "        # epsilon greedy policy\n",
        "        if self.epsilon > np.random.random():\n",
        "            selected_action = self.env.action_space.sample()\n",
        "        else:\n",
        "            selected_action = self.dqn(\n",
        "                torch.FloatTensor(state).to(self.device)\n",
        "            ).argmax()\n",
        "            selected_action = selected_action.detach().cpu().numpy()\n",
        "\n",
        "        if not self.is_test:\n",
        "            self.transition = [state, selected_action]\n",
        "\n",
        "        return selected_action\n",
        "\n",
        "    def step(self, action: np.ndarray) -> Tuple[np.ndarray, np.float64, bool]:\n",
        "        \"\"\"Take an action and return the response of the env.\"\"\"\n",
        "        next_state, reward, terminated, truncated, _ = self.env.step(action)\n",
        "        done = terminated or truncated\n",
        "\n",
        "        if not self.is_test:\n",
        "            self.transition += [reward, next_state, done]\n",
        "            self.memory.store(*self.transition)\n",
        "\n",
        "        return next_state, reward, done\n",
        "\n",
        "    def update_model(self) -> torch.Tensor:\n",
        "        \"\"\"Update the model by gradient descent.\"\"\"\n",
        "        samples = self.memory.sample_batch()\n",
        "\n",
        "        loss = self._compute_dqn_loss(samples)\n",
        "\n",
        "        self.optimizer.zero_grad()\n",
        "        loss.backward()\n",
        "        self.optimizer.step()\n",
        "\n",
        "        return loss.item()\n",
        "\n",
        "    def train(self, num_frames: int, plotting_interval: int = 200):\n",
        "        \"\"\"Train the agent.\"\"\"\n",
        "        self.is_test = False\n",
        "\n",
        "        state, _ = self.env.reset()\n",
        "        update_cnt = 0\n",
        "        epsilons = []\n",
        "        losses = []\n",
        "        scores = []\n",
        "        deb_list = []\n",
        "        score = 0\n",
        "        ep=1\n",
        "\n",
        "\n",
        "        for frame_idx in range(1, num_frames + 1):\n",
        "            action = self.select_action(state)\n",
        "            next_state, reward, done = self.step(action)\n",
        "\n",
        "            state = next_state\n",
        "            score += reward\n",
        "\n",
        "            # if episode ends\n",
        "            if done:\n",
        "                state, _ = self.env.reset()\n",
        "                scores.append(score)\n",
        "                # Debug\n",
        "                if ep % 10 == 0:\n",
        "                  deb_list.append((ep, frame_idx, score))\n",
        "                ep+=1\n",
        "                score = 0\n",
        "\n",
        "            # if training is ready\n",
        "            if len(self.memory) >= self.batch_size:\n",
        "                loss = self.update_model()\n",
        "                losses.append(loss)\n",
        "                update_cnt += 1\n",
        "\n",
        "                # linearly decrease epsilon\n",
        "                self.epsilon = max(\n",
        "                    self.min_epsilon, self.epsilon - (\n",
        "                        self.max_epsilon - self.min_epsilon\n",
        "                    ) * self.epsilon_decay\n",
        "                )\n",
        "                epsilons.append(self.epsilon)\n",
        "\n",
        "                # if hard update is needed\n",
        "                if update_cnt % self.target_update == 0:\n",
        "                    self._target_hard_update()\n",
        "\n",
        "            # plotting\n",
        "            if frame_idx % plotting_interval == 0:\n",
        "                self._plot(frame_idx, scores, losses, epsilons)\n",
        "\n",
        "        self.env.close()\n",
        "\n",
        "        print('\\n...End of training...\\n')\n",
        "        print('Resume')\n",
        "        print('Episode - Tot frame -  Score Episode')\n",
        "        for ideb in deb_list:\n",
        "          print(ideb)\n",
        "\n",
        "    def test(self, video_folder: str) -> None:\n",
        "        \"\"\"Test the agent.\"\"\"\n",
        "        self.is_test = True\n",
        "\n",
        "        # for recording a video\n",
        "        naive_env = self.env\n",
        "        self.env = gym.wrappers.RecordVideo(self.env, video_folder=video_folder)\n",
        "\n",
        "        state, _ = self.env.reset()\n",
        "        done = False\n",
        "        score = 0\n",
        "\n",
        "        while not done:\n",
        "            action = self.select_action(state)\n",
        "            next_state, reward, done = self.step(action)\n",
        "\n",
        "            state = next_state\n",
        "            score += reward\n",
        "\n",
        "        print(\"score: \", score)\n",
        "        self.env.close()\n",
        "\n",
        "        # reset\n",
        "        self.env = naive_env\n",
        "\n",
        "    def _compute_dqn_loss(self, samples: Dict[str, np.ndarray]) -> torch.Tensor:\n",
        "        \"\"\"Return dqn loss.\"\"\"\n",
        "        device = self.device  # for shortening the following lines\n",
        "        state = torch.FloatTensor(samples[\"obs\"]).to(device)\n",
        "        next_state = torch.FloatTensor(samples[\"next_obs\"]).to(device)\n",
        "        action = torch.LongTensor(samples[\"acts\"].reshape(-1, 1)).to(device)\n",
        "        reward = torch.FloatTensor(samples[\"rews\"].reshape(-1, 1)).to(device)\n",
        "        done = torch.FloatTensor(samples[\"done\"].reshape(-1, 1)).to(device)\n",
        "\n",
        "        # G_t   = r + gamma * v(s_{t+1})  if state != Terminal\n",
        "        #       = r                       otherwise\n",
        "        curr_q_value = self.dqn(state).gather(1, action)\n",
        "        next_q_value = self.dqn_target(\n",
        "            next_state\n",
        "        ).max(dim=1, keepdim=True)[0].detach()\n",
        "        mask = 1 - done\n",
        "        #if done == True then mask == 0 -> target = reward\n",
        "        target = (reward + self.gamma * next_q_value * mask).to(self.device)\n",
        "\n",
        "        # calculate dqn loss\n",
        "        loss =   F.smooth_l1_loss(curr_q_value, target)\n",
        "        #Alternative\n",
        "        #loss_f = nn.MSELoss()\n",
        "        #loss = loss_f(curr_q_value, target)\n",
        "\n",
        "        return loss\n",
        "\n",
        "    def _target_hard_update(self):\n",
        "        \"\"\"Hard update: target <- local.\"\"\"\n",
        "        self.dqn_target.load_state_dict(self.dqn.state_dict())\n",
        "\n",
        "    def _plot(\n",
        "        self,\n",
        "        frame_idx: int,\n",
        "        scores: List[float],\n",
        "        losses: List[float],\n",
        "        epsilons: List[float],\n",
        "    ):\n",
        "        \"\"\"Plot the training progresses.\"\"\"\n",
        "        clear_output(True)\n",
        "        plt.figure(figsize=(20, 5))\n",
        "        plt.subplot(131)\n",
        "        plt.title('frame %s. score: %s' % (frame_idx, np.mean(scores[-10:])))\n",
        "        plt.plot(scores)\n",
        "        plt.subplot(132)\n",
        "        plt.title('loss')\n",
        "        plt.plot(losses)\n",
        "        plt.subplot(133)\n",
        "        plt.title('epsilons')\n",
        "        plt.plot(epsilons)\n",
        "        plt.show()\n",
        "\n"
      ],
      "metadata": {
        "id": "4nh60iF0fMyD"
      },
      "execution_count": null,
      "outputs": []
    },
    {
      "cell_type": "markdown",
      "source": [
        "### Parametri ed inizializzazioni DQN"
      ],
      "metadata": {
        "id": "heZz3WlanSle"
      }
    },
    {
      "cell_type": "code",
      "source": [
        "# environment\n",
        "env = gym.make(\"CartPole-v1\", max_episode_steps=300, render_mode=\"rgb_array\")\n",
        "\n",
        "\n",
        "# parameters\n",
        "num_frames = 12_000\n",
        "memory_size = 1000\n",
        "batch_size = 32\n",
        "target_update = 300\n",
        "epsilon_decay = 1 / 4_000\n",
        "\n",
        "agent = DQNAgent(env, memory_size, batch_size, target_update, epsilon_decay)"
      ],
      "metadata": {
        "id": "WWDwrrWtfUkt"
      },
      "execution_count": null,
      "outputs": []
    },
    {
      "cell_type": "markdown",
      "source": [
        "### Train DQN"
      ],
      "metadata": {
        "id": "jlUCp-UxpPSV"
      }
    },
    {
      "cell_type": "code",
      "source": [
        "agent.train(num_frames)\n",
        "#Commenti:\n",
        "#https://wandb.ai/peacekurella/Hitchiker-s-Guide-to-the-Galaxy-of-Reinforcement-Learning/reports/A-Brief-Overview-of-DQN-training--Vmlldzo1NTk5Mjk#:~:text=One%20interesting%20phenomenon%20to%20watch,and%20the%20policy%20network%20synchronize.\n"
      ],
      "metadata": {
        "colab": {
          "base_uri": "https://localhost:8080/",
          "height": 588
        },
        "id": "yolIlBUjpHW0",
        "outputId": "5114ea0d-e029-4e2b-d4b2-2364f38806a1"
      },
      "execution_count": null,
      "outputs": [
        {
          "output_type": "display_data",
          "data": {
            "text/plain": [
              "<Figure size 2000x500 with 3 Axes>"
            ],
            "image/png": "[encoded data removed]"
          },
          "metadata": {}
        },
        {
          "output_type": "stream",
          "name": "stdout",
          "text": [
            "\n",
            "...End of training...\n",
            "\n",
            "Resume\n",
            "Episode - Tot frame -  Score Episode\n",
            "(10, 202, 19.0)\n",
            "(20, 397, 32.0)\n",
            "(30, 600, 24.0)\n",
            "(40, 819, 31.0)\n",
            "(50, 1038, 15.0)\n",
            "(60, 1331, 37.0)\n",
            "(70, 1931, 177.0)\n",
            "(80, 2990, 195.0)\n",
            "(90, 4622, 195.0)\n",
            "(100, 6905, 201.0)\n",
            "(110, 9612, 62.0)\n",
            "(120, 11944, 300.0)\n"
          ]
        }
      ]
    },
    {
      "cell_type": "markdown",
      "source": [
        "#### Test DQN"
      ],
      "metadata": {
        "id": "FONrCLRnz-R2"
      }
    },
    {
      "cell_type": "code",
      "source": [
        "video_folder=\"videos/dqn\"\n",
        "agent.test(video_folder=video_folder)\n"
      ],
      "metadata": {
        "colab": {
          "base_uri": "https://localhost:8080/"
        },
        "id": "VdEpdEWkzy_2",
        "outputId": "5e11c969-f8e7-4cea-f8c0-3e04b614eaa2"
      },
      "execution_count": null,
      "outputs": [
        {
          "output_type": "stream",
          "name": "stdout",
          "text": [
            "Moviepy - Building video /content/videos/dqn/rl-video-episode-0.mp4.\n",
            "Moviepy - Writing video /content/videos/dqn/rl-video-episode-0.mp4\n",
            "\n"
          ]
        },
        {
          "output_type": "stream",
          "name": "stderr",
          "text": []
        },
        {
          "output_type": "stream",
          "name": "stdout",
          "text": [
            "Moviepy - Done !\n",
            "Moviepy - video ready /content/videos/dqn/rl-video-episode-0.mp4\n",
            "score:  300.0\n"
          ]
        }
      ]
    },
    {
      "cell_type": "code",
      "source": [
        "import base64\n",
        "import glob\n",
        "import io\n",
        "import os\n",
        "\n",
        "from IPython.display import HTML, display\n",
        "\n",
        "\n",
        "def ipython_show_video(path: str) -> None:\n",
        "    \"\"\"Show a video at `path` within IPython Notebook.\"\"\"\n",
        "    if not os.path.isfile(path):\n",
        "        raise NameError(\"Cannot access: {}\".format(path))\n",
        "\n",
        "    video = io.open(path, \"r+b\").read()\n",
        "    encoded = base64.b64encode(video)\n",
        "\n",
        "    display(HTML(\n",
        "        data=\"\"\"\n",
        "        <video width=\"320\" height=\"240\" alt=\"test\" controls>\n",
        "        <source src=\"data:video/mp4;base64,{0}\" type=\"video/mp4\"/>\n",
        "        </video>\n",
        "        \"\"\".format(encoded.decode(\"ascii\"))\n",
        "    ))\n",
        "\n",
        "\n",
        "def show_latest_video(video_folder: str) -> str:\n",
        "    \"\"\"Show the most recently recorded video from video folder.\"\"\"\n",
        "    list_of_files = glob.glob(os.path.join(video_folder, \"*.mp4\"))\n",
        "    latest_file = max(list_of_files, key=os.path.getctime)\n",
        "    ipython_show_video(latest_file)\n",
        "    return latest_file\n",
        "\n",
        "\n",
        "latest_file = show_latest_video(video_folder=video_folder)\n",
        "print(\"Played:\", latest_file)"
      ],
      "metadata": {
        "id": "YB4h6Zsqz9Sm"
      },
      "execution_count": null,
      "outputs": []
    },
    {
      "cell_type": "markdown",
      "source": [
        "##Gradient Monte Carlo target control\n",
        "\n",
        "In this section the Gradient Monte Carlo target control algorithm is implemented, using a network of smaller sizes than the one used in the DQN section (and with a greater number of episodes for training)."
      ],
      "metadata": {
        "id": "vT6mBtsViAZ_"
      }
    },
    {
      "cell_type": "code",
      "source": [
        "class QNetwork(nn.Module):\n",
        "    def __init__(self, input_dim, hidden_dim, output_dim):\n",
        "        super(QNetwork, self).__init__()\n",
        "        self.fc1 = nn.Linear(input_dim, hidden_dim)\n",
        "        self.relu = nn.ReLU()\n",
        "        self.fc2 = nn.Linear(hidden_dim, output_dim)\n",
        "\n",
        "    def forward(self, x):\n",
        "        x = self.fc1(x)\n",
        "        x = self.relu(x)\n",
        "        x = self.fc2(x)\n",
        "        return x\n",
        "\n",
        "def epsilon_greedy_policy(q_values, epsilon):\n",
        "    if np.random.rand() < epsilon:\n",
        "        return np.random.randint(len(q_values))\n",
        "    else:\n",
        "        return np.argmax(q_values)\n",
        "\n",
        "def gradient_monte_carlo_control(env, q_net, optimizer, num_episodes, gamma=1.0, epsilon=0.1):\n",
        "\n",
        "    q_net.train()\n",
        "\n",
        "    scores = []\n",
        "    losses = []\n",
        "\n",
        "    for episode in range(1,num_episodes+1):\n",
        "        state,_ = env.reset()\n",
        "        #In the recent versions of OpenAI gym, env.reset() returns a tuple of (observation, info)\n",
        "        # and not just observation\n",
        "\n",
        "        rewards = []\n",
        "        states = []\n",
        "        actions = []\n",
        "\n",
        "        done = False\n",
        "        #trunc = False\n",
        "        # \"trunc\"  is used to avoid peaks in scores during the training, example score = 100_000.\n",
        "        # Setting the score limit to \"max_episode_steps\".\n",
        "\n",
        "        #while done== False and trunc == False:\n",
        "        while done== False:\n",
        "            state_tensor = torch.FloatTensor(state).unsqueeze(0)\n",
        "            q_values = q_net(state_tensor).detach().numpy().squeeze()\n",
        "            action = epsilon_greedy_policy(q_values, epsilon)\n",
        "\n",
        "            states.append(state)\n",
        "            actions.append(action)\n",
        "\n",
        "            next_state, reward, done, trunc, _ = env.step(action)\n",
        "            rewards.append(reward)\n",
        "            state = next_state\n",
        "\n",
        "        # Calculate returns\n",
        "        returns = []\n",
        "        G = 0\n",
        "        for reward in reversed(rewards):\n",
        "            G = reward + gamma * G\n",
        "            returns.insert(0, G)\n",
        "\n",
        "        # Update Q-network\n",
        "        loss_mean = 0\n",
        "        optimizer.zero_grad()\n",
        "        for state, action, G in zip(states, actions, returns):\n",
        "            state_tensor = torch.FloatTensor(state).unsqueeze(0)\n",
        "            G_tensor = torch.FloatTensor([G])\n",
        "            q_values = q_net(state_tensor)\n",
        "            q_value = q_values[0, action]\n",
        "            loss = abs(q_value - G_tensor)\n",
        "            loss_mean += loss\n",
        "            loss.backward()\n",
        "            optimizer.step()\n",
        "\n",
        "        losses.append(loss_mean.detach().numpy()/len(states))\n",
        "        scores.append(returns[0])\n",
        "\n",
        "        if (episode % 50) == 0:\n",
        "            #print(f\"Episode {episode + 1}/{num_episodes}, Loss: {loss.item()}, Score : {returns[0]}\")\n",
        "            clear_output(True)\n",
        "            plt.figure(figsize=(12, 5))\n",
        "            plt.subplot(131)\n",
        "            plt.title('Episode %s. - Score %s' % (episode,scores[episode-1]))\n",
        "            plt.plot(scores)\n",
        "            plt.subplot(132)\n",
        "            plt.title('Episode %s. - Loss mean %s' % (episode,losses[episode-1]))\n",
        "            plt.plot(losses)\n",
        "            plt.show()\n",
        "\n",
        "env = gym.make('CartPole-v1', max_episode_steps=300)\n",
        "input_dim = env.observation_space.shape[0]\n",
        "hidden_dim = 128\n",
        "output_dim = env.action_space.n\n",
        "q_net = QNetwork(input_dim, hidden_dim, output_dim)\n",
        "optimizer = optim.Adam(q_net.parameters(), lr=0.001)\n",
        "\n",
        "num_episodes = 500\n",
        "gradient_monte_carlo_control(env, q_net, optimizer, num_episodes)\n"
      ],
      "metadata": {
        "colab": {
          "base_uri": "https://localhost:8080/",
          "height": 391
        },
        "id": "PssJlpWwip--",
        "outputId": "7e0ddcb3-3cc4-48e8-e51b-0a3e3d3a1465"
      },
      "execution_count": null,
      "outputs": [
        {
          "output_type": "display_data",
          "data": {
            "text/plain": [
              "<Figure size 1000x400 with 2 Axes>"
            ],
            "image/png": "[encoded data removed]"
          },
          "metadata": {}
        }
      ]
    },
    {
      "cell_type": "code",
      "source": [
        "def evaluate_policy(env, q_net, num_episodes):\n",
        "    q_net.eval()\n",
        "    total_rewards = []\n",
        "\n",
        "    for episode in range(num_episodes):\n",
        "        state,_ = env.reset()\n",
        "        total_reward = 0\n",
        "        done = False\n",
        "\n",
        "        while not done:\n",
        "            state_tensor = torch.FloatTensor(state).unsqueeze(0)\n",
        "            q_values = q_net(state_tensor).detach().numpy().squeeze()\n",
        "            action = np.argmax(q_values)\n",
        "\n",
        "            next_state, reward, done, _, _ = env.step(action)\n",
        "            total_reward += reward\n",
        "            state = next_state\n",
        "\n",
        "        total_rewards.append(total_reward)\n",
        "\n",
        "    average_reward = np.mean(total_rewards)\n",
        "    return average_reward\n",
        "\n",
        "# Evaluate the trained policy\n",
        "evaluation_episodes = 100\n",
        "average_reward = evaluate_policy(env, q_net, evaluation_episodes)\n",
        "print(f\"Average Reward over {evaluation_episodes} episodes: {average_reward}\")"
      ],
      "metadata": {
        "colab": {
          "base_uri": "https://localhost:8080/"
        },
        "id": "AQovhy2nnGO8",
        "outputId": "a1bd916c-ffde-4356-b5a0-036a42cd9281"
      },
      "execution_count": null,
      "outputs": [
        {
          "output_type": "stream",
          "name": "stdout",
          "text": [
            "Average Reward over 100 episodes: 575.99\n"
          ]
        }
      ]
    },
    {
      "cell_type": "markdown",
      "source": [
        "#### Test MC"
      ],
      "metadata": {
        "id": "K6I7WJwc1vMw"
      }
    },
    {
      "cell_type": "code",
      "source": [
        "video_folder=\"videos/dqn\"\n",
        "\n",
        "def campione_test(video_folder: str) -> None:\n",
        "        env = gym.make(\"CartPole-v1\",  render_mode=\"rgb_array\")\n",
        "        # for recording a video\n",
        "        naive_env = env\n",
        "        env = gym.wrappers.RecordVideo(env, video_folder=video_folder)\n",
        "\n",
        "        state, _ = env.reset()\n",
        "        done = False\n",
        "        total_reward = 0\n",
        "\n",
        "        while not done:\n",
        "            state_tensor = torch.FloatTensor(state).unsqueeze(0)\n",
        "            q_values = q_net(state_tensor).detach().numpy().squeeze()\n",
        "            action = np.argmax(q_values)\n",
        "\n",
        "            next_state, reward, done, _, _ = env.step(action)\n",
        "            total_reward += reward\n",
        "            state = next_state\n",
        "\n",
        "        print(\"Score: \", total_reward)\n",
        "\n",
        "\n",
        "        env.close()\n",
        "\n",
        "        # reset\n",
        "        env = naive_env\n",
        "\n",
        "campione_test(video_folder=video_folder)"
      ],
      "metadata": {
        "colab": {
          "base_uri": "https://localhost:8080/"
        },
        "outputId": "177692c7-e4ad-4d71-e082-a50392838f3b",
        "id": "UVXRzvah1vMx"
      },
      "execution_count": null,
      "outputs": [
        {
          "output_type": "stream",
          "name": "stdout",
          "text": [
            "Moviepy - Building video /content/videos/dqn/rl-video-episode-0.mp4.\n",
            "Moviepy - Writing video /content/videos/dqn/rl-video-episode-0.mp4\n",
            "\n"
          ]
        },
        {
          "output_type": "stream",
          "name": "stderr",
          "text": []
        },
        {
          "output_type": "stream",
          "name": "stdout",
          "text": [
            "Moviepy - Done !\n",
            "Moviepy - video ready /content/videos/dqn/rl-video-episode-0.mp4\n",
            "Score:  30228.0\n"
          ]
        }
      ]
    },
    {
      "cell_type": "code",
      "source": [
        "import base64\n",
        "import glob\n",
        "import io\n",
        "import os\n",
        "\n",
        "from IPython.display import HTML, display\n",
        "\n",
        "env = gym.make(\"CartPole-v1\", max_episode_steps=300, render_mode=\"rgb_array\")\n",
        "\n",
        "def ipython_show_video(path: str) -> None:\n",
        "    \"\"\"Show a video at `path` within IPython Notebook.\"\"\"\n",
        "    if not os.path.isfile(path):\n",
        "        raise NameError(\"Cannot access: {}\".format(path))\n",
        "\n",
        "    video = io.open(path, \"r+b\").read()\n",
        "    encoded = base64.b64encode(video)\n",
        "\n",
        "    display(HTML(\n",
        "        data=\"\"\"\n",
        "        <video width=\"320\" height=\"240\" alt=\"test\" controls>\n",
        "        <source src=\"data:video/mp4;base64,{0}\" type=\"video/mp4\"/>\n",
        "        </video>\n",
        "        \"\"\".format(encoded.decode(\"ascii\"))\n",
        "    ))\n",
        "\n",
        "\n",
        "def show_latest_video(video_folder: str) -> str:\n",
        "    \"\"\"Show the most recently recorded video from video folder.\"\"\"\n",
        "    list_of_files = glob.glob(os.path.join(video_folder, \"*.mp4\"))\n",
        "    latest_file = max(list_of_files, key=os.path.getctime)\n",
        "    ipython_show_video(latest_file)\n",
        "    return latest_file\n",
        "\n",
        "\n",
        "latest_file = show_latest_video(video_folder=video_folder)\n",
        "print(\"Played:\", latest_file)"
      ],
      "metadata": {
        "colab": {
          "base_uri": "https://localhost:8080/",
          "height": 279
        },
        "id": "HDHnb3sP1vM0",
        "outputId": "18c90152-b9c5-4326-fc38-5b9e12c13d5f"
      },
      "execution_count": null,
      "outputs": [
        {
          "output_type": "display_data",
          "data": {
            "text/plain": [
              "<IPython.core.display.HTML object>"
            ],
            "text/html": [
              "\n",
              "        <video width=\"320\" height=\"240\" alt=\"test\" controls>\n",
              "        <source src=\"data:video/mp4;base64,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\" type=\"video/mp4\"/>\n",
              "        </video>\n",
              "        "
            ]
          },
          "metadata": {}
        },
        {
          "output_type": "stream",
          "name": "stdout",
          "text": [
            "Played: videos/dqn/rl-video-episode-0.mp4\n"
          ]
        }
      ]
    },
    {
      "cell_type": "markdown",
      "source": [
        "## DQN with imitative mode\n",
        "\n",
        "In this section, the network implemented with the Gradient Monte Carlo target control algorithm helps, in imitation mode every 5 steps, the DQN network (Note, for this training, a smaller number of episodes was used compared to classical DQN training)"
      ],
      "metadata": {
        "id": "cZjc5fAz8ab_"
      }
    },
    {
      "cell_type": "markdown",
      "source": [
        "### DQN Agent with imitative mode\n",
        "\n"
      ],
      "metadata": {
        "id": "bfOh_cSu8acH"
      }
    },
    {
      "cell_type": "code",
      "source": [
        "class DQNAgent:\n",
        "    \"\"\"DQN Agent interacting with environment.\n",
        "\n",
        "    Attribute:\n",
        "        env (gym.Env): openAI Gym environment\n",
        "        memory (ReplayBuffer): replay memory to store transitions\n",
        "        batch_size (int): batch size for sampling\n",
        "        epsilon (float): parameter for epsilon greedy policy\n",
        "        epsilon_decay (float): step size to decrease epsilon\n",
        "        max_epsilon (float): max value of epsilon\n",
        "        min_epsilon (float): min value of epsilon\n",
        "        target_update (int): period for target model's hard update\n",
        "        gamma (float): discount factor\n",
        "        dqn (Network): model to train and select actions\n",
        "        dqn_target (Network): target model to update\n",
        "        optimizer (torch.optim): optimizer for training dqn\n",
        "        transition (list): transition information including\n",
        "                           state, action, reward, next_state, done\n",
        "    \"\"\"\n",
        "\n",
        "    def __init__(\n",
        "        self,\n",
        "        env: gym.Env,\n",
        "        memory_size: int,\n",
        "        batch_size: int,\n",
        "        target_update: int,\n",
        "        epsilon_decay: float,\n",
        "        max_epsilon: float = 1.0,\n",
        "        min_epsilon: float = 0.1,\n",
        "        gamma: float = 0.95,\n",
        "    ):\n",
        "        \"\"\"Initialization.\n",
        "\n",
        "        Args:\n",
        "            env (gym.Env): openAI Gym environment\n",
        "            memory_size (int): length of memory\n",
        "            batch_size (int): batch size for sampling\n",
        "            target_update (int): period for target model's hard update\n",
        "            epsilon_decay (float): step size to decrease epsilon\n",
        "            lr (float): learning rate\n",
        "            max_epsilon (float): max value of epsilon\n",
        "            min_epsilon (float): min value of epsilon\n",
        "            gamma (float): discount factor\n",
        "        \"\"\"\n",
        "        obs_dim = env.observation_space.shape[0]\n",
        "        action_dim = env.action_space.n\n",
        "\n",
        "        self.env = env\n",
        "        self.memory = ReplayBuffer(obs_dim, memory_size, batch_size)\n",
        "        self.batch_size = batch_size\n",
        "        self.epsilon = max_epsilon\n",
        "        self.epsilon_decay = epsilon_decay\n",
        "        self.max_epsilon = max_epsilon\n",
        "        self.min_epsilon = min_epsilon\n",
        "        self.target_update = target_update\n",
        "        self.gamma = gamma\n",
        "\n",
        "        # device: cpu / gpu\n",
        "        self.device = torch.device(\n",
        "            \"cuda\" if torch.cuda.is_available() else \"cpu\"\n",
        "        )\n",
        "\n",
        "        # networks: dqn, dqn_target\n",
        "        self.dqn = Network(obs_dim, action_dim).to(self.device)\n",
        "        self.dqn_target = Network(obs_dim, action_dim).to(self.device)\n",
        "        self.dqn_target.load_state_dict(self.dqn.state_dict())\n",
        "        self.dqn_target.eval()\n",
        "\n",
        "\n",
        "        # optimizer\n",
        "        self.optimizer = optim.Adam(self.dqn.parameters())\n",
        "\n",
        "        # transition to store in memory\n",
        "        self.transition = list()\n",
        "\n",
        "        # mode: train / test\n",
        "        self.is_test = False\n",
        "\n",
        "    def select_action(self, state, frame_idx = num_frames) :\n",
        "\n",
        "        #imitative mode\n",
        "        if frame_idx % 5 == 0: # < (num_frames/2):\n",
        "              state_tensor = torch.FloatTensor(state).unsqueeze(0)\n",
        "              q_values = q_net(state_tensor).detach().numpy().squeeze()\n",
        "              selected_action = np.argmax(q_values)\n",
        "\n",
        "        else:\n",
        "        # epsilon greedy policy\n",
        "          if self.epsilon > np.random.random():\n",
        "              selected_action = self.env.action_space.sample()\n",
        "          else:\n",
        "            selected_action = self.dqn(\n",
        "                torch.FloatTensor(state).to(self.device)\n",
        "            ).argmax()\n",
        "            selected_action = selected_action.detach().cpu().numpy()\n",
        "\n",
        "        if not self.is_test:\n",
        "            self.transition = [state, selected_action]\n",
        "\n",
        "        return selected_action\n",
        "\n",
        "    def step(self, action: np.ndarray) -> Tuple[np.ndarray, np.float64, bool]:\n",
        "        \"\"\"Take an action and return the response of the env.\"\"\"\n",
        "        next_state, reward, terminated, truncated, _ = self.env.step(action)\n",
        "        done = terminated or truncated\n",
        "\n",
        "        if not self.is_test:\n",
        "            self.transition += [reward, next_state, done]\n",
        "            self.memory.store(*self.transition)\n",
        "\n",
        "        return next_state, reward, done\n",
        "\n",
        "    def update_model(self) -> torch.Tensor:\n",
        "        \"\"\"Update the model by gradient descent.\"\"\"\n",
        "        samples = self.memory.sample_batch()\n",
        "\n",
        "        loss = self._compute_dqn_loss(samples)\n",
        "\n",
        "        self.optimizer.zero_grad()\n",
        "        loss.backward()\n",
        "        self.optimizer.step()\n",
        "\n",
        "        return loss.item()\n",
        "\n",
        "    def train(self, num_frames: int, plotting_interval: int = 200):\n",
        "        \"\"\"Train the agent.\"\"\"\n",
        "        self.is_test = False\n",
        "\n",
        "        state, _ = self.env.reset()\n",
        "        update_cnt = 0\n",
        "        epsilons = []\n",
        "        losses = []\n",
        "        scores = []\n",
        "        deb_list = []\n",
        "        score = 0\n",
        "        ep=1\n",
        "\n",
        "\n",
        "        for frame_idx in range(1, num_frames + 1):\n",
        "\n",
        "            action = self.select_action(state, frame_idx)\n",
        "\n",
        "            next_state, reward, done = self.step(action)\n",
        "\n",
        "            state = next_state\n",
        "            score += reward\n",
        "\n",
        "            # if episode ends\n",
        "            if done:\n",
        "                state, _ = self.env.reset()\n",
        "                scores.append(score)\n",
        "                # Debug\n",
        "                if ep % 10 == 0:\n",
        "                  deb_list.append((ep, frame_idx, score))\n",
        "                ep+=1\n",
        "                score = 0\n",
        "\n",
        "            # if training is ready\n",
        "            if len(self.memory) >= self.batch_size:\n",
        "                loss = self.update_model()\n",
        "                losses.append(loss)\n",
        "                update_cnt += 1\n",
        "\n",
        "                # linearly decrease epsilon\n",
        "                self.epsilon = max(\n",
        "                    self.min_epsilon, self.epsilon - (\n",
        "                        self.max_epsilon - self.min_epsilon\n",
        "                    ) * self.epsilon_decay\n",
        "                )\n",
        "                epsilons.append(self.epsilon)\n",
        "\n",
        "                # if hard update is needed\n",
        "                if update_cnt % self.target_update == 0:\n",
        "                    self._target_hard_update()\n",
        "\n",
        "            # plotting\n",
        "            if frame_idx % plotting_interval == 0:\n",
        "                self._plot(frame_idx, scores, losses, epsilons)\n",
        "\n",
        "        self.env.close()\n",
        "\n",
        "        print('\\n...End of training...\\n')\n",
        "\n",
        "\n",
        "    def test(self, video_folder: str) -> None:\n",
        "        \"\"\"Test the agent.\"\"\"\n",
        "        self.is_test = True\n",
        "\n",
        "        # for recording a video\n",
        "        naive_env = self.env\n",
        "        self.env = gym.wrappers.RecordVideo(self.env, video_folder=video_folder)\n",
        "\n",
        "        state, _ = self.env.reset()\n",
        "        done = False\n",
        "        score = 0\n",
        "\n",
        "        while not done:\n",
        "            action = self.select_action(state)\n",
        "            next_state, reward, done = self.step(action)\n",
        "\n",
        "            state = next_state\n",
        "            score += reward\n",
        "\n",
        "        print(\"score: \", score)\n",
        "        self.env.close()\n",
        "\n",
        "        # reset\n",
        "        self.env = naive_env\n",
        "\n",
        "    def test_avr_100(self):\n",
        "        \"\"\"Test the agent.\"\"\"\n",
        "        self.is_test = True\n",
        "\n",
        "        total_rewards = []\n",
        "\n",
        "        for e in range(1,100+1):\n",
        "          state, _ = self.env.reset()\n",
        "          done = False\n",
        "          score = 0\n",
        "\n",
        "          while not done:\n",
        "             action = self.select_action(state)\n",
        "             next_state, reward, done = self.step(action)\n",
        "\n",
        "             state = next_state\n",
        "             score += reward\n",
        "\n",
        "          total_rewards.append(score)\n",
        "\n",
        "        average_reward = np.mean(total_rewards)\n",
        "        self.env.close()\n",
        "        return average_reward\n",
        "\n",
        "\n",
        "\n",
        "    def _compute_dqn_loss(self, samples: Dict[str, np.ndarray]) -> torch.Tensor:\n",
        "        \"\"\"Return dqn loss.\"\"\"\n",
        "        device = self.device  # for shortening the following lines\n",
        "        state = torch.FloatTensor(samples[\"obs\"]).to(device)\n",
        "        next_state = torch.FloatTensor(samples[\"next_obs\"]).to(device)\n",
        "        action = torch.LongTensor(samples[\"acts\"].reshape(-1, 1)).to(device)\n",
        "        reward = torch.FloatTensor(samples[\"rews\"].reshape(-1, 1)).to(device)\n",
        "        done = torch.FloatTensor(samples[\"done\"].reshape(-1, 1)).to(device)\n",
        "\n",
        "        # G_t   = r + gamma * v(s_{t+1})  if state != Terminal\n",
        "        #       = r                       otherwise\n",
        "        curr_q_value = self.dqn(state).gather(1, action)\n",
        "        next_q_value = self.dqn_target(\n",
        "            next_state\n",
        "        ).max(dim=1, keepdim=True)[0].detach()\n",
        "        mask = 1 - done\n",
        "        #if done == True then mask == 0 -> target = reward\n",
        "        target = (reward + self.gamma * next_q_value * mask).to(self.device)\n",
        "\n",
        "        # calculate dqn loss\n",
        "        loss =   F.smooth_l1_loss(curr_q_value, target)\n",
        "\n",
        "\n",
        "        return loss\n",
        "\n",
        "    def _target_hard_update(self):\n",
        "        \"\"\"Hard update: target <- local.\"\"\"\n",
        "        self.dqn_target.load_state_dict(self.dqn.state_dict())\n",
        "\n",
        "    def _plot(\n",
        "        self,\n",
        "        frame_idx: int,\n",
        "        scores: List[float],\n",
        "        losses: List[float],\n",
        "        epsilons: List[float],\n",
        "    ):\n",
        "        \"\"\"Plot the training progresses.\"\"\"\n",
        "        clear_output(True)\n",
        "        plt.figure(figsize=(20, 5))\n",
        "        plt.subplot(131)\n",
        "        plt.title('frame %s. score: %s' % (frame_idx, np.mean(scores[-10:])))\n",
        "        plt.plot(scores)\n",
        "        plt.subplot(132)\n",
        "        plt.title('loss')\n",
        "        plt.plot(losses)\n",
        "        plt.subplot(133)\n",
        "        plt.title('epsilons')\n",
        "        plt.plot(epsilons)\n",
        "        plt.show()\n",
        "\n"
      ],
      "metadata": {
        "id": "0FKZea7R8acI"
      },
      "execution_count": null,
      "outputs": []
    },
    {
      "cell_type": "markdown",
      "source": [
        "### Parametri ed inizializzazioni"
      ],
      "metadata": {
        "id": "9FIxEVew8acK"
      }
    },
    {
      "cell_type": "code",
      "source": [
        "# environment\n",
        "env = gym.make(\"CartPole-v1\", max_episode_steps=300, render_mode=\"rgb_array\")\n",
        "\n",
        "\n",
        "# parameters\n",
        "num_frames = 6_000\n",
        "memory_size = 600\n",
        "batch_size = 32\n",
        "target_update = 300\n",
        "epsilon_decay = 1 / 3_000\n",
        "\n",
        "agent = DQNAgent(env, memory_size, batch_size, target_update, epsilon_decay)"
      ],
      "metadata": {
        "id": "SKMX-4Ni8acK"
      },
      "execution_count": null,
      "outputs": []
    },
    {
      "cell_type": "markdown",
      "source": [
        "### Train"
      ],
      "metadata": {
        "id": "BxK7NM9A8acK"
      }
    },
    {
      "cell_type": "code",
      "source": [
        "agent.train(num_frames)"
      ],
      "metadata": {
        "colab": {
          "base_uri": "https://localhost:8080/",
          "height": 253
        },
        "outputId": "b38d045b-c247-41ff-c623-d57f3c4ac41c",
        "id": "F_gX7Kqh8acL"
      },
      "execution_count": null,
      "outputs": [
        {
          "output_type": "display_data",
          "data": {
            "text/plain": [
              "<Figure size 2000x500 with 3 Axes>"
            ],
            "image/png": "[encoded data removed]"
          },
          "metadata": {}
        },
        {
          "output_type": "stream",
          "name": "stdout",
          "text": [
            "\n",
            "...End of training...\n",
            "\n"
          ]
        }
      ]
    },
    {
      "cell_type": "markdown",
      "source": [
        "#### Test"
      ],
      "metadata": {
        "id": "PtT-jjGUDyfH"
      }
    },
    {
      "cell_type": "code",
      "source": [
        "video_folder=\"videos/dqn\"\n",
        "agent.test(video_folder=video_folder)\n"
      ],
      "metadata": {
        "colab": {
          "base_uri": "https://localhost:8080/"
        },
        "outputId": "228b7e9a-3cd0-4a3d-d4dc-ea4dffb1424a",
        "id": "k_NlHfNvDyfJ"
      },
      "execution_count": null,
      "outputs": [
        {
          "output_type": "stream",
          "name": "stdout",
          "text": [
            "Moviepy - Building video /content/videos/dqn/rl-video-episode-0.mp4.\n",
            "Moviepy - Writing video /content/videos/dqn/rl-video-episode-0.mp4\n",
            "\n"
          ]
        },
        {
          "output_type": "stream",
          "name": "stderr",
          "text": []
        },
        {
          "output_type": "stream",
          "name": "stdout",
          "text": [
            "Moviepy - Done !\n",
            "Moviepy - video ready /content/videos/dqn/rl-video-episode-0.mp4\n",
            "score:  300.0\n"
          ]
        }
      ]
    },
    {
      "cell_type": "code",
      "source": [
        "r = agent.test_avr_100()\n",
        "print(\"Average score over 100 episodes:\",r)"
      ],
      "metadata": {
        "colab": {
          "base_uri": "https://localhost:8080/"
        },
        "id": "wNzaZcoCQt7h",
        "outputId": "acbd6909-dd5b-44d6-977c-2447a7bb06f2"
      },
      "execution_count": null,
      "outputs": [
        {
          "output_type": "stream",
          "name": "stdout",
          "text": [
            "Average score over 100 episodes: 231.48\n"
          ]
        }
      ]
    }
  ]
}