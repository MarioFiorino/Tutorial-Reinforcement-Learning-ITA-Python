{
  "nbformat": 4,
  "nbformat_minor": 0,
  "metadata": {
    "colab": {
      "provenance": [],
      "collapsed_sections": [
        "vM6Q0XH7lVFy"
      ]
    },
    "kernelspec": {
      "name": "python3",
      "display_name": "Python 3"
    },
    "language_info": {
      "name": "python"
    }
  },
  "cells": [
    {
      "cell_type": "markdown",
      "source": [
        "#Introduzione a PyTorch\n",
        "\n",
        "Mario Fiorino\n",
        "\n",
        "$\\;$\n",
        "\n",
        "PyTorch è una libreria per il Machine Learning che  semplifica la creazione e l'ottimizzazione di modelli di deep learning.\n",
        "\n",
        "$\\;$\n",
        "\n",
        "\n",
        "PyTorch si basa su due concetti chiave:\n",
        "\n",
        " - Tensori n-dimensionale, simili a Numpy, ma che possono essere eseguiti su GPU.\n",
        "\n",
        "- Calcolo automatico di gradienti; PyTorch automatizza il calcolo dei gradienti di qualsiasi funzione. Questa caratteristica è fondamentale per l'addestramento di reti neurali (NN).\n",
        "\n",
        "$\\;$\n",
        "\n",
        "Ref:\n",
        "\n",
        "https://pytorch.org/tutorials/beginner/pytorch_with_examples.html\n",
        "\n",
        "\n",
        "https://pytorch.org/docs/stable/index.html\n",
        "\n",
        "https://uvadlc-notebooks.readthedocs.io/en/latest/tutorial_notebooks/tutorial2/Introduction_to_PyTorch.html\n",
        "\n"
      ],
      "metadata": {
        "id": "38Pt9qfn8SIo"
      }
    },
    {
      "cell_type": "code",
      "execution_count": null,
      "metadata": {
        "id": "hFWalj2ufYKO",
        "colab": {
          "base_uri": "https://localhost:8080/"
        },
        "outputId": "aaa5d200-d755-42d4-d6b9-53f25a7e44a0"
      },
      "outputs": [
        {
          "output_type": "stream",
          "name": "stdout",
          "text": [
            "Version_torch :  2.2.1+cu121\n"
          ]
        }
      ],
      "source": [
        "## Standard libraries\n",
        "import os\n",
        "import math\n",
        "import numpy as np\n",
        "import time\n",
        "import random\n",
        "#\n",
        "import warnings\n",
        "warnings.filterwarnings('ignore')\n",
        "\n",
        "\n",
        "## Imports for plotting\n",
        "import matplotlib.pyplot as plt\n",
        "%matplotlib inline\n",
        "from IPython.display import set_matplotlib_formats\n",
        "set_matplotlib_formats('svg', 'pdf') # For export\n",
        "from matplotlib.colors import to_rgba\n",
        "import seaborn as sns\n",
        "sns.set()\n",
        "\n",
        "## Progress bar\n",
        "from tqdm.notebook import tqdm\n",
        "\n",
        "\n",
        "##Torch\n",
        "import torch\n",
        "print(\"Version_torch : \", torch.__version__)\n",
        "from torch import nn"
      ]
    },
    {
      "cell_type": "code",
      "source": [
        "# Per impostare il codice in modo che sia riproducibile sempre con gli stessi numeri random.\n",
        "torch.manual_seed(42) # Setting the seed"
      ],
      "metadata": {
        "id": "UABQSUb8DSdZ"
      },
      "execution_count": null,
      "outputs": []
    },
    {
      "cell_type": "markdown",
      "source": [
        "##Tensors\n",
        "\n",
        "\n",
        "Tensori, sono una struttura dati specifica utilizzata in PyTorch per codificare gli input e gli output di un modello (inclusi i parametri del modello).\n",
        "\n",
        "Questi sono simili agli array NumPy, offrendo però il vantaggio di supportare la GPU che consente di accelerare drasticamente i calcoli.\n",
        "\n",
        "Ref.\n",
        "\n",
        "https://pytorch.org/docs/stable/tensors.html#\n",
        "\n"
      ],
      "metadata": {
        "id": "jo4YyQqRs7KG"
      }
    },
    {
      "cell_type": "code",
      "source": [
        "#Initialization\n",
        "#Directly assign values to the tensor during initialization,\n",
        "\n",
        "# Create a 1-D tensor with values from the interval [start, end) by a given step\n",
        "x = torch.arange(0,3,step=0.5)\n",
        "print(x)\n",
        "\n",
        "# Create a 1D tensor from a list\n",
        "x = torch.Tensor([1,2,3,4,5,6,7,8])\n",
        "print(x)\n",
        "\n",
        "# Create a 2x2 tensor from a nested list\n",
        "x = torch.Tensor([[1, 2], [3, 4]])\n",
        "print(x)\n",
        "\n",
        "#Create 4x1 torch tensor of 0's\n",
        "x = torch.zeros(4,1)\n",
        "print(x)\n",
        "\n",
        "\n",
        "# Create a tensor with shape (3, 2, 4) and random values between 0 and 1\n",
        "x = torch.rand(3, 2, 4)\n",
        "print(x)\n",
        "\n",
        "#Creates a 2D tensor with random values sampled from a normal distribution with mean 0 and variance 1\n",
        "x = torch.randn(2, 3)\n",
        "print(x)\n",
        "\n",
        "\n",
        "#BxCxHxW : number of batches, channels, height, width\n",
        "x = torch.randn(4, 2, 1, 3)\n",
        "print(x)"
      ],
      "metadata": {
        "colab": {
          "base_uri": "https://localhost:8080/"
        },
        "id": "AVt7LCSStNWw",
        "outputId": "b3e2c20c-b3b1-407d-bbc9-314862ca857e"
      },
      "execution_count": null,
      "outputs": [
        {
          "output_type": "stream",
          "name": "stdout",
          "text": [
            "tensor([0.0000, 0.5000, 1.0000, 1.5000, 2.0000, 2.5000])\n",
            "tensor([1., 2., 3., 4., 5., 6., 7., 8.])\n",
            "tensor([[1., 2.],\n",
            "        [3., 4.]])\n",
            "tensor([[0.],\n",
            "        [0.],\n",
            "        [0.],\n",
            "        [0.]])\n",
            "tensor([[[0.0328, 0.2669, 0.5425, 0.2723],\n",
            "         [0.9781, 0.1694, 0.8793, 0.3660]],\n",
            "\n",
            "        [[0.6325, 0.3422, 0.9015, 0.9097],\n",
            "         [0.6291, 0.8456, 0.5797, 0.7589]],\n",
            "\n",
            "        [[0.3971, 0.0028, 0.1538, 0.2232],\n",
            "         [0.7260, 0.0514, 0.4738, 0.9980]]])\n",
            "tensor([[-0.6922, -1.7764, -0.0165],\n",
            "        [ 0.6594,  0.6408, -0.6627]])\n",
            "tensor([[[[-1.2312, -2.2145,  2.3087]],\n",
            "\n",
            "         [[ 0.8383,  1.7491,  0.0368]]],\n",
            "\n",
            "\n",
            "        [[[-0.5495, -0.1759, -0.9001]],\n",
            "\n",
            "         [[-0.2427,  0.8748,  2.8902]]],\n",
            "\n",
            "\n",
            "        [[[-2.1730,  0.4274, -0.1049]],\n",
            "\n",
            "         [[-0.2165,  0.2356,  0.5709]]],\n",
            "\n",
            "\n",
            "        [[[ 1.7692,  0.8347,  1.1873]],\n",
            "\n",
            "         [[-0.1427,  0.0809, -0.1698]]]])\n"
          ]
        }
      ]
    },
    {
      "cell_type": "markdown",
      "source": [
        "####Operations"
      ],
      "metadata": {
        "id": "ljEXGX6QuAo_"
      }
    },
    {
      "cell_type": "code",
      "source": [
        "#Operations\n",
        "\n",
        "x1 = torch.Tensor([[1, 0], [1, 2]])\n",
        "x2 = torch.Tensor([[5, 6], [7, 8]])\n",
        "y = x1 + x2\n",
        "print(y) # creates a new tensor containing the sum of the two inputs\n",
        "\n",
        "#In-place operations\n",
        "x2.add_(x1)\n",
        "print(\"X1 (after)\", x1)\n",
        "print(\"X2 (after)\", x2) #applied directly on the memory of a tensor. The operation modifies x2, making its previous value inaccessible"
      ],
      "metadata": {
        "colab": {
          "base_uri": "https://localhost:8080/"
        },
        "id": "4SX21Wi2KtYz",
        "outputId": "383dd49e-5611-4d81-d103-907730c6cad9"
      },
      "execution_count": null,
      "outputs": [
        {
          "output_type": "stream",
          "name": "stdout",
          "text": [
            "tensor([[ 6.,  6.],\n",
            "        [ 8., 10.]])\n",
            "X1 (after) tensor([[1., 0.],\n",
            "        [1., 2.]])\n",
            "X2 (after) tensor([[ 6.,  6.],\n",
            "        [ 8., 10.]])\n"
          ]
        }
      ]
    },
    {
      "cell_type": "code",
      "source": [
        "#torch.matmul: Performs the matrix product over two tensors\n",
        "\n",
        "x = torch.Tensor([0, 1, 2])\n",
        "\n",
        "print(\"x=\", x)\n",
        "print(x.dtype)\n",
        "\n",
        "w =  torch.Tensor([[1, 0, 2, 1],\n",
        "                   [0, 1, 0, 1 ],\n",
        "                   [5, 5, 0, 5]])\n",
        "print(\"w=\",w)\n",
        "print(w.dtype)\n",
        "\n",
        "h = torch.matmul(x, w) #  matrix product: has the number of rows of the first and the number of columns of the second matrix\n",
        "print(\"h\", h)"
      ],
      "metadata": {
        "colab": {
          "base_uri": "https://localhost:8080/"
        },
        "id": "IFo96gzdOsYE",
        "outputId": "4c8046db-40bd-4331-9206-1b2463962cb4"
      },
      "execution_count": null,
      "outputs": [
        {
          "output_type": "stream",
          "name": "stdout",
          "text": [
            "x= tensor([0., 1., 2.])\n",
            "torch.float32\n",
            "w= tensor([[1., 0., 2., 1.],\n",
            "        [0., 1., 0., 1.],\n",
            "        [5., 5., 0., 5.]])\n",
            "torch.float32\n",
            "h tensor([10., 11.,  0., 11.])\n"
          ]
        }
      ]
    },
    {
      "cell_type": "code",
      "source": [
        "# torch.bmm : Performs a batch matrix-matrix product\n",
        "\n",
        "input_b1 = torch.Tensor([[[ 1,  0,  1,    0]],\n",
        "                          [[ 1,  3, -2,    4]],\n",
        "                          [[ 2, -1,  0,  -1 ]]])  # (b × n × m)\n",
        "\n",
        "print(input_b1)\n",
        "print(input_b1.size())\n",
        "print(\"\")\n",
        "\n",
        "batch2 = torch.Tensor([   [[ 1,  0,  1,    0,   1],\n",
        "                           [ 2,  2,  2,    2,   2],\n",
        "                           [ 3,  1,  1,    0,   0],\n",
        "                           [ 1,  5,  1,    0,   0]],\n",
        "\n",
        "                          [[ -1,  0,  -1,    0,   -1],\n",
        "                           [  2,  -2,  -2,    -2,   -2],\n",
        "                           [  3,  -1,  -1,    0,   0],\n",
        "                           [ -1,  -5,  -1,    0,   0]],\n",
        "\n",
        "                          [[ 2,  0,  1,    0,   1],\n",
        "                           [ 10,  9,  2,    2,   2],\n",
        "                           [ 3,  1,  9,    0,   0],\n",
        "                           [ 1,  5,  9,    7,   0]], ])  # (b × m × p)\n",
        "print(batch2)\n",
        "print(batch2.size())\n",
        "print(\"\")\n",
        "\n",
        "res = torch.bmm(input_b1, batch2) # (b × n × p)\n",
        "print(res)\n",
        "print(res.size())\n",
        "# Calculated by performing b matrix multiplications of : res_i = input_i @ batch2_i  ; for i in b size\n",
        "# In this case, b = 3,  we have just:\n",
        "# res_0 = [[  4.,   1.,   2.,   0.,   1.]]\n",
        "# result result obtained between [[ 1.,  0.,  1.,  0.]]   @  [[ 1.,  0.,  1.,  0.,  1.],\n",
        "       #                                                     [ 2.,  2.,  2.,  2.,  2.],\n",
        "       #                                                     [ 3.,  1.,  1.,  0.,  0.],\n",
        "       #                                                     [ 1.,  5.,  1.,  0.,  0.]]\n",
        "\n",
        "#res_1 = [[ -5., -24.,  -9.,  -6.,  -7.]]\n",
        "#res_2 = [[ -7., -14.,  -9.,  -9.,   0.]]"
      ],
      "metadata": {
        "colab": {
          "base_uri": "https://localhost:8080/"
        },
        "id": "w3oBTQmHURjv",
        "outputId": "161dbf19-01d4-49da-9108-c8e429030f04"
      },
      "execution_count": null,
      "outputs": [
        {
          "output_type": "stream",
          "name": "stdout",
          "text": [
            "tensor([[[ 1.,  0.,  1.,  0.]],\n",
            "\n",
            "        [[ 1.,  3., -2.,  4.]],\n",
            "\n",
            "        [[ 2., -1.,  0., -1.]]])\n",
            "torch.Size([3, 1, 4])\n",
            "\n",
            "tensor([[[ 1.,  0.,  1.,  0.,  1.],\n",
            "         [ 2.,  2.,  2.,  2.,  2.],\n",
            "         [ 3.,  1.,  1.,  0.,  0.],\n",
            "         [ 1.,  5.,  1.,  0.,  0.]],\n",
            "\n",
            "        [[-1.,  0., -1.,  0., -1.],\n",
            "         [ 2., -2., -2., -2., -2.],\n",
            "         [ 3., -1., -1.,  0.,  0.],\n",
            "         [-1., -5., -1.,  0.,  0.]],\n",
            "\n",
            "        [[ 2.,  0.,  1.,  0.,  1.],\n",
            "         [10.,  9.,  2.,  2.,  2.],\n",
            "         [ 3.,  1.,  9.,  0.,  0.],\n",
            "         [ 1.,  5.,  9.,  7.,  0.]]])\n",
            "torch.Size([3, 4, 5])\n",
            "\n",
            "tensor([[[  4.,   1.,   2.,   0.,   1.]],\n",
            "\n",
            "        [[ -5., -24.,  -9.,  -6.,  -7.]],\n",
            "\n",
            "        [[ -7., -14.,  -9.,  -9.,   0.]]])\n",
            "torch.Size([3, 1, 5])\n"
          ]
        }
      ]
    },
    {
      "cell_type": "markdown",
      "source": [
        "####Changing the shape of a tensor"
      ],
      "metadata": {
        "id": "NNH2t-cgOuK7"
      }
    },
    {
      "cell_type": "code",
      "source": [
        "x = torch.arange(6)\n",
        "print(\"x=\", x)\n",
        "\n",
        "x = x.view(2, 3)\n",
        "print(\"x=\", x)\n",
        "\n",
        "#Returns a view of the original tensor input with its dimensions permuted.\n",
        "x = x.permute(1, 0) # Swapping dimension 0 and 1\n",
        "print(\"x=\", x)\n",
        "\n",
        "#NOTE\n",
        "x = torch.arange(6).view(6, 1).to(torch.float32) # # We can also stack multiple operations in a single line\n",
        "print(\"x=\", x)\n",
        "print(x.dtype)"
      ],
      "metadata": {
        "colab": {
          "base_uri": "https://localhost:8080/"
        },
        "id": "-vGBe3LrOwDG",
        "outputId": "65d2fbd8-edab-4c37-ce0b-822289a3e966"
      },
      "execution_count": null,
      "outputs": [
        {
          "output_type": "stream",
          "name": "stdout",
          "text": [
            "x= tensor([0, 1, 2, 3, 4, 5])\n",
            "x= tensor([[0, 1, 2],\n",
            "        [3, 4, 5]])\n",
            "x= tensor([[0, 3],\n",
            "        [1, 4],\n",
            "        [2, 5]])\n",
            "x= tensor([[0.],\n",
            "        [1.],\n",
            "        [2.],\n",
            "        [3.],\n",
            "        [4.],\n",
            "        [5.]])\n",
            "torch.float32\n"
          ]
        }
      ]
    },
    {
      "cell_type": "markdown",
      "source": [
        "####Squeeze/Unsqueeze a tensor\n"
      ],
      "metadata": {
        "id": "HiePJh2VrEKu"
      }
    },
    {
      "cell_type": "code",
      "source": [
        "#Squeeze the tensor\n",
        "#When we squeeze a tensor, the dimensions of size 1 are removed.\n",
        "#Input tensor is of shape: (m×1×n×1) then the output tensor after squeeze will be of shape: (m×n).\n",
        "input_s = torch.ones(3,1,4)\n",
        "print(input_s,\"\\n Size:\",input_s.size(),\"\\n\")\n",
        "output_s = torch.squeeze(input_s)\n",
        "print(\"After squeeze\\n\", output_s,\"\\n Size:\",output_s.size())"
      ],
      "metadata": {
        "colab": {
          "base_uri": "https://localhost:8080/"
        },
        "id": "aQUxM27CrJUz",
        "outputId": "764a24e4-5612-4664-e7a8-8512848327c4"
      },
      "execution_count": null,
      "outputs": [
        {
          "output_type": "stream",
          "name": "stdout",
          "text": [
            "tensor([[[1., 1., 1., 1.]],\n",
            "\n",
            "        [[1., 1., 1., 1.]],\n",
            "\n",
            "        [[1., 1., 1., 1.]]]) \n",
            " Size: torch.Size([3, 1, 4]) \n",
            "\n",
            "After squeeze\n",
            " tensor([[1., 1., 1., 1.],\n",
            "        [1., 1., 1., 1.],\n",
            "        [1., 1., 1., 1.]]) \n",
            " Size: torch.Size([3, 4])\n"
          ]
        }
      ]
    },
    {
      "cell_type": "code",
      "source": [
        "# Unsqueeze a Tensor:\n",
        "# When we unsqueeze a tensor, a new dimension of size 1 is inserted at the specified position.\n",
        "# Always an unsqueeze operation increases the dimension of the output tensor.\n",
        "# Input tensor is of shape:  (m×n) and we want to insert a new dimension at position 1 then the output tensor after unsqueeze will be of shape: (m×1×n).\n",
        "\n",
        "input_u = torch.arange(5, dtype=torch.float)\n",
        "print(\"Input tensor:\", input_u)\n",
        "print(\"Size of input Tensor before unsqueeze:\",\n",
        "      input_u.size())\n",
        "\n",
        "print(\"\\n\")\n",
        "\n",
        "output_u = torch.unsqueeze(input_u, dim=0)\n",
        "print(\"Tensor after unsqueeze with dim=0:\", output_u)\n",
        "print(\"Size after unsqueeze with dim=0:\",\n",
        "      output_u.size())\n",
        "\n",
        "print(\"\\n\")\n",
        "\n",
        "output_u = torch.unsqueeze(input_u, dim=1)\n",
        "print(\"Tensor after unsqueeze with dim=1:\\n\", output_u)\n",
        "print(\"Size after unsqueeze with dim=1:\",\n",
        "      output_u.size())\n",
        "\n",
        "#https://www.geeksforgeeks.org/how-to-squeeze-and-unsqueeze-a-tensor-in-pytorch/"
      ],
      "metadata": {
        "colab": {
          "base_uri": "https://localhost:8080/"
        },
        "id": "ur_kdLAfsYfW",
        "outputId": "18669c28-36c3-44d6-db7d-a40dadce3d7d"
      },
      "execution_count": null,
      "outputs": [
        {
          "output_type": "stream",
          "name": "stdout",
          "text": [
            "Input tensor: tensor([0., 1., 2., 3., 4.])\n",
            "Size of input Tensor before unsqueeze: torch.Size([5])\n",
            "\n",
            "\n",
            "Tensor after unsqueeze with dim=0: tensor([[0., 1., 2., 3., 4.]])\n",
            "Size after unsqueeze with dim=0: torch.Size([1, 5])\n",
            "\n",
            "\n",
            "Tensor after unsqueeze with dim=1:\n",
            " tensor([[0.],\n",
            "        [1.],\n",
            "        [2.],\n",
            "        [3.],\n",
            "        [4.]])\n",
            "Size after unsqueeze with dim=1: torch.Size([5, 1])\n"
          ]
        }
      ]
    },
    {
      "cell_type": "markdown",
      "source": [
        "####Indexing"
      ],
      "metadata": {
        "id": "MAQ1iKx0uTXn"
      }
    },
    {
      "cell_type": "code",
      "source": [
        "x= torch.Tensor([[ 1,   0,  8,    33],\n",
        "                 [ 1,  3, -2,    4],\n",
        "                 [ 7, -9,  19,  -29]])\n",
        "\n",
        "print(x)\n",
        "print(x.size())\n",
        "\n",
        "k = x[:, 0]   # First column\n",
        "print(k)\n",
        "\n",
        "\n",
        "k = x[1]      # Second row\n",
        "print(k)\n",
        "\n",
        "k = x[:2, -1] # First two rows, last column\n",
        "print(k)\n",
        "\n",
        "k = x[:, 1:3]  # # Middle two column\n",
        "print(k)"
      ],
      "metadata": {
        "colab": {
          "base_uri": "https://localhost:8080/"
        },
        "id": "UKmZ2GzpKwVp",
        "outputId": "ede97c2f-23fe-4705-9e4d-063380bfaf24"
      },
      "execution_count": null,
      "outputs": [
        {
          "output_type": "stream",
          "name": "stdout",
          "text": [
            "tensor([[  1.,   0.,   8.,  33.],\n",
            "        [  1.,   3.,  -2.,   4.],\n",
            "        [  7.,  -9.,  19., -29.]])\n",
            "torch.Size([3, 4])\n",
            "tensor([1., 1., 7.])\n",
            "tensor([ 1.,  3., -2.,  4.])\n",
            "tensor([33.,  4.])\n",
            "tensor([[ 0.,  8.],\n",
            "        [ 3., -2.],\n",
            "        [-9., 19.]])\n"
          ]
        }
      ]
    },
    {
      "cell_type": "markdown",
      "source": [
        "####GPU support\n",
        "\n",
        "Una GPU può eseguire molte migliaia di piccole operazioni in parallelo, rendendola estremamente efficiente nell'eseguire operazioni su matrici nelle reti neurali di grandi dimensioni."
      ],
      "metadata": {
        "id": "1pEuU2g6KxDX"
      }
    },
    {
      "cell_type": "code",
      "source": [
        "#controlliamo se hai una GPU disponibile:\n",
        "\n",
        "gpu_avail = torch.cuda.is_available()\n",
        "print(f\"Is the GPU available? {gpu_avail}\")\n",
        "#Per la disponibilità su Colab : Runtime -> Cambia tipo di Runtime"
      ],
      "metadata": {
        "id": "bS7XrGZ6K3KL",
        "colab": {
          "base_uri": "https://localhost:8080/"
        },
        "outputId": "8580a2b9-4c6c-4a1d-f2ad-1894d313553c"
      },
      "execution_count": null,
      "outputs": [
        {
          "output_type": "stream",
          "name": "stdout",
          "text": [
            "Is the GPU available? True\n"
          ]
        }
      ]
    },
    {
      "cell_type": "code",
      "source": [
        "# Per impostazione predefinita, tutti i tensori creati vengono archiviati nella CPU.\n",
        "# Possiamo inviare un tensore alla GPU utilizzando la funzione .to(...) o .cuda().\n",
        "# In genere è però una buona pratica definire un oggetto device nel codice che punti alla GPU, o altrimenti alla CPU.\n",
        "# Possiamo specificare il device come segue:\n",
        "device = torch.device(\"cuda\") if torch.cuda.is_available() else torch.device(\"cpu\")\n",
        "print(\"Device\", device)\n",
        "\n",
        "# Qui creiamo un tensore e lo inseriamo nell'oggetto device definito\n",
        "x = torch.zeros(2, 3)\n",
        "x = x.to(device)\n",
        "print(\"x=\", x)\n",
        "# Nel caso ci sia una GPU, ora dovresti vedere l'attributo device='cuda:0' stampato accanto al tuo tensore.\n",
        "# Lo zero accanto a cuda indica che questo è il dispositivo GPU zero-esimo sul tuo computer.\n"
      ],
      "metadata": {
        "colab": {
          "base_uri": "https://localhost:8080/"
        },
        "id": "QybxWuPU7lnr",
        "outputId": "697c1ad9-596b-42a7-e071-d04c6344b21b"
      },
      "execution_count": null,
      "outputs": [
        {
          "output_type": "stream",
          "name": "stdout",
          "text": [
            "Device cuda\n",
            "x= tensor([[0., 0., 0.],\n",
            "        [0., 0., 0.]], device='cuda:0')\n"
          ]
        }
      ]
    },
    {
      "cell_type": "code",
      "source": [
        "#CPU vs GPU:\n",
        "# Confrontiamo il tempo di esecuzione:\n",
        "\n",
        "x = torch.randn(3000, 3000)\n",
        "n_iterations = 200\n",
        "\n",
        "## CPU version\n",
        "times = np.zeros(n_iterations)\n",
        "for i in range(n_iterations):\n",
        "   start_time = time.time()\n",
        "   _ = torch.matmul(x, x)\n",
        "   end_time = time.time()\n",
        "   times[i] = end_time - start_time\n",
        "\n",
        "mean_time = np.mean(times)\n",
        "print(f\"\\n Average time over {n_iterations} executions on CPU: {(mean_time):6.5f}s\")\n",
        "print(f\"Total computation time on CPU: {(np.sum(times)):6.5f}s\")\n",
        "\n",
        "## GPU version\n",
        "x = x.to(device)\n",
        "_ = torch.matmul(x, x)  # First operation to 'burn in' GPU\n",
        "\n",
        "times = np.zeros(n_iterations)\n",
        "for i in range(n_iterations):\n",
        "# CUDA is asynchronous, so we need to use different timing functions\n",
        "   start = torch.cuda.Event(enable_timing=True)\n",
        "   end = torch.cuda.Event(enable_timing=True)\n",
        "   start.record()\n",
        "   _ = torch.matmul(x, x)\n",
        "   end.record()\n",
        "   torch.cuda.synchronize()  # Waits for everything to finish running on the GPU\n",
        "   times[i] = 0.001 * start.elapsed_time(end) # Milliseconds to seconds\n",
        "\n",
        "mean_time = np.mean(times)\n",
        "print(f\"\\n Average time over {n_iterations} executions on GPU: {(mean_time):6.5f}s\")\n",
        "print(f\"Total computation time on GPU: {(np.sum(times)):6.5f}s\")\n",
        "\n",
        "# Le operazioni matmul sono centrali nelle reti neurali,\n",
        "# qui intuiamo il grande vantaggio di addestrare una NN su una GPU."
      ],
      "metadata": {
        "colab": {
          "base_uri": "https://localhost:8080/"
        },
        "id": "R_kV4KLA-_G0",
        "outputId": "43910ad0-a2ba-43c2-842e-bd489eefb0ec"
      },
      "execution_count": null,
      "outputs": [
        {
          "output_type": "stream",
          "name": "stdout",
          "text": [
            "\n",
            " Average time over 200 executions on CPU: 0.47949s\n",
            "Total computation time on CPU: 95.89803s\n",
            "\n",
            " Average time over 200 executions on GPU: 0.01433s\n",
            "Total computation time on GPU: 2.86569s\n"
          ]
        }
      ]
    },
    {
      "cell_type": "markdown",
      "source": [
        "Quando si generano numeri casuali, il seed tra CPU e GPU non è sincronizzato.\n",
        "\n",
        "Pertanto, dobbiamo impostare il seed sulla GPU separatamente per garantire un codice riproducibile.\n",
        "\n",
        "Tieni presente che, a causa delle diverse architetture GPU, l'esecuzione dello stesso codice su GPU diverse non garantisce gli stessi numeri casuali."
      ],
      "metadata": {
        "id": "hjDcu7E4GASl"
      }
    },
    {
      "cell_type": "code",
      "source": [
        "# GPU operations have a separate seed we also want to set\n",
        "if torch.cuda.is_available():\n",
        "    torch.cuda.manual_seed(42)\n",
        "    torch.cuda.manual_seed_all(42)\n",
        "\n",
        "# Additionally, some operations on a GPU are implemented stochastic for efficiency\n",
        "# We want to ensure that all operations are deterministic on GPU (if used) for reproducibility\n",
        "torch.backends.cudnn.deterministic = True\n",
        "torch.backends.cudnn.benchmark = False"
      ],
      "metadata": {
        "id": "WM6q78wwFC56"
      },
      "execution_count": null,
      "outputs": []
    },
    {
      "cell_type": "markdown",
      "source": [
        "####Numpy to Tensor  +  Tensor to Numpy\n",
        "\n"
      ],
      "metadata": {
        "id": "ooaEcxKhuBdn"
      }
    },
    {
      "cell_type": "code",
      "source": [
        "#Numpy to Tensor\n",
        "np_arr = np.array([[1, 2], [3, 4]])\n",
        "tensor = torch.from_numpy(np_arr)\n",
        "print(\"To Numpy array:\", np_arr,\"--> PyTorch tensor:\", tensor )\n",
        "\n",
        "#Tensor to Numpy\n",
        "tensor = torch.arange(4)\n",
        "np_arr = tensor.numpy()\n",
        "print(\"To PyTorch tensor:\", tensor,\"--> Numpy array:\", np_arr )\n",
        "# The conversion of tensors to numpy require the tensor to be on the CPU, and not the GPU\n",
        "# In case you have a tensor on GPU\n",
        "tensor = tensor.to(device)\n",
        "# np_arr = tensor.numpy() # TypeError: can't convert cuda:0 device type tensor to numpy. Use Tensor.cpu() to copy the tensor to host memory first.\n",
        "np_arr = tensor.cpu().numpy()\n",
        "print(\"\\n\",type(np_arr))\n"
      ],
      "metadata": {
        "colab": {
          "base_uri": "https://localhost:8080/"
        },
        "id": "Bh68xnwTJh06",
        "outputId": "43364e13-edaa-4e0d-e5d4-54ee606d9bed"
      },
      "execution_count": null,
      "outputs": [
        {
          "output_type": "stream",
          "name": "stdout",
          "text": [
            "To Numpy array: [[1 2]\n",
            " [3 4]] --> PyTorch tensor: tensor([[1, 2],\n",
            "        [3, 4]])\n",
            "To PyTorch tensor: tensor([0, 1, 2, 3]) --> Numpy array: [0 1 2 3]\n",
            "\n",
            " <class 'numpy.ndarray'>\n"
          ]
        }
      ]
    },
    {
      "cell_type": "markdown",
      "source": [
        "##Implementazione manualmente con Numpy\n",
        "\n",
        "Il nostro obiettivo è trovare i parametri di un polinomio di terzo grado per approssimare il comportamento di una funzione seno.\n",
        "\n",
        "Per raggiungere questo scopo, utilizzeremo il metodo di ottimizzazione della discesa del gradiente, minimizzando l'errore quadratico medio (MSE) tra l'output del polinomio e l'output reale della funzione seno.\n",
        "\n",
        "$\\;$\n",
        "\n",
        "Promemoria:\n",
        "\n",
        "1.\n",
        "Le reti neurali non sono altro che funzioni matematiche molto complesse. Immesso un input, una rete neurale manipola tale input, in genere attraverso le seguenti operazioni: moltiplicazioni tra matrici di \"weights\" e l'input stesso, seguite da somme con vettori chiamati bias.\n",
        "\n",
        "\n",
        "$\\;$\n",
        "\n",
        "2.\n",
        "Il gradiente riveste un ruolo fondamentale negli algoritmi di Machine Learning quando cerchiamo di massimizzare o minimizzare le funzioni di costo rispetto ai parametri del modello; poiché ai massimi  e ai minimi locali, il vettore del gradiente di una funzione è zero.\n",
        "\n",
        "Esempio:\n",
        "\n",
        "Data la funzione\n",
        "\n",
        "$f(x,y, z) = x^2 + y + z^3$\n",
        "\n",
        "il gradiente è dato:\n",
        "\n",
        "$\\nabla f = [2x, 1, 3z^2  ] $\n",
        "\n",
        "$\\;$\n",
        "\n",
        "3.\n",
        "Il calcolo effettivo del gradiente di funzioni composte si basa sulla \"chain rule\" delle derivate; ovvero una formula che esprime la derivata di una funzione composta in termini delle derivate delle singole funzioni."
      ],
      "metadata": {
        "id": "Zrmf2SZVDcXJ"
      }
    },
    {
      "cell_type": "code",
      "source": [
        "#Il codice prende ispirazione da https://github.com/jcjohnson/pytorch-examples\n",
        "\n",
        "# Create random input and output dataset\n",
        "x = np.linspace(-math.pi, math.pi, 2000)\n",
        "y = np.sin(x)\n",
        "\n",
        "\n",
        "# Randomly initialize weights\n",
        "a = np.random.randn()\n",
        "b = np.random.randn()\n",
        "c = np.random.randn()\n",
        "d = np.random.randn()\n",
        "\n",
        "learning_rate = 1e-3\n",
        "\n",
        "for t in range(5_000+1):\n",
        "    # Forward pass: compute predicted y\n",
        "    # y = a + b x + c x^2 + d x^3\n",
        "    y_pred = a + b * x + c * x ** 2 + d * x ** 3\n",
        "\n",
        "    # Compute loss\n",
        "    loss = np.square(y_pred - y).mean()\n",
        "    # np.square(y_pred - y) is numpy vector of 2000 element\n",
        "\n",
        "    # Debug\n",
        "    if t % 1_000 == 0:\n",
        "        print(\"Step=\",t,\" - loss= \", loss)\n",
        "\n",
        "    # Backprop to compute gradients of a, b, c, d with respect to loss\n",
        "    grad_y_pred = 2.0 * (y_pred - y)\n",
        "    grad_a = grad_y_pred.mean()\n",
        "    grad_b = (grad_y_pred * x).mean()\n",
        "    grad_c = (grad_y_pred * x ** 2).mean()\n",
        "    grad_d = (grad_y_pred * x ** 3).mean()\n",
        "    #Every grad_... is numpy vector of 2000 element\n",
        "\n",
        "    # Update weights\n",
        "    a -= learning_rate * grad_a\n",
        "    b -= learning_rate * grad_b\n",
        "    c -= learning_rate * grad_c\n",
        "    d -= learning_rate * grad_d\n",
        "\n",
        "print(f'Result: y = {round(a,4)} + {round(b,4)} x + {round(c,4)} x^2 + {round(d,4)} x^3')\n",
        "\n",
        "#Test\n",
        "print(\"\\nTest \")\n",
        "pp = random.uniform(-math.pi, math.pi )\n",
        "#print(pp)\n",
        "y = np.sin(pp)\n",
        "print(y)\n",
        "y_pred = a + b * pp + c * pp ** 2 + d * pp ** 3\n",
        "print(y_pred)\n",
        "\n",
        "#Accuracy\n",
        "x1 = np.linspace(-math.pi, math.pi, 1000)\n",
        "true_values = np.sin(x1)\n",
        "prev =  a + b * x1 + c * x1 ** 2 + d * x1 ** 3\n",
        "\n",
        "accurate_count = np.sum(np.abs(prev - true_values) <= 0.1)\n",
        "#Note: np.abs(prev - true_values) <= 0.5) = [ True  False  True  True False False True ... ]\n",
        "total_count = len(x1)\n",
        "accuracy = (accurate_count / total_count) * 100\n",
        "print(\"\")\n",
        "print(f\"The accuracy on 1000 sample: {accuracy:.2f}%\")"
      ],
      "metadata": {
        "colab": {
          "base_uri": "https://localhost:8080/"
        },
        "outputId": "fd4ac039-39e9-4698-c8ca-2f1a719997a0",
        "id": "jCYgJNxFRpfH"
      },
      "execution_count": null,
      "outputs": [
        {
          "output_type": "stream",
          "name": "stdout",
          "text": [
            "Step= 0  - loss=  177.0530801944618\n",
            "Step= 1000  - loss=  0.12803274644701135\n",
            "Step= 2000  - loss=  0.02488252256304115\n",
            "Step= 3000  - loss=  0.007857207758341764\n",
            "Step= 4000  - loss=  0.004997318795589698\n",
            "Step= 5000  - loss=  0.0045101370536094155\n",
            "Result: y = 0.0145 + 0.853 x + -0.0025 x^2 + -0.0928 x^3\n",
            "\n",
            "Test \n",
            "0.9877140293201857\n",
            "1.0021944521294448\n",
            "\n",
            "The accuracy on 1000 sample: 96.00%\n"
          ]
        }
      ]
    },
    {
      "cell_type": "markdown",
      "source": [
        "####.sum() oppure .mean() ?\n",
        "\n",
        "La funzione costo complessiva è tipicamente determinata come la media o la somma dei valori delle singole funzioni costo ottenute dai singoli esempi del training dataset. Questo principio, somma o media, si applica anche nel determinare i gradienti complessivi di ogni parametro del modello.\n",
        "\n",
        "Tuttavia, quando si tratta di somme, ciò comporta una funzione loss complessiva con valori maggiori rispetto ad una loss ottenuta con una media, il che implica la necessità di tassi di apprendimento (learning_rate) più bassi.  Nonostante ciò, l'algoritmo converge.\n"
      ],
      "metadata": {
        "id": "wF18fNCgSRa9"
      }
    },
    {
      "cell_type": "code",
      "source": [
        "# Il codice prende ispirazione da https://github.com/jcjohnson/pytorch-examples\n",
        "\n",
        "# Create random input and output dataset\n",
        "x = np.linspace(-math.pi, math.pi, 2000)\n",
        "y = np.sin(x)\n",
        "\n",
        "\n",
        "# Randomly initialize weights\n",
        "a = np.random.randn()\n",
        "b = np.random.randn()\n",
        "c = np.random.randn()\n",
        "d = np.random.randn()\n",
        "\n",
        "learning_rate = 1e-6\n",
        "\n",
        "for t in range(5_000+1):\n",
        "    # Forward pass: compute predicted y\n",
        "    # y = a + b x + c x^2 + d x^3\n",
        "    y_pred = a + b * x + c * x ** 2 + d * x ** 3\n",
        "\n",
        "    # Compute and print loss\n",
        "    loss = np.square(y_pred - y).sum()\n",
        "    if t % 1_000 == 0:\n",
        "        print(\"Step=\",t,\" - loss= \", loss)\n",
        "\n",
        "    # Backprop to compute gradients of a, b, c, d with respect to loss\n",
        "    grad_y_pred = 2.0 * (y_pred - y)\n",
        "    grad_a = grad_y_pred.sum()\n",
        "    grad_b = (grad_y_pred * x).sum()\n",
        "    grad_c = (grad_y_pred * x ** 2).sum()\n",
        "    grad_d = (grad_y_pred * x ** 3).sum()\n",
        "\n",
        "    # Update weights\n",
        "    # Update the parameters of the model in the direction of the gradients\n",
        "    a -= learning_rate * grad_a\n",
        "    b -= learning_rate * grad_b\n",
        "    c -= learning_rate * grad_c\n",
        "    d -= learning_rate * grad_d\n",
        "\n",
        "print(f'Result: y = {round(a,4)} + {round(b,4)} x + {round(c,4)} x^2 + {round(d,4)} x^3')\n",
        "\n",
        "#Test\n",
        "print(\"\\nTest \")\n",
        "pp = random.uniform(-math.pi, math.pi )\n",
        "#print(pp)\n",
        "y = np.sin(pp)\n",
        "print(y)\n",
        "y_pred = a + b * pp + c * pp ** 2 + d * pp ** 3\n",
        "print(y_pred)\n",
        "\n",
        "\n",
        "#Accuracy\n",
        "x1 = np.linspace(-math.pi, math.pi, 1000)\n",
        "true_values= np.sin(x1)\n",
        "prev =  a + b * x1 + c * x1 ** 2 + d * x1 ** 3\n",
        "\n",
        "accurate_count = np.sum(np.abs(prev - true_values) <= 0.1)\n",
        "total_count = len(x1)\n",
        "accuracy = (accurate_count / total_count) * 100\n",
        "print(\"\")\n",
        "print(f\"The accuracy on 1000 sample: {accuracy:.2f}%\")"
      ],
      "metadata": {
        "colab": {
          "base_uri": "https://localhost:8080/"
        },
        "outputId": "0440a790-99c0-431b-c39f-7d95cdeec2f1",
        "id": "nZpgF-4m2EJi"
      },
      "execution_count": null,
      "outputs": [
        {
          "output_type": "stream",
          "name": "stdout",
          "text": [
            "Step= 0  - loss=  169667.21905858643\n",
            "Step= 1000  - loss=  103.70884188664972\n",
            "Step= 2000  - loss=  11.271599632525362\n",
            "Step= 3000  - loss=  8.885928140763633\n",
            "Step= 4000  - loss=  8.819194543735808\n",
            "Step= 5000  - loss=  8.817227133276948\n",
            "Result: y = 0.0003 + 0.8567 x + -0.0 x^2 + -0.0933 x^3\n",
            "\n",
            "Test \n",
            "-0.8259909041394413\n",
            "-0.9055354956664827\n",
            "\n",
            "The accuracy on 1000 sample: 95.80%\n"
          ]
        }
      ]
    },
    {
      "cell_type": "markdown",
      "source": [
        "## Autograd\n",
        "\n",
        "Il pacchetto autograd in PyTorch implementa la differenziazione automatica.\n",
        "\n",
        "Quando si utilizza Autograd, prima si registrà un **computational graph**, ovvero il flusso di calcolo che porta dai dati di input ai risultati finali: i nodi nel grafo saranno tensori, e gli archi saranno operazioni che producono tensori di output da tensori di input.\n",
        "\n",
        "Ripercorrendo questo grafo (partendo dall'output), sarà calcolato (usando la chain rule delle derivate) il gradiente di ogni parametro rispetto la funzione di riferimento (in una NN la loss).\n",
        "\n",
        "\n",
        "$\\;$\n",
        "\n",
        "Nota tecnica:\n",
        "\n",
        "Se x è un tensore che ha x.requires_grad=True allora x.grad è un altro tensore che memorizza il valore del gradiente di x rispetto alla funzione selezionata in $\\verb|.backward()|$.\n",
        "\n",
        "$\\;$\n",
        "\n",
        "Ref:\n",
        "\n",
        "\n",
        "https://pytorch.org/docs/stable/notes/autograd.html\n",
        "\n",
        "https://pytorch.org/tutorials/beginner/basics/autogradqs_tutorial.html\n",
        "\n",
        "\n",
        "https://blog.paperspace.com/pytorch-101-understanding-graphs-and-automatic-differentiation/\n",
        "\n"
      ],
      "metadata": {
        "id": "j1Dnk0NTsmKj"
      }
    },
    {
      "cell_type": "markdown",
      "source": [
        "###Introduzione all'uso del pachetto Autograd"
      ],
      "metadata": {
        "id": "IMTAxfKbBSZw"
      }
    },
    {
      "cell_type": "code",
      "source": [
        "# codice ispirato https://www.geeksforgeeks.org/graphs-automatic-differentiation-and-autograd-in-pytorch/\n",
        "\n",
        "#!pip install torchviz\n",
        "#from torchviz import make_dot\n",
        "\n",
        "# Assign any value for x as tensor form\n",
        "# Set requires_grad=True So, that autograd will record the operations\n",
        "x=torch.tensor(7.0,requires_grad=True)\n",
        "print(\"x=\",x)\n",
        "\n",
        "# Define the function\n",
        "f = (x**2)+ x + 3\n",
        "\n",
        "# Differentiate using torch\n",
        "# Uses backward function to compute the gradient value\n",
        "f.backward()\n",
        "\n",
        "# Print the derivative value of y\n",
        "# i.e dy/dx = 2x + 1  = 2 X 7.0 + 1  = 15\n",
        "print(\"x.grad=\",x.grad)\n"
      ],
      "metadata": {
        "colab": {
          "base_uri": "https://localhost:8080/"
        },
        "id": "a__jvkFM-5ES",
        "outputId": "d40e41c6-e4d2-4e63-aaa1-9c6b7b22137a"
      },
      "execution_count": null,
      "outputs": [
        {
          "output_type": "stream",
          "name": "stdout",
          "text": [
            "x= tensor(7., requires_grad=True)\n",
            "x.grad= tensor(15.)\n"
          ]
        }
      ]
    },
    {
      "cell_type": "code",
      "source": [
        "#A Simple Neural Network\n",
        "\n",
        "class Net(nn.Module):\n",
        "  def __init__(self):\n",
        "    super(Net, self).__init__()\n",
        "    # Ref :  https://pytorch.org/docs/stable/generated/torch.nn.Linear.html\n",
        "    # Define layers: Linear layer with 1 input feature and 2 output neuron\n",
        "    self.linear1 = nn.Linear(1, 3,bias=False) ### you get : 1x3 weight matrix\n",
        "    # Define layers: Linear layer with 2 input feature and 1 output neuron\n",
        "    self.linear2 = nn.Linear(3, 1,bias=True) ### you get : 3x1 weight matrix and a 1 bias\n",
        "\n",
        "  # Define the forward pass of the network\n",
        "  def forward(self, x):\n",
        "    out = self.linear1(x)\n",
        "    out= nn.functional.sigmoid(out)  # Define activation function(Sigmoid)\n",
        "    out = self.linear2(out)\n",
        "    out= nn.functional.sigmoid(out)\n",
        "    return out\n",
        "\n",
        "# Input\n",
        "in_tensor= torch.tensor([0.9])\n",
        "print(\"in_tensor=\",in_tensor)\n",
        "print(\"in_tensor.requires_grad:\", in_tensor.requires_grad)\n",
        "#label\n",
        "label_tensor = torch.ones(1)\n",
        "\n",
        "model_NN = Net()\n",
        "print(\"\\n Model:\")\n",
        "print(model_NN)\n",
        "print(\"\")\n",
        "\n",
        "print(\"Prev model input\",model_NN(in_tensor))\n",
        "print(\"\")\n",
        "\n",
        "#Define fuction y (i.e. the loss)\n",
        "y = (model_NN(in_tensor) - label_tensor)**2\n",
        "print(\"y.requires_grad:\", y.requires_grad)\n",
        "print(\"\")\n",
        "\n",
        "# Zero the gradient buffers of all parameters\n",
        "# Before calculating the gradients again, we need to ensure that they are all zero.\n",
        "# This is because by default, gradients are accumulated in buffers( i.e, not overwritten) whenever .backward()  is called.\n",
        "model_NN.zero_grad()\n",
        "\n",
        "\n",
        "# Backward pass:\n",
        "# compute automatically gradient of the y with respect to all the learnable\n",
        "# parameters of the model. Internally, the parameters of each Module are stored\n",
        "# in Tensors with requires_grad=True, so this call will compute gradients for\n",
        "# all learnable parameters in the model.\n",
        "y.backward()\n",
        "\n",
        "\n",
        "# Context manager: with torch.no_grad, Why?\n",
        "# 1.General answer :\n",
        "# while, we are performing updating weights, we don't compute gradients, and thus, don't need to store these values;\n",
        "#  it will lead to useless consumption of memory.\n",
        "# Note the print output: 'param.requires_grad=True': this is a \"factory function exception\" . For more info : https://pytorch.org/docs/stable/generated/torch.no_grad.html\n",
        "# 2.Practical answer relating to the specific case:\n",
        "# Whitout 'torch.no_grad()'->  RuntimeError: a leaf Variable that requires grad is being used in an in-place operation\n",
        "#  in line code : 'param -= 0.5 * param.grad'\n",
        "# PyTorch doesn’t allow in-place operations on leaf variables that have requires_grad=True (such as parameters of your model) because the developers could not decide how such an operation should behave.\n",
        "# Note: If require_grad is False then it will be a leaf tensor. For tensors that have requires_grad which is True, they will be leaf Tensors if they were created by the user(Eg. weights of your neural network\n",
        "with torch.no_grad():\n",
        "    for name, param in model_NN.named_parameters():\n",
        "            print(f\"Param name : {name}, Shape: {param.size()}\")\n",
        "            print(\"In =\",param)\n",
        "            print(\"Gradient:\\n\", param.grad)\n",
        "            param -= 0.5 * param.grad\n",
        "            print(\"Update =\",param,\"\\n\")\n",
        "\n",
        "print(\"Prev model update\",model_NN(in_tensor))\n"
      ],
      "metadata": {
        "colab": {
          "base_uri": "https://localhost:8080/"
        },
        "id": "QfwjtN5VHo8g",
        "outputId": "7539a79a-5a3d-4f12-a657-4ee214d0d775"
      },
      "execution_count": null,
      "outputs": [
        {
          "output_type": "stream",
          "name": "stdout",
          "text": [
            "in_tensor= tensor([0.9000])\n",
            "in_tensor.requires_grad: False\n",
            "\n",
            " Model:\n",
            "Net(\n",
            "  (linear1): Linear(in_features=1, out_features=3, bias=False)\n",
            "  (linear2): Linear(in_features=3, out_features=1, bias=True)\n",
            ")\n",
            "\n",
            "Prev model input tensor([0.4526], grad_fn=<SigmoidBackward0>)\n",
            "\n",
            "y.requires_grad: True\n",
            "\n",
            "Param name : linear1.weight, Shape: torch.Size([3, 1])\n",
            "In = Parameter containing:\n",
            "tensor([[-0.1075],\n",
            "        [-0.5797],\n",
            "        [-0.3493]], requires_grad=True)\n",
            "Gradient:\n",
            " tensor([[ 0.0165],\n",
            "        [-0.0032],\n",
            "        [-0.0262]])\n",
            "Update = Parameter containing:\n",
            "tensor([[-0.1157],\n",
            "        [-0.5781],\n",
            "        [-0.3362]], requires_grad=True) \n",
            "\n",
            "Param name : linear2.weight, Shape: torch.Size([1, 3])\n",
            "In = Parameter containing:\n",
            "tensor([[-0.2711,  0.0561,  0.4407]], requires_grad=True)\n",
            "Gradient:\n",
            " tensor([[-0.1291, -0.1010, -0.1145]])\n",
            "Update = Parameter containing:\n",
            "tensor([[-0.2066,  0.1066,  0.4979]], requires_grad=True) \n",
            "\n",
            "Param name : linear2.bias, Shape: torch.Size([1])\n",
            "In = Parameter containing:\n",
            "tensor([-0.2681], requires_grad=True)\n",
            "Gradient:\n",
            " tensor([-0.2712])\n",
            "Update = Parameter containing:\n",
            "tensor([-0.1325], requires_grad=True) \n",
            "\n",
            "Prev model update tensor([0.5052], grad_fn=<SigmoidBackward0>)\n"
          ]
        }
      ]
    },
    {
      "cell_type": "markdown",
      "source": [
        "###Implementazione del polinomio precedente con Autograd\n",
        "\n",
        "Nel codice seguente, implementeremo lo stesso polinomio sopra descritto. Tuttavia, per ottimizzare l'efficienza, sfrutteremo i tensori e la differenziazione automatica di PyTorch (che automatizza il calcolo della backpropagation)."
      ],
      "metadata": {
        "id": "-GRZM7oYBkKu"
      }
    },
    {
      "cell_type": "code",
      "source": [
        "##Il codice prende ispirazione da https://github.com/jcjohnson/pytorch-examples\n",
        "\n",
        "# Here we use PyTorch Tensors and autograd to implement our fitting sine wave with third order polynomial example;\n",
        "# now we no longer need to manually implement the backward pass\n",
        "\n",
        "dtype = torch.float\n",
        "device = \"cuda\" if torch.cuda.is_available() else \"cpu\"\n",
        "torch.set_default_device(device)\n",
        "\n",
        "# Create Tensors to hold input and outputs.\n",
        "\n",
        "# By default, requires_grad=False, which indicates that we do not need to\n",
        "# compute gradients with respect to these Tensors during the backward pass.\n",
        "x = torch.linspace(-math.pi, math.pi, 2000, dtype=dtype)\n",
        "y = torch.sin(x)\n",
        "\n",
        "# Setting requires_grad=True indicates that we want to compute gradients with\n",
        "# respect to these Tensors during the backward pass.\n",
        "# PyTorch will track the operations if .requires_grad attribute it set to True\n",
        "# and will create a computation graph from these operations.\n",
        "a = torch.randn((), dtype=dtype, requires_grad=True)\n",
        "b = torch.randn((), dtype=dtype, requires_grad=True)\n",
        "c = torch.randn((), dtype=dtype, requires_grad=True)\n",
        "d = torch.randn((), dtype=dtype, requires_grad=True)\n",
        "\n",
        "learning_rate = 1e-3\n",
        "\n",
        "num_iter= 3_000\n",
        "\n",
        "for t in range(num_iter+1):\n",
        "    # Forward pass: compute predicted y using operations on Tensors.\n",
        "    y_pred = a + b * x + c * x ** 2 + d * x ** 3\n",
        "\n",
        "    # Compute and print loss using operations on Tensors.\n",
        "    # Now loss is a Tensor of shape (1,)\n",
        "    # loss.item() gets the scalar value held in the loss.\n",
        "    loss = (y_pred - y).pow(2).mean()\n",
        "    #loss ~  tensor(3.5625, device='cuda:0', grad_fn=<MeanBackward0>)\n",
        "    #Note:\n",
        "    #Each node of the computation graph has automatically defined a function for calculating\n",
        "    #the gradients with respect to its inputs: grad_fn\n",
        "\n",
        "    #Debug\n",
        "    if t % 5_00 == 0:\n",
        "        print(\"Step=\",t,\" - loss= \", loss.item())\n",
        "\n",
        "\n",
        "    # Use autograd to compute the backward pass. This call will compute the\n",
        "    # gradient of loss with respect to all Tensors with requires_grad=True.\n",
        "    # After this call a.grad, b.grad. c.grad and d.grad will be Tensors holding\n",
        "    # the gradient of the loss with respect to a, b, c, d respectively.\n",
        "    loss.backward()\n",
        "\n",
        "    # Manually update weights using gradient descent. Wrap in torch.no_grad()\n",
        "    # because weights have requires_grad=True, but we don't need to track this\n",
        "    with torch.no_grad():\n",
        "        a -= learning_rate * a.grad\n",
        "        #a.grad ~ tensor(-27.5469, device='cuda:0')\n",
        "        #a      ~ tensor(-1.2682, device='cuda:0', requires_grad=True)\n",
        "        b -= learning_rate * b.grad\n",
        "        c -= learning_rate * c.grad\n",
        "        d -= learning_rate * d.grad\n",
        "\n",
        "        # Manually zero the gradients after updating weights\n",
        "        # I.e. : If we call the backward function on the loss while the parameter gradients are non-zero from the previous batch,\n",
        "        # the new gradients would actually be added to the previous ones instead of overwriting them.\n",
        "        # (This is done because a parameter might occur multiple times in a computation graph,\n",
        "        # and we need to sum the gradients in this case instead of replacing them.)\n",
        "        a.grad = None\n",
        "        b.grad = None\n",
        "        c.grad = None\n",
        "        d.grad = None\n",
        "\n",
        "print(f'Result: y = {a.item()} + {b.item()} x + {c.item()} x^2 + {d.item()} x^3')\n",
        "\n",
        "\n",
        "#Accuracy - torch\n",
        "x1 = torch.linspace(-math.pi, math.pi, 1000, dtype=dtype)\n",
        "true_values= torch.sin(x1)\n",
        "prev =  a + b * x1 + c * x1 ** 2 + d * x1 ** 3\n",
        "\n",
        "prev = prev.detach().numpy() # untimeError: Can't call numpy() on Tensor that requires grad. Use tensor.detach().numpy() instead.\n",
        "true_values= true_values.numpy()\n",
        "accurate_count = np.sum(np.abs(prev - true_values) <= 0.1)\n",
        "total_count = len(x1)\n",
        "accuracy = (accurate_count / total_count) * 100\n",
        "print(\"\")\n",
        "print(f\"The accuracy on 1000 sample: {accuracy:.2f}%\")"
      ],
      "metadata": {
        "colab": {
          "base_uri": "https://localhost:8080/"
        },
        "id": "DWiF27T7Ulne",
        "outputId": "969c13b5-05c1-4aa8-dbae-b58e161c7081"
      },
      "execution_count": null,
      "outputs": [
        {
          "output_type": "stream",
          "name": "stdout",
          "text": [
            "Step= 0  - loss=  155.4891357421875\n",
            "Step= 500  - loss=  0.6710086464881897\n",
            "Step= 1000  - loss=  0.2607576251029968\n",
            "Step= 1500  - loss=  0.10369838029146194\n",
            "Step= 2000  - loss=  0.043141718953847885\n",
            "Step= 2500  - loss=  0.019625334069132805\n",
            "Step= 3000  - loss=  0.01042767334729433\n",
            "Result: y = 0.09340956807136536 + 0.7931990623474121 x + -0.016114702448248863 x^2 + -0.08429212123155594 x^3\n",
            "\n",
            "The accuracy on 1000 sample: 71.20%\n"
          ]
        }
      ]
    },
    {
      "cell_type": "markdown",
      "source": [
        "##Implementare una Rete Neurale in PyTorch\n",
        "\n",
        "In questo codice, viene implementata una semplice rete neurale utilizzando il modulo torch.nn: questo offre una buona varietà di classi predefinite per la costruzione di reti neurali, tra cui: layer lineari, funzioni di attivazione, funzioni di loss\n",
        "\n",
        "Il dataset utilizzato è Fashion-MNIST, che contiene immagini di capi di abbigliamento.\n",
        "\n",
        "https://arxiv.org/abs/1708.07747\n",
        "\n",
        "\n"
      ],
      "metadata": {
        "id": "duj9MG5PIa7e"
      }
    },
    {
      "cell_type": "markdown",
      "source": [
        "####Importa il Dataset Fashion-MNIST\n",
        "\n",
        "Per un Custom Dataset, vedere:\n",
        "\n",
        " https://pytorch.org/tutorials/beginner/basics/data_tutorial.html"
      ],
      "metadata": {
        "id": "1mlGUaI15Nv7"
      }
    },
    {
      "cell_type": "code",
      "source": [
        "# Ref:\n",
        "# https://pytorch.org/tutorials/beginner/basics/quickstart_tutorial.html\n",
        "\n",
        "from torch.utils.data import DataLoader\n",
        "from torchvision import datasets\n",
        "from torchvision.transforms import ToTensor\n",
        "\n",
        "\n",
        "# Download training data from open datasets.\n",
        "training_data = datasets.FashionMNIST(\n",
        "    root=\"data\",\n",
        "    train=True,\n",
        "    download=True,\n",
        "    transform=ToTensor(),\n",
        ")\n",
        "\n",
        "# Download test data from open datasets.\n",
        "test_data = datasets.FashionMNIST(\n",
        "    root=\"data\",\n",
        "    train=False,\n",
        "    download=True,\n",
        "    transform=ToTensor(),\n",
        ")"
      ],
      "metadata": {
        "id": "Ob_j0YlX1vSr"
      },
      "execution_count": null,
      "outputs": []
    },
    {
      "cell_type": "markdown",
      "source": [
        "####Visualizza il contenuto del Dataset"
      ],
      "metadata": {
        "id": "OeUpMk3d6sUj"
      }
    },
    {
      "cell_type": "code",
      "source": [
        "labels_map = {\n",
        "    0: \"T-Shirt\",\n",
        "    1: \"Trouser\",\n",
        "    2: \"Pullover\",\n",
        "    3: \"Dress\",\n",
        "    4: \"Coat\",\n",
        "    5: \"Sandal\",\n",
        "    6: \"Shirt\",\n",
        "    7: \"Sneaker\",\n",
        "    8: \"Bag\",\n",
        "    9: \"Ankle Boot\",\n",
        "}\n",
        "\n",
        "figure = plt.figure(figsize=(3.5, 3.5))\n",
        "cols, rows = 3, 3\n",
        "\n",
        "for i in range(1, cols * rows + 1):\n",
        "    sample_idx = torch.randint(len(training_data), size=(1,)).item()\n",
        "    img, label = training_data[sample_idx] # qui campiona\n",
        "\n",
        "    figure.add_subplot(rows, cols, i)\n",
        "    plt.title(labels_map[label])\n",
        "    plt.axis(\"off\")\n",
        "    plt.imshow(img.squeeze(), cmap=\"gray\")\n",
        "plt.show()"
      ],
      "metadata": {
        "id": "otnnTlG-109b",
        "colab": {
          "base_uri": "https://localhost:8080/",
          "height": 320
        },
        "outputId": "564845e3-a284-4400-f9ab-87ad5bd58424"
      },
      "execution_count": null,
      "outputs": [
        {
          "output_type": "display_data",
          "data": {
            "text/plain": [
              "<Figure size 350x350 with 9 Axes>"
            ],
            "image/svg+xml": "<?xml version=\"1.0\" encoding=\"utf-8\" standalone=\"no\"?>\n<!DOCTYPE svg PUBLIC \"-//W3C//DTD SVG 1.1//EN\"\n  \"http://www.w3.org/Graphics/SVG/1.1/DTD/svg11.dtd\">\n<svg xmlns:xlink=\"http://www.w3.org/1999/xlink\" width=\"213.252243pt\" height=\"223.558125pt\" viewBox=\"0 0 213.252243 223.558125\" xmlns=\"http://www.w3.org/2000/svg\" version=\"1.1\">\n <metadata>\n  <rdf:RDF xmlns:dc=\"http://purl.org/dc/elements/1.1/\" xmlns:cc=\"http://creativecommons.org/ns#\" xmlns:rdf=\"http://www.w3.org/1999/02/22-rdf-syntax-ns#\">\n   <cc:Work>\n    <dc:type rdf:resource=\"http://purl.org/dc/dcmitype/StillImage\"/>\n    <dc:date>2024-04-17T16:43:17.381396</dc:date>\n    <dc:format>image/svg+xml</dc:format>\n    <dc:creator>\n     <cc:Agent>\n      <dc:title>Matplotlib v3.7.1, https://matplotlib.org/</dc:title>\n     </cc:Agent>\n    </dc:creator>\n   </cc:Work>\n  </rdf:RDF>\n </metadata>\n <defs>\n  <style type=\"text/css\">*{stroke-linejoin: round; stroke-linecap: butt}</style>\n </defs>\n <g id=\"figure_1\">\n  <g id=\"patch_1\">\n   <path d=\"M 0 223.558125 \nL 213.252243 223.558125 \nL 213.252243 0 \nL 0 0 \nz\n\" style=\"fill: #ffffff\"/>\n  </g>\n  <g id=\"axes_1\">\n   <g clip-path=\"url(#p8748ee839f)\">\n    <image xlink:href=\"data:image/png;base64,\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\" id=\"image74018c1cc2\" transform=\"scale(1 -1) translate(0 -57.6)\" x=\"11.122831\" y=\"-21.788713\" width=\"57.6\" height=\"57.6\"/>\n   </g>\n   <g id=\"text_1\">\n    <!-- Sandal -->\n    <g style=\"fill: #262626\" transform=\"translate(19.216875 16.318125) scale(0.12 -0.12)\">\n     <defs>\n      <path id=\"DejaVuSans-53\" d=\"M 3425 4513 \nL 3425 3897 \nQ 3066 4069 2747 4153 \nQ 2428 4238 2131 4238 \nQ 1616 4238 1336 4038 \nQ 1056 3838 1056 3469 \nQ 1056 3159 1242 3001 \nQ 1428 2844 1947 2747 \nL 2328 2669 \nQ 3034 2534 3370 2195 \nQ 3706 1856 3706 1288 \nQ 3706 609 3251 259 \nQ 2797 -91 1919 -91 \nQ 1588 -91 1214 -16 \nQ 841 59 441 206 \nL 441 856 \nQ 825 641 1194 531 \nQ 1563 422 1919 422 \nQ 2459 422 2753 634 \nQ 3047 847 3047 1241 \nQ 3047 1584 2836 1778 \nQ 2625 1972 2144 2069 \nL 1759 2144 \nQ 1053 2284 737 2584 \nQ 422 2884 422 3419 \nQ 422 4038 858 4394 \nQ 1294 4750 2059 4750 \nQ 2388 4750 2728 4690 \nQ 3069 4631 3425 4513 \nz\n\" transform=\"scale(0.015625)\"/>\n      <path id=\"DejaVuSans-61\" d=\"M 2194 1759 \nQ 1497 1759 1228 1600 \nQ 959 1441 959 1056 \nQ 959 750 1161 570 \nQ 1363 391 1709 391 \nQ 2188 391 2477 730 \nQ 2766 1069 2766 1631 \nL 2766 1759 \nL 2194 1759 \nz\nM 3341 1997 \nL 3341 0 \nL 2766 0 \nL 2766 531 \nQ 2569 213 2275 61 \nQ 1981 -91 1556 -91 \nQ 1019 -91 701 211 \nQ 384 513 384 1019 \nQ 384 1609 779 1909 \nQ 1175 2209 1959 2209 \nL 2766 2209 \nL 2766 2266 \nQ 2766 2663 2505 2880 \nQ 2244 3097 1772 3097 \nQ 1472 3097 1187 3025 \nQ 903 2953 641 2809 \nL 641 3341 \nQ 956 3463 1253 3523 \nQ 1550 3584 1831 3584 \nQ 2591 3584 2966 3190 \nQ 3341 2797 3341 1997 \nz\n\" transform=\"scale(0.015625)\"/>\n      <path id=\"DejaVuSans-6e\" d=\"M 3513 2113 \nL 3513 0 \nL 2938 0 \nL 2938 2094 \nQ 2938 2591 2744 2837 \nQ 2550 3084 2163 3084 \nQ 1697 3084 1428 2787 \nQ 1159 2491 1159 1978 \nL 1159 0 \nL 581 0 \nL 581 3500 \nL 1159 3500 \nL 1159 2956 \nQ 1366 3272 1645 3428 \nQ 1925 3584 2291 3584 \nQ 2894 3584 3203 3211 \nQ 3513 2838 3513 2113 \nz\n\" transform=\"scale(0.015625)\"/>\n      <path id=\"DejaVuSans-64\" d=\"M 2906 2969 \nL 2906 4863 \nL 3481 4863 \nL 3481 0 \nL 2906 0 \nL 2906 525 \nQ 2725 213 2448 61 \nQ 2172 -91 1784 -91 \nQ 1150 -91 751 415 \nQ 353 922 353 1747 \nQ 353 2572 751 3078 \nQ 1150 3584 1784 3584 \nQ 2172 3584 2448 3432 \nQ 2725 3281 2906 2969 \nz\nM 947 1747 \nQ 947 1113 1208 752 \nQ 1469 391 1925 391 \nQ 2381 391 2643 752 \nQ 2906 1113 2906 1747 \nQ 2906 2381 2643 2742 \nQ 2381 3103 1925 3103 \nQ 1469 3103 1208 2742 \nQ 947 2381 947 1747 \nz\n\" transform=\"scale(0.015625)\"/>\n      <path id=\"DejaVuSans-6c\" d=\"M 603 4863 \nL 1178 4863 \nL 1178 0 \nL 603 0 \nL 603 4863 \nz\n\" transform=\"scale(0.015625)\"/>\n     </defs>\n     <use xlink:href=\"#DejaVuSans-53\"/>\n     <use xlink:href=\"#DejaVuSans-61\" x=\"63.476562\"/>\n     <use xlink:href=\"#DejaVuSans-6e\" x=\"124.755859\"/>\n     <use xlink:href=\"#DejaVuSans-64\" x=\"188.134766\"/>\n     <use xlink:href=\"#DejaVuSans-61\" x=\"251.611328\"/>\n     <use xlink:href=\"#DejaVuSans-6c\" x=\"312.890625\"/>\n    </g>\n   </g>\n  </g>\n  <g id=\"axes_2\">\n   <g clip-path=\"url(#p5b2b28661c)\">\n    <image xlink:href=\"data:image/png;base64,\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\" id=\"image11bca50e86\" transform=\"scale(1 -1) translate(0 -57.6)\" x=\"80.052243\" y=\"-21.788713\" width=\"57.6\" height=\"57.6\"/>\n   </g>\n   <g id=\"text_2\">\n    <!-- Shirt -->\n    <g style=\"fill: #262626\" transform=\"translate(94.490349 16.318125) scale(0.12 -0.12)\">\n     <defs>\n      <path id=\"DejaVuSans-68\" d=\"M 3513 2113 \nL 3513 0 \nL 2938 0 \nL 2938 2094 \nQ 2938 2591 2744 2837 \nQ 2550 3084 2163 3084 \nQ 1697 3084 1428 2787 \nQ 1159 2491 1159 1978 \nL 1159 0 \nL 581 0 \nL 581 4863 \nL 1159 4863 \nL 1159 2956 \nQ 1366 3272 1645 3428 \nQ 1925 3584 2291 3584 \nQ 2894 3584 3203 3211 \nQ 3513 2838 3513 2113 \nz\n\" transform=\"scale(0.015625)\"/>\n      <path id=\"DejaVuSans-69\" d=\"M 603 3500 \nL 1178 3500 \nL 1178 0 \nL 603 0 \nL 603 3500 \nz\nM 603 4863 \nL 1178 4863 \nL 1178 4134 \nL 603 4134 \nL 603 4863 \nz\n\" transform=\"scale(0.015625)\"/>\n      <path id=\"DejaVuSans-72\" d=\"M 2631 2963 \nQ 2534 3019 2420 3045 \nQ 2306 3072 2169 3072 \nQ 1681 3072 1420 2755 \nQ 1159 2438 1159 1844 \nL 1159 0 \nL 581 0 \nL 581 3500 \nL 1159 3500 \nL 1159 2956 \nQ 1341 3275 1631 3429 \nQ 1922 3584 2338 3584 \nQ 2397 3584 2469 3576 \nQ 2541 3569 2628 3553 \nL 2631 2963 \nz\n\" transform=\"scale(0.015625)\"/>\n      <path id=\"DejaVuSans-74\" d=\"M 1172 4494 \nL 1172 3500 \nL 2356 3500 \nL 2356 3053 \nL 1172 3053 \nL 1172 1153 \nQ 1172 725 1289 603 \nQ 1406 481 1766 481 \nL 2356 481 \nL 2356 0 \nL 1766 0 \nQ 1100 0 847 248 \nQ 594 497 594 1153 \nL 594 3053 \nL 172 3053 \nL 172 3500 \nL 594 3500 \nL 594 4494 \nL 1172 4494 \nz\n\" transform=\"scale(0.015625)\"/>\n     </defs>\n     <use xlink:href=\"#DejaVuSans-53\"/>\n     <use xlink:href=\"#DejaVuSans-68\" x=\"63.476562\"/>\n     <use xlink:href=\"#DejaVuSans-69\" x=\"126.855469\"/>\n     <use xlink:href=\"#DejaVuSans-72\" x=\"154.638672\"/>\n     <use xlink:href=\"#DejaVuSans-74\" x=\"195.751953\"/>\n    </g>\n   </g>\n  </g>\n  <g id=\"axes_3\">\n   <g clip-path=\"url(#pddb901ab47)\">\n    <image xlink:href=\"data:image/png;base64,\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\" id=\"imagebe97e424b8\" transform=\"scale(1 -1) translate(0 -57.6)\" x=\"148.981654\" y=\"-21.788713\" width=\"57.6\" height=\"57.6\"/>\n   </g>\n   <g id=\"text_3\">\n    <!-- Dress -->\n    <g style=\"fill: #262626\" transform=\"translate(160.622261 16.318125) scale(0.12 -0.12)\">\n     <defs>\n      <path id=\"DejaVuSans-44\" d=\"M 1259 4147 \nL 1259 519 \nL 2022 519 \nQ 2988 519 3436 956 \nQ 3884 1394 3884 2338 \nQ 3884 3275 3436 3711 \nQ 2988 4147 2022 4147 \nL 1259 4147 \nz\nM 628 4666 \nL 1925 4666 \nQ 3281 4666 3915 4102 \nQ 4550 3538 4550 2338 \nQ 4550 1131 3912 565 \nQ 3275 0 1925 0 \nL 628 0 \nL 628 4666 \nz\n\" transform=\"scale(0.015625)\"/>\n      <path id=\"DejaVuSans-65\" d=\"M 3597 1894 \nL 3597 1613 \nL 953 1613 \nQ 991 1019 1311 708 \nQ 1631 397 2203 397 \nQ 2534 397 2845 478 \nQ 3156 559 3463 722 \nL 3463 178 \nQ 3153 47 2828 -22 \nQ 2503 -91 2169 -91 \nQ 1331 -91 842 396 \nQ 353 884 353 1716 \nQ 353 2575 817 3079 \nQ 1281 3584 2069 3584 \nQ 2775 3584 3186 3129 \nQ 3597 2675 3597 1894 \nz\nM 3022 2063 \nQ 3016 2534 2758 2815 \nQ 2500 3097 2075 3097 \nQ 1594 3097 1305 2825 \nQ 1016 2553 972 2059 \nL 3022 2063 \nz\n\" transform=\"scale(0.015625)\"/>\n      <path id=\"DejaVuSans-73\" d=\"M 2834 3397 \nL 2834 2853 \nQ 2591 2978 2328 3040 \nQ 2066 3103 1784 3103 \nQ 1356 3103 1142 2972 \nQ 928 2841 928 2578 \nQ 928 2378 1081 2264 \nQ 1234 2150 1697 2047 \nL 1894 2003 \nQ 2506 1872 2764 1633 \nQ 3022 1394 3022 966 \nQ 3022 478 2636 193 \nQ 2250 -91 1575 -91 \nQ 1294 -91 989 -36 \nQ 684 19 347 128 \nL 347 722 \nQ 666 556 975 473 \nQ 1284 391 1588 391 \nQ 1994 391 2212 530 \nQ 2431 669 2431 922 \nQ 2431 1156 2273 1281 \nQ 2116 1406 1581 1522 \nL 1381 1569 \nQ 847 1681 609 1914 \nQ 372 2147 372 2553 \nQ 372 3047 722 3315 \nQ 1072 3584 1716 3584 \nQ 2034 3584 2315 3537 \nQ 2597 3491 2834 3397 \nz\n\" transform=\"scale(0.015625)\"/>\n     </defs>\n     <use xlink:href=\"#DejaVuSans-44\"/>\n     <use xlink:href=\"#DejaVuSans-72\" x=\"77.001953\"/>\n     <use xlink:href=\"#DejaVuSans-65\" x=\"115.865234\"/>\n     <use xlink:href=\"#DejaVuSans-73\" x=\"177.388672\"/>\n     <use xlink:href=\"#DejaVuSans-73\" x=\"229.488281\"/>\n    </g>\n   </g>\n  </g>\n  <g id=\"axes_4\">\n   <g clip-path=\"url(#pcaddca508d)\">\n    <image xlink:href=\"data:image/png;base64,\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\" id=\"imaged6ba13a6f7\" transform=\"scale(1 -1) translate(0 -57.6)\" x=\"11.122831\" y=\"-90.273419\" width=\"57.6\" height=\"57.6\"/>\n   </g>\n   <g id=\"text_4\">\n    <!-- Ankle Boot -->\n    <g style=\"fill: #262626\" transform=\"translate(7.2 84.802831) scale(0.12 -0.12)\">\n     <defs>\n      <path id=\"DejaVuSans-41\" d=\"M 2188 4044 \nL 1331 1722 \nL 3047 1722 \nL 2188 4044 \nz\nM 1831 4666 \nL 2547 4666 \nL 4325 0 \nL 3669 0 \nL 3244 1197 \nL 1141 1197 \nL 716 0 \nL 50 0 \nL 1831 4666 \nz\n\" transform=\"scale(0.015625)\"/>\n      <path id=\"DejaVuSans-6b\" d=\"M 581 4863 \nL 1159 4863 \nL 1159 1991 \nL 2875 3500 \nL 3609 3500 \nL 1753 1863 \nL 3688 0 \nL 2938 0 \nL 1159 1709 \nL 1159 0 \nL 581 0 \nL 581 4863 \nz\n\" transform=\"scale(0.015625)\"/>\n      <path id=\"DejaVuSans-20\" transform=\"scale(0.015625)\"/>\n      <path id=\"DejaVuSans-42\" d=\"M 1259 2228 \nL 1259 519 \nL 2272 519 \nQ 2781 519 3026 730 \nQ 3272 941 3272 1375 \nQ 3272 1813 3026 2020 \nQ 2781 2228 2272 2228 \nL 1259 2228 \nz\nM 1259 4147 \nL 1259 2741 \nL 2194 2741 \nQ 2656 2741 2882 2914 \nQ 3109 3088 3109 3444 \nQ 3109 3797 2882 3972 \nQ 2656 4147 2194 4147 \nL 1259 4147 \nz\nM 628 4666 \nL 2241 4666 \nQ 2963 4666 3353 4366 \nQ 3744 4066 3744 3513 \nQ 3744 3084 3544 2831 \nQ 3344 2578 2956 2516 \nQ 3422 2416 3680 2098 \nQ 3938 1781 3938 1306 \nQ 3938 681 3513 340 \nQ 3088 0 2303 0 \nL 628 0 \nL 628 4666 \nz\n\" transform=\"scale(0.015625)\"/>\n      <path id=\"DejaVuSans-6f\" d=\"M 1959 3097 \nQ 1497 3097 1228 2736 \nQ 959 2375 959 1747 \nQ 959 1119 1226 758 \nQ 1494 397 1959 397 \nQ 2419 397 2687 759 \nQ 2956 1122 2956 1747 \nQ 2956 2369 2687 2733 \nQ 2419 3097 1959 3097 \nz\nM 1959 3584 \nQ 2709 3584 3137 3096 \nQ 3566 2609 3566 1747 \nQ 3566 888 3137 398 \nQ 2709 -91 1959 -91 \nQ 1206 -91 779 398 \nQ 353 888 353 1747 \nQ 353 2609 779 3096 \nQ 1206 3584 1959 3584 \nz\n\" transform=\"scale(0.015625)\"/>\n     </defs>\n     <use xlink:href=\"#DejaVuSans-41\"/>\n     <use xlink:href=\"#DejaVuSans-6e\" x=\"68.408203\"/>\n     <use xlink:href=\"#DejaVuSans-6b\" x=\"131.787109\"/>\n     <use xlink:href=\"#DejaVuSans-6c\" x=\"189.697266\"/>\n     <use xlink:href=\"#DejaVuSans-65\" x=\"217.480469\"/>\n     <use xlink:href=\"#DejaVuSans-20\" x=\"279.003906\"/>\n     <use xlink:href=\"#DejaVuSans-42\" x=\"310.791016\"/>\n     <use xlink:href=\"#DejaVuSans-6f\" x=\"379.394531\"/>\n     <use xlink:href=\"#DejaVuSans-6f\" x=\"440.576172\"/>\n     <use xlink:href=\"#DejaVuSans-74\" x=\"501.757812\"/>\n    </g>\n   </g>\n  </g>\n  <g id=\"axes_5\">\n   <g clip-path=\"url(#p6d62f0e0b7)\">\n    <image xlink:href=\"data:image/png;base64,\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\" id=\"imaged770b2e0bc\" transform=\"scale(1 -1) translate(0 -57.6)\" x=\"80.052243\" y=\"-90.273419\" width=\"57.6\" height=\"57.6\"/>\n   </g>\n   <g id=\"text_5\">\n    <!-- Bag -->\n    <g style=\"fill: #262626\" transform=\"translate(96.985037 84.802831) scale(0.12 -0.12)\">\n     <defs>\n      <path id=\"DejaVuSans-67\" d=\"M 2906 1791 \nQ 2906 2416 2648 2759 \nQ 2391 3103 1925 3103 \nQ 1463 3103 1205 2759 \nQ 947 2416 947 1791 \nQ 947 1169 1205 825 \nQ 1463 481 1925 481 \nQ 2391 481 2648 825 \nQ 2906 1169 2906 1791 \nz\nM 3481 434 \nQ 3481 -459 3084 -895 \nQ 2688 -1331 1869 -1331 \nQ 1566 -1331 1297 -1286 \nQ 1028 -1241 775 -1147 \nL 775 -588 \nQ 1028 -725 1275 -790 \nQ 1522 -856 1778 -856 \nQ 2344 -856 2625 -561 \nQ 2906 -266 2906 331 \nL 2906 616 \nQ 2728 306 2450 153 \nQ 2172 0 1784 0 \nQ 1141 0 747 490 \nQ 353 981 353 1791 \nQ 353 2603 747 3093 \nQ 1141 3584 1784 3584 \nQ 2172 3584 2450 3431 \nQ 2728 3278 2906 2969 \nL 2906 3500 \nL 3481 3500 \nL 3481 434 \nz\n\" transform=\"scale(0.015625)\"/>\n     </defs>\n     <use xlink:href=\"#DejaVuSans-42\"/>\n     <use xlink:href=\"#DejaVuSans-61\" x=\"68.603516\"/>\n     <use xlink:href=\"#DejaVuSans-67\" x=\"129.882812\"/>\n    </g>\n   </g>\n  </g>\n  <g id=\"axes_6\">\n   <g clip-path=\"url(#pcb27c282e7)\">\n    <image xlink:href=\"data:image/png;base64,\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\" id=\"imagea8136e65b2\" transform=\"scale(1 -1) translate(0 -57.6)\" x=\"148.981654\" y=\"-90.273419\" width=\"57.6\" height=\"57.6\"/>\n   </g>\n   <g id=\"text_6\">\n    <!-- Trouser -->\n    <g style=\"fill: #262626\" transform=\"translate(155.647886 84.802831) scale(0.12 -0.12)\">\n     <defs>\n      <path id=\"DejaVuSans-54\" d=\"M -19 4666 \nL 3928 4666 \nL 3928 4134 \nL 2272 4134 \nL 2272 0 \nL 1638 0 \nL 1638 4134 \nL -19 4134 \nL -19 4666 \nz\n\" transform=\"scale(0.015625)\"/>\n      <path id=\"DejaVuSans-75\" d=\"M 544 1381 \nL 544 3500 \nL 1119 3500 \nL 1119 1403 \nQ 1119 906 1312 657 \nQ 1506 409 1894 409 \nQ 2359 409 2629 706 \nQ 2900 1003 2900 1516 \nL 2900 3500 \nL 3475 3500 \nL 3475 0 \nL 2900 0 \nL 2900 538 \nQ 2691 219 2414 64 \nQ 2138 -91 1772 -91 \nQ 1169 -91 856 284 \nQ 544 659 544 1381 \nz\nM 1991 3584 \nL 1991 3584 \nz\n\" transform=\"scale(0.015625)\"/>\n     </defs>\n     <use xlink:href=\"#DejaVuSans-54\"/>\n     <use xlink:href=\"#DejaVuSans-72\" x=\"46.333984\"/>\n     <use xlink:href=\"#DejaVuSans-6f\" x=\"85.197266\"/>\n     <use xlink:href=\"#DejaVuSans-75\" x=\"146.378906\"/>\n     <use xlink:href=\"#DejaVuSans-73\" x=\"209.757812\"/>\n     <use xlink:href=\"#DejaVuSans-65\" x=\"261.857422\"/>\n     <use xlink:href=\"#DejaVuSans-72\" x=\"323.380859\"/>\n    </g>\n   </g>\n  </g>\n  <g id=\"axes_7\">\n   <g clip-path=\"url(#p92f1b62a86)\">\n    <image xlink:href=\"data:image/png;base64,\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\" id=\"image88cb56f0a2\" transform=\"scale(1 -1) translate(0 -57.6)\" x=\"11.122831\" y=\"-158.758125\" width=\"57.6\" height=\"57.6\"/>\n   </g>\n   <g id=\"text_7\">\n    <!-- Coat -->\n    <g style=\"fill: #262626\" transform=\"translate(25.768125 153.287537) scale(0.12 -0.12)\">\n     <defs>\n      <path id=\"DejaVuSans-43\" d=\"M 4122 4306 \nL 4122 3641 \nQ 3803 3938 3442 4084 \nQ 3081 4231 2675 4231 \nQ 1875 4231 1450 3742 \nQ 1025 3253 1025 2328 \nQ 1025 1406 1450 917 \nQ 1875 428 2675 428 \nQ 3081 428 3442 575 \nQ 3803 722 4122 1019 \nL 4122 359 \nQ 3791 134 3420 21 \nQ 3050 -91 2638 -91 \nQ 1578 -91 968 557 \nQ 359 1206 359 2328 \nQ 359 3453 968 4101 \nQ 1578 4750 2638 4750 \nQ 3056 4750 3426 4639 \nQ 3797 4528 4122 4306 \nz\n\" transform=\"scale(0.015625)\"/>\n     </defs>\n     <use xlink:href=\"#DejaVuSans-43\"/>\n     <use xlink:href=\"#DejaVuSans-6f\" x=\"69.824219\"/>\n     <use xlink:href=\"#DejaVuSans-61\" x=\"131.005859\"/>\n     <use xlink:href=\"#DejaVuSans-74\" x=\"192.285156\"/>\n    </g>\n   </g>\n  </g>\n  <g id=\"axes_8\">\n   <g clip-path=\"url(#pae631ce169)\">\n    <image xlink:href=\"data:image/png;base64,\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\" id=\"image059fdded08\" transform=\"scale(1 -1) translate(0 -57.6)\" x=\"80.052243\" y=\"-158.758125\" width=\"57.6\" height=\"57.6\"/>\n   </g>\n   <g id=\"text_8\">\n    <!-- Sneaker -->\n    <g style=\"fill: #262626\" transform=\"translate(84.191912 153.287537) scale(0.12 -0.12)\">\n     <use xlink:href=\"#DejaVuSans-53\"/>\n     <use xlink:href=\"#DejaVuSans-6e\" x=\"63.476562\"/>\n     <use xlink:href=\"#DejaVuSans-65\" x=\"126.855469\"/>\n     <use xlink:href=\"#DejaVuSans-61\" x=\"188.378906\"/>\n     <use xlink:href=\"#DejaVuSans-6b\" x=\"249.658203\"/>\n     <use xlink:href=\"#DejaVuSans-65\" x=\"303.943359\"/>\n     <use xlink:href=\"#DejaVuSans-72\" x=\"365.466797\"/>\n    </g>\n   </g>\n  </g>\n  <g id=\"axes_9\">\n   <g clip-path=\"url(#p23a3bfd185)\">\n    <image xlink:href=\"data:image/png;base64,\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\" id=\"image69fe6822a2\" transform=\"scale(1 -1) translate(0 -57.6)\" x=\"148.981654\" y=\"-158.758125\" width=\"57.6\" height=\"57.6\"/>\n   </g>\n   <g id=\"text_9\">\n    <!-- Dress -->\n    <g style=\"fill: #262626\" transform=\"translate(160.622261 153.287537) scale(0.12 -0.12)\">\n     <use xlink:href=\"#DejaVuSans-44\"/>\n     <use xlink:href=\"#DejaVuSans-72\" x=\"77.001953\"/>\n     <use xlink:href=\"#DejaVuSans-65\" x=\"115.865234\"/>\n     <use xlink:href=\"#DejaVuSans-73\" x=\"177.388672\"/>\n     <use xlink:href=\"#DejaVuSans-73\" x=\"229.488281\"/>\n    </g>\n   </g>\n  </g>\n </g>\n <defs>\n  <clipPath id=\"p8748ee839f\">\n   <rect x=\"11.122831\" y=\"22.318125\" width=\"57.070588\" height=\"57.070588\"/>\n  </clipPath>\n  <clipPath id=\"p5b2b28661c\">\n   <rect x=\"80.052243\" y=\"22.318125\" width=\"57.070588\" height=\"57.070588\"/>\n  </clipPath>\n  <clipPath id=\"pddb901ab47\">\n   <rect x=\"148.981654\" y=\"22.318125\" width=\"57.070588\" height=\"57.070588\"/>\n  </clipPath>\n  <clipPath id=\"pcaddca508d\">\n   <rect x=\"11.122831\" y=\"90.802831\" width=\"57.070588\" height=\"57.070588\"/>\n  </clipPath>\n  <clipPath id=\"p6d62f0e0b7\">\n   <rect x=\"80.052243\" y=\"90.802831\" width=\"57.070588\" height=\"57.070588\"/>\n  </clipPath>\n  <clipPath id=\"pcb27c282e7\">\n   <rect x=\"148.981654\" y=\"90.802831\" width=\"57.070588\" height=\"57.070588\"/>\n  </clipPath>\n  <clipPath id=\"p92f1b62a86\">\n   <rect x=\"11.122831\" y=\"159.287537\" width=\"57.070588\" height=\"57.070588\"/>\n  </clipPath>\n  <clipPath id=\"pae631ce169\">\n   <rect x=\"80.052243\" y=\"159.287537\" width=\"57.070588\" height=\"57.070588\"/>\n  </clipPath>\n  <clipPath id=\"p23a3bfd185\">\n   <rect x=\"148.981654\" y=\"159.287537\" width=\"57.070588\" height=\"57.070588\"/>\n  </clipPath>\n </defs>\n</svg>\n",
            "application/pdf": "[encoded data removed]"
          },
          "metadata": {}
        }
      ]
    },
    {
      "cell_type": "markdown",
      "source": [
        "####Preparazione dei dati: DataLoader\n",
        "\n",
        "Per semplificarci la vita, e caricare ed elaborare il dataset in modo efficiente, utilizziamo la classe DataLoader di Torch. Questa classe avvolge un iterabile sul nostro set di dati, supportando e semplificando varie operazioni come il caricamento automatico dei dati in batch.\n",
        "\n",
        "In pratica, se definiamo una dimensione del batch di 64. Ciò significa che ogni elemento nell'iteratore DataLoader restituirà un batch contenente 64 elementi del dataset, ognuno composto da una coppia di feature-label corrispondenti.\n"
      ],
      "metadata": {
        "id": "vM6Q0XH7lVFy"
      }
    },
    {
      "cell_type": "code",
      "source": [
        "# Number of sample in batch\n",
        "batch_size = 16\n",
        "\n",
        "# Create data loaders\n",
        "train_dl= DataLoader(training_data, batch_size = batch_size, shuffle=True)\n",
        "test_dl = DataLoader(test_data, batch_size=batch_size, shuffle=True)\n",
        "\n",
        "#shuffle (bool, optional) – set to True to have the data reshuffled at every epoch (default: False).\n",
        "#https://pytorch.org/docs/stable/data.html"
      ],
      "metadata": {
        "id": "6qL5fjDhk2yV"
      },
      "execution_count": null,
      "outputs": []
    },
    {
      "cell_type": "code",
      "source": [
        "#Select a (the first) batch of 64 features and labels\n",
        "X,y = next(iter(train_dl))\n",
        "print(f'Shape of an element in the Dataloader [number of batches, channels, H, W]: {X.shape}') #BxCxHxW : number of batches, channels, height, width\n",
        "print(f'Labels batch shape: {y.shape} \"---\" {y.type}')\n",
        "\n",
        "#Sample an immage from batch X\n",
        "sample_idx= random.randint(0,batch_size)\n",
        "image = X[sample_idx].squeeze()\n",
        "print(\"One Image in batch shape=\", image.shape)\n",
        "label = y[sample_idx]\n",
        "print(\"Respective label=\", label)\n",
        "\n",
        "# plot\n",
        "figure = plt.figure(figsize=(1, 1))\n",
        "plt.title(f\"Label: {label}\")\n",
        "plt.imshow(image)\n",
        "plt.axis(\"off\")\n",
        "plt.show()\n"
      ],
      "metadata": {
        "colab": {
          "base_uri": "https://localhost:8080/",
          "height": 206
        },
        "id": "ZOJcLPk1l3k2",
        "outputId": "bf4ea977-0af9-45f7-a299-d103be591b37"
      },
      "execution_count": null,
      "outputs": [
        {
          "output_type": "stream",
          "name": "stdout",
          "text": [
            "Shape of an element in the Dataloader [number of batches, channels, H, W]: torch.Size([16, 1, 28, 28])\n",
            "Labels batch shape: torch.Size([16]) \"---\" <built-in method type of Tensor object at 0x7f3bc144f970>\n",
            "One Image in batch shape= torch.Size([28, 28])\n",
            "Respective label= tensor(2)\n"
          ]
        },
        {
          "output_type": "display_data",
          "data": {
            "text/plain": [
              "<Figure size 100x100 with 1 Axes>"
            ],
            "image/svg+xml": "<?xml version=\"1.0\" encoding=\"utf-8\" standalone=\"no\"?>\n<!DOCTYPE svg PUBLIC \"-//W3C//DTD SVG 1.1//EN\"\n  \"http://www.w3.org/Graphics/SVG/1.1/DTD/svg11.dtd\">\n<svg xmlns:xlink=\"http://www.w3.org/1999/xlink\" width=\"69.84pt\" height=\"84.958125pt\" viewBox=\"0 0 69.84 84.958125\" xmlns=\"http://www.w3.org/2000/svg\" version=\"1.1\">\n <metadata>\n  <rdf:RDF xmlns:dc=\"http://purl.org/dc/elements/1.1/\" xmlns:cc=\"http://creativecommons.org/ns#\" xmlns:rdf=\"http://www.w3.org/1999/02/22-rdf-syntax-ns#\">\n   <cc:Work>\n    <dc:type rdf:resource=\"http://purl.org/dc/dcmitype/StillImage\"/>\n    <dc:date>2024-04-19T10:03:42.714159</dc:date>\n    <dc:format>image/svg+xml</dc:format>\n    <dc:creator>\n     <cc:Agent>\n      <dc:title>Matplotlib v3.7.1, https://matplotlib.org/</dc:title>\n     </cc:Agent>\n    </dc:creator>\n   </cc:Work>\n  </rdf:RDF>\n </metadata>\n <defs>\n  <style type=\"text/css\">*{stroke-linejoin: round; stroke-linecap: butt}</style>\n </defs>\n <g id=\"figure_1\">\n  <g id=\"patch_1\">\n   <path d=\"M 0 84.958125 \nL 69.84 84.958125 \nL 69.84 0 \nL 0 0 \nz\n\" style=\"fill: #ffffff\"/>\n  </g>\n  <g id=\"axes_1\">\n   <g clip-path=\"url(#pb576084283)\">\n    <image xlink:href=\"data:image/png;base64,\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\" id=\"image3e198f4493\" transform=\"scale(1 -1) translate(0 -55.44)\" x=\"7.2\" y=\"-22.318125\" width=\"55.44\" height=\"55.44\"/>\n   </g>\n   <g id=\"text_1\">\n    <!-- Label: 2 -->\n    <g style=\"fill: #262626\" transform=\"translate(10.986563 16.318125) scale(0.12 -0.12)\">\n     <defs>\n      <path id=\"DejaVuSans-4c\" d=\"M 628 4666 \nL 1259 4666 \nL 1259 531 \nL 3531 531 \nL 3531 0 \nL 628 0 \nL 628 4666 \nz\n\" transform=\"scale(0.015625)\"/>\n      <path id=\"DejaVuSans-61\" d=\"M 2194 1759 \nQ 1497 1759 1228 1600 \nQ 959 1441 959 1056 \nQ 959 750 1161 570 \nQ 1363 391 1709 391 \nQ 2188 391 2477 730 \nQ 2766 1069 2766 1631 \nL 2766 1759 \nL 2194 1759 \nz\nM 3341 1997 \nL 3341 0 \nL 2766 0 \nL 2766 531 \nQ 2569 213 2275 61 \nQ 1981 -91 1556 -91 \nQ 1019 -91 701 211 \nQ 384 513 384 1019 \nQ 384 1609 779 1909 \nQ 1175 2209 1959 2209 \nL 2766 2209 \nL 2766 2266 \nQ 2766 2663 2505 2880 \nQ 2244 3097 1772 3097 \nQ 1472 3097 1187 3025 \nQ 903 2953 641 2809 \nL 641 3341 \nQ 956 3463 1253 3523 \nQ 1550 3584 1831 3584 \nQ 2591 3584 2966 3190 \nQ 3341 2797 3341 1997 \nz\n\" transform=\"scale(0.015625)\"/>\n      <path id=\"DejaVuSans-62\" d=\"M 3116 1747 \nQ 3116 2381 2855 2742 \nQ 2594 3103 2138 3103 \nQ 1681 3103 1420 2742 \nQ 1159 2381 1159 1747 \nQ 1159 1113 1420 752 \nQ 1681 391 2138 391 \nQ 2594 391 2855 752 \nQ 3116 1113 3116 1747 \nz\nM 1159 2969 \nQ 1341 3281 1617 3432 \nQ 1894 3584 2278 3584 \nQ 2916 3584 3314 3078 \nQ 3713 2572 3713 1747 \nQ 3713 922 3314 415 \nQ 2916 -91 2278 -91 \nQ 1894 -91 1617 61 \nQ 1341 213 1159 525 \nL 1159 0 \nL 581 0 \nL 581 4863 \nL 1159 4863 \nL 1159 2969 \nz\n\" transform=\"scale(0.015625)\"/>\n      <path id=\"DejaVuSans-65\" d=\"M 3597 1894 \nL 3597 1613 \nL 953 1613 \nQ 991 1019 1311 708 \nQ 1631 397 2203 397 \nQ 2534 397 2845 478 \nQ 3156 559 3463 722 \nL 3463 178 \nQ 3153 47 2828 -22 \nQ 2503 -91 2169 -91 \nQ 1331 -91 842 396 \nQ 353 884 353 1716 \nQ 353 2575 817 3079 \nQ 1281 3584 2069 3584 \nQ 2775 3584 3186 3129 \nQ 3597 2675 3597 1894 \nz\nM 3022 2063 \nQ 3016 2534 2758 2815 \nQ 2500 3097 2075 3097 \nQ 1594 3097 1305 2825 \nQ 1016 2553 972 2059 \nL 3022 2063 \nz\n\" transform=\"scale(0.015625)\"/>\n      <path id=\"DejaVuSans-6c\" d=\"M 603 4863 \nL 1178 4863 \nL 1178 0 \nL 603 0 \nL 603 4863 \nz\n\" transform=\"scale(0.015625)\"/>\n      <path id=\"DejaVuSans-3a\" d=\"M 750 794 \nL 1409 794 \nL 1409 0 \nL 750 0 \nL 750 794 \nz\nM 750 3309 \nL 1409 3309 \nL 1409 2516 \nL 750 2516 \nL 750 3309 \nz\n\" transform=\"scale(0.015625)\"/>\n      <path id=\"DejaVuSans-20\" transform=\"scale(0.015625)\"/>\n      <path id=\"DejaVuSans-32\" d=\"M 1228 531 \nL 3431 531 \nL 3431 0 \nL 469 0 \nL 469 531 \nQ 828 903 1448 1529 \nQ 2069 2156 2228 2338 \nQ 2531 2678 2651 2914 \nQ 2772 3150 2772 3378 \nQ 2772 3750 2511 3984 \nQ 2250 4219 1831 4219 \nQ 1534 4219 1204 4116 \nQ 875 4013 500 3803 \nL 500 4441 \nQ 881 4594 1212 4672 \nQ 1544 4750 1819 4750 \nQ 2544 4750 2975 4387 \nQ 3406 4025 3406 3419 \nQ 3406 3131 3298 2873 \nQ 3191 2616 2906 2266 \nQ 2828 2175 2409 1742 \nQ 1991 1309 1228 531 \nz\n\" transform=\"scale(0.015625)\"/>\n     </defs>\n     <use xlink:href=\"#DejaVuSans-4c\"/>\n     <use xlink:href=\"#DejaVuSans-61\" x=\"55.712891\"/>\n     <use xlink:href=\"#DejaVuSans-62\" x=\"116.992188\"/>\n     <use xlink:href=\"#DejaVuSans-65\" x=\"180.46875\"/>\n     <use xlink:href=\"#DejaVuSans-6c\" x=\"241.992188\"/>\n     <use xlink:href=\"#DejaVuSans-3a\" x=\"269.775391\"/>\n     <use xlink:href=\"#DejaVuSans-20\" x=\"303.466797\"/>\n     <use xlink:href=\"#DejaVuSans-32\" x=\"335.253906\"/>\n    </g>\n   </g>\n  </g>\n </g>\n <defs>\n  <clipPath id=\"pb576084283\">\n   <rect x=\"7.2\" y=\"22.318125\" width=\"55.44\" height=\"55.44\"/>\n  </clipPath>\n </defs>\n</svg>\n",
            "application/pdf": "[encoded data removed]"
          },
          "metadata": {}
        }
      ]
    },
    {
      "cell_type": "markdown",
      "source": [
        "####Creazione del modello\n",
        "\n",
        "Per definire la nostra rete neurale in PyTorch, creiamo una classe che eredita da nn.Module. Poi:\n",
        "\n",
        "- Definizione degli strati:\n",
        "\n",
        " All'interno della funzione $\\verb|__init__| $ , definiamo i layer che compongono la rete neurale. Ogni strato viene creato utilizzando una classe appropriata come nn.Linear per strati lineari o nn.Conv2d per strati convoluzionali.\n",
        "\n",
        "- Specifica del flusso dei dati:\n",
        "\n",
        "  Nella funzione $\\verb|forward| $, definiamo come i dati fluiranno attraverso la rete neurale. Questo avviene collegando gli strati tra loro in un ordine specifico.\n",
        "\n"
      ],
      "metadata": {
        "id": "cYNYZvjftfot"
      }
    },
    {
      "cell_type": "code",
      "source": [
        "# To accelerate operations in the neural network, we move it to the GPU or MPS if available.\n",
        "# Get cpu, gpu or mps device for training.\n",
        "device = (\n",
        "    \"cuda\"\n",
        "    if torch.cuda.is_available()\n",
        "    else \"mps\"\n",
        "    if torch.backends.mps.is_available()\n",
        "    else \"cpu\"\n",
        ")\n",
        "print(f\"Using {device} device\")"
      ],
      "metadata": {
        "colab": {
          "base_uri": "https://localhost:8080/"
        },
        "id": "QjmgX5tNrjg3",
        "outputId": "9551a789-fbaa-4c87-ed12-ebb50766104d"
      },
      "execution_count": null,
      "outputs": [
        {
          "output_type": "stream",
          "name": "stdout",
          "text": [
            "Using cpu device\n"
          ]
        }
      ]
    },
    {
      "cell_type": "code",
      "source": [
        "class Fashion_NN(nn.Module):\n",
        "\n",
        "    def __init__(self):\n",
        "        super(Fashion_NN, self).__init__()\n",
        "\n",
        "        self.flatten = nn.Flatten()\n",
        "\n",
        "        # nn.Linear is a module provided by PyTorch that applies a linear transformation to the incoming data.\n",
        "        # i.e. outptu = input @ weights + bias\n",
        "        # in_features and out_features, represent the number of input and output features, respectively.\n",
        "        # When an nn.Linear object is created, it randomly initializes a weight matrix and a bias vector.\n",
        "        # The size of the weight matrix is out_features x in_features,\n",
        "        # The size of the bias vector is out_features.\n",
        "        ## To see the weights :  use: .weight\n",
        "        # bias (bool) – If set to False, the layer will not learn an additive bias. Default: True\n",
        "\n",
        "        self.layer1 = nn.Linear(in_features=28*28, out_features=512, bias = True) ## you get : 784x512 weight matrix and a 1x1 bias vector\n",
        "        self.layer2 = nn.Linear(512, 256)\n",
        "        self.layer3 = nn.Linear(256, 10)\n",
        "\n",
        "\n",
        "    def forward(self, x):\n",
        "\n",
        "        x = self.flatten(x)\n",
        "        out = self.layer1(x)\n",
        "        # Use the rectified-linear activation function over x\n",
        "        out = nn.functional.relu(out)\n",
        "\n",
        "        out = self.layer2(out)\n",
        "        out = nn.functional.relu(out)\n",
        "        #out = self.drop(out)\n",
        "\n",
        "        logits = self.layer3(out)\n",
        "\n",
        "        return logits"
      ],
      "metadata": {
        "id": "XWJnNiX31Lsd"
      },
      "execution_count": null,
      "outputs": []
    },
    {
      "cell_type": "code",
      "source": [
        "#Model info\n",
        "\n",
        "model = Fashion_NN().to(device)\n",
        "print(model)"
      ],
      "metadata": {
        "id": "nM2-U0OF89J8",
        "colab": {
          "base_uri": "https://localhost:8080/"
        },
        "outputId": "b248b6ec-1327-41b5-d75b-f006e569a0d2"
      },
      "execution_count": null,
      "outputs": [
        {
          "output_type": "stream",
          "name": "stdout",
          "text": [
            "Fashion_NN(\n",
            "  (flatten): Flatten(start_dim=1, end_dim=-1)\n",
            "  (layer1): Linear(in_features=784, out_features=512, bias=True)\n",
            "  (layer2): Linear(in_features=512, out_features=256, bias=True)\n",
            "  (layer3): Linear(in_features=256, out_features=10, bias=True)\n",
            ")\n"
          ]
        }
      ]
    },
    {
      "cell_type": "code",
      "source": [
        "# NN test\n",
        "\n",
        "my_nn = Fashion_NN()\n",
        "result = my_nn(X[0]) # from X,y = next(iter(train_dl)) , see before\n",
        "print (result)"
      ],
      "metadata": {
        "colab": {
          "base_uri": "https://localhost:8080/"
        },
        "id": "C3jFwC51Q7Ih",
        "outputId": "6fafa33a-0c85-4a50-9803-0d8277cd476a"
      },
      "execution_count": null,
      "outputs": [
        {
          "output_type": "stream",
          "name": "stdout",
          "text": [
            "tensor([[-0.0097, -0.0350, -0.0654, -0.0099, -0.0930, -0.0237,  0.0911,  0.1995,\n",
            "         -0.0121, -0.0503]], grad_fn=<AddmmBackward0>)\n"
          ]
        }
      ]
    },
    {
      "cell_type": "markdown",
      "source": [
        "####Ottimizzazione dei parametri del modello\n",
        "\n",
        "L'addestramento di un modello avviene in modo graduale, attraverso cicli iterativi. In ogni ciclo, il modello formula una previsione sul risultato, valuta l'errore rispetto al risultato reale (loss), calcola quanto ogni parametro influenza tale errore e, infine, regola i parametri stessi per minimizzarlo. Questo processo discesa del gradiente, permette al modello di migliorare le sue prestazioni passo dopo passo.\n",
        "\n",
        "$\\;$\n",
        "\n",
        "Note Tecniche\n",
        "\n",
        "Perché dobbiamo usare $\\verb|.zero_grad()|$ o $\\verb|optimizer.zero_grad()|$  in PyTorch?\n",
        "\n",
        "*In PyTorch, for every mini-batch during the training phase, we typically want to explicitly set the gradients to zero before starting to do backpropagation (i.e., updating the Weights and biases) because PyTorch accumulates the gradients on subsequent backward passes. This accumulating behavior is convenient while training RNNs or when we want to compute the gradient of the loss summed over multiple mini-batches.So, the default action has been set to accumulate (i.e. sum) the gradients on every loss.backward() call.*\n",
        "\n",
        "*Because of this, when you start your training loop, ideally you should zero out the gradients so that you do the parameter update correctly. Otherwise, the gradient would be a combination of the old gradient, which you have already used to update your model parameters and the newly-computed gradient. It would therefore point in some other direction than the intended direction towards the minimum (or maximum, in case of maximization objectives).*\n",
        "\n",
        "Ref:\n",
        "\n",
        "https://stackoverflow.com/questions/48001598/why-do-we-need-to-call-zero-grad-in-pytorch"
      ],
      "metadata": {
        "id": "AaidZhOOQWpN"
      }
    },
    {
      "cell_type": "code",
      "source": [
        "# test_loop  evaluates the model’s performance against our test data.\n",
        "\n",
        "def test_loop(dataloader, model, loss_fn):\n",
        "    # Set the model to evaluation mode - important for batch normalization and dropout layers\n",
        "    # Unnecessary in this situation but added for best practices\n",
        "    # model.eval()\n",
        "    size = len(dataloader.dataset)\n",
        "    num_batches = len(dataloader)\n",
        "    test_loss, correct = 0, 0\n",
        "\n",
        "    # Evaluating the model with torch.no_grad() ensures that no gradients are computed during test mode\n",
        "    # also serves to reduce unnecessary gradient computations and memory usage for tensors with requires_grad=True\n",
        "    with torch.no_grad():\n",
        "        for X, y in dataloader:\n",
        "            pred = model(X)\n",
        "            test_loss += loss_fn(pred, y).item()\n",
        "            correct += (pred.argmax(1) == y).type(torch.float).sum().item()\n",
        "    test_loss /= num_batches\n",
        "    correct /= size\n",
        "    print(f\"Test Error: \\t Accuracy: {(100*correct):>0.1f}%, Avg loss: {test_loss:>8f} \\n\")\n",
        "    return (100*correct)\n"
      ],
      "metadata": {
        "id": "HLu5DOucw1cI"
      },
      "execution_count": null,
      "outputs": []
    },
    {
      "cell_type": "code",
      "source": [
        "# instantiate the NN\n",
        "my_nn = Fashion_NN()\n",
        "\n",
        "# Loss Function\n",
        "loss_fn = nn.CrossEntropyLoss()\n",
        "#nn.CrossEntropyLoss,  è una combinazione di nn.LogSoftmax e nn.NLLLoss :\n",
        "# normalizzerà i logit e calcolerà l'errore di previsione.\n",
        "\n",
        "learning_rate = 1e-3\n",
        "\n",
        "# Lists for visualization of loss and accuracy\n",
        "loss_list = []\n",
        "accuracy_list = []"
      ],
      "metadata": {
        "id": "se-wMVEv0Rh_"
      },
      "execution_count": null,
      "outputs": []
    },
    {
      "cell_type": "markdown",
      "source": [
        "######Opzione 1 - Autograd implementation"
      ],
      "metadata": {
        "id": "beDecQlvddO0"
      }
    },
    {
      "cell_type": "code",
      "source": [
        "#Option 1 - Autograd implementation\n",
        "\n",
        "nr_epochs = 4\n",
        "\n",
        "for t in range(nr_epochs):\n",
        "\n",
        "    print(f\"Epoch {t+1}\\n-------------------------------\")\n",
        "    size = len(train_dl)\n",
        "\n",
        "    #model.train()\n",
        "    for batch, (X, y) in enumerate(train_dl):\n",
        "        X, y = X.to(device), y.to(device)\n",
        "\n",
        "        # Compute prediction error\n",
        "        pred = my_nn(X)\n",
        "\n",
        "        # Compute and print loss\n",
        "        loss = loss_fn(pred, y)\n",
        "\n",
        "        # Zero the gradients before running the backward pass.\n",
        "        my_nn.zero_grad()\n",
        "\n",
        "        # Backpropagation\n",
        "        loss.backward()\n",
        "\n",
        "        # Update the weights using gradient descent.\n",
        "        with torch.no_grad():\n",
        "          for param in my_nn.parameters():\n",
        "              param -= learning_rate * param.grad\n",
        "\n",
        "\n",
        "        #Debug\n",
        "        if batch % 1_200 == 0:\n",
        "            loss, current = loss.item(), batch * batch_size + len(X)\n",
        "            print(f\"loss: {loss:>7f}  [{current:>5d}/{60000:>5d}]\")\n",
        "            loss_list.append(loss)\n",
        "\n",
        "    ac = test_loop(test_dl , my_nn, loss_fn)\n",
        "    accuracy_list.append(ac)\n",
        "\n",
        "print(\"Done!\")"
      ],
      "metadata": {
        "id": "4kgJTx_dR4t1",
        "colab": {
          "base_uri": "https://localhost:8080/"
        },
        "outputId": "e571dca1-4724-4534-e87e-b6ad3aca112d"
      },
      "execution_count": null,
      "outputs": [
        {
          "output_type": "stream",
          "name": "stdout",
          "text": [
            "Epoch 1\n",
            "-------------------------------\n",
            "loss: 2.280143  [   16/60000]\n",
            "loss: 2.088181  [19216/60000]\n",
            "loss: 1.784825  [38416/60000]\n",
            "loss: 1.332411  [57616/60000]\n",
            "Test Error: \t Accuracy: 63.6%, Avg loss: 1.303895 \n",
            "\n",
            "Epoch 2\n",
            "-------------------------------\n",
            "loss: 1.564461  [   16/60000]\n",
            "loss: 1.116997  [19216/60000]\n",
            "loss: 1.083378  [38416/60000]\n",
            "loss: 1.077424  [57616/60000]\n",
            "Test Error: \t Accuracy: 67.9%, Avg loss: 0.883898 \n",
            "\n",
            "Epoch 3\n",
            "-------------------------------\n",
            "loss: 0.840486  [   16/60000]\n",
            "loss: 0.743276  [19216/60000]\n",
            "loss: 0.752507  [38416/60000]\n",
            "loss: 0.620728  [57616/60000]\n",
            "Test Error: \t Accuracy: 72.4%, Avg loss: 0.756656 \n",
            "\n",
            "Epoch 4\n",
            "-------------------------------\n",
            "loss: 0.746712  [   16/60000]\n",
            "loss: 0.561539  [19216/60000]\n",
            "loss: 0.704992  [38416/60000]\n",
            "loss: 0.698718  [57616/60000]\n",
            "Test Error: \t Accuracy: 75.0%, Avg loss: 0.687573 \n",
            "\n",
            "Done!\n"
          ]
        }
      ]
    },
    {
      "cell_type": "markdown",
      "source": [
        "#####Opzione 2 - Torch.Optim\n",
        "\n",
        "In PyTorch la gestione del processo di ottimizzazione (ovvero di aggiustamento dei parametri del modello per ridurre l'errore di previsione) può essere affidata a degli oggetti 'optimizer' ottenuti da $\\verb|torch.optim|$, che encapsulano il meccanismo e i parametri specifici dell'algoritmo di ottimizzazione scelto."
      ],
      "metadata": {
        "id": "LsmrxSE19Hxe"
      }
    },
    {
      "cell_type": "code",
      "source": [
        "def train_loop(dataloader, model, loss_fn, optimizer):\n",
        "    size = len(dataloader.dataset)\n",
        "    # Set the model to training mode - important for batch normalization and dropout layers\n",
        "    # Unnecessary in this situation but added for best practices\n",
        "    model.train()\n",
        "    for batch, (X, y) in enumerate(dataloader):\n",
        "        # Compute prediction and loss\n",
        "        pred = model(X)\n",
        "        loss = loss_fn(pred, y)\n",
        "\n",
        "        # Backpropagation\n",
        "        loss.backward()\n",
        "        optimizer.step()\n",
        "        # to reset the gradients of model parameters. Gradients by default add up;\n",
        "        # to prevent double-counting, we explicitly zero them at each iteration.\n",
        "        optimizer.zero_grad()\n",
        "\n",
        "        if batch % 1_200 == 0:\n",
        "            loss, current = loss.item(), batch * batch_size + len(X)\n",
        "            print(f\"loss: {loss:>7f}  [{current:>5d}/{size:>5d}]\")\n",
        "            loss_list.append(loss)"
      ],
      "metadata": {
        "id": "7vArFX3E9GD1"
      },
      "execution_count": null,
      "outputs": []
    },
    {
      "cell_type": "code",
      "source": [
        "#https://pytorch.org/docs/stable/optim.html\n",
        "# torch.optim is a package implementing various optimization algorithms.\n",
        "# To construct an Optimizer you have to give it an iterable containing the parameters (all should be Variable s)\n",
        "# to optimize. Then, you can specify optimizer-specific options such as the learning rate, weight decay, etc.\n",
        "optimizer = torch.optim.Adam(my_nn.parameters(), lr=learning_rate)\n",
        "\n",
        "nr_epochs = 2\n",
        "\n",
        "for t in range(nr_epochs):\n",
        "    print(f\"Epoch {t+1}\\n-------------------------------\")\n",
        "    #The Train Loop - iterate over the training dataset and try to converge to optimal parameters.\n",
        "    train_loop(train_dl, my_nn, loss_fn, optimizer)\n",
        "    #The Validation/Test Loop - iterate over the test dataset to check if model performance is improving.\n",
        "    a_opt = test_loop(test_dl, my_nn, loss_fn)\n",
        "    accuracy_list.append(a_opt)\n",
        "\n",
        "print(\"Done!\")"
      ],
      "metadata": {
        "id": "m42bm1q2kB0H",
        "colab": {
          "base_uri": "https://localhost:8080/"
        },
        "outputId": "07e7a8bc-921c-4b18-d429-0587e4b0bac6"
      },
      "execution_count": null,
      "outputs": [
        {
          "output_type": "stream",
          "name": "stdout",
          "text": [
            "Epoch 1\n",
            "-------------------------------\n",
            "loss: 2.297489  [   16/60000]\n",
            "loss: 0.364766  [19216/60000]\n",
            "loss: 0.467766  [38416/60000]\n",
            "loss: 0.404520  [57616/60000]\n",
            "Test Error: \t Accuracy: 84.8%, Avg loss: 0.409213 \n",
            "\n",
            "Epoch 2\n",
            "-------------------------------\n",
            "loss: 0.142371  [   16/60000]\n",
            "loss: 0.745850  [19216/60000]\n",
            "loss: 0.400827  [38416/60000]\n",
            "loss: 0.024976  [57616/60000]\n",
            "Test Error: \t Accuracy: 86.1%, Avg loss: 0.388809 \n",
            "\n",
            "Done!\n"
          ]
        }
      ]
    },
    {
      "cell_type": "markdown",
      "source": [
        "####Verifiche a campione e Grafici"
      ],
      "metadata": {
        "id": "ffrG76Xh8p8X"
      }
    },
    {
      "cell_type": "code",
      "source": [
        "#Make prediction on Test dataset\n",
        "\n",
        "labels_map = {\n",
        "    0: \"T-Shirt\",\n",
        "    1: \"Trouser\",\n",
        "    2: \"Pullover\",\n",
        "    3: \"Dress\",\n",
        "    4: \"Coat\",\n",
        "    5: \"Sandal\",\n",
        "    6: \"Shirt\",\n",
        "    7: \"Sneaker\",\n",
        "    8: \"Bag\",\n",
        "    9: \"Ankle Boot\",\n",
        "}\n",
        "\n",
        "# Set the model to evaluation mode - important for batch normalization and dropout layers\n",
        "# Unnecessary in this situation but added for best practices\n",
        "#my_nn.eval()\n",
        "\n",
        "#Note shuffle is True\n",
        "\n",
        "\n",
        "for batch_image, batch_labels in test_dl:\n",
        "\n",
        "          for i in range(batch_size):\n",
        "\n",
        "                    outputs = my_nn(batch_image[i])\n",
        "                    labels_true = batch_labels[i]\n",
        "                    #Immage from batch X\n",
        "                    image = batch_image[i].squeeze()\n",
        "\n",
        "                    ik = int(outputs.argmax().numpy())\n",
        "                    ik2 = int(labels_true.numpy())\n",
        "                    print(\"Prev label=\", labels_map[ik])\n",
        "                    print(\"True label=\", labels_map[ik2])\n",
        "\n",
        "                    print(outputs.argmax() == labels_true)\n",
        "\n",
        "                    # plot\n",
        "                    figure = plt.figure(figsize=(1, 1))\n",
        "                    plt.imshow(image)\n",
        "                    plt.axis(\"off\")\n",
        "                    plt.show()\n",
        "\n",
        "          break\n",
        "\n"
      ],
      "metadata": {
        "id": "nnYB243v2YSy"
      },
      "execution_count": null,
      "outputs": []
    },
    {
      "cell_type": "code",
      "source": [
        "plt.figure(figsize=(8, 2))\n",
        "plt.plot((range(1,len(loss_list)+1)), loss_list, 'b')\n",
        "\n",
        "xint= range(1,len(loss_list)+1)\n",
        "plt.xticks(xint)\n",
        "\n",
        "plt.xlabel(\"Time step\")\n",
        "plt.ylabel(\"Loss\")\n",
        "\n",
        "plt.title(\"Loss\")\n",
        "\n",
        "plt.show()"
      ],
      "metadata": {
        "colab": {
          "base_uri": "https://localhost:8080/",
          "height": 256
        },
        "id": "LK6xKfJWqWBc",
        "outputId": "68cc90b3-380f-4285-8cc7-858f4bff3ae2"
      },
      "execution_count": null,
      "outputs": [
        {
          "output_type": "display_data",
          "data": {
            "text/plain": [
              "<Figure size 800x200 with 1 Axes>"
            ],
            "image/svg+xml": "<?xml version=\"1.0\" encoding=\"utf-8\" standalone=\"no\"?>\n<!DOCTYPE svg PUBLIC \"-//W3C//DTD SVG 1.1//EN\"\n  \"http://www.w3.org/Graphics/SVG/1.1/DTD/svg11.dtd\">\n<svg xmlns:xlink=\"http://www.w3.org/1999/xlink\" width=\"503.407187pt\" height=\"176.157812pt\" viewBox=\"0 0 503.407187 176.157812\" xmlns=\"http://www.w3.org/2000/svg\" version=\"1.1\">\n <metadata>\n  <rdf:RDF xmlns:dc=\"http://purl.org/dc/elements/1.1/\" xmlns:cc=\"http://creativecommons.org/ns#\" xmlns:rdf=\"http://www.w3.org/1999/02/22-rdf-syntax-ns#\">\n   <cc:Work>\n    <dc:type rdf:resource=\"http://purl.org/dc/dcmitype/StillImage\"/>\n    <dc:date>2024-04-19T11:04:24.041279</dc:date>\n    <dc:format>image/svg+xml</dc:format>\n    <dc:creator>\n     <cc:Agent>\n      <dc:title>Matplotlib v3.7.1, https://matplotlib.org/</dc:title>\n     </cc:Agent>\n    </dc:creator>\n   </cc:Work>\n  </rdf:RDF>\n </metadata>\n <defs>\n  <style type=\"text/css\">*{stroke-linejoin: round; stroke-linecap: butt}</style>\n </defs>\n <g id=\"figure_1\">\n  <g id=\"patch_1\">\n   <path d=\"M 0 176.157812 \nL 503.407187 176.157812 \nL 503.407187 0 \nL 0 0 \nz\n\" style=\"fill: #ffffff\"/>\n  </g>\n  <g id=\"axes_1\">\n   <g id=\"patch_2\">\n    <path d=\"M 49.807188 133.198125 \nL 496.207187 133.198125 \nL 496.207187 22.318125 \nL 49.807188 22.318125 \nz\n\" style=\"fill: #eaeaf2\"/>\n   </g>\n   <g id=\"matplotlib.axis_1\">\n    <g id=\"xtick_1\">\n     <g id=\"line2d_1\">\n      <path d=\"M 70.098097 133.198125 \nL 70.098097 22.318125 \n\" clip-path=\"url(#p262ebbde0b)\" style=\"fill: none; stroke: #ffffff; stroke-linecap: round\"/>\n     </g>\n     <g id=\"text_1\">\n      <!-- 1 -->\n      <g style=\"fill: #262626\" transform=\"translate(66.598722 151.056406) scale(0.11 -0.11)\">\n       <defs>\n        <path id=\"DejaVuSans-31\" d=\"M 794 531 \nL 1825 531 \nL 1825 4091 \nL 703 3866 \nL 703 4441 \nL 1819 4666 \nL 2450 4666 \nL 2450 531 \nL 3481 531 \nL 3481 0 \nL 794 0 \nL 794 531 \nz\n\" transform=\"scale(0.015625)\"/>\n       </defs>\n       <use xlink:href=\"#DejaVuSans-31\"/>\n      </g>\n     </g>\n    </g>\n    <g id=\"xtick_2\">\n     <g id=\"line2d_2\">\n      <path d=\"M 97.152642 133.198125 \nL 97.152642 22.318125 \n\" clip-path=\"url(#p262ebbde0b)\" style=\"fill: none; stroke: #ffffff; stroke-linecap: round\"/>\n     </g>\n     <g id=\"text_2\">\n      <!-- 2 -->\n      <g style=\"fill: #262626\" transform=\"translate(93.653267 151.056406) scale(0.11 -0.11)\">\n       <defs>\n        <path id=\"DejaVuSans-32\" d=\"M 1228 531 \nL 3431 531 \nL 3431 0 \nL 469 0 \nL 469 531 \nQ 828 903 1448 1529 \nQ 2069 2156 2228 2338 \nQ 2531 2678 2651 2914 \nQ 2772 3150 2772 3378 \nQ 2772 3750 2511 3984 \nQ 2250 4219 1831 4219 \nQ 1534 4219 1204 4116 \nQ 875 4013 500 3803 \nL 500 4441 \nQ 881 4594 1212 4672 \nQ 1544 4750 1819 4750 \nQ 2544 4750 2975 4387 \nQ 3406 4025 3406 3419 \nQ 3406 3131 3298 2873 \nQ 3191 2616 2906 2266 \nQ 2828 2175 2409 1742 \nQ 1991 1309 1228 531 \nz\n\" transform=\"scale(0.015625)\"/>\n       </defs>\n       <use xlink:href=\"#DejaVuSans-32\"/>\n      </g>\n     </g>\n    </g>\n    <g id=\"xtick_3\">\n     <g id=\"line2d_3\">\n      <path d=\"M 124.207188 133.198125 \nL 124.207188 22.318125 \n\" clip-path=\"url(#p262ebbde0b)\" style=\"fill: none; stroke: #ffffff; stroke-linecap: round\"/>\n     </g>\n     <g id=\"text_3\">\n      <!-- 3 -->\n      <g style=\"fill: #262626\" transform=\"translate(120.707813 151.056406) scale(0.11 -0.11)\">\n       <defs>\n        <path id=\"DejaVuSans-33\" d=\"M 2597 2516 \nQ 3050 2419 3304 2112 \nQ 3559 1806 3559 1356 \nQ 3559 666 3084 287 \nQ 2609 -91 1734 -91 \nQ 1441 -91 1130 -33 \nQ 819 25 488 141 \nL 488 750 \nQ 750 597 1062 519 \nQ 1375 441 1716 441 \nQ 2309 441 2620 675 \nQ 2931 909 2931 1356 \nQ 2931 1769 2642 2001 \nQ 2353 2234 1838 2234 \nL 1294 2234 \nL 1294 2753 \nL 1863 2753 \nQ 2328 2753 2575 2939 \nQ 2822 3125 2822 3475 \nQ 2822 3834 2567 4026 \nQ 2313 4219 1838 4219 \nQ 1578 4219 1281 4162 \nQ 984 4106 628 3988 \nL 628 4550 \nQ 988 4650 1302 4700 \nQ 1616 4750 1894 4750 \nQ 2613 4750 3031 4423 \nQ 3450 4097 3450 3541 \nQ 3450 3153 3228 2886 \nQ 3006 2619 2597 2516 \nz\n\" transform=\"scale(0.015625)\"/>\n       </defs>\n       <use xlink:href=\"#DejaVuSans-33\"/>\n      </g>\n     </g>\n    </g>\n    <g id=\"xtick_4\">\n     <g id=\"line2d_4\">\n      <path d=\"M 151.261733 133.198125 \nL 151.261733 22.318125 \n\" clip-path=\"url(#p262ebbde0b)\" style=\"fill: none; stroke: #ffffff; stroke-linecap: round\"/>\n     </g>\n     <g id=\"text_4\">\n      <!-- 4 -->\n      <g style=\"fill: #262626\" transform=\"translate(147.762358 151.056406) scale(0.11 -0.11)\">\n       <defs>\n        <path id=\"DejaVuSans-34\" d=\"M 2419 4116 \nL 825 1625 \nL 2419 1625 \nL 2419 4116 \nz\nM 2253 4666 \nL 3047 4666 \nL 3047 1625 \nL 3713 1625 \nL 3713 1100 \nL 3047 1100 \nL 3047 0 \nL 2419 0 \nL 2419 1100 \nL 313 1100 \nL 313 1709 \nL 2253 4666 \nz\n\" transform=\"scale(0.015625)\"/>\n       </defs>\n       <use xlink:href=\"#DejaVuSans-34\"/>\n      </g>\n     </g>\n    </g>\n    <g id=\"xtick_5\">\n     <g id=\"line2d_5\">\n      <path d=\"M 178.316278 133.198125 \nL 178.316278 22.318125 \n\" clip-path=\"url(#p262ebbde0b)\" style=\"fill: none; stroke: #ffffff; stroke-linecap: round\"/>\n     </g>\n     <g id=\"text_5\">\n      <!-- 5 -->\n      <g style=\"fill: #262626\" transform=\"translate(174.816903 151.056406) scale(0.11 -0.11)\">\n       <defs>\n        <path id=\"DejaVuSans-35\" d=\"M 691 4666 \nL 3169 4666 \nL 3169 4134 \nL 1269 4134 \nL 1269 2991 \nQ 1406 3038 1543 3061 \nQ 1681 3084 1819 3084 \nQ 2600 3084 3056 2656 \nQ 3513 2228 3513 1497 \nQ 3513 744 3044 326 \nQ 2575 -91 1722 -91 \nQ 1428 -91 1123 -41 \nQ 819 9 494 109 \nL 494 744 \nQ 775 591 1075 516 \nQ 1375 441 1709 441 \nQ 2250 441 2565 725 \nQ 2881 1009 2881 1497 \nQ 2881 1984 2565 2268 \nQ 2250 2553 1709 2553 \nQ 1456 2553 1204 2497 \nQ 953 2441 691 2322 \nL 691 4666 \nz\n\" transform=\"scale(0.015625)\"/>\n       </defs>\n       <use xlink:href=\"#DejaVuSans-35\"/>\n      </g>\n     </g>\n    </g>\n    <g id=\"xtick_6\">\n     <g id=\"line2d_6\">\n      <path d=\"M 205.370824 133.198125 \nL 205.370824 22.318125 \n\" clip-path=\"url(#p262ebbde0b)\" style=\"fill: none; stroke: #ffffff; stroke-linecap: round\"/>\n     </g>\n     <g id=\"text_6\">\n      <!-- 6 -->\n      <g style=\"fill: #262626\" transform=\"translate(201.871449 151.056406) scale(0.11 -0.11)\">\n       <defs>\n        <path id=\"DejaVuSans-36\" d=\"M 2113 2584 \nQ 1688 2584 1439 2293 \nQ 1191 2003 1191 1497 \nQ 1191 994 1439 701 \nQ 1688 409 2113 409 \nQ 2538 409 2786 701 \nQ 3034 994 3034 1497 \nQ 3034 2003 2786 2293 \nQ 2538 2584 2113 2584 \nz\nM 3366 4563 \nL 3366 3988 \nQ 3128 4100 2886 4159 \nQ 2644 4219 2406 4219 \nQ 1781 4219 1451 3797 \nQ 1122 3375 1075 2522 \nQ 1259 2794 1537 2939 \nQ 1816 3084 2150 3084 \nQ 2853 3084 3261 2657 \nQ 3669 2231 3669 1497 \nQ 3669 778 3244 343 \nQ 2819 -91 2113 -91 \nQ 1303 -91 875 529 \nQ 447 1150 447 2328 \nQ 447 3434 972 4092 \nQ 1497 4750 2381 4750 \nQ 2619 4750 2861 4703 \nQ 3103 4656 3366 4563 \nz\n\" transform=\"scale(0.015625)\"/>\n       </defs>\n       <use xlink:href=\"#DejaVuSans-36\"/>\n      </g>\n     </g>\n    </g>\n    <g id=\"xtick_7\">\n     <g id=\"line2d_7\">\n      <path d=\"M 232.425369 133.198125 \nL 232.425369 22.318125 \n\" clip-path=\"url(#p262ebbde0b)\" style=\"fill: none; stroke: #ffffff; stroke-linecap: round\"/>\n     </g>\n     <g id=\"text_7\">\n      <!-- 7 -->\n      <g style=\"fill: #262626\" transform=\"translate(228.925994 151.056406) scale(0.11 -0.11)\">\n       <defs>\n        <path id=\"DejaVuSans-37\" d=\"M 525 4666 \nL 3525 4666 \nL 3525 4397 \nL 1831 0 \nL 1172 0 \nL 2766 4134 \nL 525 4134 \nL 525 4666 \nz\n\" transform=\"scale(0.015625)\"/>\n       </defs>\n       <use xlink:href=\"#DejaVuSans-37\"/>\n      </g>\n     </g>\n    </g>\n    <g id=\"xtick_8\">\n     <g id=\"line2d_8\">\n      <path d=\"M 259.479915 133.198125 \nL 259.479915 22.318125 \n\" clip-path=\"url(#p262ebbde0b)\" style=\"fill: none; stroke: #ffffff; stroke-linecap: round\"/>\n     </g>\n     <g id=\"text_8\">\n      <!-- 8 -->\n      <g style=\"fill: #262626\" transform=\"translate(255.98054 151.056406) scale(0.11 -0.11)\">\n       <defs>\n        <path id=\"DejaVuSans-38\" d=\"M 2034 2216 \nQ 1584 2216 1326 1975 \nQ 1069 1734 1069 1313 \nQ 1069 891 1326 650 \nQ 1584 409 2034 409 \nQ 2484 409 2743 651 \nQ 3003 894 3003 1313 \nQ 3003 1734 2745 1975 \nQ 2488 2216 2034 2216 \nz\nM 1403 2484 \nQ 997 2584 770 2862 \nQ 544 3141 544 3541 \nQ 544 4100 942 4425 \nQ 1341 4750 2034 4750 \nQ 2731 4750 3128 4425 \nQ 3525 4100 3525 3541 \nQ 3525 3141 3298 2862 \nQ 3072 2584 2669 2484 \nQ 3125 2378 3379 2068 \nQ 3634 1759 3634 1313 \nQ 3634 634 3220 271 \nQ 2806 -91 2034 -91 \nQ 1263 -91 848 271 \nQ 434 634 434 1313 \nQ 434 1759 690 2068 \nQ 947 2378 1403 2484 \nz\nM 1172 3481 \nQ 1172 3119 1398 2916 \nQ 1625 2713 2034 2713 \nQ 2441 2713 2670 2916 \nQ 2900 3119 2900 3481 \nQ 2900 3844 2670 4047 \nQ 2441 4250 2034 4250 \nQ 1625 4250 1398 4047 \nQ 1172 3844 1172 3481 \nz\n\" transform=\"scale(0.015625)\"/>\n       </defs>\n       <use xlink:href=\"#DejaVuSans-38\"/>\n      </g>\n     </g>\n    </g>\n    <g id=\"xtick_9\">\n     <g id=\"line2d_9\">\n      <path d=\"M 286.53446 133.198125 \nL 286.53446 22.318125 \n\" clip-path=\"url(#p262ebbde0b)\" style=\"fill: none; stroke: #ffffff; stroke-linecap: round\"/>\n     </g>\n     <g id=\"text_9\">\n      <!-- 9 -->\n      <g style=\"fill: #262626\" transform=\"translate(283.035085 151.056406) scale(0.11 -0.11)\">\n       <defs>\n        <path id=\"DejaVuSans-39\" d=\"M 703 97 \nL 703 672 \nQ 941 559 1184 500 \nQ 1428 441 1663 441 \nQ 2288 441 2617 861 \nQ 2947 1281 2994 2138 \nQ 2813 1869 2534 1725 \nQ 2256 1581 1919 1581 \nQ 1219 1581 811 2004 \nQ 403 2428 403 3163 \nQ 403 3881 828 4315 \nQ 1253 4750 1959 4750 \nQ 2769 4750 3195 4129 \nQ 3622 3509 3622 2328 \nQ 3622 1225 3098 567 \nQ 2575 -91 1691 -91 \nQ 1453 -91 1209 -44 \nQ 966 3 703 97 \nz\nM 1959 2075 \nQ 2384 2075 2632 2365 \nQ 2881 2656 2881 3163 \nQ 2881 3666 2632 3958 \nQ 2384 4250 1959 4250 \nQ 1534 4250 1286 3958 \nQ 1038 3666 1038 3163 \nQ 1038 2656 1286 2365 \nQ 1534 2075 1959 2075 \nz\n\" transform=\"scale(0.015625)\"/>\n       </defs>\n       <use xlink:href=\"#DejaVuSans-39\"/>\n      </g>\n     </g>\n    </g>\n    <g id=\"xtick_10\">\n     <g id=\"line2d_10\">\n      <path d=\"M 313.589006 133.198125 \nL 313.589006 22.318125 \n\" clip-path=\"url(#p262ebbde0b)\" style=\"fill: none; stroke: #ffffff; stroke-linecap: round\"/>\n     </g>\n     <g id=\"text_10\">\n      <!-- 10 -->\n      <g style=\"fill: #262626\" transform=\"translate(306.590256 151.056406) scale(0.11 -0.11)\">\n       <defs>\n        <path id=\"DejaVuSans-30\" d=\"M 2034 4250 \nQ 1547 4250 1301 3770 \nQ 1056 3291 1056 2328 \nQ 1056 1369 1301 889 \nQ 1547 409 2034 409 \nQ 2525 409 2770 889 \nQ 3016 1369 3016 2328 \nQ 3016 3291 2770 3770 \nQ 2525 4250 2034 4250 \nz\nM 2034 4750 \nQ 2819 4750 3233 4129 \nQ 3647 3509 3647 2328 \nQ 3647 1150 3233 529 \nQ 2819 -91 2034 -91 \nQ 1250 -91 836 529 \nQ 422 1150 422 2328 \nQ 422 3509 836 4129 \nQ 1250 4750 2034 4750 \nz\n\" transform=\"scale(0.015625)\"/>\n       </defs>\n       <use xlink:href=\"#DejaVuSans-31\"/>\n       <use xlink:href=\"#DejaVuSans-30\" x=\"63.623047\"/>\n      </g>\n     </g>\n    </g>\n    <g id=\"xtick_11\">\n     <g id=\"line2d_11\">\n      <path d=\"M 340.643551 133.198125 \nL 340.643551 22.318125 \n\" clip-path=\"url(#p262ebbde0b)\" style=\"fill: none; stroke: #ffffff; stroke-linecap: round\"/>\n     </g>\n     <g id=\"text_11\">\n      <!-- 11 -->\n      <g style=\"fill: #262626\" transform=\"translate(333.644801 151.056406) scale(0.11 -0.11)\">\n       <use xlink:href=\"#DejaVuSans-31\"/>\n       <use xlink:href=\"#DejaVuSans-31\" x=\"63.623047\"/>\n      </g>\n     </g>\n    </g>\n    <g id=\"xtick_12\">\n     <g id=\"line2d_12\">\n      <path d=\"M 367.698097 133.198125 \nL 367.698097 22.318125 \n\" clip-path=\"url(#p262ebbde0b)\" style=\"fill: none; stroke: #ffffff; stroke-linecap: round\"/>\n     </g>\n     <g id=\"text_12\">\n      <!-- 12 -->\n      <g style=\"fill: #262626\" transform=\"translate(360.699347 151.056406) scale(0.11 -0.11)\">\n       <use xlink:href=\"#DejaVuSans-31\"/>\n       <use xlink:href=\"#DejaVuSans-32\" x=\"63.623047\"/>\n      </g>\n     </g>\n    </g>\n    <g id=\"xtick_13\">\n     <g id=\"line2d_13\">\n      <path d=\"M 394.752642 133.198125 \nL 394.752642 22.318125 \n\" clip-path=\"url(#p262ebbde0b)\" style=\"fill: none; stroke: #ffffff; stroke-linecap: round\"/>\n     </g>\n     <g id=\"text_13\">\n      <!-- 13 -->\n      <g style=\"fill: #262626\" transform=\"translate(387.753892 151.056406) scale(0.11 -0.11)\">\n       <use xlink:href=\"#DejaVuSans-31\"/>\n       <use xlink:href=\"#DejaVuSans-33\" x=\"63.623047\"/>\n      </g>\n     </g>\n    </g>\n    <g id=\"xtick_14\">\n     <g id=\"line2d_14\">\n      <path d=\"M 421.807187 133.198125 \nL 421.807187 22.318125 \n\" clip-path=\"url(#p262ebbde0b)\" style=\"fill: none; stroke: #ffffff; stroke-linecap: round\"/>\n     </g>\n     <g id=\"text_14\">\n      <!-- 14 -->\n      <g style=\"fill: #262626\" transform=\"translate(414.808438 151.056406) scale(0.11 -0.11)\">\n       <use xlink:href=\"#DejaVuSans-31\"/>\n       <use xlink:href=\"#DejaVuSans-34\" x=\"63.623047\"/>\n      </g>\n     </g>\n    </g>\n    <g id=\"xtick_15\">\n     <g id=\"line2d_15\">\n      <path d=\"M 448.861733 133.198125 \nL 448.861733 22.318125 \n\" clip-path=\"url(#p262ebbde0b)\" style=\"fill: none; stroke: #ffffff; stroke-linecap: round\"/>\n     </g>\n     <g id=\"text_15\">\n      <!-- 15 -->\n      <g style=\"fill: #262626\" transform=\"translate(441.862983 151.056406) scale(0.11 -0.11)\">\n       <use xlink:href=\"#DejaVuSans-31\"/>\n       <use xlink:href=\"#DejaVuSans-35\" x=\"63.623047\"/>\n      </g>\n     </g>\n    </g>\n    <g id=\"xtick_16\">\n     <g id=\"line2d_16\">\n      <path d=\"M 475.916278 133.198125 \nL 475.916278 22.318125 \n\" clip-path=\"url(#p262ebbde0b)\" style=\"fill: none; stroke: #ffffff; stroke-linecap: round\"/>\n     </g>\n     <g id=\"text_16\">\n      <!-- 16 -->\n      <g style=\"fill: #262626\" transform=\"translate(468.917528 151.056406) scale(0.11 -0.11)\">\n       <use xlink:href=\"#DejaVuSans-31\"/>\n       <use xlink:href=\"#DejaVuSans-36\" x=\"63.623047\"/>\n      </g>\n     </g>\n    </g>\n    <g id=\"text_17\">\n     <!-- Time step -->\n     <g style=\"fill: #262626\" transform=\"translate(243.44125 166.462187) scale(0.12 -0.12)\">\n      <defs>\n       <path id=\"DejaVuSans-54\" d=\"M -19 4666 \nL 3928 4666 \nL 3928 4134 \nL 2272 4134 \nL 2272 0 \nL 1638 0 \nL 1638 4134 \nL -19 4134 \nL -19 4666 \nz\n\" transform=\"scale(0.015625)\"/>\n       <path id=\"DejaVuSans-69\" d=\"M 603 3500 \nL 1178 3500 \nL 1178 0 \nL 603 0 \nL 603 3500 \nz\nM 603 4863 \nL 1178 4863 \nL 1178 4134 \nL 603 4134 \nL 603 4863 \nz\n\" transform=\"scale(0.015625)\"/>\n       <path id=\"DejaVuSans-6d\" d=\"M 3328 2828 \nQ 3544 3216 3844 3400 \nQ 4144 3584 4550 3584 \nQ 5097 3584 5394 3201 \nQ 5691 2819 5691 2113 \nL 5691 0 \nL 5113 0 \nL 5113 2094 \nQ 5113 2597 4934 2840 \nQ 4756 3084 4391 3084 \nQ 3944 3084 3684 2787 \nQ 3425 2491 3425 1978 \nL 3425 0 \nL 2847 0 \nL 2847 2094 \nQ 2847 2600 2669 2842 \nQ 2491 3084 2119 3084 \nQ 1678 3084 1418 2786 \nQ 1159 2488 1159 1978 \nL 1159 0 \nL 581 0 \nL 581 3500 \nL 1159 3500 \nL 1159 2956 \nQ 1356 3278 1631 3431 \nQ 1906 3584 2284 3584 \nQ 2666 3584 2933 3390 \nQ 3200 3197 3328 2828 \nz\n\" transform=\"scale(0.015625)\"/>\n       <path id=\"DejaVuSans-65\" d=\"M 3597 1894 \nL 3597 1613 \nL 953 1613 \nQ 991 1019 1311 708 \nQ 1631 397 2203 397 \nQ 2534 397 2845 478 \nQ 3156 559 3463 722 \nL 3463 178 \nQ 3153 47 2828 -22 \nQ 2503 -91 2169 -91 \nQ 1331 -91 842 396 \nQ 353 884 353 1716 \nQ 353 2575 817 3079 \nQ 1281 3584 2069 3584 \nQ 2775 3584 3186 3129 \nQ 3597 2675 3597 1894 \nz\nM 3022 2063 \nQ 3016 2534 2758 2815 \nQ 2500 3097 2075 3097 \nQ 1594 3097 1305 2825 \nQ 1016 2553 972 2059 \nL 3022 2063 \nz\n\" transform=\"scale(0.015625)\"/>\n       <path id=\"DejaVuSans-20\" transform=\"scale(0.015625)\"/>\n       <path id=\"DejaVuSans-73\" d=\"M 2834 3397 \nL 2834 2853 \nQ 2591 2978 2328 3040 \nQ 2066 3103 1784 3103 \nQ 1356 3103 1142 2972 \nQ 928 2841 928 2578 \nQ 928 2378 1081 2264 \nQ 1234 2150 1697 2047 \nL 1894 2003 \nQ 2506 1872 2764 1633 \nQ 3022 1394 3022 966 \nQ 3022 478 2636 193 \nQ 2250 -91 1575 -91 \nQ 1294 -91 989 -36 \nQ 684 19 347 128 \nL 347 722 \nQ 666 556 975 473 \nQ 1284 391 1588 391 \nQ 1994 391 2212 530 \nQ 2431 669 2431 922 \nQ 2431 1156 2273 1281 \nQ 2116 1406 1581 1522 \nL 1381 1569 \nQ 847 1681 609 1914 \nQ 372 2147 372 2553 \nQ 372 3047 722 3315 \nQ 1072 3584 1716 3584 \nQ 2034 3584 2315 3537 \nQ 2597 3491 2834 3397 \nz\n\" transform=\"scale(0.015625)\"/>\n       <path id=\"DejaVuSans-74\" d=\"M 1172 4494 \nL 1172 3500 \nL 2356 3500 \nL 2356 3053 \nL 1172 3053 \nL 1172 1153 \nQ 1172 725 1289 603 \nQ 1406 481 1766 481 \nL 2356 481 \nL 2356 0 \nL 1766 0 \nQ 1100 0 847 248 \nQ 594 497 594 1153 \nL 594 3053 \nL 172 3053 \nL 172 3500 \nL 594 3500 \nL 594 4494 \nL 1172 4494 \nz\n\" transform=\"scale(0.015625)\"/>\n       <path id=\"DejaVuSans-70\" d=\"M 1159 525 \nL 1159 -1331 \nL 581 -1331 \nL 581 3500 \nL 1159 3500 \nL 1159 2969 \nQ 1341 3281 1617 3432 \nQ 1894 3584 2278 3584 \nQ 2916 3584 3314 3078 \nQ 3713 2572 3713 1747 \nQ 3713 922 3314 415 \nQ 2916 -91 2278 -91 \nQ 1894 -91 1617 61 \nQ 1341 213 1159 525 \nz\nM 3116 1747 \nQ 3116 2381 2855 2742 \nQ 2594 3103 2138 3103 \nQ 1681 3103 1420 2742 \nQ 1159 2381 1159 1747 \nQ 1159 1113 1420 752 \nQ 1681 391 2138 391 \nQ 2594 391 2855 752 \nQ 3116 1113 3116 1747 \nz\n\" transform=\"scale(0.015625)\"/>\n      </defs>\n      <use xlink:href=\"#DejaVuSans-54\"/>\n      <use xlink:href=\"#DejaVuSans-69\" x=\"57.958984\"/>\n      <use xlink:href=\"#DejaVuSans-6d\" x=\"85.742188\"/>\n      <use xlink:href=\"#DejaVuSans-65\" x=\"183.154297\"/>\n      <use xlink:href=\"#DejaVuSans-20\" x=\"244.677734\"/>\n      <use xlink:href=\"#DejaVuSans-73\" x=\"276.464844\"/>\n      <use xlink:href=\"#DejaVuSans-74\" x=\"328.564453\"/>\n      <use xlink:href=\"#DejaVuSans-65\" x=\"367.773438\"/>\n      <use xlink:href=\"#DejaVuSans-70\" x=\"429.296875\"/>\n     </g>\n    </g>\n   </g>\n   <g id=\"matplotlib.axis_2\">\n    <g id=\"ytick_1\">\n     <g id=\"line2d_17\">\n      <path d=\"M 49.807188 131.767541 \nL 496.207187 131.767541 \n\" clip-path=\"url(#p262ebbde0b)\" style=\"fill: none; stroke: #ffffff; stroke-linecap: round\"/>\n     </g>\n     <g id=\"text_18\">\n      <!-- 0.5 -->\n      <g style=\"fill: #262626\" transform=\"translate(22.81375 135.946682) scale(0.11 -0.11)\">\n       <defs>\n        <path id=\"DejaVuSans-2e\" d=\"M 684 794 \nL 1344 794 \nL 1344 0 \nL 684 0 \nL 684 794 \nz\n\" transform=\"scale(0.015625)\"/>\n       </defs>\n       <use xlink:href=\"#DejaVuSans-30\"/>\n       <use xlink:href=\"#DejaVuSans-2e\" x=\"63.623047\"/>\n       <use xlink:href=\"#DejaVuSans-35\" x=\"95.410156\"/>\n      </g>\n     </g>\n    </g>\n    <g id=\"ytick_2\">\n     <g id=\"line2d_18\">\n      <path d=\"M 49.807188 102.441402 \nL 496.207187 102.441402 \n\" clip-path=\"url(#p262ebbde0b)\" style=\"fill: none; stroke: #ffffff; stroke-linecap: round\"/>\n     </g>\n     <g id=\"text_19\">\n      <!-- 1.0 -->\n      <g style=\"fill: #262626\" transform=\"translate(22.81375 106.620543) scale(0.11 -0.11)\">\n       <use xlink:href=\"#DejaVuSans-31\"/>\n       <use xlink:href=\"#DejaVuSans-2e\" x=\"63.623047\"/>\n       <use xlink:href=\"#DejaVuSans-30\" x=\"95.410156\"/>\n      </g>\n     </g>\n    </g>\n    <g id=\"ytick_3\">\n     <g id=\"line2d_19\">\n      <path d=\"M 49.807188 73.115263 \nL 496.207187 73.115263 \n\" clip-path=\"url(#p262ebbde0b)\" style=\"fill: none; stroke: #ffffff; stroke-linecap: round\"/>\n     </g>\n     <g id=\"text_20\">\n      <!-- 1.5 -->\n      <g style=\"fill: #262626\" transform=\"translate(22.81375 77.294403) scale(0.11 -0.11)\">\n       <use xlink:href=\"#DejaVuSans-31\"/>\n       <use xlink:href=\"#DejaVuSans-2e\" x=\"63.623047\"/>\n       <use xlink:href=\"#DejaVuSans-35\" x=\"95.410156\"/>\n      </g>\n     </g>\n    </g>\n    <g id=\"ytick_4\">\n     <g id=\"line2d_20\">\n      <path d=\"M 49.807188 43.789124 \nL 496.207187 43.789124 \n\" clip-path=\"url(#p262ebbde0b)\" style=\"fill: none; stroke: #ffffff; stroke-linecap: round\"/>\n     </g>\n     <g id=\"text_21\">\n      <!-- 2.0 -->\n      <g style=\"fill: #262626\" transform=\"translate(22.81375 47.968264) scale(0.11 -0.11)\">\n       <use xlink:href=\"#DejaVuSans-32\"/>\n       <use xlink:href=\"#DejaVuSans-2e\" x=\"63.623047\"/>\n       <use xlink:href=\"#DejaVuSans-30\" x=\"95.410156\"/>\n      </g>\n     </g>\n    </g>\n    <g id=\"text_22\">\n     <!-- Loss -->\n     <g style=\"fill: #262626\" transform=\"translate(16.318125 90.91875) rotate(-90) scale(0.12 -0.12)\">\n      <defs>\n       <path id=\"DejaVuSans-4c\" d=\"M 628 4666 \nL 1259 4666 \nL 1259 531 \nL 3531 531 \nL 3531 0 \nL 628 0 \nL 628 4666 \nz\n\" transform=\"scale(0.015625)\"/>\n       <path id=\"DejaVuSans-6f\" d=\"M 1959 3097 \nQ 1497 3097 1228 2736 \nQ 959 2375 959 1747 \nQ 959 1119 1226 758 \nQ 1494 397 1959 397 \nQ 2419 397 2687 759 \nQ 2956 1122 2956 1747 \nQ 2956 2369 2687 2733 \nQ 2419 3097 1959 3097 \nz\nM 1959 3584 \nQ 2709 3584 3137 3096 \nQ 3566 2609 3566 1747 \nQ 3566 888 3137 398 \nQ 2709 -91 1959 -91 \nQ 1206 -91 779 398 \nQ 353 888 353 1747 \nQ 353 2609 779 3096 \nQ 1206 3584 1959 3584 \nz\n\" transform=\"scale(0.015625)\"/>\n      </defs>\n      <use xlink:href=\"#DejaVuSans-4c\"/>\n      <use xlink:href=\"#DejaVuSans-6f\" x=\"53.962891\"/>\n      <use xlink:href=\"#DejaVuSans-73\" x=\"115.144531\"/>\n      <use xlink:href=\"#DejaVuSans-73\" x=\"167.244141\"/>\n     </g>\n    </g>\n   </g>\n   <g id=\"line2d_21\">\n    <path d=\"M 70.098097 27.358125 \nL 97.152642 38.617134 \nL 124.207188 56.409643 \nL 151.261733 82.94475 \nL 178.316278 69.334479 \nL 205.370824 95.579261 \nL 232.425369 97.551102 \nL 259.479915 97.900298 \nL 286.53446 111.797283 \nL 313.589006 117.498846 \nL 340.643551 116.957422 \nL 367.698097 124.686561 \nL 394.752642 117.297326 \nL 421.807187 128.158125 \nL 448.861733 119.744273 \nL 475.916278 120.112263 \n\" clip-path=\"url(#p262ebbde0b)\" style=\"fill: none; stroke: #4c72b0; stroke-width: 1.5; stroke-linecap: round\"/>\n   </g>\n   <g id=\"patch_3\">\n    <path d=\"M 49.807188 133.198125 \nL 49.807188 22.318125 \n\" style=\"fill: none; stroke: #ffffff; stroke-width: 1.25; stroke-linejoin: miter; stroke-linecap: square\"/>\n   </g>\n   <g id=\"patch_4\">\n    <path d=\"M 496.207187 133.198125 \nL 496.207187 22.318125 \n\" style=\"fill: none; stroke: #ffffff; stroke-width: 1.25; stroke-linejoin: miter; stroke-linecap: square\"/>\n   </g>\n   <g id=\"patch_5\">\n    <path d=\"M 49.807188 133.198125 \nL 496.207188 133.198125 \n\" style=\"fill: none; stroke: #ffffff; stroke-width: 1.25; stroke-linejoin: miter; stroke-linecap: square\"/>\n   </g>\n   <g id=\"patch_6\">\n    <path d=\"M 49.807188 22.318125 \nL 496.207188 22.318125 \n\" style=\"fill: none; stroke: #ffffff; stroke-width: 1.25; stroke-linejoin: miter; stroke-linecap: square\"/>\n   </g>\n   <g id=\"text_23\">\n    <!-- Loss -->\n    <g style=\"fill: #262626\" transform=\"translate(259.846563 16.318125) scale(0.12 -0.12)\">\n     <use xlink:href=\"#DejaVuSans-4c\"/>\n     <use xlink:href=\"#DejaVuSans-6f\" x=\"53.962891\"/>\n     <use xlink:href=\"#DejaVuSans-73\" x=\"115.144531\"/>\n     <use xlink:href=\"#DejaVuSans-73\" x=\"167.244141\"/>\n    </g>\n   </g>\n  </g>\n </g>\n <defs>\n  <clipPath id=\"p262ebbde0b\">\n   <rect x=\"49.807188\" y=\"22.318125\" width=\"446.4\" height=\"110.88\"/>\n  </clipPath>\n </defs>\n</svg>\n",
            "application/pdf": "[encoded data removed]"
          },
          "metadata": {}
        }
      ]
    },
    {
      "cell_type": "code",
      "source": [
        "plt.figure(figsize=(8, 2))\n",
        "plt.plot((range(1,len(accuracy_list)+1)), accuracy_list)\n",
        "\n",
        "xint= range(1,len(accuracy_list)+1)\n",
        "plt.xticks(xint)\n",
        "\n",
        "plt.xlabel(\"Time step\")\n",
        "plt.ylabel(\"Accuracy\")\n",
        "\n",
        "plt.title(\"Accuracy\")\n",
        "\n",
        "plt.show()"
      ],
      "metadata": {
        "colab": {
          "base_uri": "https://localhost:8080/",
          "height": 256
        },
        "id": "tnTVzsmM68zw",
        "outputId": "60c78c0f-fee2-4a84-b928-e09878ce3401"
      },
      "execution_count": null,
      "outputs": [
        {
          "output_type": "display_data",
          "data": {
            "text/plain": [
              "<Figure size 800x200 with 1 Axes>"
            ],
            "image/svg+xml": "<?xml version=\"1.0\" encoding=\"utf-8\" standalone=\"no\"?>\n<!DOCTYPE svg PUBLIC \"-//W3C//DTD SVG 1.1//EN\"\n  \"http://www.w3.org/Graphics/SVG/1.1/DTD/svg11.dtd\">\n<svg xmlns:xlink=\"http://www.w3.org/1999/xlink\" width=\"499.91125pt\" height=\"176.157812pt\" viewBox=\"0 0 499.91125 176.157812\" xmlns=\"http://www.w3.org/2000/svg\" version=\"1.1\">\n <metadata>\n  <rdf:RDF xmlns:dc=\"http://purl.org/dc/elements/1.1/\" xmlns:cc=\"http://creativecommons.org/ns#\" xmlns:rdf=\"http://www.w3.org/1999/02/22-rdf-syntax-ns#\">\n   <cc:Work>\n    <dc:type rdf:resource=\"http://purl.org/dc/dcmitype/StillImage\"/>\n    <dc:date>2024-04-19T11:04:28.056868</dc:date>\n    <dc:format>image/svg+xml</dc:format>\n    <dc:creator>\n     <cc:Agent>\n      <dc:title>Matplotlib v3.7.1, https://matplotlib.org/</dc:title>\n     </cc:Agent>\n    </dc:creator>\n   </cc:Work>\n  </rdf:RDF>\n </metadata>\n <defs>\n  <style type=\"text/css\">*{stroke-linejoin: round; stroke-linecap: butt}</style>\n </defs>\n <g id=\"figure_1\">\n  <g id=\"patch_1\">\n   <path d=\"M 0 176.157812 \nL 499.91125 176.157812 \nL 499.91125 0 \nL 0 0 \nz\n\" style=\"fill: #ffffff\"/>\n  </g>\n  <g id=\"axes_1\">\n   <g id=\"patch_2\">\n    <path d=\"M 46.31125 133.198125 \nL 492.71125 133.198125 \nL 492.71125 22.318125 \nL 46.31125 22.318125 \nz\n\" style=\"fill: #eaeaf2\"/>\n   </g>\n   <g id=\"matplotlib.axis_1\">\n    <g id=\"xtick_1\">\n     <g id=\"line2d_1\">\n      <path d=\"M 66.602159 133.198125 \nL 66.602159 22.318125 \n\" clip-path=\"url(#pb0b379a95e)\" style=\"fill: none; stroke: #ffffff; stroke-linecap: round\"/>\n     </g>\n     <g id=\"text_1\">\n      <!-- 1 -->\n      <g style=\"fill: #262626\" transform=\"translate(63.102784 151.056406) scale(0.11 -0.11)\">\n       <defs>\n        <path id=\"DejaVuSans-31\" d=\"M 794 531 \nL 1825 531 \nL 1825 4091 \nL 703 3866 \nL 703 4441 \nL 1819 4666 \nL 2450 4666 \nL 2450 531 \nL 3481 531 \nL 3481 0 \nL 794 0 \nL 794 531 \nz\n\" transform=\"scale(0.015625)\"/>\n       </defs>\n       <use xlink:href=\"#DejaVuSans-31\"/>\n      </g>\n     </g>\n    </g>\n    <g id=\"xtick_2\">\n     <g id=\"line2d_2\">\n      <path d=\"M 201.874886 133.198125 \nL 201.874886 22.318125 \n\" clip-path=\"url(#pb0b379a95e)\" style=\"fill: none; stroke: #ffffff; stroke-linecap: round\"/>\n     </g>\n     <g id=\"text_2\">\n      <!-- 2 -->\n      <g style=\"fill: #262626\" transform=\"translate(198.375511 151.056406) scale(0.11 -0.11)\">\n       <defs>\n        <path id=\"DejaVuSans-32\" d=\"M 1228 531 \nL 3431 531 \nL 3431 0 \nL 469 0 \nL 469 531 \nQ 828 903 1448 1529 \nQ 2069 2156 2228 2338 \nQ 2531 2678 2651 2914 \nQ 2772 3150 2772 3378 \nQ 2772 3750 2511 3984 \nQ 2250 4219 1831 4219 \nQ 1534 4219 1204 4116 \nQ 875 4013 500 3803 \nL 500 4441 \nQ 881 4594 1212 4672 \nQ 1544 4750 1819 4750 \nQ 2544 4750 2975 4387 \nQ 3406 4025 3406 3419 \nQ 3406 3131 3298 2873 \nQ 3191 2616 2906 2266 \nQ 2828 2175 2409 1742 \nQ 1991 1309 1228 531 \nz\n\" transform=\"scale(0.015625)\"/>\n       </defs>\n       <use xlink:href=\"#DejaVuSans-32\"/>\n      </g>\n     </g>\n    </g>\n    <g id=\"xtick_3\">\n     <g id=\"line2d_3\">\n      <path d=\"M 337.147614 133.198125 \nL 337.147614 22.318125 \n\" clip-path=\"url(#pb0b379a95e)\" style=\"fill: none; stroke: #ffffff; stroke-linecap: round\"/>\n     </g>\n     <g id=\"text_3\">\n      <!-- 3 -->\n      <g style=\"fill: #262626\" transform=\"translate(333.648239 151.056406) scale(0.11 -0.11)\">\n       <defs>\n        <path id=\"DejaVuSans-33\" d=\"M 2597 2516 \nQ 3050 2419 3304 2112 \nQ 3559 1806 3559 1356 \nQ 3559 666 3084 287 \nQ 2609 -91 1734 -91 \nQ 1441 -91 1130 -33 \nQ 819 25 488 141 \nL 488 750 \nQ 750 597 1062 519 \nQ 1375 441 1716 441 \nQ 2309 441 2620 675 \nQ 2931 909 2931 1356 \nQ 2931 1769 2642 2001 \nQ 2353 2234 1838 2234 \nL 1294 2234 \nL 1294 2753 \nL 1863 2753 \nQ 2328 2753 2575 2939 \nQ 2822 3125 2822 3475 \nQ 2822 3834 2567 4026 \nQ 2313 4219 1838 4219 \nQ 1578 4219 1281 4162 \nQ 984 4106 628 3988 \nL 628 4550 \nQ 988 4650 1302 4700 \nQ 1616 4750 1894 4750 \nQ 2613 4750 3031 4423 \nQ 3450 4097 3450 3541 \nQ 3450 3153 3228 2886 \nQ 3006 2619 2597 2516 \nz\n\" transform=\"scale(0.015625)\"/>\n       </defs>\n       <use xlink:href=\"#DejaVuSans-33\"/>\n      </g>\n     </g>\n    </g>\n    <g id=\"xtick_4\">\n     <g id=\"line2d_4\">\n      <path d=\"M 472.420341 133.198125 \nL 472.420341 22.318125 \n\" clip-path=\"url(#pb0b379a95e)\" style=\"fill: none; stroke: #ffffff; stroke-linecap: round\"/>\n     </g>\n     <g id=\"text_4\">\n      <!-- 4 -->\n      <g style=\"fill: #262626\" transform=\"translate(468.920966 151.056406) scale(0.11 -0.11)\">\n       <defs>\n        <path id=\"DejaVuSans-34\" d=\"M 2419 4116 \nL 825 1625 \nL 2419 1625 \nL 2419 4116 \nz\nM 2253 4666 \nL 3047 4666 \nL 3047 1625 \nL 3713 1625 \nL 3713 1100 \nL 3047 1100 \nL 3047 0 \nL 2419 0 \nL 2419 1100 \nL 313 1100 \nL 313 1709 \nL 2253 4666 \nz\n\" transform=\"scale(0.015625)\"/>\n       </defs>\n       <use xlink:href=\"#DejaVuSans-34\"/>\n      </g>\n     </g>\n    </g>\n    <g id=\"text_5\">\n     <!-- Time step -->\n     <g style=\"fill: #262626\" transform=\"translate(239.945313 166.462187) scale(0.12 -0.12)\">\n      <defs>\n       <path id=\"DejaVuSans-54\" d=\"M -19 4666 \nL 3928 4666 \nL 3928 4134 \nL 2272 4134 \nL 2272 0 \nL 1638 0 \nL 1638 4134 \nL -19 4134 \nL -19 4666 \nz\n\" transform=\"scale(0.015625)\"/>\n       <path id=\"DejaVuSans-69\" d=\"M 603 3500 \nL 1178 3500 \nL 1178 0 \nL 603 0 \nL 603 3500 \nz\nM 603 4863 \nL 1178 4863 \nL 1178 4134 \nL 603 4134 \nL 603 4863 \nz\n\" transform=\"scale(0.015625)\"/>\n       <path id=\"DejaVuSans-6d\" d=\"M 3328 2828 \nQ 3544 3216 3844 3400 \nQ 4144 3584 4550 3584 \nQ 5097 3584 5394 3201 \nQ 5691 2819 5691 2113 \nL 5691 0 \nL 5113 0 \nL 5113 2094 \nQ 5113 2597 4934 2840 \nQ 4756 3084 4391 3084 \nQ 3944 3084 3684 2787 \nQ 3425 2491 3425 1978 \nL 3425 0 \nL 2847 0 \nL 2847 2094 \nQ 2847 2600 2669 2842 \nQ 2491 3084 2119 3084 \nQ 1678 3084 1418 2786 \nQ 1159 2488 1159 1978 \nL 1159 0 \nL 581 0 \nL 581 3500 \nL 1159 3500 \nL 1159 2956 \nQ 1356 3278 1631 3431 \nQ 1906 3584 2284 3584 \nQ 2666 3584 2933 3390 \nQ 3200 3197 3328 2828 \nz\n\" transform=\"scale(0.015625)\"/>\n       <path id=\"DejaVuSans-65\" d=\"M 3597 1894 \nL 3597 1613 \nL 953 1613 \nQ 991 1019 1311 708 \nQ 1631 397 2203 397 \nQ 2534 397 2845 478 \nQ 3156 559 3463 722 \nL 3463 178 \nQ 3153 47 2828 -22 \nQ 2503 -91 2169 -91 \nQ 1331 -91 842 396 \nQ 353 884 353 1716 \nQ 353 2575 817 3079 \nQ 1281 3584 2069 3584 \nQ 2775 3584 3186 3129 \nQ 3597 2675 3597 1894 \nz\nM 3022 2063 \nQ 3016 2534 2758 2815 \nQ 2500 3097 2075 3097 \nQ 1594 3097 1305 2825 \nQ 1016 2553 972 2059 \nL 3022 2063 \nz\n\" transform=\"scale(0.015625)\"/>\n       <path id=\"DejaVuSans-20\" transform=\"scale(0.015625)\"/>\n       <path id=\"DejaVuSans-73\" d=\"M 2834 3397 \nL 2834 2853 \nQ 2591 2978 2328 3040 \nQ 2066 3103 1784 3103 \nQ 1356 3103 1142 2972 \nQ 928 2841 928 2578 \nQ 928 2378 1081 2264 \nQ 1234 2150 1697 2047 \nL 1894 2003 \nQ 2506 1872 2764 1633 \nQ 3022 1394 3022 966 \nQ 3022 478 2636 193 \nQ 2250 -91 1575 -91 \nQ 1294 -91 989 -36 \nQ 684 19 347 128 \nL 347 722 \nQ 666 556 975 473 \nQ 1284 391 1588 391 \nQ 1994 391 2212 530 \nQ 2431 669 2431 922 \nQ 2431 1156 2273 1281 \nQ 2116 1406 1581 1522 \nL 1381 1569 \nQ 847 1681 609 1914 \nQ 372 2147 372 2553 \nQ 372 3047 722 3315 \nQ 1072 3584 1716 3584 \nQ 2034 3584 2315 3537 \nQ 2597 3491 2834 3397 \nz\n\" transform=\"scale(0.015625)\"/>\n       <path id=\"DejaVuSans-74\" d=\"M 1172 4494 \nL 1172 3500 \nL 2356 3500 \nL 2356 3053 \nL 1172 3053 \nL 1172 1153 \nQ 1172 725 1289 603 \nQ 1406 481 1766 481 \nL 2356 481 \nL 2356 0 \nL 1766 0 \nQ 1100 0 847 248 \nQ 594 497 594 1153 \nL 594 3053 \nL 172 3053 \nL 172 3500 \nL 594 3500 \nL 594 4494 \nL 1172 4494 \nz\n\" transform=\"scale(0.015625)\"/>\n       <path id=\"DejaVuSans-70\" d=\"M 1159 525 \nL 1159 -1331 \nL 581 -1331 \nL 581 3500 \nL 1159 3500 \nL 1159 2969 \nQ 1341 3281 1617 3432 \nQ 1894 3584 2278 3584 \nQ 2916 3584 3314 3078 \nQ 3713 2572 3713 1747 \nQ 3713 922 3314 415 \nQ 2916 -91 2278 -91 \nQ 1894 -91 1617 61 \nQ 1341 213 1159 525 \nz\nM 3116 1747 \nQ 3116 2381 2855 2742 \nQ 2594 3103 2138 3103 \nQ 1681 3103 1420 2742 \nQ 1159 2381 1159 1747 \nQ 1159 1113 1420 752 \nQ 1681 391 2138 391 \nQ 2594 391 2855 752 \nQ 3116 1113 3116 1747 \nz\n\" transform=\"scale(0.015625)\"/>\n      </defs>\n      <use xlink:href=\"#DejaVuSans-54\"/>\n      <use xlink:href=\"#DejaVuSans-69\" x=\"57.958984\"/>\n      <use xlink:href=\"#DejaVuSans-6d\" x=\"85.742188\"/>\n      <use xlink:href=\"#DejaVuSans-65\" x=\"183.154297\"/>\n      <use xlink:href=\"#DejaVuSans-20\" x=\"244.677734\"/>\n      <use xlink:href=\"#DejaVuSans-73\" x=\"276.464844\"/>\n      <use xlink:href=\"#DejaVuSans-74\" x=\"328.564453\"/>\n      <use xlink:href=\"#DejaVuSans-65\" x=\"367.773438\"/>\n      <use xlink:href=\"#DejaVuSans-70\" x=\"429.296875\"/>\n     </g>\n    </g>\n   </g>\n   <g id=\"matplotlib.axis_2\">\n    <g id=\"ytick_1\">\n     <g id=\"line2d_5\">\n      <path d=\"M 46.31125 116.033805 \nL 492.71125 116.033805 \n\" clip-path=\"url(#pb0b379a95e)\" style=\"fill: none; stroke: #ffffff; stroke-linecap: round\"/>\n     </g>\n     <g id=\"text_6\">\n      <!-- 65 -->\n      <g style=\"fill: #262626\" transform=\"translate(22.81375 120.212946) scale(0.11 -0.11)\">\n       <defs>\n        <path id=\"DejaVuSans-36\" d=\"M 2113 2584 \nQ 1688 2584 1439 2293 \nQ 1191 2003 1191 1497 \nQ 1191 994 1439 701 \nQ 1688 409 2113 409 \nQ 2538 409 2786 701 \nQ 3034 994 3034 1497 \nQ 3034 2003 2786 2293 \nQ 2538 2584 2113 2584 \nz\nM 3366 4563 \nL 3366 3988 \nQ 3128 4100 2886 4159 \nQ 2644 4219 2406 4219 \nQ 1781 4219 1451 3797 \nQ 1122 3375 1075 2522 \nQ 1259 2794 1537 2939 \nQ 1816 3084 2150 3084 \nQ 2853 3084 3261 2657 \nQ 3669 2231 3669 1497 \nQ 3669 778 3244 343 \nQ 2819 -91 2113 -91 \nQ 1303 -91 875 529 \nQ 447 1150 447 2328 \nQ 447 3434 972 4092 \nQ 1497 4750 2381 4750 \nQ 2619 4750 2861 4703 \nQ 3103 4656 3366 4563 \nz\n\" transform=\"scale(0.015625)\"/>\n        <path id=\"DejaVuSans-35\" d=\"M 691 4666 \nL 3169 4666 \nL 3169 4134 \nL 1269 4134 \nL 1269 2991 \nQ 1406 3038 1543 3061 \nQ 1681 3084 1819 3084 \nQ 2600 3084 3056 2656 \nQ 3513 2228 3513 1497 \nQ 3513 744 3044 326 \nQ 2575 -91 1722 -91 \nQ 1428 -91 1123 -41 \nQ 819 9 494 109 \nL 494 744 \nQ 775 591 1075 516 \nQ 1375 441 1709 441 \nQ 2250 441 2565 725 \nQ 2881 1009 2881 1497 \nQ 2881 1984 2565 2268 \nQ 2250 2553 1709 2553 \nQ 1456 2553 1204 2497 \nQ 953 2441 691 2322 \nL 691 4666 \nz\n\" transform=\"scale(0.015625)\"/>\n       </defs>\n       <use xlink:href=\"#DejaVuSans-36\"/>\n       <use xlink:href=\"#DejaVuSans-35\" x=\"63.623047\"/>\n      </g>\n     </g>\n    </g>\n    <g id=\"ytick_2\">\n     <g id=\"line2d_6\">\n      <path d=\"M 46.31125 71.784464 \nL 492.71125 71.784464 \n\" clip-path=\"url(#pb0b379a95e)\" style=\"fill: none; stroke: #ffffff; stroke-linecap: round\"/>\n     </g>\n     <g id=\"text_7\">\n      <!-- 70 -->\n      <g style=\"fill: #262626\" transform=\"translate(22.81375 75.963605) scale(0.11 -0.11)\">\n       <defs>\n        <path id=\"DejaVuSans-37\" d=\"M 525 4666 \nL 3525 4666 \nL 3525 4397 \nL 1831 0 \nL 1172 0 \nL 2766 4134 \nL 525 4134 \nL 525 4666 \nz\n\" transform=\"scale(0.015625)\"/>\n        <path id=\"DejaVuSans-30\" d=\"M 2034 4250 \nQ 1547 4250 1301 3770 \nQ 1056 3291 1056 2328 \nQ 1056 1369 1301 889 \nQ 1547 409 2034 409 \nQ 2525 409 2770 889 \nQ 3016 1369 3016 2328 \nQ 3016 3291 2770 3770 \nQ 2525 4250 2034 4250 \nz\nM 2034 4750 \nQ 2819 4750 3233 4129 \nQ 3647 3509 3647 2328 \nQ 3647 1150 3233 529 \nQ 2819 -91 2034 -91 \nQ 1250 -91 836 529 \nQ 422 1150 422 2328 \nQ 422 3509 836 4129 \nQ 1250 4750 2034 4750 \nz\n\" transform=\"scale(0.015625)\"/>\n       </defs>\n       <use xlink:href=\"#DejaVuSans-37\"/>\n       <use xlink:href=\"#DejaVuSans-30\" x=\"63.623047\"/>\n      </g>\n     </g>\n    </g>\n    <g id=\"ytick_3\">\n     <g id=\"line2d_7\">\n      <path d=\"M 46.31125 27.535122 \nL 492.71125 27.535122 \n\" clip-path=\"url(#pb0b379a95e)\" style=\"fill: none; stroke: #ffffff; stroke-linecap: round\"/>\n     </g>\n     <g id=\"text_8\">\n      <!-- 75 -->\n      <g style=\"fill: #262626\" transform=\"translate(22.81375 31.714263) scale(0.11 -0.11)\">\n       <use xlink:href=\"#DejaVuSans-37\"/>\n       <use xlink:href=\"#DejaVuSans-35\" x=\"63.623047\"/>\n      </g>\n     </g>\n    </g>\n    <g id=\"text_9\">\n     <!-- Accuracy -->\n     <g style=\"fill: #262626\" transform=\"translate(16.318125 105.151875) rotate(-90) scale(0.12 -0.12)\">\n      <defs>\n       <path id=\"DejaVuSans-41\" d=\"M 2188 4044 \nL 1331 1722 \nL 3047 1722 \nL 2188 4044 \nz\nM 1831 4666 \nL 2547 4666 \nL 4325 0 \nL 3669 0 \nL 3244 1197 \nL 1141 1197 \nL 716 0 \nL 50 0 \nL 1831 4666 \nz\n\" transform=\"scale(0.015625)\"/>\n       <path id=\"DejaVuSans-63\" d=\"M 3122 3366 \nL 3122 2828 \nQ 2878 2963 2633 3030 \nQ 2388 3097 2138 3097 \nQ 1578 3097 1268 2742 \nQ 959 2388 959 1747 \nQ 959 1106 1268 751 \nQ 1578 397 2138 397 \nQ 2388 397 2633 464 \nQ 2878 531 3122 666 \nL 3122 134 \nQ 2881 22 2623 -34 \nQ 2366 -91 2075 -91 \nQ 1284 -91 818 406 \nQ 353 903 353 1747 \nQ 353 2603 823 3093 \nQ 1294 3584 2113 3584 \nQ 2378 3584 2631 3529 \nQ 2884 3475 3122 3366 \nz\n\" transform=\"scale(0.015625)\"/>\n       <path id=\"DejaVuSans-75\" d=\"M 544 1381 \nL 544 3500 \nL 1119 3500 \nL 1119 1403 \nQ 1119 906 1312 657 \nQ 1506 409 1894 409 \nQ 2359 409 2629 706 \nQ 2900 1003 2900 1516 \nL 2900 3500 \nL 3475 3500 \nL 3475 0 \nL 2900 0 \nL 2900 538 \nQ 2691 219 2414 64 \nQ 2138 -91 1772 -91 \nQ 1169 -91 856 284 \nQ 544 659 544 1381 \nz\nM 1991 3584 \nL 1991 3584 \nz\n\" transform=\"scale(0.015625)\"/>\n       <path id=\"DejaVuSans-72\" d=\"M 2631 2963 \nQ 2534 3019 2420 3045 \nQ 2306 3072 2169 3072 \nQ 1681 3072 1420 2755 \nQ 1159 2438 1159 1844 \nL 1159 0 \nL 581 0 \nL 581 3500 \nL 1159 3500 \nL 1159 2956 \nQ 1341 3275 1631 3429 \nQ 1922 3584 2338 3584 \nQ 2397 3584 2469 3576 \nQ 2541 3569 2628 3553 \nL 2631 2963 \nz\n\" transform=\"scale(0.015625)\"/>\n       <path id=\"DejaVuSans-61\" d=\"M 2194 1759 \nQ 1497 1759 1228 1600 \nQ 959 1441 959 1056 \nQ 959 750 1161 570 \nQ 1363 391 1709 391 \nQ 2188 391 2477 730 \nQ 2766 1069 2766 1631 \nL 2766 1759 \nL 2194 1759 \nz\nM 3341 1997 \nL 3341 0 \nL 2766 0 \nL 2766 531 \nQ 2569 213 2275 61 \nQ 1981 -91 1556 -91 \nQ 1019 -91 701 211 \nQ 384 513 384 1019 \nQ 384 1609 779 1909 \nQ 1175 2209 1959 2209 \nL 2766 2209 \nL 2766 2266 \nQ 2766 2663 2505 2880 \nQ 2244 3097 1772 3097 \nQ 1472 3097 1187 3025 \nQ 903 2953 641 2809 \nL 641 3341 \nQ 956 3463 1253 3523 \nQ 1550 3584 1831 3584 \nQ 2591 3584 2966 3190 \nQ 3341 2797 3341 1997 \nz\n\" transform=\"scale(0.015625)\"/>\n       <path id=\"DejaVuSans-79\" d=\"M 2059 -325 \nQ 1816 -950 1584 -1140 \nQ 1353 -1331 966 -1331 \nL 506 -1331 \nL 506 -850 \nL 844 -850 \nQ 1081 -850 1212 -737 \nQ 1344 -625 1503 -206 \nL 1606 56 \nL 191 3500 \nL 800 3500 \nL 1894 763 \nL 2988 3500 \nL 3597 3500 \nL 2059 -325 \nz\n\" transform=\"scale(0.015625)\"/>\n      </defs>\n      <use xlink:href=\"#DejaVuSans-41\"/>\n      <use xlink:href=\"#DejaVuSans-63\" x=\"66.658203\"/>\n      <use xlink:href=\"#DejaVuSans-63\" x=\"121.638672\"/>\n      <use xlink:href=\"#DejaVuSans-75\" x=\"176.619141\"/>\n      <use xlink:href=\"#DejaVuSans-72\" x=\"239.998047\"/>\n      <use xlink:href=\"#DejaVuSans-61\" x=\"281.111328\"/>\n      <use xlink:href=\"#DejaVuSans-63\" x=\"342.390625\"/>\n      <use xlink:href=\"#DejaVuSans-79\" x=\"397.371094\"/>\n     </g>\n    </g>\n   </g>\n   <g id=\"line2d_8\">\n    <path d=\"M 66.602159 128.158125 \nL 201.874886 90.634683 \nL 337.147614 50.721777 \nL 472.420341 27.358125 \n\" clip-path=\"url(#pb0b379a95e)\" style=\"fill: none; stroke: #4c72b0; stroke-width: 1.5; stroke-linecap: round\"/>\n   </g>\n   <g id=\"patch_3\">\n    <path d=\"M 46.31125 133.198125 \nL 46.31125 22.318125 \n\" style=\"fill: none; stroke: #ffffff; stroke-width: 1.25; stroke-linejoin: miter; stroke-linecap: square\"/>\n   </g>\n   <g id=\"patch_4\">\n    <path d=\"M 492.71125 133.198125 \nL 492.71125 22.318125 \n\" style=\"fill: none; stroke: #ffffff; stroke-width: 1.25; stroke-linejoin: miter; stroke-linecap: square\"/>\n   </g>\n   <g id=\"patch_5\">\n    <path d=\"M 46.31125 133.198125 \nL 492.71125 133.198125 \n\" style=\"fill: none; stroke: #ffffff; stroke-width: 1.25; stroke-linejoin: miter; stroke-linecap: square\"/>\n   </g>\n   <g id=\"patch_6\">\n    <path d=\"M 46.31125 22.318125 \nL 492.71125 22.318125 \n\" style=\"fill: none; stroke: #ffffff; stroke-width: 1.25; stroke-linejoin: miter; stroke-linecap: square\"/>\n   </g>\n   <g id=\"text_10\">\n    <!-- Accuracy -->\n    <g style=\"fill: #262626\" transform=\"translate(242.1175 16.318125) scale(0.12 -0.12)\">\n     <use xlink:href=\"#DejaVuSans-41\"/>\n     <use xlink:href=\"#DejaVuSans-63\" x=\"66.658203\"/>\n     <use xlink:href=\"#DejaVuSans-63\" x=\"121.638672\"/>\n     <use xlink:href=\"#DejaVuSans-75\" x=\"176.619141\"/>\n     <use xlink:href=\"#DejaVuSans-72\" x=\"239.998047\"/>\n     <use xlink:href=\"#DejaVuSans-61\" x=\"281.111328\"/>\n     <use xlink:href=\"#DejaVuSans-63\" x=\"342.390625\"/>\n     <use xlink:href=\"#DejaVuSans-79\" x=\"397.371094\"/>\n    </g>\n   </g>\n  </g>\n </g>\n <defs>\n  <clipPath id=\"pb0b379a95e\">\n   <rect x=\"46.31125\" y=\"22.318125\" width=\"446.4\" height=\"110.88\"/>\n  </clipPath>\n </defs>\n</svg>\n",
            "application/pdf": "[encoded data removed]"
          },
          "metadata": {}
        }
      ]
    },
    {
      "cell_type": "markdown",
      "source": [
        "####Saving & Loading Model\n",
        "\n",
        "https://pytorch.org/tutorials/beginner/saving_loading_models.html"
      ],
      "metadata": {
        "id": "-z2hautx7IYo"
      }
    },
    {
      "cell_type": "code",
      "source": [
        "#Save\n",
        "torch.save(my_nn.state_dict(), \"NN_1.pth\")\n",
        "print(\"Saved PyTorch Model\")"
      ],
      "metadata": {
        "colab": {
          "base_uri": "https://localhost:8080/"
        },
        "id": "PUgXcxCgCh15",
        "outputId": "c1277adf-7635-4a40-fe89-80dd0d44fb17"
      },
      "execution_count": null,
      "outputs": [
        {
          "output_type": "stream",
          "name": "stdout",
          "text": [
            "Saved PyTorch Model\n"
          ]
        }
      ]
    },
    {
      "cell_type": "code",
      "source": [
        "#Load\n",
        "NN2 =  Fashion_NN()#TheModelClass(*args, **kwargs)\n",
        "NN2.load_state_dict(torch.load(\"NN_1.pth\"))"
      ],
      "metadata": {
        "colab": {
          "base_uri": "https://localhost:8080/"
        },
        "id": "9AnrDgmBC3pb",
        "outputId": "1667f0cc-0ca1-454a-d391-2af726501dd1"
      },
      "execution_count": null,
      "outputs": [
        {
          "output_type": "execute_result",
          "data": {
            "text/plain": [
              "<All keys matched successfully>"
            ]
          },
          "metadata": {},
          "execution_count": 81
        }
      ]
    },
    {
      "cell_type": "code",
      "source": [
        "NN2.eval()"
      ],
      "metadata": {
        "colab": {
          "base_uri": "https://localhost:8080/"
        },
        "id": "izyNN3pwF-7q",
        "outputId": "e8ba600c-3fcb-4d7f-a607-0f92e6c7a152"
      },
      "execution_count": null,
      "outputs": [
        {
          "output_type": "execute_result",
          "data": {
            "text/plain": [
              "Fashion_NN(\n",
              "  (flatten): Flatten(start_dim=1, end_dim=-1)\n",
              "  (layer1): Linear(in_features=784, out_features=512, bias=True)\n",
              "  (layer2): Linear(in_features=512, out_features=256, bias=True)\n",
              "  (layer3): Linear(in_features=256, out_features=10, bias=True)\n",
              ")"
            ]
          },
          "metadata": {},
          "execution_count": 84
        }
      ]
    }
  ]
}